{
 "cells": [
  {
   "cell_type": "markdown",
   "metadata": {
    "id": "8BMwJ2WPotCu",
    "colab_type": "text"
   },
   "source": [
    "* Author: HZQ\n",
    "* Last modified: 2018/12/4"
   ]
  },
  {
   "cell_type": "markdown",
   "metadata": {
    "id": "DCQ9O2BuotC1",
    "colab_type": "text"
   },
   "source": [
    "# Main Parts"
   ]
  },
  {
   "cell_type": "markdown",
   "metadata": {
    "id": "8cz0IoFwotC5",
    "colab_type": "text"
   },
   "source": [
    "## Import required packages"
   ]
  },
  {
   "cell_type": "code",
   "execution_count": null,
   "metadata": {},
   "outputs": [],
   "source": [
    "import logging"
   ]
  },
  {
   "cell_type": "code",
   "execution_count": 0,
   "metadata": {
    "id": "1QhfLw9eqhtJ",
    "colab_type": "code",
    "colab": {}
   },
   "outputs": [],
   "source": [
    ""
   ]
  },
  {
   "cell_type": "markdown",
   "metadata": {
    "id": "KT54rEO6otC-",
    "colab_type": "text"
   },
   "source": [
    "## prepared process\n"
   ]
  },
  {
   "cell_type": "markdown",
   "metadata": {
    "id": "xxS2jWEcpkyL",
    "colab_type": "text"
   },
   "source": [
    "### read data online"
   ]
  },
  {
   "cell_type": "code",
   "execution_count": 0,
   "metadata": {
    "id": "_E1vCGC4qhXr",
    "colab_type": "code",
    "colab": {}
   },
   "outputs": [],
   "source": [
    ""
   ]
  },
  {
   "cell_type": "markdown",
   "metadata": {
    "id": "zAX08MdwotDB",
    "colab_type": "text"
   },
   "source": [
    "### read data offline"
   ]
  },
  {
   "cell_type": "code",
   "execution_count": 0,
   "metadata": {
    "id": "2_4_EL4kqhCq",
    "colab_type": "code",
    "colab": {}
   },
   "outputs": [],
   "source": [
    ""
   ]
  },
  {
   "cell_type": "markdown",
   "metadata": {
    "colab_type": "text",
    "id": "OOL0nL26qLM7"
   },
   "source": [
    "## model training"
   ]
  },
  {
   "cell_type": "code",
   "execution_count": 0,
   "metadata": {
    "id": "kqlgQKEyqqWx",
    "colab_type": "code",
    "colab": {}
   },
   "outputs": [],
   "source": [
    ""
   ]
  },
  {
   "cell_type": "markdown",
   "metadata": {
    "colab_type": "text",
    "id": "QWdtpIpNqprz"
   },
   "source": [
    "### baseline model: (e.g Linear regression)"
   ]
  },
  {
   "cell_type": "code",
   "execution_count": 0,
   "metadata": {
    "id": "sZV0-_qUqU3O",
    "colab_type": "code",
    "colab": {}
   },
   "outputs": [],
   "source": [
    ""
   ]
  },
  {
   "cell_type": "markdown",
   "metadata": {
    "colab_type": "text",
    "id": "j5_0VsZjqYTq"
   },
   "source": [
    "## model validation\n"
   ]
  },
  {
   "cell_type": "code",
   "execution_count": 0,
   "metadata": {
    "id": "hfDzVqkfqgrG",
    "colab_type": "code",
    "colab": {}
   },
   "outputs": [],
   "source": [
    ""
   ]
  },
  {
   "cell_type": "markdown",
   "metadata": {
    "id": "0iGejVRSotDE",
    "colab_type": "text"
   },
   "source": [
    "# Undertesting Parts"
   ]
  }
 ],
 "metadata": {
  "colab": {
   "name": "train_valid.ipynb",
   "version": "0.3.2",
   "provenance": [],
   "collapsed_sections": []
  },
  "kernelspec": {
   "display_name": "Python 3",
   "language": "python",
   "name": "python3"
  }
 },
 "nbformat": 4,
 "nbformat_minor": 0
}
