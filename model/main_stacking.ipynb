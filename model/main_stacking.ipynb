{
 "cells": [
  {
   "cell_type": "code",
   "execution_count": null,
   "metadata": {
    "colab": {},
    "colab_type": "code",
    "id": "NMrMxtaMSHdH"
   },
   "outputs": [],
   "source": [
    "# Author: HZQ, ZTR\n",
    "# Last modified: 2019/4/3"
   ]
  },
  {
   "cell_type": "code",
   "execution_count": null,
   "metadata": {
    "colab": {
     "base_uri": "https://localhost:8080/",
     "height": 56
    },
    "colab_type": "code",
    "executionInfo": {
     "elapsed": 102344,
     "status": "ok",
     "timestamp": 1554253097800,
     "user": {
      "displayName": "章天任",
      "photoUrl": "https://lh5.googleusercontent.com/-hx7n9EqB1Xc/AAAAAAAAAAI/AAAAAAAAAA4/1QWBh2GXjJg/s64/photo.jpg",
      "userId": "16796019373879754656"
     },
     "user_tz": -480
    },
    "id": "Kq1C-eCtR9mO",
    "outputId": "bcd27177-1b79-4270-f6e1-9d60dfacc34c"
   },
   "outputs": [],
   "source": [
    "!apt-get install -y -qq software-properties-common python-software-properties module-init-tools \n",
    "!add-apt-repository -y ppa:alessandro-strada/ppa 2>&1 > /dev/null \n",
    "!apt-get update -qq 2>&1 > /dev/null \n",
    "!apt-get -y install -qq google-drive-ocamlfuse fuse \n",
    "from google.colab import auth \n",
    "auth.authenticate_user() \n",
    "from oauth2client.client import GoogleCredentials \n",
    "creds = GoogleCredentials.get_application_default() \n",
    "import getpass\n",
    "!google-drive-ocamlfuse -headless -id={creds.client_id} -secret={creds.client_secret} < /dev/null 2>&1 | grep URL \n",
    "vcode = getpass.getpass() \n",
    "!echo {vcode} | google-drive-ocamlfuse -headless -id={creds.client_id} -secret={creds.client_secret}"
   ]
  },
  {
   "cell_type": "code",
   "execution_count": null,
   "metadata": {
    "colab": {
     "base_uri": "https://localhost:8080/",
     "height": 53
    },
    "colab_type": "code",
    "executionInfo": {
     "elapsed": 110241,
     "status": "ok",
     "timestamp": 1554253105734,
     "user": {
      "displayName": "章天任",
      "photoUrl": "https://lh5.googleusercontent.com/-hx7n9EqB1Xc/AAAAAAAAAAI/AAAAAAAAAA4/1QWBh2GXjJg/s64/photo.jpg",
      "userId": "16796019373879754656"
     },
     "user_tz": -480
    },
    "id": "BiYeeS56jf-t",
    "outputId": "03b6e86f-8bb4-42f4-bbd8-91a9da4c18ad"
   },
   "outputs": [],
   "source": [
    "!mkdir -p driver\n",
    "!google-drive-ocamlfuse driver\n",
    "import os\n",
    "\n",
    "os.chdir(\"driver/\")\n",
    "!ls"
   ]
  },
  {
   "cell_type": "code",
   "execution_count": null,
   "metadata": {
    "colab": {
     "base_uri": "https://localhost:8080/",
     "height": 235
    },
    "colab_type": "code",
    "executionInfo": {
     "elapsed": 121415,
     "status": "ok",
     "timestamp": 1554253116948,
     "user": {
      "displayName": "章天任",
      "photoUrl": "https://lh5.googleusercontent.com/-hx7n9EqB1Xc/AAAAAAAAAAI/AAAAAAAAAA4/1QWBh2GXjJg/s64/photo.jpg",
      "userId": "16796019373879754656"
     },
     "user_tz": -480
    },
    "id": "LT6z8cYpp8tY",
    "outputId": "51d3cd62-bcbb-4c27-b4e4-90d1924a05f0"
   },
   "outputs": [],
   "source": [
    "!pip install catboost\n",
    "!pip install plotly"
   ]
  },
  {
   "cell_type": "code",
   "execution_count": null,
   "metadata": {
    "colab": {
     "base_uri": "https://localhost:8080/",
     "height": 17
    },
    "colab_type": "code",
    "executionInfo": {
     "elapsed": 124182,
     "status": "ok",
     "timestamp": 1554253119756,
     "user": {
      "displayName": "章天任",
      "photoUrl": "https://lh5.googleusercontent.com/-hx7n9EqB1Xc/AAAAAAAAAAI/AAAAAAAAAA4/1QWBh2GXjJg/s64/photo.jpg",
      "userId": "16796019373879754656"
     },
     "user_tz": -480
    },
    "id": "L_OxI-hRO65P",
    "outputId": "5966be8d-11b1-46e9-a60c-ab37fbee1867"
   },
   "outputs": [],
   "source": [
    "import gc\n",
    "import os\n",
    "import string\n",
    "import time\n",
    "import random\n",
    "import warnings \n",
    "warnings.filterwarnings('ignore')\n",
    "\n",
    "import pandas as pd\n",
    "import numpy as np\n",
    "import matplotlib.pyplot as plt \n",
    "import seaborn as sns \n",
    "# from plotly import tools\n",
    "import plotly.offline as py\n",
    "# import plotly.graph_objs as go\n",
    "\n",
    "# from scipy.stats import norm\n",
    "# from scipy import stats\n",
    "# from sklearn.preprocessing import StandardScaler\n",
    "# from sklearn import model_selection, preprocessing, metrics, ensemble, naive_bayes, linear_model\n",
    "# from sklearn.feature_extraction.text import TfidfVectorizer, CountVectorizer\n",
    "from sklearn.decomposition import TruncatedSVD\n",
    "from sklearn.metrics import roc_auc_score, roc_curve\n",
    "from sklearn.model_selection import StratifiedKFold, KFold\n",
    "\n",
    "import xgboost as xgb\n",
    "import lightgbm as lgb\n",
    "import catboost as cb\n",
    "\n",
    "\n",
    "pd.options.mode.chained_assignment = None\n",
    "pd.options.display.max_columns = 999\n",
    "color = sns.color_palette()\n",
    "%matplotlib inline\n",
    "py.init_notebook_mode(connected=True)\n",
    "\n",
    "\n",
    "data_root = '../../santander-customer-transaction-prediction'"
   ]
  },
  {
   "cell_type": "code",
   "execution_count": null,
   "metadata": {
    "colab": {},
    "colab_type": "code",
    "id": "VBti6GtvPAwo"
   },
   "outputs": [],
   "source": [
    "train_df = pd.read_csv(os.path.join(data_root, 'train.csv'))\n",
    "test_df = pd.read_csv(os.path.join(data_root, 'test.csv'))\n",
    "\n",
    "feature_names = [c for c in train_df.columns if c not in ['ID_code', 'target']]\n",
    "X = train_df[feature_names].values.astype(np.float32)\n",
    "y = train_df['target'].values\n",
    "T = test_df[feature_names].values.astype(np.float32)"
   ]
  },
  {
   "cell_type": "code",
   "execution_count": null,
   "metadata": {
    "colab": {
     "base_uri": "https://localhost:8080/",
     "height": 53
    },
    "colab_type": "code",
    "executionInfo": {
     "elapsed": 151706,
     "status": "ok",
     "timestamp": 1554253147348,
     "user": {
      "displayName": "章天任",
      "photoUrl": "https://lh5.googleusercontent.com/-hx7n9EqB1Xc/AAAAAAAAAAI/AAAAAAAAAA4/1QWBh2GXjJg/s64/photo.jpg",
      "userId": "16796019373879754656"
     },
     "user_tz": -480
    },
    "id": "PI9YkXaVPG7u",
    "outputId": "440e7344-e8bf-4a6e-a999-8247d15739c2"
   },
   "outputs": [],
   "source": [
    "# Taking a look at how many rows and columns the train dataset contains\n",
    "rows1 = train_df.shape[0]; rows2 = test_df.shape[0]\n",
    "columns1 = train_df.shape[1]; columns2 = test_df.shape[1]\n",
    "print(\"The train dataset contains {0} rows and {1} columns\".format(rows1, columns1))\n",
    "print(\"The test dataset contains {0} rows and {1} columns\".format(rows2, columns2))"
   ]
  },
  {
   "cell_type": "code",
   "execution_count": null,
   "metadata": {
    "colab": {},
    "colab_type": "code",
    "id": "WERHCcnaHfDH"
   },
   "outputs": [],
   "source": [
    "\"\"\"\n",
    "XGBoost model\n",
    "\"\"\"\n",
    "xgb_params = {'num_round': 10000,\n",
    "              'max_depth': 2,\n",
    "              'colsample_bytree': 0.3,\n",
    "              'learning_rate': 0.02,\n",
    "              'objective': 'binary:logistic',\n",
    "              'verbose': True,\n",
    "              'early_stopping_rounds': 500\n",
    "             }\n",
    "\n",
    "xgboost_model = xgb.XGBClassifier(**xgb_params)"
   ]
  },
  {
   "cell_type": "code",
   "execution_count": null,
   "metadata": {
    "colab": {},
    "colab_type": "code",
    "id": "UCAUq_CZGI3W"
   },
   "outputs": [],
   "source": [
    "\"\"\"\n",
    "LightGBM model\n",
    "\"\"\"\n",
    "# https://www.kaggle.com/fayzur/customer-transaction-prediction-strong-baseline\n",
    "# Thanks fayzur. Nice Parameter\n",
    "lgb_params = {'bagging_freq': 5,\n",
    "              'bagging_fraction': 0.4,\n",
    "              'boost_from_average':'false',\n",
    "              'boost': 'gbdt',\n",
    "              'feature_fraction': 0.05,\n",
    "              'learning_rate': 0.01,\n",
    "              'max_depth': -1,  \n",
    "              'metric':'auc',\n",
    "              'min_data_in_leaf': 80,\n",
    "              'min_sum_hessian_in_leaf': 10.0,\n",
    "              'num_leaves': 13,\n",
    "              'num_threads': 8,\n",
    "              'tree_learner': 'serial',\n",
    "              'objective': 'binary', \n",
    "              'verbosity': 1,\n",
    "              'num_boost_round': 10000,\n",
    "              'early_stopping_rounds': 500\n",
    "             }\n",
    "\n",
    "stacker_params = {'bagging_freq': 5,\n",
    "                  'bagging_fraction': 0.4,\n",
    "                  'boost_from_average':'false',\n",
    "                  'boost': 'gbdt',\n",
    "                  'feature_fraction': 0.05,\n",
    "                  'learning_rate': 0.01,\n",
    "                  'max_depth': -1,  \n",
    "                  'metric':'auc',\n",
    "                  'min_data_in_leaf': 80,\n",
    "                  'min_sum_hessian_in_leaf': 10.0,\n",
    "                  'num_leaves': 13,\n",
    "                  'num_threads': 8,\n",
    "                  'tree_learner': 'serial',\n",
    "                  'objective': 'binary', \n",
    "                  'verbosity': 1,\n",
    "                  'num_boost_round': 10000,\n",
    "                 }\n",
    "\n",
    "lightgbm_model = lgb.LGBMClassifier(**lgb_params)\n",
    "lightgbm_stacker_model = lgb.LGBMClassifier(**stacker_params)"
   ]
  },
  {
   "cell_type": "code",
   "execution_count": null,
   "metadata": {
    "colab": {},
    "colab_type": "code",
    "id": "Ug6Ma6-dV-R-"
   },
   "outputs": [],
   "source": [
    "\"\"\"\n",
    "CatBoost model\n",
    "\"\"\"\n",
    "# https://www.kaggle.com/wakamezake/starter-code-catboost-baseline\n",
    "cb_params = {'loss_function': 'Logloss',\n",
    "             'eval_metric': 'AUC',\n",
    "             'learning_rate': 0.01,\n",
    "             'iterations': 10000,\n",
    "             'random_seed': 42,\n",
    "             'od_type': 'Iter',\n",
    "             'depth': 10,\n",
    "             'early_stopping_rounds': 500\n",
    "            }\n",
    "\n",
    "catboost_model = cb.CatBoostClassifier(**cb_params)"
   ]
  },
  {
   "cell_type": "code",
   "execution_count": null,
   "metadata": {
    "colab": {},
    "colab_type": "code",
    "id": "9f8Xjjn2782-"
   },
   "outputs": [],
   "source": [
    "def train_predict(name, classifier, X, y, T, n_folds=5):\n",
    "    skf = StratifiedKFold(n_splits=n_folds, shuffle=True, random_state=2019)\n",
    "    pred = np.zeros(T.shape[0])\n",
    "    \n",
    "    for i, (train_idx, test_idx) in enumerate(skf.split(X, y)):\n",
    "        X_train = X[train_idx]\n",
    "        y_train = y[train_idx]\n",
    "        X_eval = X[test_idx]\n",
    "        y_eval = y[test_idx]\n",
    "        \n",
    "        if name == 'xgboost':\n",
    "            data_eval = (X_eval, y_eval)\n",
    "            classifier.fit(X_train, y_train, eval_set=data_eval)\n",
    "        elif name == 'lightgbm':\n",
    "            data_eval = lgb.Dataset(X_eval, label=y_eval)\n",
    "            classifier.fit(X_train, y_train, eval_set=data_eval)\n",
    "        elif name == 'catboost':\n",
    "            data_train = cb.Pool(X_train, label=y_train)\n",
    "            data_eval = cb.Pool(X_eval, label=y_eval)\n",
    "            classifier.fit(data_train, eval_set=data_eval, use_best_model=True)\n",
    "        \n",
    "        pred += classifier.predict(T)[:]\n",
    "    \n",
    "    pred /= n_folds\n",
    "    \n",
    "    return pred"
   ]
  },
  {
   "cell_type": "code",
   "execution_count": null,
   "metadata": {
    "colab": {},
    "colab_type": "code",
    "id": "-m6oft0BPsXp"
   },
   "outputs": [],
   "source": [
    "class Ensemble(object):\n",
    "    \n",
    "    def __init__(self, stacker, base_models, model_names, n_folds=5):\n",
    "        super().__init__()\n",
    "        self.stacker = stacker\n",
    "        self.base_models = base_models\n",
    "        self.model_names = model_names\n",
    "        self.n_folds = n_folds\n",
    "\n",
    "    def fit_predict(self, X, y, T):\n",
    "        X = np.array(X)\n",
    "        y = np.array(y)\n",
    "        T = np.array(T)\n",
    "        \n",
    "        skf = StratifiedKFold(n_splits=self.n_folds, shuffle=True, random_state=2019)\n",
    "\n",
    "        S_train = np.zeros((X.shape[0], len(self.base_models)))\n",
    "        S_test = np.zeros((T.shape[0], len(self.base_models)))\n",
    "\n",
    "        for i, (clf, name) in enumerate(zip(self.base_models, self.model_names)):\n",
    "            S_test_i = np.zeros((T.shape[0], self.n_folds))\n",
    "\n",
    "            for j, (train_idx, test_idx) in enumerate(skf.split(X, y)):\n",
    "                X_train = X[train_idx]\n",
    "                y_train = y[train_idx]\n",
    "                X_holdout = X[test_idx]\n",
    "                y_holdout = y[test_idx]\n",
    "                \n",
    "                if name == 'xgboost':\n",
    "                    data_eval = (X_holdout, y_holdout)\n",
    "                    clf.fit(X_train, y_train, eval_set=data_eval)\n",
    "                elif name == 'lightgbm':\n",
    "                    data_eval = lgb.Dataset(X_holdout, label=y_holdout)\n",
    "                    clf.fit(X_train, y_train, eval_set=data_eval)\n",
    "                elif name == 'catboost':\n",
    "                    data_train = cb.Pool(X_train, label=y_train)\n",
    "                    data_eval = cb.Pool(X_eval, label=y_eval)\n",
    "                    clf.fit(data_train, eval_set=data_eval, use_best_model=True)\n",
    "                    \n",
    "                y_pred = clf.predict(X_holdout)[:]\n",
    "                S_train[test_idx, i] = y_pred\n",
    "                S_test_i[:, j] = clf.predict(T)[:]\n",
    "\n",
    "            S_test[:, i] = S_test_i.mean(1)\n",
    "\n",
    "        self.stacker.fit(S_train, y)\n",
    "        y_pred = self.stacker.predict(S_test)[:]\n",
    "        \n",
    "        return y_pred"
   ]
  },
  {
   "cell_type": "code",
   "execution_count": null,
   "metadata": {
    "colab": {},
    "colab_type": "code",
    "id": "jcY7WXAkCEv8"
   },
   "outputs": [],
   "source": [
    "# XGBoost\n",
    "name = 'xgboost'\n",
    "pred = train_predict(name, xgboost_model, X, y, T, n_folds=5)"
   ]
  },
  {
   "cell_type": "code",
   "execution_count": null,
   "metadata": {
    "colab": {},
    "colab_type": "code",
    "id": "dq5goAxKC4Hf"
   },
   "outputs": [],
   "source": [
    "# LightGBM\n",
    "name = 'lightgbm'\n",
    "pred = train_predict(name, lightgbm_model, X, y, T, n_folds=5)"
   ]
  },
  {
   "cell_type": "code",
   "execution_count": null,
   "metadata": {
    "colab": {},
    "colab_type": "code",
    "id": "gz-TXfapC_Ab",
    "scrolled": true
   },
   "outputs": [],
   "source": [
    "# CatBoost\n",
    "name = 'catboost'\n",
    "pred = train_predict(name, catboost_model, X, y, T, n_folds=5)"
   ]
  },
  {
   "cell_type": "code",
   "execution_count": null,
   "metadata": {
    "colab": {},
    "colab_type": "code",
    "id": "Xz0NiltHZpBK"
   },
   "outputs": [],
   "source": [
    "# Ensemble\n",
    "name = 'ensemble'\n",
    "base_models = [xgboost_model, lightgbm_model, catboost_model]\n",
    "model_names = ['xgboost', 'lightgbm', 'catboost']\n",
    "ensemble = Ensemble(lightgbm_stacker_model, base_models, model_names, n_folds=5)\n",
    "pred = ensemble.fit_predict(X, y, T)"
   ]
  },
  {
   "cell_type": "code",
   "execution_count": null,
   "metadata": {
    "colab": {},
    "colab_type": "code",
    "id": "glEwe7pFCUkS"
   },
   "outputs": [],
   "source": [
    "# submission file\n",
    "sub_df = pd.DataFrame({'ID_code': test_df['ID_code'].values, 'target': pred})\n",
    "sub_df.to_csv('../submit/{}_submission.csv'.format(name), index=False)"
   ]
  }
 ],
 "metadata": {
  "colab": {
   "collapsed_sections": [],
   "name": "main_stacking.ipynb",
   "provenance": [],
   "version": "0.3.2"
  },
  "kernelspec": {
   "display_name": "Python 3",
   "language": "python",
   "name": "python3"
  },
  "language_info": {
   "codemirror_mode": {
    "name": "ipython",
    "version": 3
   },
   "file_extension": ".py",
   "mimetype": "text/x-python",
   "name": "python",
   "nbconvert_exporter": "python",
   "pygments_lexer": "ipython3",
   "version": "3.7.0"
  }
 },
 "nbformat": 4,
 "nbformat_minor": 1
}
