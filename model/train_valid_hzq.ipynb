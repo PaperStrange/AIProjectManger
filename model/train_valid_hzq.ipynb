{
  "nbformat": 4,
  "nbformat_minor": 0,
  "metadata": {
    "colab": {
      "name": "train_valid.ipynb",
      "version": "0.3.2",
      "provenance": [],
      "collapsed_sections": []
    },
    "kernelspec": {
      "display_name": "Python 3",
      "language": "python",
      "name": "python3"
    }
  },
  "cells": [
    {
      "metadata": {
        "id": "8BMwJ2WPotCu",
        "colab_type": "text"
      },
      "cell_type": "markdown",
      "source": [
        "* Author: HZQ\n",
        "* Last modified: 2018/12/4"
      ]
    },
    {
      "metadata": {
        "id": "DCQ9O2BuotC1",
        "colab_type": "text"
      },
      "cell_type": "markdown",
      "source": [
        "# Main Parts"
      ]
    },
    {
      "metadata": {
        "id": "8cz0IoFwotC5",
        "colab_type": "text"
      },
      "cell_type": "markdown",
      "source": [
        "## Import required packages"
      ]
    },
    {
      "metadata": {
        "id": "1QhfLw9eqhtJ",
        "colab_type": "code",
        "colab": {}
      },
      "cell_type": "code",
      "source": [
        ""
      ],
      "execution_count": 0,
      "outputs": []
    },
    {
      "metadata": {
        "id": "KT54rEO6otC-",
        "colab_type": "text"
      },
      "cell_type": "markdown",
      "source": [
        "## prepared process\n"
      ]
    },
    {
      "metadata": {
        "id": "xxS2jWEcpkyL",
        "colab_type": "text"
      },
      "cell_type": "markdown",
      "source": [
        "### read data online"
      ]
    },
    {
      "metadata": {
        "id": "_E1vCGC4qhXr",
        "colab_type": "code",
        "colab": {}
      },
      "cell_type": "code",
      "source": [
        ""
      ],
      "execution_count": 0,
      "outputs": []
    },
    {
      "metadata": {
        "id": "zAX08MdwotDB",
        "colab_type": "text"
      },
      "cell_type": "markdown",
      "source": [
        "### read data offline"
      ]
    },
    {
      "metadata": {
        "id": "2_4_EL4kqhCq",
        "colab_type": "code",
        "colab": {}
      },
      "cell_type": "code",
      "source": [
        ""
      ],
      "execution_count": 0,
      "outputs": []
    },
    {
      "metadata": {
        "colab_type": "text",
        "id": "OOL0nL26qLM7"
      },
      "cell_type": "markdown",
      "source": [
        "## model training"
      ]
    },
    {
      "metadata": {
        "id": "kqlgQKEyqqWx",
        "colab_type": "code",
        "colab": {}
      },
      "cell_type": "code",
      "source": [
        ""
      ],
      "execution_count": 0,
      "outputs": []
    },
    {
      "metadata": {
        "colab_type": "text",
        "id": "QWdtpIpNqprz"
      },
      "cell_type": "markdown",
      "source": [
        "### baseline model: (e.g Linear regression)"
      ]
    },
    {
      "metadata": {
        "id": "sZV0-_qUqU3O",
        "colab_type": "code",
        "colab": {}
      },
      "cell_type": "code",
      "source": [
        ""
      ],
      "execution_count": 0,
      "outputs": []
    },
    {
      "metadata": {
        "colab_type": "text",
        "id": "j5_0VsZjqYTq"
      },
      "cell_type": "markdown",
      "source": [
        "## model validation\n"
      ]
    },
    {
      "metadata": {
        "id": "hfDzVqkfqgrG",
        "colab_type": "code",
        "colab": {}
      },
      "cell_type": "code",
      "source": [
        ""
      ],
      "execution_count": 0,
      "outputs": []
    },
    {
      "metadata": {
        "id": "0iGejVRSotDE",
        "colab_type": "text"
      },
      "cell_type": "markdown",
      "source": [
        "# Undertesting Parts"
      ]
    }
  ]
}