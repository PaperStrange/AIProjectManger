{
 "cells": [
  {
   "cell_type": "markdown",
   "metadata": {
    "id": "yAjXGPfiGxc7",
    "colab_type": "text"
   },
   "source": [
    "* Author: HZQ\n",
    "* Last modified: 2018/12/17"
   ]
  },
  {
   "cell_type": "code",
   "execution_count": 0,
   "metadata": {
    "id": "vV5qe6BlG1_C",
    "colab_type": "code",
    "colab": {}
   },
   "outputs": [],
   "source": [
    "!apt-get install -y -qq software-properties-common python-software-properties module-init-tools \n",
    "!add-apt-repository -y ppa:alessandro-strada/ppa 2>&1 > /dev/null \n",
    "!apt-get update -qq 2>&1 > /dev/null \n",
    "!apt-get -y install -qq google-drive-ocamlfuse fuse \n",
    "from google.colab import auth \n",
    "auth.authenticate_user() \n",
    "from oauth2client.client import GoogleCredentials \n",
    "creds = GoogleCredentials.get_application_default() \n",
    "import getpass \n",
    "!google-drive-ocamlfuse -headless -id={creds.client_id} -secret={creds.client_secret} < /dev/null 2>&1 | grep URL \n",
    "vcode = getpass.getpass() \n",
    "!echo {vcode} | google-drive-ocamlfuse -headless -id={creds.client_id} -secret={creds.client_secret}"
   ]
  },
  {
   "cell_type": "code",
   "execution_count": 0,
   "metadata": {
    "id": "T0HVL61FHqMC",
    "colab_type": "code",
    "colab": {}
   },
   "outputs": [],
   "source": [
    "!mkdir -p driver\n",
    "!google-drive-ocamlfuse driver\n",
    "import os\n",
    "os.chdir(\"driver/Colab Notebooks/CategoryRecom_kaggle/\")\n",
    "!ls"
   ]
  },
  {
   "cell_type": "code",
   "execution_count": 0,
   "metadata": {
    "id": "8OwoC4PMaAbC",
    "colab_type": "code",
    "colab": {}
   },
   "outputs": [],
   "source": [
    "!ls"
   ]
  },
  {
   "cell_type": "code",
   "execution_count": 0,
   "metadata": {
    "id": "w5rBzm0DOerY",
    "colab_type": "code",
    "colab": {}
   },
   "outputs": [],
   "source": [
    "!pip install tushare\n",
    "!pip install statsmodels"
   ]
  },
  {
   "cell_type": "code",
   "execution_count": 0,
   "metadata": {
    "id": "36LmYNB0TvzB",
    "colab_type": "code",
    "colab": {}
   },
   "outputs": [],
   "source": [
    "!pip install --upgrade pandas"
   ]
  },
  {
   "cell_type": "markdown",
   "metadata": {
    "id": "6EglTV4uGxdA",
    "colab_type": "text"
   },
   "source": [
    "# Main Parts"
   ]
  },
  {
   "cell_type": "markdown",
   "metadata": {
    "id": "9myC-bBAGxdE",
    "colab_type": "text"
   },
   "source": [
    "### Import required packages"
   ]
  },
  {
   "cell_type": "code",
   "execution_count": 0,
   "metadata": {
    "id": "qG85KhyNGxdK",
    "colab_type": "code",
    "colab": {}
   },
   "outputs": [],
   "source": [
    "import pprint, sys, copy\n",
    "import functools\n",
    "\n",
    "import pandas as pd \n",
    "import matplotlib.pyplot as plt \n",
    "import seaborn as sns\n",
    "\n",
    "import tushare as ts  # for convenient fetch of stock data\n",
    "from statsmodels.tsa.stattools import adfuller\n",
    "from statsmodels.tsa.arima_model import ARIMA  # import financial sequence model ARIMA\n",
    "from statsmodels.graphics.tsaplots import plot_acf,plot_pacf  # grab params for financial sequence model"
   ]
  },
  {
   "cell_type": "markdown",
   "metadata": {
    "id": "s8MitoU5GxdU",
    "colab_type": "text"
   },
   "source": [
    "### read data offline"
   ]
  },
  {
   "cell_type": "code",
   "execution_count": 0,
   "metadata": {
    "id": "7BPUIno7GxdX",
    "colab_type": "code",
    "colab": {}
   },
   "outputs": [],
   "source": [
    "DATA_ROOT_PATH = \"./data/\""
   ]
  },
  {
   "cell_type": "code",
   "execution_count": 0,
   "metadata": {
    "id": "QSVh_tcvGxdh",
    "colab_type": "code",
    "colab": {}
   },
   "outputs": [],
   "source": [
    "data_train_path = DATA_ROOT_PATH + \"data_raw/train/train.csv\"\n",
    "data_test_path = DATA_ROOT_PATH + \"data_raw/test/test.csv\"\n",
    "data_valid_path = DATA_ROOT_PATH + \"data_raw/valid/valid.csv\"\n",
    "data_info_path = DATA_ROOT_PATH  + \"data_raw/Data_Dictionary.xlsx\"\n",
    "data_merchants_path = DATA_ROOT_PATH + \"data_raw/merchants.csv\"\n",
    "data_his_trans_path = DATA_ROOT_PATH + \"data_raw/historical_transactions.csv\"\n",
    "data_new_trans_path = DATA_ROOT_PATH + \"data_raw/new_merchant_transactions.csv\"\n",
    "\n",
    "data_train = pd.read_csv(data_train_path)\n",
    "data_test = pd.read_csv(data_test_path)\n",
    "data_valid = None\n",
    "data_info = pd.read_excel(data_info_path)\n",
    "data_merchants = pd.read_csv(data_merchants_path)\n",
    "# data_historical_transactions = pd.read_csv(data_his_trans_path)  # Note 2018/12/13: Not imported yet for decreasing the cpu usage\n",
    "data_new_merchant_transactions = pd.read_csv(data_new_trans_path)"
   ]
  },
  {
   "cell_type": "markdown",
   "metadata": {
    "id": "6aX5JQ44Gxdr",
    "colab_type": "text"
   },
   "source": [
    "### read data online"
   ]
  },
  {
   "cell_type": "code",
   "execution_count": 0,
   "metadata": {
    "id": "eO_SmcZlXB8k",
    "colab_type": "code",
    "colab": {}
   },
   "outputs": [],
   "source": [
    ""
   ]
  },
  {
   "cell_type": "markdown",
   "metadata": {
    "colab_type": "text",
    "id": "PcfjaQjNVgGy"
   },
   "source": [
    "### check data properties"
   ]
  },
  {
   "cell_type": "code",
   "execution_count": 0,
   "metadata": {
    "id": "3OfOlg4IVxTP",
    "colab_type": "code",
    "colab": {}
   },
   "outputs": [],
   "source": [
    "def check_basically(data_path, data):\n",
    "    type_dict = {}\n",
    "    name_file = data_path.split('/')[-1]\n",
    "    name_var = 'data_' + name_file[:-4]\n",
    "    print(\"[Input] File Name: {}, basic checking for variable {} fetched from it\".format(name_file, name_var))\n",
    "    print(\"[Output] The file data type of each column: \")\n",
    "    print(\"[Note]: Assumption: all data in one column share the same data type\")\n",
    "    for indent in range(data.shape[1]):\n",
    "        type_dict[data.columns[indent]] = str(type(data.iloc[0, indent]))  # Note 2018/12/14: use str() to avoid \"ValueError: invalid __array_struct__\"\n",
    "    type_df = pd.DataFrame(data=type_dict, index=[0])\n",
    "    pprint.pprint(type_df)\n",
    "    print(\"\\n\")\n",
    "    print(\"[Output] The shape of file data: \")\n",
    "    pprint.pprint(data.shape)\n",
    "    print(\"\\n\")\n",
    "    print(\"---End Line---\")\n",
    "    print(\"\\n\")\n",
    "    \n",
    "\n",
    "check_basically(data_train_path, data_train)\n",
    "check_basically(data_test_path, data_test)"
   ]
  },
  {
   "cell_type": "markdown",
   "metadata": {
    "colab_type": "text",
    "id": "RiHtwl4RcsFy"
   },
   "source": [
    "#### check completion"
   ]
  },
  {
   "cell_type": "code",
   "execution_count": 0,
   "metadata": {
    "id": "DYAKWuaFGxeF",
    "colab_type": "code",
    "colab": {}
   },
   "outputs": [],
   "source": [
    "def check_completion(data_path, data):\n",
    "    name_file = data_path.split('/')[-1]\n",
    "    name_var = 'data_' + name_file[:-4]\n",
    "    print(\"[Input] File Name: {}, completion checking for variable {} fetched from it\".format(name_file, name_var))\n",
    "    print(\"[Output] The fifth rows of raw data: \")\n",
    "    pprint.pprint(data.head())\n",
    "    print(\"\\n\")\n",
    "    print(\"[Output] The useful statisitical indexes of whole data: \")\n",
    "    pprint.pprint(data.describe())\n",
    "    print(\"\\n\")\n",
    "    print(\"[Output] The vacancy numbers of whole data: \")\n",
    "    pprint.pprint(data.isnull().sum())\n",
    "    print(\"\\n\")\n",
    "    print(\"---End Line---\")\n",
    "    print(\"\\n\")\n",
    "    \n",
    "check_completion(data_train_path, data_train)\n",
    "check_completion(data_test_path, data_test)\n",
    "# check_completion(data_merchants_path, data_merchants)\n",
    "# check_completion(data_his_trans_path, data_his_trans)\n",
    "# check_completion(data_new_trans_path, data_new_trans)"
   ]
  },
  {
   "cell_type": "markdown",
   "metadata": {
    "id": "ImtwmPdKdJR8",
    "colab_type": "text"
   },
   "source": [
    "#### survivor bias"
   ]
  },
  {
   "cell_type": "code",
   "execution_count": 0,
   "metadata": {
    "id": "JwkX2m7sGxeS",
    "colab_type": "code",
    "colab": {}
   },
   "outputs": [],
   "source": [
    "# @functools.lru_cache(maxsize=128)  # Note 2018/12/14: commented to avoid \"TypeError: 'DataFrame' objects are mutable\"\n",
    "def check_survivor_bias(data_path, data, label):\n",
    "    name_file = data_path.split('/')[-1]\n",
    "    name_var = 'data_' + name_file[:-4]    \n",
    "    print(\"[Input] File Name: {}, survivor bias checking for variable {} fetched from it\".format(name_file, name_var))\n",
    "    print(\"[Output] The distribution of vacancy: \")\n",
    "    \n",
    "    target_set = list(set(data[label]))\n",
    "    biascollector_survivor_dict = {each_target: len(data[label][data[label] == each_target]) for each_target in target_set}\n",
    "    biascollector_survivor_df = pd.DataFrame(data=biascollector_survivor_dict, index=[0])\n",
    "    biascollector_survivor_df.to_csv(\"./model/collector/bias_survivor_collector.csv\", index=False)\n",
    "    pprint.pprint(biascollector_survivor_df)    \n",
    "    plt.plot(target_set, list(biascollector_survivor_dict.values()), 'ro', linewidth=2)\n",
    "    # sns.countplot(x='target', data=data_train);\n",
    "    print(\"\\n\")\n",
    "    print(\"---End Line---\")\n",
    "    print(\"\\n\")\n",
    "\n",
    "    \n",
    "check_survivor_bias(data_train_path, data_train, 'target')\n",
    "# check_survivor_bias(data_test_path, data_test, '')"
   ]
  },
  {
   "cell_type": "markdown",
   "metadata": {
    "colab_type": "text",
    "id": "sGLiqZyqc6t7"
   },
   "source": [
    "#### check time-related"
   ]
  },
  {
   "cell_type": "code",
   "execution_count": 0,
   "metadata": {
    "id": "Z8E0JlxXGxd1",
    "colab_type": "code",
    "colab": {}
   },
   "outputs": [],
   "source": [
    "import gc\n",
    "gc.collect()\n",
    "sys._clear_type_cache()"
   ]
  },
  {
   "cell_type": "code",
   "execution_count": 0,
   "metadata": {
    "id": "H4cZPbKQWq-D",
    "colab_type": "code",
    "colab": {}
   },
   "outputs": [],
   "source": [
    "data_train.rolling?"
   ]
  },
  {
   "cell_type": "code",
   "execution_count": 0,
   "metadata": {
    "id": "9I3hPbkak00f",
    "colab_type": "code",
    "colab": {}
   },
   "outputs": [],
   "source": [
    "pd.to_datetime(data_train['first_active_month'])"
   ]
  },
  {
   "cell_type": "code",
   "execution_count": 0,
   "metadata": {
    "id": "S0At0pLbVIJS",
    "colab_type": "code",
    "colab": {}
   },
   "outputs": [],
   "source": [
    "data_train_copy = copy.copy(data_train)\n",
    "data_train_copy.set_index(pd.to_datetime(data_train_copy['first_active_month']), inplace=True)\n",
    "data_train_copy = data_train_copy.sort_index()\n",
    "pprint.pprint(data_train_copy.head(10))\n",
    "fig2 = plt.figure(figsize=(10, 12));\n",
    "ax1 = fig2.add_subplot(311) \n",
    "plt.plot_date(x=data_train_copy.index, y=data_train_copy['target'], xdate=True, marker=None, linestyle='solid', color='darkblue', label='target');\n",
    "plt.legend(loc='upper left')\n",
    "ax2 = fig2.add_subplot(312) \n",
    "data_train_copy['target'].rolling(6).mean().plot(color='darkgreen', label='target_rolling_mean');\n",
    "plt.legend(loc='upper left')\n",
    "ax3 = fig2.add_subplot(313) \n",
    "data_train_copy['target'].rolling(6).std().plot(color='yellow', label='target_rolling_std');\n",
    "plt.legend(loc='upper left')\n",
    "# data_train_copy_resampled = data_train_copy.resample('W-MON')  # 数据太多时的降频处理, TODO 2018/12/17: ModuleNotFoundError: No module named 'pandas.core.groupby.groupby'; 'pandas.core.groupby' is not a package\n",
    "# data_train_copy_resampled.plot(color='darkred')"
   ]
  },
  {
   "cell_type": "code",
   "execution_count": 0,
   "metadata": {
    "id": "MMsxJYmUV2m_",
    "colab_type": "code",
    "colab": {}
   },
   "outputs": [],
   "source": [
    "LABELS = ['adf statistics', 'p value', 'used lag', 'NUmber of oberservation']\n",
    "\n",
    "\n",
    "# @functools.lru_cache(maxsize=128)\n",
    "def check_adfuller(data):\n",
    "    results = adfuller(x=data, maxlag=12)\n",
    "    for label, result in zip(LABELS, results):\n",
    "        print(label + ': ' + str(result))\n",
    "    if results[1] <= 0.05:\n",
    "        print(\"Strong evidence against the null hypothesis, reject the null hypothesis\")\n",
    "        print(\"Data has no unit root and is stationary\")\n",
    "    else:\n",
    "        print(\"Weak evidence against the null hypothesis, accept the null hypothesis\")\n",
    "        print(\"Data has unit root and is non-stationary\")    "
   ]
  },
  {
   "cell_type": "code",
   "execution_count": 0,
   "metadata": {
    "id": "u63cxrXZZ1zj",
    "colab_type": "code",
    "colab": {}
   },
   "outputs": [],
   "source": [
    "check_adfuller(data_train_copy['target'])"
   ]
  },
  {
   "cell_type": "code",
   "execution_count": 0,
   "metadata": {
    "id": "52yCD2PLVRgX",
    "colab_type": "code",
    "colab": {}
   },
   "outputs": [],
   "source": [
    "fig2 = plt.figure(figsize=(10, 12));\n",
    "ax1 = fig2.add_subplot(211) \n",
    "print(\"[Input] Data: {}, visualization for variable {} with data stored in\".format('first derivative of \\'target\\'', 'data_train_copy[\\'diff1\\']'))\n",
    "data_train_copy['diff1'] = data_train_copy['target'].diff(1)  # Note 2018/12/13: if needed, use '.dropna()''\n",
    "# pprint.pprint(data_train_copy['diff1'])\n",
    "print(\"[Output] visualization of vacancy numbers\")\n",
    "pprint.pprint(data_train_copy['diff1'].isnull())\n",
    "print(\"\\n\")\n",
    "print(\"[Output] visualization of curve trend\")\n",
    "data_train_copy['diff1'].plot(color='darkred', label='target_diff1', ax=ax1)\n",
    "plt.legend(loc='upper left')\n",
    "# print(\"\\n\")\n",
    "# print(\"[Output] visualization of adfuller checking result\")\n",
    "# check_adfuller(data_train_copy['diff1'])  # TODO 2018/12/17: LinAlgError: SVD did not converge \n",
    "print(\"\\n\")\n",
    "print(\"---End Line---\")\n",
    "print(\"\\n\")\n",
    "\n",
    "ax2 = fig2.add_subplot(212) \n",
    "print(\"[Input] Data Part: {}, visualization for variable {} with data stored in\".format('second derivative of \\'target\\'', 'data_train_copy[\\'diff2\\']'))\n",
    "data_train_copy['diff2'] = data_train_copy['diff1'].diff(1)\n",
    "# pprint.pprint(data_train_copy['diff2'])\n",
    "print(\"[Output] visualization of vacancy numbers\")\n",
    "pprint.pprint(data_train_copy['diff2'].isnull())\n",
    "print(\"\\n\")\n",
    "print(\"[Output] visualization of curve trend\")\n",
    "data_train_copy['diff2'].plot(color='darkblue', label='target_diff2', ax=ax2)\n",
    "plt.legend(loc='upper left')\n",
    "# print(\"\\n\")\n",
    "# print(\"[Output] visualization of adfuller checking result\")\n",
    "# check_adfuller(data_train_copy['diff2'])  # TODO 2018/12/17: LinAlgError: SVD did not converge \n",
    "print(\"\\n\")\n",
    "print(\"---End Line---\")\n",
    "print(\"\\n\")"
   ]
  },
  {
   "cell_type": "code",
   "execution_count": 81,
   "metadata": {
    "id": "xVvuz-NY1JEn",
    "colab_type": "code",
    "colab": {
     "base_uri": "https://localhost:8080/",
     "height": 341.0
    },
    "outputId": "24014ea5-9521-4360-9e64-57df1355dd34"
   },
   "outputs": [
    {
     "data": {
      "image/png": "[encoded data removed]",
      "text/plain": [
       "<matplotlib.figure.Figure at 0x7fb29a8f3358>"
      ]
     },
     "metadata": {
      "tags": []
     },
     "output_type": "display_data"
    }
   ],
   "source": [
    "result_arima.resid.plot();"
   ]
  },
  {
   "cell_type": "code",
   "execution_count": 82,
   "metadata": {
    "id": "venZyOMU1uqm",
    "colab_type": "code",
    "colab": {
     "base_uri": "https://localhost:8080/",
     "height": 347.0
    },
    "outputId": "a8aaa1b5-c8a1-4e16-a9ec-8a15e52624a1"
   },
   "outputs": [
    {
     "data": {
      "image/png": "[encoded data removed]",
      "text/plain": [
       "<matplotlib.figure.Figure at 0x7fb29a984198>"
      ]
     },
     "metadata": {
      "tags": []
     },
     "output_type": "display_data"
    }
   ],
   "source": [
    "result_arima.resid.plot(kind='kde');"
   ]
  },
  {
   "cell_type": "code",
   "execution_count": 0,
   "metadata": {
    "id": "tilSKd4Tmsyc",
    "colab_type": "code",
    "colab": {}
   },
   "outputs": [],
   "source": [
    "# References: \n",
    "# jianshu.com/p/4130bac8ebe\n",
    "# jianshu.com/p/9066b9e0c7af\n",
    "\n",
    "print(\"[Input] Variable: {}, determine parameters \\'p, d, q\\' for financial sequence model fetched from it\".format('data_train_copy[\\'diff1\\']'))\n",
    "print(\"[Output] visualization of acf curve\")\n",
    "acf = plot_acf(data_train_copy['diff1'], lags=20)\n",
    "print(\"\\n\")\n",
    "print(\"[Output] visualization of pacf curve\")\n",
    "pacf = plot_pacf(data_train_copy['diff1'], lags=20)\n",
    "model_arima = ARIMA(data_train_copy['target'], order=(1, 1, 1), freq='W-MON')\n",
    "result_arima = model_arima.fit()\n",
    "print(\"\\n\")\n",
    "print(\"---End Line---\")\n",
    "print(\"\\n\")\n",
    "\n",
    "print(\"[Input] Variable: {}, visualization of fitting results for financial sequence model \\'ARIMA\\'\".format('result_arima'))\n",
    "print(\"[Output] visualization of summary\")\n",
    "print(result_arima.summary())\n",
    "print(\"\\n\")\n",
    "print(\"[Output] visualization of residual trend and distribution\")\n",
    "result_arima.resid.dropna(axis=0, inplace=True)\n",
    "result_arima.resid.plot()\n",
    "result_arima.resid.plot(kind='kde')\n",
    "print(\"\\n\")\n",
    "print(\"---End Line---\")\n",
    "print(\"\\n\")"
   ]
  },
  {
   "cell_type": "code",
   "execution_count": 0,
   "metadata": {
    "id": "Ns0ePk7Q2Xnv",
    "colab_type": "code",
    "colab": {}
   },
   "outputs": [],
   "source": [
    "result_arima.predict?"
   ]
  },
  {
   "cell_type": "code",
   "execution_count": 84,
   "metadata": {
    "id": "MBbrr21v2Ep1",
    "colab_type": "code",
    "colab": {
     "base_uri": "https://localhost:8080/",
     "height": 1155.0
    },
    "outputId": "c1328de1-ec4b-4d5c-f939-f43a7c03994a"
   },
   "outputs": [
    {
     "name": "stdout",
     "output_type": "stream",
     "text": [
      "[Input] Variable: result_arima, visualization of prediction results for financial sequence model 'ARIMA'\n"
     ]
    },
    {
     "ename": "ValueError",
     "evalue": "ignored",
     "traceback": [
      "\u001b[0;31m---------------------------------------------------------------------------\u001b[0m",
      "\u001b[0;31mValueError\u001b[0m                                Traceback (most recent call last)",
      "\u001b[0;32m<ipython-input-84-a44f8107d254>\u001b[0m in \u001b[0;36m<module>\u001b[0;34m()\u001b[0m\n\u001b[1;32m      1\u001b[0m \u001b[0mprint\u001b[0m\u001b[0;34m(\u001b[0m\u001b[0;34m\"[Input] Variable: {}, visualization of prediction results for financial sequence model \\'ARIMA\\'\"\u001b[0m\u001b[0;34m.\u001b[0m\u001b[0mformat\u001b[0m\u001b[0;34m(\u001b[0m\u001b[0;34m'result_arima'\u001b[0m\u001b[0;34m)\u001b[0m\u001b[0;34m)\u001b[0m\u001b[0;34m\u001b[0m\u001b[0;34m\u001b[0m\u001b[0m\n\u001b[0;32m----> 2\u001b[0;31m \u001b[0mdata_train_copy\u001b[0m\u001b[0;34m[\u001b[0m\u001b[0;34m'target_pred'\u001b[0m\u001b[0;34m]\u001b[0m \u001b[0;34m=\u001b[0m \u001b[0mresult_arima\u001b[0m\u001b[0;34m.\u001b[0m\u001b[0mpredict\u001b[0m\u001b[0;34m(\u001b[0m\u001b[0mstart\u001b[0m\u001b[0;34m=\u001b[0m\u001b[0;36m0\u001b[0m\u001b[0;34m,\u001b[0m \u001b[0mend\u001b[0m\u001b[0;34m=\u001b[0m\u001b[0mlen\u001b[0m\u001b[0;34m(\u001b[0m\u001b[0mdata_train_copy\u001b[0m\u001b[0;34m)\u001b[0m\u001b[0;34m)\u001b[0m\u001b[0;34m\u001b[0m\u001b[0;34m\u001b[0m\u001b[0m\n\u001b[0m\u001b[1;32m      3\u001b[0m \u001b[0mprint\u001b[0m\u001b[0;34m(\u001b[0m\u001b[0;34m\"[Output] visualization of prediction curve compared with original curve\"\u001b[0m\u001b[0;34m)\u001b[0m\u001b[0;34m\u001b[0m\u001b[0;34m\u001b[0m\u001b[0m\n\u001b[1;32m      4\u001b[0m \u001b[0mdata_train_copy\u001b[0m\u001b[0;34m[\u001b[0m\u001b[0;34m[\u001b[0m\u001b[0;34m'target'\u001b[0m\u001b[0;34m,\u001b[0m \u001b[0;34m'target_pred'\u001b[0m\u001b[0;34m]\u001b[0m\u001b[0;34m]\u001b[0m\u001b[0;34m.\u001b[0m\u001b[0mplot\u001b[0m\u001b[0;34m(\u001b[0m\u001b[0;34m)\u001b[0m\u001b[0;34m\u001b[0m\u001b[0;34m\u001b[0m\u001b[0m\n\u001b[1;32m      5\u001b[0m \u001b[0;31m# pd.data_range(start='2018-12-1', end='2019-12-1', periods=12, freq='MS')\u001b[0m\u001b[0;34m\u001b[0m\u001b[0;34m\u001b[0m\u001b[0;34m\u001b[0m\u001b[0m\n",
      "\u001b[0;32m/usr/local/lib/python3.6/dist-packages/statsmodels/base/wrapper.py\u001b[0m in \u001b[0;36mwrapper\u001b[0;34m(self, *args, **kwargs)\u001b[0m\n\u001b[1;32m     93\u001b[0m             \u001b[0mobj\u001b[0m \u001b[0;34m=\u001b[0m \u001b[0mdata\u001b[0m\u001b[0;34m.\u001b[0m\u001b[0mwrap_output\u001b[0m\u001b[0;34m(\u001b[0m\u001b[0mfunc\u001b[0m\u001b[0;34m(\u001b[0m\u001b[0mresults\u001b[0m\u001b[0;34m,\u001b[0m \u001b[0;34m*\u001b[0m\u001b[0margs\u001b[0m\u001b[0;34m,\u001b[0m \u001b[0;34m**\u001b[0m\u001b[0mkwargs\u001b[0m\u001b[0;34m)\u001b[0m\u001b[0;34m,\u001b[0m \u001b[0mhow\u001b[0m\u001b[0;34m[\u001b[0m\u001b[0;36m0\u001b[0m\u001b[0;34m]\u001b[0m\u001b[0;34m,\u001b[0m \u001b[0mhow\u001b[0m\u001b[0;34m[\u001b[0m\u001b[0;36m1\u001b[0m\u001b[0;34m:\u001b[0m\u001b[0;34m]\u001b[0m\u001b[0;34m)\u001b[0m\u001b[0;34m\u001b[0m\u001b[0;34m\u001b[0m\u001b[0m\n\u001b[1;32m     94\u001b[0m         \u001b[0;32melif\u001b[0m \u001b[0mhow\u001b[0m\u001b[0;34m:\u001b[0m\u001b[0;34m\u001b[0m\u001b[0;34m\u001b[0m\u001b[0m\n\u001b[0;32m---> 95\u001b[0;31m             \u001b[0mobj\u001b[0m \u001b[0;34m=\u001b[0m \u001b[0mdata\u001b[0m\u001b[0;34m.\u001b[0m\u001b[0mwrap_output\u001b[0m\u001b[0;34m(\u001b[0m\u001b[0mfunc\u001b[0m\u001b[0;34m(\u001b[0m\u001b[0mresults\u001b[0m\u001b[0;34m,\u001b[0m \u001b[0;34m*\u001b[0m\u001b[0margs\u001b[0m\u001b[0;34m,\u001b[0m \u001b[0;34m**\u001b[0m\u001b[0mkwargs\u001b[0m\u001b[0;34m)\u001b[0m\u001b[0;34m,\u001b[0m \u001b[0mhow\u001b[0m\u001b[0;34m)\u001b[0m\u001b[0;34m\u001b[0m\u001b[0;34m\u001b[0m\u001b[0m\n\u001b[0m\u001b[1;32m     96\u001b[0m         \u001b[0;32mreturn\u001b[0m \u001b[0mobj\u001b[0m\u001b[0;34m\u001b[0m\u001b[0;34m\u001b[0m\u001b[0m\n\u001b[1;32m     97\u001b[0m \u001b[0;34m\u001b[0m\u001b[0m\n",
      "\u001b[0;32m/usr/local/lib/python3.6/dist-packages/statsmodels/tsa/arima_model.py\u001b[0m in \u001b[0;36mpredict\u001b[0;34m(self, start, end, exog, typ, dynamic)\u001b[0m\n\u001b[1;32m   1808\u001b[0m     def predict(self, start=None, end=None, exog=None, typ='linear',\n\u001b[1;32m   1809\u001b[0m                 dynamic=False):\n\u001b[0;32m-> 1810\u001b[0;31m         \u001b[0;32mreturn\u001b[0m \u001b[0mself\u001b[0m\u001b[0;34m.\u001b[0m\u001b[0mmodel\u001b[0m\u001b[0;34m.\u001b[0m\u001b[0mpredict\u001b[0m\u001b[0;34m(\u001b[0m\u001b[0mself\u001b[0m\u001b[0;34m.\u001b[0m\u001b[0mparams\u001b[0m\u001b[0;34m,\u001b[0m \u001b[0mstart\u001b[0m\u001b[0;34m,\u001b[0m \u001b[0mend\u001b[0m\u001b[0;34m,\u001b[0m \u001b[0mexog\u001b[0m\u001b[0;34m,\u001b[0m \u001b[0mtyp\u001b[0m\u001b[0;34m,\u001b[0m \u001b[0mdynamic\u001b[0m\u001b[0;34m)\u001b[0m\u001b[0;34m\u001b[0m\u001b[0;34m\u001b[0m\u001b[0m\n\u001b[0m\u001b[1;32m   1811\u001b[0m     \u001b[0mpredict\u001b[0m\u001b[0;34m.\u001b[0m\u001b[0m__doc__\u001b[0m \u001b[0;34m=\u001b[0m \u001b[0m_arima_results_predict\u001b[0m\u001b[0;34m\u001b[0m\u001b[0;34m\u001b[0m\u001b[0m\n\u001b[1;32m   1812\u001b[0m \u001b[0;34m\u001b[0m\u001b[0m\n",
      "\u001b[0;32m/usr/local/lib/python3.6/dist-packages/statsmodels/tsa/arima_model.py\u001b[0m in \u001b[0;36mpredict\u001b[0;34m(self, params, start, end, exog, typ, dynamic)\u001b[0m\n\u001b[1;32m   1169\u001b[0m                                start is not None):\n\u001b[1;32m   1170\u001b[0m                 return super(ARIMA, self).predict(params, start, end, exog,\n\u001b[0;32m-> 1171\u001b[0;31m                                                   dynamic)\n\u001b[0m\u001b[1;32m   1172\u001b[0m             \u001b[0;32melse\u001b[0m\u001b[0;34m:\u001b[0m\u001b[0;34m\u001b[0m\u001b[0;34m\u001b[0m\u001b[0m\n\u001b[1;32m   1173\u001b[0m                 \u001b[0;31m# need to assume pre-sample residuals are zero\u001b[0m\u001b[0;34m\u001b[0m\u001b[0;34m\u001b[0m\u001b[0;34m\u001b[0m\u001b[0m\n",
      "\u001b[0;32m/usr/local/lib/python3.6/dist-packages/statsmodels/tsa/arima_model.py\u001b[0m in \u001b[0;36mpredict\u001b[0;34m(self, params, start, end, exog, dynamic)\u001b[0m\n\u001b[1;32m    731\u001b[0m \u001b[0;34m\u001b[0m\u001b[0m\n\u001b[1;32m    732\u001b[0m         \u001b[0;31m# will return an index of a date\u001b[0m\u001b[0;34m\u001b[0m\u001b[0;34m\u001b[0m\u001b[0;34m\u001b[0m\u001b[0m\n\u001b[0;32m--> 733\u001b[0;31m         \u001b[0mstart\u001b[0m \u001b[0;34m=\u001b[0m \u001b[0mself\u001b[0m\u001b[0;34m.\u001b[0m\u001b[0m_get_predict_start\u001b[0m\u001b[0;34m(\u001b[0m\u001b[0mstart\u001b[0m\u001b[0;34m,\u001b[0m \u001b[0mdynamic\u001b[0m\u001b[0;34m)\u001b[0m\u001b[0;34m\u001b[0m\u001b[0;34m\u001b[0m\u001b[0m\n\u001b[0m\u001b[1;32m    734\u001b[0m         \u001b[0mend\u001b[0m\u001b[0;34m,\u001b[0m \u001b[0mout_of_sample\u001b[0m \u001b[0;34m=\u001b[0m \u001b[0mself\u001b[0m\u001b[0;34m.\u001b[0m\u001b[0m_get_predict_end\u001b[0m\u001b[0;34m(\u001b[0m\u001b[0mend\u001b[0m\u001b[0;34m,\u001b[0m \u001b[0mdynamic\u001b[0m\u001b[0;34m)\u001b[0m\u001b[0;34m\u001b[0m\u001b[0;34m\u001b[0m\u001b[0m\n\u001b[1;32m    735\u001b[0m         \u001b[0;32mif\u001b[0m \u001b[0mout_of_sample\u001b[0m \u001b[0;32mand\u001b[0m \u001b[0;34m(\u001b[0m\u001b[0mexog\u001b[0m \u001b[0;32mis\u001b[0m \u001b[0;32mNone\u001b[0m \u001b[0;32mand\u001b[0m \u001b[0mself\u001b[0m\u001b[0;34m.\u001b[0m\u001b[0mk_exog\u001b[0m \u001b[0;34m>\u001b[0m \u001b[0;36m0\u001b[0m\u001b[0;34m)\u001b[0m\u001b[0;34m:\u001b[0m\u001b[0;34m\u001b[0m\u001b[0;34m\u001b[0m\u001b[0m\n",
      "\u001b[0;32m/usr/local/lib/python3.6/dist-packages/statsmodels/tsa/arima_model.py\u001b[0m in \u001b[0;36m_get_predict_start\u001b[0;34m(self, start, dynamic)\u001b[0m\n\u001b[1;32m   1045\u001b[0m                 \u001b[0;32mtry\u001b[0m\u001b[0;34m:\u001b[0m  \u001b[0;31m# catch when given an integer outside of dates index\u001b[0m\u001b[0;34m\u001b[0m\u001b[0;34m\u001b[0m\u001b[0m\n\u001b[1;32m   1046\u001b[0m                     start = super(ARIMA, self)._get_predict_start(start,\n\u001b[0;32m-> 1047\u001b[0;31m                                                                   dynamic)\n\u001b[0m\u001b[1;32m   1048\u001b[0m                 \u001b[0;32mexcept\u001b[0m \u001b[0mIndexError\u001b[0m\u001b[0;34m:\u001b[0m\u001b[0;34m\u001b[0m\u001b[0;34m\u001b[0m\u001b[0m\n\u001b[1;32m   1049\u001b[0m                     raise ValueError(\"start must be in series. \"\n",
      "\u001b[0;32m/usr/local/lib/python3.6/dist-packages/statsmodels/tsa/arima_model.py\u001b[0m in \u001b[0;36m_get_predict_start\u001b[0;34m(self, start, dynamic)\u001b[0m\n\u001b[1;32m    668\u001b[0m                               method)\n\u001b[1;32m    669\u001b[0m             \u001b[0mstart\u001b[0m \u001b[0;34m=\u001b[0m \u001b[0msuper\u001b[0m\u001b[0;34m(\u001b[0m\u001b[0mARMA\u001b[0m\u001b[0;34m,\u001b[0m \u001b[0mself\u001b[0m\u001b[0;34m)\u001b[0m\u001b[0;34m.\u001b[0m\u001b[0m_get_predict_start\u001b[0m\u001b[0;34m(\u001b[0m\u001b[0mstart\u001b[0m\u001b[0;34m)\u001b[0m\u001b[0;34m\u001b[0m\u001b[0;34m\u001b[0m\u001b[0m\n\u001b[0;32m--> 670\u001b[0;31m         \u001b[0m_check_arima_start\u001b[0m\u001b[0;34m(\u001b[0m\u001b[0mstart\u001b[0m\u001b[0;34m,\u001b[0m \u001b[0mk_ar\u001b[0m\u001b[0;34m,\u001b[0m \u001b[0mk_diff\u001b[0m\u001b[0;34m,\u001b[0m \u001b[0mmethod\u001b[0m\u001b[0;34m,\u001b[0m \u001b[0mdynamic\u001b[0m\u001b[0;34m)\u001b[0m\u001b[0;34m\u001b[0m\u001b[0;34m\u001b[0m\u001b[0m\n\u001b[0m\u001b[1;32m    671\u001b[0m         \u001b[0;32mreturn\u001b[0m \u001b[0mstart\u001b[0m\u001b[0;34m\u001b[0m\u001b[0;34m\u001b[0m\u001b[0m\n\u001b[1;32m    672\u001b[0m \u001b[0;34m\u001b[0m\u001b[0m\n",
      "\u001b[0;32m/usr/local/lib/python3.6/dist-packages/statsmodels/tsa/arima_model.py\u001b[0m in \u001b[0;36m_check_arima_start\u001b[0;34m(start, k_ar, k_diff, method, dynamic)\u001b[0m\n\u001b[1;32m    251\u001b[0m     \u001b[0;32mif\u001b[0m \u001b[0mstart\u001b[0m \u001b[0;34m<\u001b[0m \u001b[0;36m0\u001b[0m\u001b[0;34m:\u001b[0m\u001b[0;34m\u001b[0m\u001b[0;34m\u001b[0m\u001b[0m\n\u001b[1;32m    252\u001b[0m         raise ValueError(\"The start index %d of the original series \"\n\u001b[0;32m--> 253\u001b[0;31m                          \"has been differenced away\" % start)\n\u001b[0m\u001b[1;32m    254\u001b[0m     \u001b[0;32melif\u001b[0m \u001b[0;34m(\u001b[0m\u001b[0mdynamic\u001b[0m \u001b[0;32mor\u001b[0m \u001b[0;34m'mle'\u001b[0m \u001b[0;32mnot\u001b[0m \u001b[0;32min\u001b[0m \u001b[0mmethod\u001b[0m\u001b[0;34m)\u001b[0m \u001b[0;32mand\u001b[0m \u001b[0mstart\u001b[0m \u001b[0;34m<\u001b[0m \u001b[0mk_ar\u001b[0m\u001b[0;34m:\u001b[0m\u001b[0;34m\u001b[0m\u001b[0;34m\u001b[0m\u001b[0m\n\u001b[1;32m    255\u001b[0m         raise ValueError(\"Start must be >= k_ar for conditional MLE \"\n",
      "\u001b[0;31mValueError\u001b[0m: The start index -1 of the original series has been differenced away"
     ],
     "output_type": "error"
    }
   ],
   "source": [
    "print(\"[Input] Variable: {}, visualization of prediction results for financial sequence model \\'ARIMA\\'\".format('result_arima'))\n",
    "data_train_copy['target_pred'] = result_arima.predict(start=0, end=len(data_train_copy))\n",
    "print(\"[Output] visualization of prediction curve compared with original curve\")\n",
    "data_train_copy[['target', 'target_pred']].plot()\n",
    "# pd.data_range(start='2018-12-1', end='2019-12-1', periods=12, freq='MS')\n",
    "print(\"\\n\")\n",
    "print(\"---End Line---\")\n",
    "print(\"\\n\")"
   ]
  },
  {
   "cell_type": "code",
   "execution_count": 0,
   "metadata": {
    "id": "lUtfiearbRbU",
    "colab_type": "code",
    "colab": {}
   },
   "outputs": [],
   "source": [
    ""
   ]
  },
  {
   "cell_type": "markdown",
   "metadata": {
    "colab_type": "text",
    "id": "O00oozSBbU9I"
   },
   "source": [
    "# Test Parts"
   ]
  },
  {
   "cell_type": "code",
   "execution_count": 0,
   "metadata": {
    "id": "IRkYB7UnGxdu",
    "colab_type": "code",
    "colab": {}
   },
   "outputs": [],
   "source": [
    "data_stock = ts.get_hist_data('600519')\n",
    "data_stock.isna().sum()\n",
    "# data_stock.index"
   ]
  },
  {
   "cell_type": "code",
   "execution_count": 0,
   "metadata": {
    "id": "TKQMw74_Z3Ll",
    "colab_type": "code",
    "colab": {}
   },
   "outputs": [],
   "source": [
    "print(data_stock.columns, type(data_stock))"
   ]
  },
  {
   "cell_type": "code",
   "execution_count": 0,
   "metadata": {
    "id": "q41HzlDeSbFl",
    "colab_type": "code",
    "colab": {}
   },
   "outputs": [],
   "source": [
    "mean_dict, std_dict = {'feat_low_vacancy':[], 'feat_high_vacancy':[]}, {'feat_low_vacancy':[], 'feat_high_vacancy':[]}\n",
    "sns.set(style=\"darkgrid\")\n",
    "def compare_dis(data_low_vacancy, data_high_vacancy, feat_low_vacancy_si, feat_high_vacancy_si, ind):\n",
    "    fig = plt.figure(num=ind, figsize=(10, 15))\n",
    "    ax1 = fig.add_subplot(211)\n",
    "    ax1.set_title(\"feat %s from low vacancy data\" %feat_low_vacancy_si)\n",
    "    mean_dict['feat_low_vacancy'].append(data_low_vacancy[feat_low_vacancy_si].dropna().mean())\n",
    "    std_dict['feat_low_vacancy'].append(data_low_vacancy[feat_low_vacancy_si].dropna().std())\n",
    "    sns.countplot(x=feat_low_vacancy_si, data=data_low_vacancy, ax=ax1);\n",
    "    \n",
    "    ax2 = fig.add_subplot(212)\n",
    "    ax2.set_title(\"feat %s from high vacancy data\" %feat_high_vacancy_si)\n",
    "    mean_dict['feat_high_vacancy'].append(data_high_vacancy[feat_high_vacancy_si].dropna().mean())\n",
    "    std_dict['feat_high_vacancy'].append(data_high_vacancy[feat_high_vacancy_si].dropna().std())\n",
    "    sns.countplot(x=feat_high_vacancy_si, data=data_high_vacancy, ax=ax2);\n",
    "    # sns.catplot(x=\"class\", hue=\"who\", col=\"survived\", data=titanic, kind=\"count\", height=4, aspect=.7);\n",
    "    \n",
    "num = 5\n",
    "feats_low_selected = random.sample(list(azdias_low.columns), num)\n",
    "feats_high_selected = random.sample(list(azdias_high.columns), num)\n",
    "for indent in range(num):\n",
    "    compare_dis(azdias_low, azdias_high, feats_low_selected[indent], feats_high_selected[indent], indent)\n",
    "mean_df = pd.DataFrame(mean_dict)\n",
    "std_df = pd.DataFrame(std_dict)"
   ]
  }
 ],
 "metadata": {
  "colab": {
   "name": "data_process.ipynb",
   "version": "0.3.2",
   "provenance": [],
   "collapsed_sections": []
  },
  "kernelspec": {
   "name": "python3",
   "display_name": "Python 3"
  },
  "accelerator": "GPU"
 },
 "nbformat": 4,
 "nbformat_minor": 0
}
