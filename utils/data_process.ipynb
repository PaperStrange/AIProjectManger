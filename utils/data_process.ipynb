{
 "cells": [
  {
   "cell_type": "markdown",
   "metadata": {},
   "source": [
    "* Author: HZQ\n",
    "* Last modified: 2018/12/4"
   ]
  },
  {
   "cell_type": "markdown",
   "metadata": {},
   "source": [
    "# Main Parts"
   ]
  },
  {
   "cell_type": "markdown",
   "metadata": {},
   "source": [
    "## prepared process"
   ]
  },
  {
   "cell_type": "markdown",
   "metadata": {},
   "source": [
    "### Import required packages"
   ]
  },
  {
   "cell_type": "markdown",
   "metadata": {},
   "source": [
    "### load data offline"
   ]
  },
  {
   "cell_type": "markdown",
   "metadata": {},
   "source": [
    "### load data online"
   ]
  },
  {
   "cell_type": "code",
   "execution_count": null,
   "metadata": {},
   "outputs": [],
   "source": [
    "import logging"
   ]
  },
  {
   "cell_type": "code",
   "execution_count": null,
   "metadata": {},
   "outputs": [],
   "source": [
    "class process_pre_c():\n",
    "    \n",
    "    def __init__(self):\n",
    "        allocate folder path or target urls\n",
    "        allocate strategy for error catch, anti-spider breaking\n",
    "    def reduce_mem(self):\n",
    "        reduce memory use by changing data type of each dataframe or other techs \n",
    "    def load_online(self):   \n",
    "        def init_spider():\n",
    "            choose creator from scrapy, request+BS and so on \n",
    "    \n",
    "        def generate_spider():\n",
    "            application of spider by choosed method\n",
    "    \n",
    "        def excute_spider():\n",
    "            excute spider object and return structual texts\n",
    "            save dataframe object named like xxx_ori\n",
    "    \n",
    "        def save_data():\n",
    "            save dataframe to \".../data_raw\"\n",
    "    def load_offline(self):\n",
    "        def read_data(big_flag):\n",
    "            if big_flag:\n",
    "                use chunksize params in read_csv\n",
    "            else:\n",
    "                read normally"
   ]
  },
  {
   "cell_type": "markdown",
   "metadata": {},
   "source": [
    "## middle process"
   ]
  },
  {
   "cell_type": "code",
   "execution_count": null,
   "metadata": {},
   "outputs": [],
   "source": [
    "class process_mid_c():\n",
    "    ''' this step includes business understanding and data understanding.\n",
    "    '''\n",
    "    \n",
    "    def __init__(self):\n",
    "        allocate variables returned by class process_pre_c\n",
    "        add variables required by the below functions\n",
    "\n",
    "    def apply_checkings(self):\n",
    "        statistical checking\n",
    "        repetability checkings\n",
    "        survivor bias checking\n",
    "\n",
    "    def feature engineering(self):\n",
    "        divide data in serveral types including categorical data(nit include binary data), mixed data(need further extraction), binary data(no normalization needed), numerical data and so on\n",
    "        deal with outliers\n",
    "        deal with mixed-type data\n",
    "        construct new feats\n",
    "        deal with imbalance data\n",
    "        apply scaler\n",
    "        apply dimensionality reduction & interpret principal components\n",
    "        \n",
    "        \n",
    "    def save_data(self):\n",
    "        save dataframe to \".../data_processed\""
   ]
  },
  {
   "cell_type": "markdown",
   "metadata": {},
   "source": [
    "### check data properties"
   ]
  },
  {
   "cell_type": "markdown",
   "metadata": {},
   "source": [
    "#### check statistical characters"
   ]
  },
  {
   "cell_type": "markdown",
   "metadata": {},
   "source": [
    "#### check completion"
   ]
  },
  {
   "cell_type": "markdown",
   "metadata": {},
   "source": [
    "#### check survivor bias"
   ]
  },
  {
   "cell_type": "markdown",
   "metadata": {},
   "source": [
    "#### check time-related"
   ]
  },
  {
   "cell_type": "markdown",
   "metadata": {},
   "source": [
    "### divide data category"
   ]
  },
  {
   "cell_type": "markdown",
   "metadata": {},
   "source": [
    "## last process"
   ]
  },
  {
   "cell_type": "code",
   "execution_count": null,
   "metadata": {},
   "outputs": [],
   "source": [
    "class process_last(self):   \n",
    "    def __init__(self):\n",
    "        allocate room for the variable returned by class process_mid_c\n",
    "        add variables required by the below functions\n",
    "        \n",
    "    def assess_null(self):\n",
    "        assess missing data in each column, each row\n",
    "        fill null\n",
    "    \n",
    "    def feature_engineering(self):\n",
    "        feature\n",
    "          * select and sort\n",
    "          * re-encode\n",
    "          * engineer mixed-type features\n",
    "        scaler, regularization/standardization/decentralization \n",
    "        dimensionality reduction\n",
    "    \n"
   ]
  },
  {
   "cell_type": "markdown",
   "metadata": {},
   "source": [
    "# Test Parts"
   ]
  }
 ],
 "metadata": {
  "kernelspec": {
   "display_name": "Python 3",
   "language": "python",
   "name": "python3"
  },
  "language_info": {
   "codemirror_mode": {
    "name": "ipython",
    "version": 3
   },
   "file_extension": ".py",
   "mimetype": "text/x-python",
   "name": "python",
   "nbconvert_exporter": "python",
   "pygments_lexer": "ipython3",
   "version": "3.5.3"
  }
 },
 "nbformat": 4,
 "nbformat_minor": 1
}
