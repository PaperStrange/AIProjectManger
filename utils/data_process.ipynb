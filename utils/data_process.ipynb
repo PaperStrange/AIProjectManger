{
 "cells": [
  {
   "cell_type": "markdown",
   "metadata": {
    "id": "yAjXGPfiGxc7",
    "colab_type": "text"
   },
   "source": [
    "* Author: HZQ\n",
    "* Last modified: 2018/12/28"
   ]
  },
  {
   "cell_type": "code",
   "execution_count": 0,
   "metadata": {
    "id": "vV5qe6BlG1_C",
    "colab_type": "code",
    "outputId": "40dbbe30-f2cd-4399-a20d-9110c16bec53",
    "colab": {
     "base_uri": "https://localhost:8080/",
     "height": 237.0
    }
   },
   "outputs": [
    {
     "name": "stdout",
     "output_type": "stream",
     "text": [
      "E: Package 'python-software-properties' has no installation candidate\n",
      "Selecting previously unselected package google-drive-ocamlfuse.\n",
      "(Reading database ... 110842 files and directories currently installed.)\n",
      "Preparing to unpack .../google-drive-ocamlfuse_0.7.1-0ubuntu3~ubuntu18.04.1_amd64.deb ...\n",
      "Unpacking google-drive-ocamlfuse (0.7.1-0ubuntu3~ubuntu18.04.1) ...\n",
      "Setting up google-drive-ocamlfuse (0.7.1-0ubuntu3~ubuntu18.04.1) ...\n",
      "Processing triggers for man-db (2.8.3-2ubuntu0.1) ...\n",
      "Please, open the following URL in a web browser: https://accounts.google.com/o/oauth2/auth?client_id=32555940559.apps.googleusercontent.com&redirect_uri=urn%3Aietf%3Awg%3Aoauth%3A2.0%3Aoob&scope=https%3A%2F%2Fwww.googleapis.com%2Fauth%2Fdrive&response_type=code&access_type=offline&approval_prompt=force\n",
      "··········\n",
      "Please, open the following URL in a web browser: https://accounts.google.com/o/oauth2/auth?client_id=32555940559.apps.googleusercontent.com&redirect_uri=urn%3Aietf%3Awg%3Aoauth%3A2.0%3Aoob&scope=https%3A%2F%2Fwww.googleapis.com%2Fauth%2Fdrive&response_type=code&access_type=offline&approval_prompt=force\n",
      "Please enter the verification code: Access token retrieved correctly.\n"
     ]
    }
   ],
   "source": [
    "!apt-get install -y -qq software-properties-common python-software-properties module-init-tools \n",
    "!add-apt-repository -y ppa:alessandro-strada/ppa 2>&1 > /dev/null \n",
    "!apt-get update -qq 2>&1 > /dev/null \n",
    "!apt-get -y install -qq google-drive-ocamlfuse fuse \n",
    "from google.colab import auth \n",
    "auth.authenticate_user() \n",
    "from oauth2client.client import GoogleCredentials \n",
    "creds = GoogleCredentials.get_application_default() \n",
    "import getpass \n",
    "!google-drive-ocamlfuse -headless -id={creds.client_id} -secret={creds.client_secret} < /dev/null 2>&1 | grep URL \n",
    "vcode = getpass.getpass() \n",
    "!echo {vcode} | google-drive-ocamlfuse -headless -id={creds.client_id} -secret={creds.client_secret}"
   ]
  },
  {
   "cell_type": "code",
   "execution_count": 0,
   "metadata": {
    "id": "T0HVL61FHqMC",
    "colab_type": "code",
    "outputId": "b30e7c98-4ea7-42d7-b389-d138df3c016c",
    "colab": {
     "base_uri": "https://localhost:8080/",
     "height": 53.0
    }
   },
   "outputs": [
    {
     "name": "stdout",
     "output_type": "stream",
     "text": [
      "data\t  driver   model      requirements.txt\ttimeline\n",
      "download  LICENSE  ReadMe.md  submit\t\tutils\n"
     ]
    }
   ],
   "source": [
    "!mkdir -p driver\n",
    "!google-drive-ocamlfuse driver\n",
    "import os\n",
    "os.chdir(\"driver/Colab Notebooks/CategoryRecom_kaggle/\")\n",
    "!ls"
   ]
  },
  {
   "cell_type": "code",
   "execution_count": 0,
   "metadata": {
    "id": "8OwoC4PMaAbC",
    "colab_type": "code",
    "colab": {}
   },
   "outputs": [],
   "source": [
    "!ls"
   ]
  },
  {
   "cell_type": "code",
   "execution_count": 0,
   "metadata": {
    "id": "w5rBzm0DOerY",
    "colab_type": "code",
    "colab": {}
   },
   "outputs": [],
   "source": [
    "!pip install tushare\n",
    "!pip install statsmodels"
   ]
  },
  {
   "cell_type": "code",
   "execution_count": 0,
   "metadata": {
    "id": "36LmYNB0TvzB",
    "colab_type": "code",
    "colab": {}
   },
   "outputs": [],
   "source": [
    "!pip install --upgrade pandas"
   ]
  },
  {
   "cell_type": "markdown",
   "metadata": {
    "id": "6EglTV4uGxdA",
    "colab_type": "text"
   },
   "source": [
    "# Main Parts"
   ]
  },
  {
   "cell_type": "markdown",
   "metadata": {
    "id": "9myC-bBAGxdE",
    "colab_type": "text"
   },
   "source": [
    "## Import required packages"
   ]
  },
  {
   "cell_type": "code",
   "execution_count": 0,
   "metadata": {
    "id": "qG85KhyNGxdK",
    "colab_type": "code",
    "outputId": "d0235396-fbed-42cc-933b-fb81d627fcbc",
    "colab": {
     "base_uri": "https://localhost:8080/",
     "height": 73.0
    }
   },
   "outputs": [
    {
     "name": "stderr",
     "output_type": "stream",
     "text": [
      "/usr/local/lib/python3.6/dist-packages/statsmodels/compat/pandas.py:56: FutureWarning: The pandas.core.datetools module is deprecated and will be removed in a future version. Please use the pandas.tseries module instead.\n",
      "  from pandas.core import datetools\n"
     ]
    }
   ],
   "source": [
    "import pprint, sys, copy\n",
    "import functools\n",
    "\n",
    "import numpy as np\n",
    "import pandas as pd \n",
    "import matplotlib.pyplot as plt \n",
    "import seaborn as sns\n",
    "\n",
    "import tushare as ts  # for convenient fetch of stock data\n",
    "from statsmodels.tsa.stattools import adfuller\n",
    "from statsmodels.tsa.arima_model import ARIMA  # import financial sequence model ARIMA\n",
    "from statsmodels.graphics.tsaplots import plot_acf,plot_pacf  # grab params for financial sequence model"
   ]
  },
  {
   "cell_type": "markdown",
   "metadata": {
    "id": "LjlGb_7lVBfZ",
    "colab_type": "text"
   },
   "source": [
    "## prepared process\n"
   ]
  },
  {
   "cell_type": "code",
   "execution_count": 0,
   "metadata": {
    "id": "7Z-VveH5Wfzw",
    "colab_type": "code",
    "colab": {}
   },
   "outputs": [],
   "source": [
    "class process_pre_c():\n",
    "    def __init__(self):\n",
    "        allocate needed folder path and path checking\n",
    "        allocate target urls\n",
    "        allocate strategy for error catch, anti-spider breaking\n",
    "        \n",
    "    def init_spider(self):\n",
    "        choose creator from scrapy, request+BS and so on \n",
    "    \n",
    "    def generate_spider(self):\n",
    "        application of spider by choosed method\n",
    "    \n",
    "    def excute_spider(self):\n",
    "        excute spider object and return structual texts\n",
    "        save dataframe object named like xxx_ori\n",
    "    \n",
    "    def save_data(self):\n",
    "        save dataframe xxx_ori as format csv to \".../data_raw\""
   ]
  },
  {
   "cell_type": "markdown",
   "metadata": {
    "id": "s8MitoU5GxdU",
    "colab_type": "text"
   },
   "source": [
    "### load data offline"
   ]
  },
  {
   "cell_type": "code",
   "execution_count": 0,
   "metadata": {
    "id": "7BPUIno7GxdX",
    "colab_type": "code",
    "colab": {}
   },
   "outputs": [],
   "source": [
    "DATA_ROOT_PATH = \"./data/\""
   ]
  },
  {
   "cell_type": "code",
   "execution_count": 0,
   "metadata": {
    "id": "xAUuiRuvjKoT",
    "colab_type": "code",
    "colab": {}
   },
   "outputs": [],
   "source": [
    "data_historical_transactions = pd.read_csv(data_his_trans_path)"
   ]
  },
  {
   "cell_type": "code",
   "execution_count": 0,
   "metadata": {
    "id": "QSVh_tcvGxdh",
    "colab_type": "code",
    "outputId": "bf0f664a-e1ac-48a8-fda9-70a868ab44b8",
    "colab": {
     "base_uri": "https://localhost:8080/",
     "height": 53.0
    }
   },
   "outputs": [
    {
     "name": "stderr",
     "output_type": "stream",
     "text": [
      "/usr/local/lib/python3.6/dist-packages/pandas/util/_decorators.py:118: FutureWarning: The `sheetname` keyword is deprecated, use `sheet_name` instead\n",
      "  FutureWarning: the 'cols' keyword is deprecated and will be removed in a\n"
     ]
    }
   ],
   "source": [
    "data_train_path = DATA_ROOT_PATH + \"data_raw/train/train.csv\"\n",
    "data_test_path = DATA_ROOT_PATH + \"data_raw/test/test.csv\"\n",
    "data_valid_path = DATA_ROOT_PATH + \"data_raw/valid/valid.csv\"\n",
    "data_info_path = DATA_ROOT_PATH  + \"data_raw/Data_Dictionary.xlsx\"\n",
    "data_merchants_path = DATA_ROOT_PATH + \"data_raw/merchants.csv\"\n",
    "data_his_trans_path = DATA_ROOT_PATH + \"data_raw/historical_transactions.csv\"\n",
    "data_new_trans_path = DATA_ROOT_PATH + \"data_raw/new_merchant_transactions.csv\"\n",
    "\n",
    "data_train = pd.read_csv(data_train_path)\n",
    "data_test = pd.read_csv(data_test_path)\n",
    "data_valid = None\n",
    "data_info = pd.read_excel(data_info_path, sheetname=[0, 1, 2, 3], header=None)\n",
    "data_merchants = pd.read_csv(data_merchants_path)\n",
    "# data_historical_transactions = pd.read_csv(data_his_trans_path)  # Note 2018/12/13: Not imported yet for decreasing the cpu usage\n",
    "data_new_merchant_transactions = pd.read_csv(data_new_trans_path)"
   ]
  },
  {
   "cell_type": "markdown",
   "metadata": {
    "id": "6aX5JQ44Gxdr",
    "colab_type": "text"
   },
   "source": [
    "### load data online"
   ]
  },
  {
   "cell_type": "code",
   "execution_count": 0,
   "metadata": {
    "id": "eO_SmcZlXB8k",
    "colab_type": "code",
    "colab": {}
   },
   "outputs": [],
   "source": [
    ""
   ]
  },
  {
   "cell_type": "markdown",
   "metadata": {
    "id": "qjJ3Ls0CWU0k",
    "colab_type": "text"
   },
   "source": [
    "## middle process"
   ]
  },
  {
   "cell_type": "code",
   "execution_count": 0,
   "metadata": {
    "id": "gEz-REZSYirG",
    "colab_type": "code",
    "colab": {}
   },
   "outputs": [],
   "source": [
    "class process_mid_c():\n",
    "    def __init__(self):\n",
    "        allocate room for the variable returned by class process_pre_c\n",
    "        add needed variable from the below functions\n",
    "     \n",
    "    def apply_checkings(self):\n",
    "        application of serval checkings to the dataframe from statistical checking, completion, survivor bias(Note 2018/12/26: time-related checking has not been ready yet)\n",
    "        \n",
    "    def collect_nexus(self):\n",
    "        collect nexus by the description files and divide data by the data format(e.g. like data type, mixed data or categorical data)\n",
    "        collect nexus by the number of row vacancy and column vacancy\n",
    "        collect nexus by statistical indicators like correlation coefficients\n",
    "        ...\n",
    "        print self conclusions annotated with date\n",
    "        \n",
    "    def fill_na(self):\n",
    "        use Imputer() object from sklearn or the attribute of dataframe \".fillna(, inplace=False/True)\"\n",
    "        save dataframe object named like xxx_filled\n",
    "        \n",
    "    def save_data(self):\n",
    "        save dataframe xxx_filled as format csv to \".../data_processed\""
   ]
  },
  {
   "cell_type": "markdown",
   "metadata": {
    "colab_type": "text",
    "id": "PcfjaQjNVgGy"
   },
   "source": [
    "### check data properties"
   ]
  },
  {
   "cell_type": "markdown",
   "metadata": {
    "id": "PqgbdC80eW-m",
    "colab_type": "text"
   },
   "source": [
    "#### check statistical characters"
   ]
  },
  {
   "cell_type": "code",
   "execution_count": 0,
   "metadata": {
    "id": "3OfOlg4IVxTP",
    "colab_type": "code",
    "outputId": "1d82670e-45b0-4ab2-da50-3723bbab5491",
    "colab": {
     "base_uri": "https://localhost:8080/",
     "height": 636.0
    }
   },
   "outputs": [
    {
     "name": "stdout",
     "output_type": "stream",
     "text": [
      "[Input] File Name: train.csv, basic checking for VARIABLE \"data_train\"\n",
      "[Output] The file data type of each column: \n",
      "[Note]: Assumption: all data in one column share the same data type\n",
      "         card_id              feature_1              feature_2  \\\n",
      "0  <class 'str'>  <class 'numpy.int64'>  <class 'numpy.int64'>   \n",
      "\n",
      "               feature_3 first_active_month                   target  \n",
      "0  <class 'numpy.int64'>      <class 'str'>  <class 'numpy.float64'>  \n",
      "\n",
      "\n",
      "[Output] The shape of file data: \n",
      "(201917, 6)\n",
      "\n",
      "\n",
      "---End Line---\n",
      "\n",
      "\n",
      "[Input] File Name: test.csv, basic checking for VARIABLE \"data_test\"\n",
      "[Output] The file data type of each column: \n",
      "[Note]: Assumption: all data in one column share the same data type\n",
      "         card_id              feature_1              feature_2  \\\n",
      "0  <class 'str'>  <class 'numpy.int64'>  <class 'numpy.int64'>   \n",
      "\n",
      "               feature_3 first_active_month  \n",
      "0  <class 'numpy.int64'>      <class 'str'>  \n",
      "\n",
      "\n",
      "[Output] The shape of file data: \n",
      "(123623, 5)\n",
      "\n",
      "\n",
      "---End Line---\n",
      "\n",
      "\n"
     ]
    }
   ],
   "source": [
    "def check_basically(data_path, data):\n",
    "    type_dict = {}\n",
    "    name_file = data_path.split('/')[-1]\n",
    "    name_var = 'data_' + name_file[:-4]\n",
    "    print(\"[Input] File Name: {}, basic checking for VARIABLE \\\"{}\\\"\".format(name_file, name_var))\n",
    "    print(\"[Output] The file data type of each column: \")\n",
    "    print(\"[Note]: Assumption: all data in one column share the same data type\")\n",
    "    for indent in range(data.shape[1]):\n",
    "        type_dict[data.columns[indent]] = str(type(data.iloc[0, indent]))  # Note 2018/12/14: use str() to avoid \"ValueError: invalid __array_struct__\"\n",
    "    type_df = pd.DataFrame(data=type_dict, index=[0])\n",
    "    pprint.pprint(type_df)\n",
    "    print(\"\\n\")\n",
    "    print(\"[Output] The shape of file data: \")\n",
    "    pprint.pprint(data.shape)\n",
    "    print(\"\\n\")\n",
    "    print(\"---End Line---\")\n",
    "    print(\"\\n\")\n",
    "    \n",
    "\n",
    "check_basically(data_train_path, data_train)\n",
    "check_basically(data_test_path, data_test)"
   ]
  },
  {
   "cell_type": "markdown",
   "metadata": {
    "colab_type": "text",
    "id": "RiHtwl4RcsFy"
   },
   "source": [
    "#### check completion"
   ]
  },
  {
   "cell_type": "code",
   "execution_count": 0,
   "metadata": {
    "id": "DYAKWuaFGxeF",
    "colab_type": "code",
    "outputId": "4e7afd41-46b9-4c8b-b5c5-8bf82704ab96",
    "colab": {
     "base_uri": "https://localhost:8080/",
     "height": 1400.0
    }
   },
   "outputs": [
    {
     "name": "stdout",
     "output_type": "stream",
     "text": [
      "[Input] File Name: train.csv, completion checking for VARIABLE \"data_train\"\n",
      "[Output] The fifth rows of raw data: \n",
      "  first_active_month          card_id  feature_1  feature_2  feature_3  \\\n",
      "0            2017-06  C_ID_92a2005557          5          2          1   \n",
      "1            2017-01  C_ID_3d0044924f          4          1          0   \n",
      "2            2016-08  C_ID_d639edf6cd          2          2          0   \n",
      "3            2017-09  C_ID_186d6a6901          4          3          0   \n",
      "4            2017-11  C_ID_cdbd2c0db2          1          3          0   \n",
      "\n",
      "     target  \n",
      "0 -0.820283  \n",
      "1  0.392913  \n",
      "2  0.688056  \n",
      "3  0.142495  \n",
      "4 -0.159749  \n",
      "\n",
      "\n",
      "[Output] The useful statisitical indexes of whole data: \n",
      "           feature_1      feature_2      feature_3         target\n",
      "count  201917.000000  201917.000000  201917.000000  201917.000000\n",
      "mean        3.105311       1.745410       0.565569      -0.393636\n",
      "std         1.186160       0.751362       0.495683       3.850500\n",
      "min         1.000000       1.000000       0.000000     -33.219281\n",
      "25%         2.000000       1.000000       0.000000      -0.883110\n",
      "50%         3.000000       2.000000       1.000000      -0.023437\n",
      "75%         4.000000       2.000000       1.000000       0.765453\n",
      "max         5.000000       3.000000       1.000000      17.965068\n",
      "\n",
      "\n",
      "[Output] The vacancy numbers of whole data: \n",
      "first_active_month    0\n",
      "card_id               0\n",
      "feature_1             0\n",
      "feature_2             0\n",
      "feature_3             0\n",
      "target                0\n",
      "dtype: int64\n",
      "\n",
      "\n",
      "---End Line---\n",
      "\n",
      "\n",
      "[Input] File Name: test.csv, completion checking for VARIABLE \"data_test\"\n",
      "[Output] The fifth rows of raw data: \n",
      "  first_active_month          card_id  feature_1  feature_2  feature_3\n",
      "0            2017-04  C_ID_0ab67a22ab          3          3          1\n",
      "1            2017-01  C_ID_130fd0cbdd          2          3          0\n",
      "2            2017-08  C_ID_b709037bc5          5          1          1\n",
      "3            2017-12  C_ID_d27d835a9f          2          1          0\n",
      "4            2015-12  C_ID_2b5e3df5c2          5          1          1\n",
      "\n",
      "\n",
      "[Output] The useful statisitical indexes of whole data: \n",
      "          feature_1      feature_2      feature_3\n",
      "count  123623.00000  123623.000000  123623.000000\n",
      "mean        3.10926       1.741796       0.564377\n",
      "std         1.18911       0.749195       0.495840\n",
      "min         1.00000       1.000000       0.000000\n",
      "25%         2.00000       1.000000       0.000000\n",
      "50%         3.00000       2.000000       1.000000\n",
      "75%         4.00000       2.000000       1.000000\n",
      "max         5.00000       3.000000       1.000000\n",
      "\n",
      "\n",
      "[Output] The vacancy numbers of whole data: \n",
      "first_active_month    1\n",
      "card_id               0\n",
      "feature_1             0\n",
      "feature_2             0\n",
      "feature_3             0\n",
      "dtype: int64\n",
      "\n",
      "\n",
      "---End Line---\n",
      "\n",
      "\n"
     ]
    }
   ],
   "source": [
    "def check_completion(data_path, data):\n",
    "    name_file = data_path.split('/')[-1]\n",
    "    name_var = 'data_' + name_file[:-4]\n",
    "    print(\"[Input] File Name: {}, completion checking for VARIABLE \\\"{}\\\"\".format(name_file, name_var))\n",
    "    print(\"[Output] The fifth rows of raw data: \")\n",
    "    pprint.pprint(data.head())\n",
    "    print(\"\\n\")\n",
    "    print(\"[Output] The useful statisitical indexes of whole data: \")\n",
    "    pprint.pprint(data.describe())\n",
    "    print(\"\\n\")\n",
    "    print(\"[Output] The vacancy numbers of whole data: \")\n",
    "    pprint.pprint(data.isnull().sum())\n",
    "    print(\"\\n\")\n",
    "    print(\"---End Line---\")\n",
    "    print(\"\\n\")\n",
    "    \n",
    "check_completion(data_train_path, data_train)\n",
    "check_completion(data_test_path, data_test)\n",
    "# check_completion(data_merchants_path, data_merchants)\n",
    "# check_completion(data_his_trans_path, data_his_trans)\n",
    "# check_completion(data_new_trans_path, data_new_trans)"
   ]
  },
  {
   "cell_type": "markdown",
   "metadata": {
    "id": "ImtwmPdKdJR8",
    "colab_type": "text"
   },
   "source": [
    "#### survivor bias"
   ]
  },
  {
   "cell_type": "code",
   "execution_count": 0,
   "metadata": {
    "id": "JwkX2m7sGxeS",
    "colab_type": "code",
    "outputId": "42480979-3fcc-4ed0-f494-4d64c190f0dc",
    "colab": {
     "base_uri": "https://localhost:8080/",
     "height": 711.0
    }
   },
   "outputs": [
    {
     "name": "stdout",
     "output_type": "stream",
     "text": [
      "[Input] File Name: train.csv, survivor bias checking for VARIABLE \"data_train\"\n",
      "[Output] The distribution of vacancy: \n",
      "   -33.219281  -17.608147  -17.492640  -17.441923  -17.189636  -15.835656  \\\n",
      "0        2207           1           1           1           1           1   \n",
      "\n",
      "   -15.553269  -15.400146  -15.291387  -15.103165     ...       13.602322  \\\n",
      "0           1           1           1           1     ...               1   \n",
      "\n",
      "    13.609871   14.855160   15.011358   15.171020   15.294621   15.606405  \\\n",
      "0           1           1           1           1           1           1   \n",
      "\n",
      "    15.994455   17.675716   17.965068  \n",
      "0           1           1           1  \n",
      "\n",
      "[1 rows x 197110 columns]\n"
     ]
    },
    {
     "data": {
      "image/png": "[encoded data removed]",
      "text/plain": [
       "<matplotlib.figure.Figure at 0x7f937bb2f3c8>"
      ]
     },
     "metadata": {
      "tags": []
     },
     "output_type": "display_data"
    },
    {
     "name": "stdout",
     "output_type": "stream",
     "text": [
      "\n",
      "\n",
      "---End Line---\n",
      "\n",
      "\n"
     ]
    }
   ],
   "source": [
    "# @functools.lru_cache(maxsize=128)  # Note 2018/12/14: commented to avoid \"TypeError: 'DataFrame' objects are mutable\"\n",
    "def check_survivor_bias(data_path, data, label):\n",
    "    name_file = data_path.split('/')[-1]\n",
    "    name_var = 'data_' + name_file[:-4]    \n",
    "    print(\"[Input] File Name: {}, survivor bias checking for VARIABLE \\\"{}\\\"\".format(name_file, name_var))\n",
    "    print(\"[Output] The distribution of vacancy: \")\n",
    "    \n",
    "    target_set = list(set(data[label]))\n",
    "    biascollector_survivor_dict = {each_target: len(data[label][data[label] == each_target]) for each_target in target_set}\n",
    "    biascollector_survivor_df = pd.DataFrame(data=biascollector_survivor_dict, index=[0])\n",
    "    biascollector_survivor_df.to_csv(\"./model/collector/bias_survivor_collector.csv\", index=False)\n",
    "    pprint.pprint(biascollector_survivor_df)    \n",
    "    plt.plot(target_set, list(biascollector_survivor_dict.values()), 'ro', linewidth=2)\n",
    "    plt.show()\n",
    "    # sns.countplot(x='target', data=data_train);\n",
    "    print(\"\\n\")\n",
    "    print(\"---End Line---\")\n",
    "    print(\"\\n\")\n",
    "\n",
    "    \n",
    "check_survivor_bias(data_train_path, data_train, 'target')\n",
    "# check_survivor_bias(data_test_path, data_test, '')"
   ]
  },
  {
   "cell_type": "markdown",
   "metadata": {
    "colab_type": "text",
    "id": "sGLiqZyqc6t7"
   },
   "source": [
    "#### check time-related"
   ]
  },
  {
   "cell_type": "code",
   "execution_count": 0,
   "metadata": {
    "id": "H4cZPbKQWq-D",
    "colab_type": "code",
    "colab": {}
   },
   "outputs": [],
   "source": [
    "# References: \n",
    "# jianshu.com/p/4130bac8ebe\n",
    "# jianshu.com/p/9066b9e0c7af\n",
    "\n",
    "data_train.rolling?"
   ]
  },
  {
   "cell_type": "code",
   "execution_count": 0,
   "metadata": {
    "id": "JUPDZhTfTVNY",
    "colab_type": "code",
    "colab": {}
   },
   "outputs": [],
   "source": [
    "data_train_copy = copy.copy(data_train)\n",
    "data_train_dates = list(set(data_train_copy['first_active_month']))\n",
    "data_train_copy_slicedBydate = pd.DataFrame(data=[data_train_copy[data_train_copy['first_active_month'] == each_date].iloc[0, :] for each_date in data_train_dates], columns=data_train_copy.columns)\n",
    "data_train_copy_slicedBydate.set_index(pd.to_datetime(data_train_copy_slicedBydate['first_active_month']), inplace=True)\n",
    "data_train_copy_slicedBydate = data_train_copy_slicedBydate.sort_index()"
   ]
  },
  {
   "cell_type": "code",
   "execution_count": 0,
   "metadata": {
    "id": "S0At0pLbVIJS",
    "colab_type": "code",
    "outputId": "2c3fb55e-52b2-48b9-d020-1446fa629251",
    "colab": {
     "base_uri": "https://localhost:8080/",
     "height": 659.0
    }
   },
   "outputs": [
    {
     "data": {
      "image/png": "[encoded data removed]",
      "text/plain": [
       "<matplotlib.figure.Figure at 0x7f937bb10978>"
      ]
     },
     "metadata": {
      "tags": []
     },
     "output_type": "display_data"
    }
   ],
   "source": [
    "fig2 = plt.figure(figsize=(10, 12));\n",
    "ax1 = fig2.add_subplot(311) \n",
    "plt.plot_date(x=data_train_copy_slicedBydate.index, y=data_train_copy_slicedBydate['target'], xdate=True, marker=None, linestyle='solid', color='darkblue', label='target');\n",
    "plt.legend(loc='upper left');\n",
    "ax2 = fig2.add_subplot(312) \n",
    "data_train_copy_slicedBydate['target'].rolling(6).mean().plot(color='darkgreen', label='target_rolling_mean');\n",
    "plt.legend(loc='upper left');\n",
    "ax3 = fig2.add_subplot(313) \n",
    "data_train_copy_slicedBydate['target'].rolling(6).std().plot(color='yellow', label='target_rolling_std');\n",
    "plt.legend(loc='upper left');\n",
    "# data_train_copy_slicedBydate_resampled = data_train_copy_slicedBydate.resample('W-MON')  # 数据太多时的降频处理, TODO 2018/12/17: ModuleNotFoundError: No module named 'pandas.core.groupby.groupby'; 'pandas.core.groupby' is not a package\n",
    "# data_train_copy_slicedBydate_resampled.plot(color='darkred')"
   ]
  },
  {
   "cell_type": "code",
   "execution_count": 0,
   "metadata": {
    "id": "MMsxJYmUV2m_",
    "colab_type": "code",
    "colab": {}
   },
   "outputs": [],
   "source": [
    "LABELS = ['adf statistics', 'p value', 'used lag', 'NUmber of oberservation']\n",
    "\n",
    "\n",
    "# @functools.lru_cache(maxsize=128)\n",
    "def check_adfuller(data):\n",
    "    results = adfuller(x=data, maxlag=12)\n",
    "    for label, result in zip(LABELS, results):\n",
    "        print(label + ': ' + str(result))\n",
    "    if results[1] <= 0.05:\n",
    "        print(\"Strong evidence against the null hypothesis, reject the null hypothesis\")\n",
    "        print(\"Data has no unit root and is stationary\")\n",
    "    else:\n",
    "        print(\"Weak evidence against the null hypothesis, accept the null hypothesis\")\n",
    "        print(\"Data has unit root and is non-stationary\")    "
   ]
  },
  {
   "cell_type": "code",
   "execution_count": 0,
   "metadata": {
    "id": "u63cxrXZZ1zj",
    "colab_type": "code",
    "outputId": "943df0be-f6d6-473f-bcba-8304eda7684d",
    "colab": {
     "base_uri": "https://localhost:8080/",
     "height": 126.0
    }
   },
   "outputs": [
    {
     "name": "stdout",
     "output_type": "stream",
     "text": [
      "adf statistics: -4.327545497552187\n",
      "p value: 0.00039787318845015395\n",
      "used lag: 3\n",
      "NUmber of oberservation: 71\n",
      "Strong evidence against the null hypothesis, reject the null hypothesis\n",
      "Data has no unit root and is stationary\n"
     ]
    }
   ],
   "source": [
    "check_adfuller(data_train_copy_slicedBydate['target'])"
   ]
  },
  {
   "cell_type": "code",
   "execution_count": 0,
   "metadata": {
    "id": "52yCD2PLVRgX",
    "colab_type": "code",
    "outputId": "b09028e0-001d-4894-df76-75cf2608da78",
    "colab": {
     "base_uri": "https://localhost:8080/",
     "height": 1115.0
    }
   },
   "outputs": [
    {
     "name": "stdout",
     "output_type": "stream",
     "text": [
      "[Input] Data: first derivative of 'target', visualization for VARIABLE \"data_train_copy_slicedBydate['diff1']\"\n",
      "[Output] visualization of vacancy numbers\n",
      "1\n",
      "\n",
      "\n",
      "[Output] visualization of curve trend\n"
     ]
    },
    {
     "data": {
      "image/png": "[encoded data removed]",
      "text/plain": [
       "<matplotlib.figure.Figure at 0x7f937b78b978>"
      ]
     },
     "metadata": {
      "tags": []
     },
     "output_type": "display_data"
    },
    {
     "name": "stdout",
     "output_type": "stream",
     "text": [
      "\n",
      "\n",
      "---End Line---\n",
      "\n",
      "\n",
      "[Input] Data Part: second derivative of 'target', visualization for VARIABLE \"data_train_copy_slicedBydate['diff2']\"\n",
      "[Output] visualization of vacancy numbers\n",
      "2\n",
      "\n",
      "\n",
      "[Output] visualization of curve trend\n"
     ]
    },
    {
     "data": {
      "image/png": "[encoded data removed]",
      "text/plain": [
       "<matplotlib.figure.Figure at 0x7f937acb3208>"
      ]
     },
     "metadata": {
      "tags": []
     },
     "output_type": "display_data"
    },
    {
     "name": "stdout",
     "output_type": "stream",
     "text": [
      "\n",
      "\n",
      "---End Line---\n",
      "\n",
      "\n"
     ]
    }
   ],
   "source": [
    "fig1 = plt.figure(figsize=(10, 6));\n",
    "ax1 = fig1.add_subplot(111) \n",
    "print(\"[Input] Data: {}, visualization for VARIABLE \\\"{}\\\"\".format('first derivative of \\'target\\'', 'data_train_copy_slicedBydate[\\'diff1\\']'))\n",
    "data_train_copy_slicedBydate['diff1'] = data_train_copy_slicedBydate['target'].diff(1)  # Note 2018/12/13: if needed, use '.dropna()''\n",
    "# pprint.pprint(data_train_copy_slicedBydate['diff1'])\n",
    "print(\"[Output] visualization of vacancy numbers\")\n",
    "pprint.pprint(data_train_copy_slicedBydate['diff1'].isnull().sum())\n",
    "print(\"\\n\")\n",
    "print(\"[Output] visualization of curve trend\")\n",
    "data_train_copy_slicedBydate['diff1'].plot(color='darkred', label='target_diff1', ax=ax1)\n",
    "plt.legend(loc='upper left')\n",
    "plt.show()\n",
    "# print(\"\\n\")\n",
    "# print(\"[Output] visualization of adfuller checking result\")\n",
    "# check_adfuller(data_train_copy_slicedBydate['diff1'])  # TODO 2018/12/17: LinAlgError: SVD did not converge \n",
    "print(\"\\n\")\n",
    "print(\"---End Line---\")\n",
    "print(\"\\n\")\n",
    "\n",
    "fig2 = plt.figure(figsize=(10, 6));\n",
    "ax2 = fig2.add_subplot(111) \n",
    "print(\"[Input] Data Part: {}, visualization for VARIABLE \\\"{}\\\"\".format('second derivative of \\'target\\'', 'data_train_copy_slicedBydate[\\'diff2\\']'))\n",
    "data_train_copy_slicedBydate['diff2'] = data_train_copy_slicedBydate['diff1'].diff(1)\n",
    "# pprint.pprint(data_train_copy_slicedBydate['diff2'])\n",
    "print(\"[Output] visualization of vacancy numbers\")\n",
    "pprint.pprint(data_train_copy_slicedBydate['diff2'].isnull().sum())\n",
    "print(\"\\n\")\n",
    "print(\"[Output] visualization of curve trend\")\n",
    "data_train_copy_slicedBydate['diff2'].plot(color='darkblue', label='target_diff2', ax=ax2)\n",
    "plt.legend(loc='upper left')\n",
    "plt.show()\n",
    "# print(\"\\n\")\n",
    "# print(\"[Output] visualization of adfuller checking result\")\n",
    "# check_adfuller(data_train_copy_slicedBydate['diff2'])  # TODO 2018/12/17: LinAlgError: SVD did not converge \n",
    "print(\"\\n\")\n",
    "print(\"---End Line---\")\n",
    "print(\"\\n\")"
   ]
  },
  {
   "cell_type": "code",
   "execution_count": 0,
   "metadata": {
    "id": "tilSKd4Tmsyc",
    "colab_type": "code",
    "outputId": "87a8950e-fca5-464f-ad26-0cc23681fd3d",
    "colab": {
     "base_uri": "https://localhost:8080/",
     "height": 2307.0
    }
   },
   "outputs": [
    {
     "name": "stdout",
     "output_type": "stream",
     "text": [
      "[Input] Variable: ddata_train_copy_slicedBydate['diff1'], determine parameters 'p, d, q' for financial sequence model fetched from it\n",
      "[Output] visualization of acf curve\n"
     ]
    },
    {
     "data": {
      "image/png": "[encoded data removed]",
      "text/plain": [
       "<matplotlib.figure.Figure at 0x7f937470fc50>"
      ]
     },
     "metadata": {
      "tags": []
     },
     "output_type": "display_data"
    },
    {
     "name": "stdout",
     "output_type": "stream",
     "text": [
      "\n",
      "\n",
      "[Output] visualization of pacf curve\n"
     ]
    },
    {
     "data": {
      "image/png": "[encoded data removed]",
      "text/plain": [
       "<matplotlib.figure.Figure at 0x7f937aa31f98>"
      ]
     },
     "metadata": {
      "tags": []
     },
     "output_type": "display_data"
    },
    {
     "name": "stderr",
     "output_type": "stream",
     "text": [
      "/usr/local/lib/python3.6/dist-packages/statsmodels/tsa/kalmanf/kalmanfilter.py:646: FutureWarning: Conversion of the second argument of issubdtype from `float` to `np.floating` is deprecated. In future, it will be treated as `np.float64 == np.dtype(float).type`.\n",
      "  if issubdtype(paramsdtype, float):\n",
      "/usr/local/lib/python3.6/dist-packages/statsmodels/tsa/kalmanf/kalmanfilter.py:650: FutureWarning: Conversion of the second argument of issubdtype from `complex` to `np.complexfloating` is deprecated. In future, it will be treated as `np.complex128 == np.dtype(complex).type`.\n",
      "  elif issubdtype(paramsdtype, complex):\n",
      "/usr/local/lib/python3.6/dist-packages/statsmodels/tsa/kalmanf/kalmanfilter.py:577: FutureWarning: Conversion of the second argument of issubdtype from `float` to `np.floating` is deprecated. In future, it will be treated as `np.float64 == np.dtype(float).type`.\n",
      "  if issubdtype(paramsdtype, float):\n"
     ]
    },
    {
     "name": "stdout",
     "output_type": "stream",
     "text": [
      "\n",
      "\n",
      "---End Line---\n",
      "\n",
      "\n",
      "[Input] Variable: result_arima, visualization of fitting results for financial sequence model 'ARIMA'\n",
      "[Output] visualization of summary\n",
      "                             ARIMA Model Results                              \n",
      "==============================================================================\n",
      "Dep. Variable:               D.target   No. Observations:                   74\n",
      "Model:                 ARIMA(1, 1, 1)   Log Likelihood                -232.807\n",
      "Method:                       css-mle   S.D. of innovations              5.598\n",
      "Date:                Wed, 19 Dec 2018   AIC                            473.615\n",
      "Time:                        09:17:37   BIC                            482.831\n",
      "Sample:                    12-01-2011   HQIC                           477.291\n",
      "                         - 02-01-2018                                         \n",
      "==================================================================================\n",
      "                     coef    std err          z      P>|z|      [0.025      0.975]\n",
      "----------------------------------------------------------------------------------\n",
      "const              0.0165      0.328      0.050      0.960      -0.627       0.660\n",
      "ar.L1.D.target    -0.5934      0.146     -4.077      0.000      -0.879      -0.308\n",
      "ma.L1.D.target    -0.2029      0.199     -1.018      0.312      -0.594       0.188\n",
      "                                    Roots                                    \n",
      "=============================================================================\n",
      "                 Real           Imaginary           Modulus         Frequency\n",
      "-----------------------------------------------------------------------------\n",
      "AR.1           -1.6853           +0.0000j            1.6853            0.5000\n",
      "MA.1            4.9275           +0.0000j            4.9275            0.0000\n",
      "-----------------------------------------------------------------------------\n",
      "\n",
      "\n",
      "[Output] visualization of residual trend and distribution\n"
     ]
    },
    {
     "data": {
      "image/png": "[encoded data removed]",
      "text/plain": [
       "<matplotlib.figure.Figure at 0x7f937ae62940>"
      ]
     },
     "metadata": {
      "tags": []
     },
     "output_type": "display_data"
    },
    {
     "data": {
      "image/png": "[encoded data removed]",
      "text/plain": [
       "<matplotlib.figure.Figure at 0x7f937ac50198>"
      ]
     },
     "metadata": {
      "tags": []
     },
     "output_type": "display_data"
    },
    {
     "name": "stdout",
     "output_type": "stream",
     "text": [
      "\n",
      "\n",
      "---End Line---\n",
      "\n",
      "\n"
     ]
    }
   ],
   "source": [
    "print(\"[Input] Variable: {}, determine parameters \\'p, q\\' for financial sequence model fetched from it\".format('ddata_train_copy_slicedBydate[\\'diff1\\']'))\n",
    "print(\"[Output] visualization of acf curve\")\n",
    "acf = plot_acf(data_train_copy_slicedBydate['target'], lags=20)\n",
    "plt.show()\n",
    "print(\"\\n\")\n",
    "print(\"[Output] visualization of pacf curve\")\n",
    "pacf = plot_pacf(data_train_copy_slicedBydate['target'], lags=20)\n",
    "plt.show()\n",
    "model_arima = ARIMA(data_train_copy_slicedBydate['target'], order=(1, 1, 1), freq='W-MON')   # TODO 2018/12/19: check the right descriptions of choosing p and q from acf and pacf plotting \n",
    "result_arima = model_arima.fit()\n",
    "print(\"\\n\")\n",
    "print(\"---End Line---\")\n",
    "print(\"\\n\")\n",
    "\n",
    "print(\"[Input] Variable: {}, visualization of fitting results for financial sequence model \\'ARIMA\\'\".format('result_arima'))\n",
    "print(\"[Output] visualization of summary\")\n",
    "print(result_arima.summary())\n",
    "print(\"\\n\")\n",
    "print(\"[Output] visualization of residual trend and distribution\")\n",
    "result_arima.resid.dropna(axis=0, inplace=True)\n",
    "fig1 = plt.figure(figsize=(10, 6));\n",
    "ax1 = fig1.add_subplot(111) \n",
    "result_arima.resid.plot(ax=ax1)\n",
    "plt.show()\n",
    "fig2 = plt.figure(figsize=(10, 6));\n",
    "ax2 = fig2.add_subplot(111) \n",
    "result_arima.resid.plot(ax=ax2, kind='kde')\n",
    "plt.show()\n",
    "print(\"\\n\")\n",
    "print(\"---End Line---\")\n",
    "print(\"\\n\")"
   ]
  },
  {
   "cell_type": "code",
   "execution_count": 0,
   "metadata": {
    "id": "Ns0ePk7Q2Xnv",
    "colab_type": "code",
    "outputId": "e7f3e0df-98ae-4670-9030-83f4c2279276",
    "colab": {
     "base_uri": "https://localhost:8080/",
     "height": 35.0
    }
   },
   "outputs": [
    {
     "data": {
      "text/plain": [
       "<statsmodels.tsa.arima_model.ARIMAResultsWrapper at 0x7f937abfb3c8>"
      ]
     },
     "execution_count": 108,
     "metadata": {
      "tags": []
     },
     "output_type": "execute_result"
    }
   ],
   "source": [
    "result_arima"
   ]
  },
  {
   "cell_type": "code",
   "execution_count": 0,
   "metadata": {
    "id": "uA2fMIpwyyjv",
    "colab_type": "code",
    "colab": {}
   },
   "outputs": [],
   "source": [
    "data_train_copy_slicedBydate"
   ]
  },
  {
   "cell_type": "code",
   "execution_count": 0,
   "metadata": {
    "id": "MBbrr21v2Ep1",
    "colab_type": "code",
    "outputId": "c69e2853-05c7-4db2-9b42-8dd0c54ffc77",
    "colab": {
     "base_uri": "https://localhost:8080/",
     "height": 1212.0
    }
   },
   "outputs": [
    {
     "name": "stdout",
     "output_type": "stream",
     "text": [
      "[Input] Variable: result_arima, visualization of prediction results for financial sequence model 'ARIMA'\n"
     ]
    },
    {
     "name": "stderr",
     "output_type": "stream",
     "text": [
      "/usr/local/lib/python3.6/dist-packages/statsmodels/tsa/kalmanf/kalmanfilter.py:577: FutureWarning: Conversion of the second argument of issubdtype from `float` to `np.floating` is deprecated. In future, it will be treated as `np.float64 == np.dtype(float).type`.\n",
      "  if issubdtype(paramsdtype, float):\n"
     ]
    },
    {
     "ename": "ValueError",
     "evalue": "ignored",
     "traceback": [
      "\u001b[0;31m---------------------------------------------------------------------------\u001b[0m",
      "\u001b[0;31mValueError\u001b[0m                                Traceback (most recent call last)",
      "\u001b[0;32m<ipython-input-107-79913fa15004>\u001b[0m in \u001b[0;36m<module>\u001b[0;34m()\u001b[0m\n\u001b[1;32m      1\u001b[0m \u001b[0mprint\u001b[0m\u001b[0;34m(\u001b[0m\u001b[0;34m\"[Input] Variable: {}, visualization of prediction results for financial sequence model \\'ARIMA\\'\"\u001b[0m\u001b[0;34m.\u001b[0m\u001b[0mformat\u001b[0m\u001b[0;34m(\u001b[0m\u001b[0;34m'result_arima'\u001b[0m\u001b[0;34m)\u001b[0m\u001b[0;34m)\u001b[0m\u001b[0;34m\u001b[0m\u001b[0;34m\u001b[0m\u001b[0m\n\u001b[0;32m----> 2\u001b[0;31m \u001b[0mdata_train_copy_slicedBydate\u001b[0m\u001b[0;34m[\u001b[0m\u001b[0;34m'target_pred'\u001b[0m\u001b[0;34m]\u001b[0m \u001b[0;34m=\u001b[0m \u001b[0mresult_arima\u001b[0m\u001b[0;34m.\u001b[0m\u001b[0mpredict\u001b[0m\u001b[0;34m(\u001b[0m\u001b[0mstart\u001b[0m\u001b[0;34m=\u001b[0m\u001b[0;34m'2011-12-01'\u001b[0m\u001b[0;34m,\u001b[0m \u001b[0mend\u001b[0m\u001b[0;34m=\u001b[0m\u001b[0;34m'2018-02-01'\u001b[0m\u001b[0;34m,\u001b[0m \u001b[0mtyp\u001b[0m\u001b[0;34m=\u001b[0m\u001b[0;34m'levels'\u001b[0m\u001b[0;34m)\u001b[0m\u001b[0;34m\u001b[0m\u001b[0;34m\u001b[0m\u001b[0m\n\u001b[0m\u001b[1;32m      3\u001b[0m \u001b[0mprint\u001b[0m\u001b[0;34m(\u001b[0m\u001b[0;34m\"[Output] visualization of prediction curve compared with original curve\"\u001b[0m\u001b[0;34m)\u001b[0m\u001b[0;34m\u001b[0m\u001b[0;34m\u001b[0m\u001b[0m\n\u001b[1;32m      4\u001b[0m \u001b[0mdata_train_copy_slicedBydate\u001b[0m\u001b[0;34m[\u001b[0m\u001b[0;34m[\u001b[0m\u001b[0;34m'target'\u001b[0m\u001b[0;34m,\u001b[0m \u001b[0;34m'target_pred'\u001b[0m\u001b[0;34m]\u001b[0m\u001b[0;34m]\u001b[0m\u001b[0;34m.\u001b[0m\u001b[0mplot\u001b[0m\u001b[0;34m(\u001b[0m\u001b[0;34m)\u001b[0m\u001b[0;34m\u001b[0m\u001b[0;34m\u001b[0m\u001b[0m\n\u001b[1;32m      5\u001b[0m \u001b[0mplt\u001b[0m\u001b[0;34m.\u001b[0m\u001b[0mshow\u001b[0m\u001b[0;34m(\u001b[0m\u001b[0;34m)\u001b[0m\u001b[0;34m\u001b[0m\u001b[0;34m\u001b[0m\u001b[0m\n",
      "\u001b[0;32m/usr/local/lib/python3.6/dist-packages/statsmodels/base/wrapper.py\u001b[0m in \u001b[0;36mwrapper\u001b[0;34m(self, *args, **kwargs)\u001b[0m\n\u001b[1;32m     93\u001b[0m             \u001b[0mobj\u001b[0m \u001b[0;34m=\u001b[0m \u001b[0mdata\u001b[0m\u001b[0;34m.\u001b[0m\u001b[0mwrap_output\u001b[0m\u001b[0;34m(\u001b[0m\u001b[0mfunc\u001b[0m\u001b[0;34m(\u001b[0m\u001b[0mresults\u001b[0m\u001b[0;34m,\u001b[0m \u001b[0;34m*\u001b[0m\u001b[0margs\u001b[0m\u001b[0;34m,\u001b[0m \u001b[0;34m**\u001b[0m\u001b[0mkwargs\u001b[0m\u001b[0;34m)\u001b[0m\u001b[0;34m,\u001b[0m \u001b[0mhow\u001b[0m\u001b[0;34m[\u001b[0m\u001b[0;36m0\u001b[0m\u001b[0;34m]\u001b[0m\u001b[0;34m,\u001b[0m \u001b[0mhow\u001b[0m\u001b[0;34m[\u001b[0m\u001b[0;36m1\u001b[0m\u001b[0;34m:\u001b[0m\u001b[0;34m]\u001b[0m\u001b[0;34m)\u001b[0m\u001b[0;34m\u001b[0m\u001b[0;34m\u001b[0m\u001b[0m\n\u001b[1;32m     94\u001b[0m         \u001b[0;32melif\u001b[0m \u001b[0mhow\u001b[0m\u001b[0;34m:\u001b[0m\u001b[0;34m\u001b[0m\u001b[0;34m\u001b[0m\u001b[0m\n\u001b[0;32m---> 95\u001b[0;31m             \u001b[0mobj\u001b[0m \u001b[0;34m=\u001b[0m \u001b[0mdata\u001b[0m\u001b[0;34m.\u001b[0m\u001b[0mwrap_output\u001b[0m\u001b[0;34m(\u001b[0m\u001b[0mfunc\u001b[0m\u001b[0;34m(\u001b[0m\u001b[0mresults\u001b[0m\u001b[0;34m,\u001b[0m \u001b[0;34m*\u001b[0m\u001b[0margs\u001b[0m\u001b[0;34m,\u001b[0m \u001b[0;34m**\u001b[0m\u001b[0mkwargs\u001b[0m\u001b[0;34m)\u001b[0m\u001b[0;34m,\u001b[0m \u001b[0mhow\u001b[0m\u001b[0;34m)\u001b[0m\u001b[0;34m\u001b[0m\u001b[0;34m\u001b[0m\u001b[0m\n\u001b[0m\u001b[1;32m     96\u001b[0m         \u001b[0;32mreturn\u001b[0m \u001b[0mobj\u001b[0m\u001b[0;34m\u001b[0m\u001b[0;34m\u001b[0m\u001b[0m\n\u001b[1;32m     97\u001b[0m \u001b[0;34m\u001b[0m\u001b[0m\n",
      "\u001b[0;32m/usr/local/lib/python3.6/dist-packages/statsmodels/base/data.py\u001b[0m in \u001b[0;36mwrap_output\u001b[0;34m(self, obj, how, names)\u001b[0m\n\u001b[1;32m    411\u001b[0m             \u001b[0;32mreturn\u001b[0m \u001b[0mself\u001b[0m\u001b[0;34m.\u001b[0m\u001b[0mattach_cov\u001b[0m\u001b[0;34m(\u001b[0m\u001b[0mobj\u001b[0m\u001b[0;34m)\u001b[0m\u001b[0;34m\u001b[0m\u001b[0;34m\u001b[0m\u001b[0m\n\u001b[1;32m    412\u001b[0m         \u001b[0;32melif\u001b[0m \u001b[0mhow\u001b[0m \u001b[0;34m==\u001b[0m \u001b[0;34m'dates'\u001b[0m\u001b[0;34m:\u001b[0m\u001b[0;34m\u001b[0m\u001b[0;34m\u001b[0m\u001b[0m\n\u001b[0;32m--> 413\u001b[0;31m             \u001b[0;32mreturn\u001b[0m \u001b[0mself\u001b[0m\u001b[0;34m.\u001b[0m\u001b[0mattach_dates\u001b[0m\u001b[0;34m(\u001b[0m\u001b[0mobj\u001b[0m\u001b[0;34m)\u001b[0m\u001b[0;34m\u001b[0m\u001b[0;34m\u001b[0m\u001b[0m\n\u001b[0m\u001b[1;32m    414\u001b[0m         \u001b[0;32melif\u001b[0m \u001b[0mhow\u001b[0m \u001b[0;34m==\u001b[0m \u001b[0;34m'columns_eq'\u001b[0m\u001b[0;34m:\u001b[0m\u001b[0;34m\u001b[0m\u001b[0;34m\u001b[0m\u001b[0m\n\u001b[1;32m    415\u001b[0m             \u001b[0;32mreturn\u001b[0m \u001b[0mself\u001b[0m\u001b[0;34m.\u001b[0m\u001b[0mattach_columns_eq\u001b[0m\u001b[0;34m(\u001b[0m\u001b[0mobj\u001b[0m\u001b[0;34m)\u001b[0m\u001b[0;34m\u001b[0m\u001b[0;34m\u001b[0m\u001b[0m\n",
      "\u001b[0;32m/usr/local/lib/python3.6/dist-packages/statsmodels/base/data.py\u001b[0m in \u001b[0;36mattach_dates\u001b[0;34m(self, result)\u001b[0m\n\u001b[1;32m    555\u001b[0m         \u001b[0;31m# May be zero-dim, for example in the case of forecast one step in tsa\u001b[0m\u001b[0;34m\u001b[0m\u001b[0;34m\u001b[0m\u001b[0;34m\u001b[0m\u001b[0m\n\u001b[1;32m    556\u001b[0m         \u001b[0;32mif\u001b[0m \u001b[0msqueezed\u001b[0m\u001b[0;34m.\u001b[0m\u001b[0mndim\u001b[0m \u001b[0;34m<\u001b[0m \u001b[0;36m2\u001b[0m\u001b[0;34m:\u001b[0m\u001b[0;34m\u001b[0m\u001b[0;34m\u001b[0m\u001b[0m\n\u001b[0;32m--> 557\u001b[0;31m             \u001b[0;32mreturn\u001b[0m \u001b[0mSeries\u001b[0m\u001b[0;34m(\u001b[0m\u001b[0msqueezed\u001b[0m\u001b[0;34m,\u001b[0m \u001b[0mindex\u001b[0m\u001b[0;34m=\u001b[0m\u001b[0mself\u001b[0m\u001b[0;34m.\u001b[0m\u001b[0mpredict_dates\u001b[0m\u001b[0;34m)\u001b[0m\u001b[0;34m\u001b[0m\u001b[0;34m\u001b[0m\u001b[0m\n\u001b[0m\u001b[1;32m    558\u001b[0m         \u001b[0;32melse\u001b[0m\u001b[0;34m:\u001b[0m\u001b[0;34m\u001b[0m\u001b[0;34m\u001b[0m\u001b[0m\n\u001b[1;32m    559\u001b[0m             return DataFrame(result, index=self.predict_dates,\n",
      "\u001b[0;32m/usr/local/lib/python3.6/dist-packages/pandas/core/series.py\u001b[0m in \u001b[0;36m__init__\u001b[0;34m(self, data, index, dtype, name, copy, fastpath)\u001b[0m\n\u001b[1;32m    264\u001b[0m                     \u001b[0;32mpass\u001b[0m\u001b[0;34m\u001b[0m\u001b[0;34m\u001b[0m\u001b[0m\n\u001b[1;32m    265\u001b[0m \u001b[0;34m\u001b[0m\u001b[0m\n\u001b[0;32m--> 266\u001b[0;31m             \u001b[0;31m# create/copy the manager\u001b[0m\u001b[0;34m\u001b[0m\u001b[0;34m\u001b[0m\u001b[0;34m\u001b[0m\u001b[0m\n\u001b[0m\u001b[1;32m    267\u001b[0m             \u001b[0;32mif\u001b[0m \u001b[0misinstance\u001b[0m\u001b[0;34m(\u001b[0m\u001b[0mdata\u001b[0m\u001b[0;34m,\u001b[0m \u001b[0mSingleBlockManager\u001b[0m\u001b[0;34m)\u001b[0m\u001b[0;34m:\u001b[0m\u001b[0;34m\u001b[0m\u001b[0;34m\u001b[0m\u001b[0m\n\u001b[1;32m    268\u001b[0m                 \u001b[0;32mif\u001b[0m \u001b[0mdtype\u001b[0m \u001b[0;32mis\u001b[0m \u001b[0;32mnot\u001b[0m \u001b[0;32mNone\u001b[0m\u001b[0;34m:\u001b[0m\u001b[0;34m\u001b[0m\u001b[0;34m\u001b[0m\u001b[0m\n",
      "\u001b[0;32m/usr/local/lib/python3.6/dist-packages/pandas/core/internals.py\u001b[0m in \u001b[0;36m__init__\u001b[0;34m(self, block, axis, do_integrity_check, fastpath)\u001b[0m\n\u001b[1;32m   4400\u001b[0m         \"\"\"\n\u001b[1;32m   4401\u001b[0m         \u001b[0;32mif\u001b[0m \u001b[0mindexer\u001b[0m \u001b[0;32mis\u001b[0m \u001b[0;32mNone\u001b[0m\u001b[0;34m:\u001b[0m\u001b[0;34m\u001b[0m\u001b[0;34m\u001b[0m\u001b[0m\n\u001b[0;32m-> 4402\u001b[0;31m             \u001b[0;32mif\u001b[0m \u001b[0mnew_axis\u001b[0m \u001b[0;32mis\u001b[0m \u001b[0mself\u001b[0m\u001b[0;34m.\u001b[0m\u001b[0maxes\u001b[0m\u001b[0;34m[\u001b[0m\u001b[0maxis\u001b[0m\u001b[0;34m]\u001b[0m \u001b[0;32mand\u001b[0m \u001b[0;32mnot\u001b[0m \u001b[0mcopy\u001b[0m\u001b[0;34m:\u001b[0m\u001b[0;34m\u001b[0m\u001b[0;34m\u001b[0m\u001b[0m\n\u001b[0m\u001b[1;32m   4403\u001b[0m                 \u001b[0;32mreturn\u001b[0m \u001b[0mself\u001b[0m\u001b[0;34m\u001b[0m\u001b[0;34m\u001b[0m\u001b[0m\n\u001b[1;32m   4404\u001b[0m \u001b[0;34m\u001b[0m\u001b[0m\n",
      "\u001b[0;32m/usr/local/lib/python3.6/dist-packages/pandas/core/internals.py\u001b[0m in \u001b[0;36mmake_block\u001b[0;34m(values, placement, klass, ndim, dtype, fastpath)\u001b[0m\n\u001b[1;32m   2955\u001b[0m         \u001b[0mn\u001b[0m \u001b[0;34m:\u001b[0m \u001b[0mint\u001b[0m\u001b[0;34m,\u001b[0m \u001b[0mnumber\u001b[0m \u001b[0mof\u001b[0m \u001b[0mperiods\u001b[0m \u001b[0mto\u001b[0m \u001b[0mdiff\u001b[0m\u001b[0;34m\u001b[0m\u001b[0;34m\u001b[0m\u001b[0m\n\u001b[1;32m   2956\u001b[0m         \u001b[0maxis\u001b[0m \u001b[0;34m:\u001b[0m \u001b[0mint\u001b[0m\u001b[0;34m,\u001b[0m \u001b[0maxis\u001b[0m \u001b[0mto\u001b[0m \u001b[0mdiff\u001b[0m \u001b[0mupon\u001b[0m\u001b[0;34m.\u001b[0m \u001b[0mdefault\u001b[0m \u001b[0;36m0\u001b[0m\u001b[0;34m\u001b[0m\u001b[0;34m\u001b[0m\u001b[0m\n\u001b[0;32m-> 2957\u001b[0;31m         \u001b[0mmgr\u001b[0m \u001b[0;34m:\u001b[0m \u001b[0mdefault\u001b[0m \u001b[0;32mNone\u001b[0m\u001b[0;34m\u001b[0m\u001b[0;34m\u001b[0m\u001b[0m\n\u001b[0m\u001b[1;32m   2958\u001b[0m \u001b[0;34m\u001b[0m\u001b[0m\n\u001b[1;32m   2959\u001b[0m         \u001b[0mReturn\u001b[0m\u001b[0;34m\u001b[0m\u001b[0;34m\u001b[0m\u001b[0m\n",
      "\u001b[0;32m/usr/local/lib/python3.6/dist-packages/pandas/core/internals.py\u001b[0m in \u001b[0;36m__init__\u001b[0;34m(self, values, placement, ndim, fastpath)\u001b[0m\n\u001b[1;32m    118\u001b[0m         \u001b[0mself\u001b[0m\u001b[0;34m.\u001b[0m\u001b[0mmgr_locs\u001b[0m \u001b[0;34m=\u001b[0m \u001b[0mplacement\u001b[0m\u001b[0;34m\u001b[0m\u001b[0;34m\u001b[0m\u001b[0m\n\u001b[1;32m    119\u001b[0m         \u001b[0mself\u001b[0m\u001b[0;34m.\u001b[0m\u001b[0mvalues\u001b[0m \u001b[0;34m=\u001b[0m \u001b[0mvalues\u001b[0m\u001b[0;34m\u001b[0m\u001b[0;34m\u001b[0m\u001b[0m\n\u001b[0;32m--> 120\u001b[0;31m \u001b[0;34m\u001b[0m\u001b[0m\n\u001b[0m\u001b[1;32m    121\u001b[0m         if (self._validate_ndim and self.ndim and\n\u001b[1;32m    122\u001b[0m                 len(self.mgr_locs) != len(self.values)):\n",
      "\u001b[0;31mValueError\u001b[0m: Wrong number of items passed 74, placement implies 322"
     ],
     "output_type": "error"
    }
   ],
   "source": [
    "print(\"[Input] Variable: {}, visualization of prediction results for financial sequence model \\'ARIMA\\'\".format('result_arima'))\n",
    "data_train_copy_slicedBydate['target_pred'] = result_arima.predict(start='2011-12-01', end='2018-02-01', typ='levels')\n",
    "print(\"[Output] visualization of prediction curve compared with original curve\")\n",
    "data_train_copy_slicedBydate[['target', 'target_pred']].plot()\n",
    "plt.show()\n",
    "# pd.data_range(start='2018-12-1', end='2019-12-1', periods=12, freq='MS')\n",
    "print(\"\\n\")\n",
    "print(\"---End Line---\")\n",
    "print(\"\\n\")"
   ]
  },
  {
   "cell_type": "markdown",
   "metadata": {
    "id": "pocKbiC4dvVP",
    "colab_type": "text"
   },
   "source": [
    "### divide data category"
   ]
  },
  {
   "cell_type": "code",
   "execution_count": 0,
   "metadata": {
    "id": "sRF798vdzfZU",
    "colab_type": "code",
    "outputId": "9027b984-3108-4a84-c44b-78092e3de7ea",
    "colab": {
     "base_uri": "https://localhost:8080/",
     "height": 72.0
    }
   },
   "outputs": [
    {
     "data": {
      "text/plain": [
       "Index(['first_active_month', 'card_id', 'feature_1', 'feature_2', 'feature_3',\n",
       "       'target'],\n",
       "      dtype='object')"
      ]
     },
     "execution_count": 14,
     "metadata": {
      "tags": []
     },
     "output_type": "execute_result"
    }
   ],
   "source": [
    "data_train.columns"
   ]
  },
  {
   "cell_type": "code",
   "execution_count": 0,
   "metadata": {
    "id": "7pisnpMXd-HJ",
    "colab_type": "code",
    "outputId": "d72c72a2-b27b-4efd-b269-b4c916303b54",
    "colab": {
     "base_uri": "https://localhost:8080/",
     "height": 332.0
    }
   },
   "outputs": [
    {
     "data": {
      "text/html": [
       "<div>\n",
       "<style scoped>\n",
       "    .dataframe tbody tr th:only-of-type {\n",
       "        vertical-align: middle;\n",
       "    }\n",
       "\n",
       "    .dataframe tbody tr th {\n",
       "        vertical-align: top;\n",
       "    }\n",
       "\n",
       "    .dataframe thead th {\n",
       "        text-align: right;\n",
       "    }\n",
       "</style>\n",
       "<table border=\"1\" class=\"dataframe\">\n",
       "  <thead>\n",
       "    <tr style=\"text-align: right;\">\n",
       "      <th></th>\n",
       "      <th>0</th>\n",
       "      <th>1</th>\n",
       "    </tr>\n",
       "  </thead>\n",
       "  <tbody>\n",
       "    <tr>\n",
       "      <th>0</th>\n",
       "      <td>train.csv</td>\n",
       "      <td>NaN</td>\n",
       "    </tr>\n",
       "    <tr>\n",
       "      <th>1</th>\n",
       "      <td>NaN</td>\n",
       "      <td>NaN</td>\n",
       "    </tr>\n",
       "    <tr>\n",
       "      <th>2</th>\n",
       "      <td>Columns</td>\n",
       "      <td>Description</td>\n",
       "    </tr>\n",
       "    <tr>\n",
       "      <th>3</th>\n",
       "      <td>card_id</td>\n",
       "      <td>Unique card identifier</td>\n",
       "    </tr>\n",
       "    <tr>\n",
       "      <th>4</th>\n",
       "      <td>first_active_month</td>\n",
       "      <td>'YYYY-MM', month of first purchase</td>\n",
       "    </tr>\n",
       "    <tr>\n",
       "      <th>5</th>\n",
       "      <td>feature_1</td>\n",
       "      <td>Anonymized card categorical feature</td>\n",
       "    </tr>\n",
       "    <tr>\n",
       "      <th>6</th>\n",
       "      <td>feature_2</td>\n",
       "      <td>Anonymized card categorical feature</td>\n",
       "    </tr>\n",
       "    <tr>\n",
       "      <th>7</th>\n",
       "      <td>feature_3</td>\n",
       "      <td>Anonymized card categorical feature</td>\n",
       "    </tr>\n",
       "    <tr>\n",
       "      <th>8</th>\n",
       "      <td>target</td>\n",
       "      <td>Loyalty numerical score calculated 2 months af...</td>\n",
       "    </tr>\n",
       "  </tbody>\n",
       "</table>\n",
       "</div>"
      ],
      "text/plain": [
       "                    0                                                  1\n",
       "0           train.csv                                                NaN\n",
       "1                 NaN                                                NaN\n",
       "2             Columns                                        Description\n",
       "3             card_id                             Unique card identifier\n",
       "4  first_active_month                 'YYYY-MM', month of first purchase\n",
       "5           feature_1                Anonymized card categorical feature\n",
       "6           feature_2                Anonymized card categorical feature\n",
       "7           feature_3                Anonymized card categorical feature\n",
       "8              target  Loyalty numerical score calculated 2 months af..."
      ]
     },
     "execution_count": 10,
     "metadata": {
      "tags": []
     },
     "output_type": "execute_result"
    }
   ],
   "source": [
    "data_info[0]"
   ]
  },
  {
   "cell_type": "code",
   "execution_count": 0,
   "metadata": {
    "id": "czmHpOWkyf_7",
    "colab_type": "code",
    "outputId": "06a5db9c-cc0b-4990-c5e7-f07499c4f031",
    "colab": {
     "base_uri": "https://localhost:8080/",
     "height": 582.0
    }
   },
   "outputs": [
    {
     "data": {
      "text/html": [
       "<div>\n",
       "<style scoped>\n",
       "    .dataframe tbody tr th:only-of-type {\n",
       "        vertical-align: middle;\n",
       "    }\n",
       "\n",
       "    .dataframe tbody tr th {\n",
       "        vertical-align: top;\n",
       "    }\n",
       "\n",
       "    .dataframe thead th {\n",
       "        text-align: right;\n",
       "    }\n",
       "</style>\n",
       "<table border=\"1\" class=\"dataframe\">\n",
       "  <thead>\n",
       "    <tr style=\"text-align: right;\">\n",
       "      <th></th>\n",
       "      <th>0</th>\n",
       "      <th>1</th>\n",
       "    </tr>\n",
       "  </thead>\n",
       "  <tbody>\n",
       "    <tr>\n",
       "      <th>0</th>\n",
       "      <td>historical_transactions.csv</td>\n",
       "      <td>NaN</td>\n",
       "    </tr>\n",
       "    <tr>\n",
       "      <th>1</th>\n",
       "      <td>NaN</td>\n",
       "      <td>NaN</td>\n",
       "    </tr>\n",
       "    <tr>\n",
       "      <th>2</th>\n",
       "      <td>Columns</td>\n",
       "      <td>Description</td>\n",
       "    </tr>\n",
       "    <tr>\n",
       "      <th>3</th>\n",
       "      <td>card_id</td>\n",
       "      <td>Card identifier</td>\n",
       "    </tr>\n",
       "    <tr>\n",
       "      <th>4</th>\n",
       "      <td>month_lag</td>\n",
       "      <td>month lag to reference date</td>\n",
       "    </tr>\n",
       "    <tr>\n",
       "      <th>5</th>\n",
       "      <td>purchase_date</td>\n",
       "      <td>Purchase date</td>\n",
       "    </tr>\n",
       "    <tr>\n",
       "      <th>6</th>\n",
       "      <td>authorized_flag</td>\n",
       "      <td>Y' if approved, 'N' if denied</td>\n",
       "    </tr>\n",
       "    <tr>\n",
       "      <th>7</th>\n",
       "      <td>category_3</td>\n",
       "      <td>anonymized category</td>\n",
       "    </tr>\n",
       "    <tr>\n",
       "      <th>8</th>\n",
       "      <td>installments</td>\n",
       "      <td>number of installments of purchase</td>\n",
       "    </tr>\n",
       "    <tr>\n",
       "      <th>9</th>\n",
       "      <td>category_1</td>\n",
       "      <td>anonymized category</td>\n",
       "    </tr>\n",
       "    <tr>\n",
       "      <th>10</th>\n",
       "      <td>merchant_category_id</td>\n",
       "      <td>Merchant category identifier (anonymized )</td>\n",
       "    </tr>\n",
       "    <tr>\n",
       "      <th>11</th>\n",
       "      <td>subsector_id</td>\n",
       "      <td>Merchant category group identifier (anonymized )</td>\n",
       "    </tr>\n",
       "    <tr>\n",
       "      <th>12</th>\n",
       "      <td>merchant_id</td>\n",
       "      <td>Merchant identifier (anonymized)</td>\n",
       "    </tr>\n",
       "    <tr>\n",
       "      <th>13</th>\n",
       "      <td>purchase_amount</td>\n",
       "      <td>Normalized purchase amount</td>\n",
       "    </tr>\n",
       "    <tr>\n",
       "      <th>14</th>\n",
       "      <td>city_id</td>\n",
       "      <td>City identifier (anonymized )</td>\n",
       "    </tr>\n",
       "    <tr>\n",
       "      <th>15</th>\n",
       "      <td>state_id</td>\n",
       "      <td>State identifier (anonymized )</td>\n",
       "    </tr>\n",
       "    <tr>\n",
       "      <th>16</th>\n",
       "      <td>category_2</td>\n",
       "      <td>anonymized category</td>\n",
       "    </tr>\n",
       "  </tbody>\n",
       "</table>\n",
       "</div>"
      ],
      "text/plain": [
       "                              0  \\\n",
       "0   historical_transactions.csv   \n",
       "1                           NaN   \n",
       "2                       Columns   \n",
       "3                       card_id   \n",
       "4                     month_lag   \n",
       "5                 purchase_date   \n",
       "6               authorized_flag   \n",
       "7                    category_3   \n",
       "8                  installments   \n",
       "9                    category_1   \n",
       "10         merchant_category_id   \n",
       "11                 subsector_id   \n",
       "12                  merchant_id   \n",
       "13              purchase_amount   \n",
       "14                      city_id   \n",
       "15                     state_id   \n",
       "16                   category_2   \n",
       "\n",
       "                                                   1  \n",
       "0                                                NaN  \n",
       "1                                                NaN  \n",
       "2                                        Description  \n",
       "3                                    Card identifier  \n",
       "4                        month lag to reference date  \n",
       "5                                      Purchase date  \n",
       "6                      Y' if approved, 'N' if denied  \n",
       "7                                anonymized category  \n",
       "8                 number of installments of purchase  \n",
       "9                                anonymized category  \n",
       "10        Merchant category identifier (anonymized )  \n",
       "11  Merchant category group identifier (anonymized )  \n",
       "12                  Merchant identifier (anonymized)  \n",
       "13                        Normalized purchase amount  \n",
       "14                     City identifier (anonymized )  \n",
       "15                    State identifier (anonymized )  \n",
       "16                               anonymized category  "
      ]
     },
     "execution_count": 11,
     "metadata": {
      "tags": []
     },
     "output_type": "execute_result"
    }
   ],
   "source": [
    "data_info[1]"
   ]
  },
  {
   "cell_type": "code",
   "execution_count": 0,
   "metadata": {
    "id": "e4iBOBFaymiw",
    "colab_type": "code",
    "outputId": "ed2ca9c9-c69d-43b8-accc-03a50956d61b",
    "colab": {
     "base_uri": "https://localhost:8080/",
     "height": 582.0
    }
   },
   "outputs": [
    {
     "data": {
      "text/html": [
       "<div>\n",
       "<style scoped>\n",
       "    .dataframe tbody tr th:only-of-type {\n",
       "        vertical-align: middle;\n",
       "    }\n",
       "\n",
       "    .dataframe tbody tr th {\n",
       "        vertical-align: top;\n",
       "    }\n",
       "\n",
       "    .dataframe thead th {\n",
       "        text-align: right;\n",
       "    }\n",
       "</style>\n",
       "<table border=\"1\" class=\"dataframe\">\n",
       "  <thead>\n",
       "    <tr style=\"text-align: right;\">\n",
       "      <th></th>\n",
       "      <th>0</th>\n",
       "      <th>1</th>\n",
       "    </tr>\n",
       "  </thead>\n",
       "  <tbody>\n",
       "    <tr>\n",
       "      <th>0</th>\n",
       "      <td>new_merchant_period.csv</td>\n",
       "      <td>NaN</td>\n",
       "    </tr>\n",
       "    <tr>\n",
       "      <th>1</th>\n",
       "      <td>NaN</td>\n",
       "      <td>NaN</td>\n",
       "    </tr>\n",
       "    <tr>\n",
       "      <th>2</th>\n",
       "      <td>Columns</td>\n",
       "      <td>Description</td>\n",
       "    </tr>\n",
       "    <tr>\n",
       "      <th>3</th>\n",
       "      <td>card_id</td>\n",
       "      <td>Card identifier</td>\n",
       "    </tr>\n",
       "    <tr>\n",
       "      <th>4</th>\n",
       "      <td>month_lag</td>\n",
       "      <td>month lag to reference date</td>\n",
       "    </tr>\n",
       "    <tr>\n",
       "      <th>5</th>\n",
       "      <td>purchase_date</td>\n",
       "      <td>Purchase date</td>\n",
       "    </tr>\n",
       "    <tr>\n",
       "      <th>6</th>\n",
       "      <td>authorized_flag</td>\n",
       "      <td>Y' if approved, 'N' if denied</td>\n",
       "    </tr>\n",
       "    <tr>\n",
       "      <th>7</th>\n",
       "      <td>category_3</td>\n",
       "      <td>anonymized category</td>\n",
       "    </tr>\n",
       "    <tr>\n",
       "      <th>8</th>\n",
       "      <td>installments</td>\n",
       "      <td>number of installments of purchase</td>\n",
       "    </tr>\n",
       "    <tr>\n",
       "      <th>9</th>\n",
       "      <td>category_1</td>\n",
       "      <td>anonymized category</td>\n",
       "    </tr>\n",
       "    <tr>\n",
       "      <th>10</th>\n",
       "      <td>merchant_category_id</td>\n",
       "      <td>Merchant category identifier (anonymized )</td>\n",
       "    </tr>\n",
       "    <tr>\n",
       "      <th>11</th>\n",
       "      <td>subsector_id</td>\n",
       "      <td>Merchant category group identifier (anonymized )</td>\n",
       "    </tr>\n",
       "    <tr>\n",
       "      <th>12</th>\n",
       "      <td>merchant_id</td>\n",
       "      <td>Merchant identifier (anonymized)</td>\n",
       "    </tr>\n",
       "    <tr>\n",
       "      <th>13</th>\n",
       "      <td>purchase_amount</td>\n",
       "      <td>Normalized purchase amount</td>\n",
       "    </tr>\n",
       "    <tr>\n",
       "      <th>14</th>\n",
       "      <td>city_id</td>\n",
       "      <td>City identifier (anonymized )</td>\n",
       "    </tr>\n",
       "    <tr>\n",
       "      <th>15</th>\n",
       "      <td>state_id</td>\n",
       "      <td>State identifier (anonymized )</td>\n",
       "    </tr>\n",
       "    <tr>\n",
       "      <th>16</th>\n",
       "      <td>category_2</td>\n",
       "      <td>anonymized category</td>\n",
       "    </tr>\n",
       "  </tbody>\n",
       "</table>\n",
       "</div>"
      ],
      "text/plain": [
       "                          0                                                 1\n",
       "0   new_merchant_period.csv                                               NaN\n",
       "1                       NaN                                               NaN\n",
       "2                   Columns                                       Description\n",
       "3                   card_id                                   Card identifier\n",
       "4                 month_lag                       month lag to reference date\n",
       "5             purchase_date                                     Purchase date\n",
       "6           authorized_flag                     Y' if approved, 'N' if denied\n",
       "7                category_3                               anonymized category\n",
       "8              installments                number of installments of purchase\n",
       "9                category_1                               anonymized category\n",
       "10     merchant_category_id        Merchant category identifier (anonymized )\n",
       "11             subsector_id  Merchant category group identifier (anonymized )\n",
       "12              merchant_id                  Merchant identifier (anonymized)\n",
       "13          purchase_amount                        Normalized purchase amount\n",
       "14                  city_id                     City identifier (anonymized )\n",
       "15                 state_id                    State identifier (anonymized )\n",
       "16               category_2                               anonymized category"
      ]
     },
     "execution_count": 12,
     "metadata": {
      "tags": []
     },
     "output_type": "execute_result"
    }
   ],
   "source": [
    "data_info[2]"
   ]
  },
  {
   "cell_type": "code",
   "execution_count": 0,
   "metadata": {
    "id": "iMVQA4qyyn7I",
    "colab_type": "code",
    "outputId": "ee5b1199-fc8b-4589-ce4a-c6f827d7d0fd",
    "colab": {
     "base_uri": "https://localhost:8080/",
     "height": 833.0
    }
   },
   "outputs": [
    {
     "data": {
      "text/html": [
       "<div>\n",
       "<style scoped>\n",
       "    .dataframe tbody tr th:only-of-type {\n",
       "        vertical-align: middle;\n",
       "    }\n",
       "\n",
       "    .dataframe tbody tr th {\n",
       "        vertical-align: top;\n",
       "    }\n",
       "\n",
       "    .dataframe thead th {\n",
       "        text-align: right;\n",
       "    }\n",
       "</style>\n",
       "<table border=\"1\" class=\"dataframe\">\n",
       "  <thead>\n",
       "    <tr style=\"text-align: right;\">\n",
       "      <th></th>\n",
       "      <th>0</th>\n",
       "      <th>1</th>\n",
       "    </tr>\n",
       "  </thead>\n",
       "  <tbody>\n",
       "    <tr>\n",
       "      <th>0</th>\n",
       "      <td>merchants.csv</td>\n",
       "      <td>NaN</td>\n",
       "    </tr>\n",
       "    <tr>\n",
       "      <th>1</th>\n",
       "      <td>NaN</td>\n",
       "      <td>NaN</td>\n",
       "    </tr>\n",
       "    <tr>\n",
       "      <th>2</th>\n",
       "      <td>Columns</td>\n",
       "      <td>Description</td>\n",
       "    </tr>\n",
       "    <tr>\n",
       "      <th>3</th>\n",
       "      <td>merchant_id</td>\n",
       "      <td>Unique merchant identifier</td>\n",
       "    </tr>\n",
       "    <tr>\n",
       "      <th>4</th>\n",
       "      <td>merchant_group_id</td>\n",
       "      <td>Merchant group (anonymized )</td>\n",
       "    </tr>\n",
       "    <tr>\n",
       "      <th>5</th>\n",
       "      <td>merchant_category_id</td>\n",
       "      <td>Unique identifier for merchant category (anony...</td>\n",
       "    </tr>\n",
       "    <tr>\n",
       "      <th>6</th>\n",
       "      <td>subsector_id</td>\n",
       "      <td>Merchant category group (anonymized )</td>\n",
       "    </tr>\n",
       "    <tr>\n",
       "      <th>7</th>\n",
       "      <td>numerical_1</td>\n",
       "      <td>anonymized measure</td>\n",
       "    </tr>\n",
       "    <tr>\n",
       "      <th>8</th>\n",
       "      <td>numerical_2</td>\n",
       "      <td>anonymized measure</td>\n",
       "    </tr>\n",
       "    <tr>\n",
       "      <th>9</th>\n",
       "      <td>category_1</td>\n",
       "      <td>anonymized category</td>\n",
       "    </tr>\n",
       "    <tr>\n",
       "      <th>10</th>\n",
       "      <td>most_recent_sales_range</td>\n",
       "      <td>Range of revenue (monetary units) in last acti...</td>\n",
       "    </tr>\n",
       "    <tr>\n",
       "      <th>11</th>\n",
       "      <td>most_recent_purchases_range</td>\n",
       "      <td>Range of quantity of transactions in last acti...</td>\n",
       "    </tr>\n",
       "    <tr>\n",
       "      <th>12</th>\n",
       "      <td>avg_sales_lag3</td>\n",
       "      <td>Monthly average of revenue in last 3 months di...</td>\n",
       "    </tr>\n",
       "    <tr>\n",
       "      <th>13</th>\n",
       "      <td>avg_purchases_lag3</td>\n",
       "      <td>Monthly average of transactions in last 3 mont...</td>\n",
       "    </tr>\n",
       "    <tr>\n",
       "      <th>14</th>\n",
       "      <td>active_months_lag3</td>\n",
       "      <td>Quantity of active months within last 3 months</td>\n",
       "    </tr>\n",
       "    <tr>\n",
       "      <th>15</th>\n",
       "      <td>avg_sales_lag6</td>\n",
       "      <td>Monthly average of revenue in last 6 months di...</td>\n",
       "    </tr>\n",
       "    <tr>\n",
       "      <th>16</th>\n",
       "      <td>avg_purchases_lag6</td>\n",
       "      <td>Monthly average of transactions in last 6 mont...</td>\n",
       "    </tr>\n",
       "    <tr>\n",
       "      <th>17</th>\n",
       "      <td>active_months_lag6</td>\n",
       "      <td>Quantity of active months within last 6 months</td>\n",
       "    </tr>\n",
       "    <tr>\n",
       "      <th>18</th>\n",
       "      <td>avg_sales_lag12</td>\n",
       "      <td>Monthly average of revenue in last 12 months d...</td>\n",
       "    </tr>\n",
       "    <tr>\n",
       "      <th>19</th>\n",
       "      <td>avg_purchases_lag12</td>\n",
       "      <td>Monthly average of transactions in last 12 mon...</td>\n",
       "    </tr>\n",
       "    <tr>\n",
       "      <th>20</th>\n",
       "      <td>active_months_lag12</td>\n",
       "      <td>Quantity of active months within last 12 months</td>\n",
       "    </tr>\n",
       "    <tr>\n",
       "      <th>21</th>\n",
       "      <td>category_4</td>\n",
       "      <td>anonymized category</td>\n",
       "    </tr>\n",
       "    <tr>\n",
       "      <th>22</th>\n",
       "      <td>city_id</td>\n",
       "      <td>City identifier (anonymized )</td>\n",
       "    </tr>\n",
       "    <tr>\n",
       "      <th>23</th>\n",
       "      <td>state_id</td>\n",
       "      <td>State identifier (anonymized )</td>\n",
       "    </tr>\n",
       "    <tr>\n",
       "      <th>24</th>\n",
       "      <td>category_2</td>\n",
       "      <td>anonymized category</td>\n",
       "    </tr>\n",
       "  </tbody>\n",
       "</table>\n",
       "</div>"
      ],
      "text/plain": [
       "                              0  \\\n",
       "0                 merchants.csv   \n",
       "1                           NaN   \n",
       "2                       Columns   \n",
       "3                   merchant_id   \n",
       "4             merchant_group_id   \n",
       "5          merchant_category_id   \n",
       "6                  subsector_id   \n",
       "7                   numerical_1   \n",
       "8                   numerical_2   \n",
       "9                    category_1   \n",
       "10      most_recent_sales_range   \n",
       "11  most_recent_purchases_range   \n",
       "12               avg_sales_lag3   \n",
       "13           avg_purchases_lag3   \n",
       "14           active_months_lag3   \n",
       "15               avg_sales_lag6   \n",
       "16           avg_purchases_lag6   \n",
       "17           active_months_lag6   \n",
       "18              avg_sales_lag12   \n",
       "19          avg_purchases_lag12   \n",
       "20          active_months_lag12   \n",
       "21                   category_4   \n",
       "22                      city_id   \n",
       "23                     state_id   \n",
       "24                   category_2   \n",
       "\n",
       "                                                    1  \n",
       "0                                                 NaN  \n",
       "1                                                 NaN  \n",
       "2                                         Description  \n",
       "3                          Unique merchant identifier  \n",
       "4                        Merchant group (anonymized )  \n",
       "5   Unique identifier for merchant category (anony...  \n",
       "6               Merchant category group (anonymized )  \n",
       "7                                  anonymized measure  \n",
       "8                                  anonymized measure  \n",
       "9                                 anonymized category  \n",
       "10  Range of revenue (monetary units) in last acti...  \n",
       "11  Range of quantity of transactions in last acti...  \n",
       "12  Monthly average of revenue in last 3 months di...  \n",
       "13  Monthly average of transactions in last 3 mont...  \n",
       "14     Quantity of active months within last 3 months  \n",
       "15  Monthly average of revenue in last 6 months di...  \n",
       "16  Monthly average of transactions in last 6 mont...  \n",
       "17     Quantity of active months within last 6 months  \n",
       "18  Monthly average of revenue in last 12 months d...  \n",
       "19  Monthly average of transactions in last 12 mon...  \n",
       "20    Quantity of active months within last 12 months  \n",
       "21                                anonymized category  \n",
       "22                      City identifier (anonymized )  \n",
       "23                     State identifier (anonymized )  \n",
       "24                                anonymized category  "
      ]
     },
     "execution_count": 13,
     "metadata": {
      "tags": []
     },
     "output_type": "execute_result"
    }
   ],
   "source": [
    "data_info[3]"
   ]
  },
  {
   "cell_type": "code",
   "execution_count": 0,
   "metadata": {
    "id": "ZKQ4l48LgWoL",
    "colab_type": "code",
    "colab": {}
   },
   "outputs": [],
   "source": [
    "# Note 2018/12/20: assume all data in one column share the same type and the first one is not vacancy\n",
    "\n",
    "# @functools.lru_cache(maxsize=128)  # TypeError: 'DataFrame' objects are mutable, thus they cannot be hashed\n",
    "def collect_datatype(data):\n",
    "    return {each_column: str(type(data[each_column][0])) for each_column in data.columns}"
   ]
  },
  {
   "cell_type": "code",
   "execution_count": 0,
   "metadata": {
    "id": "-x1T7NyyqH9-",
    "colab_type": "code",
    "outputId": "57ecfd8f-a8a6-45ff-accc-75c05bb8e667",
    "colab": {
     "base_uri": "https://localhost:8080/",
     "height": 636.0
    }
   },
   "outputs": [
    {
     "data": {
      "text/plain": [
       "['city_id',\n",
       " 'numerical_2',\n",
       " 'installments',\n",
       " 'month_lag',\n",
       " 'category_2',\n",
       " 'avg_purchases_lag3',\n",
       " 'purchase_amount',\n",
       " 'active_months_lag6',\n",
       " 'avg_sales_lag6',\n",
       " 'most_recent_purchases_range',\n",
       " 'category_1',\n",
       " 'subsector_id',\n",
       " 'first_active_month',\n",
       " 'category_3',\n",
       " 'feature_1',\n",
       " 'authorized_flag',\n",
       " 'avg_purchases_lag6',\n",
       " 'most_recent_sales_range',\n",
       " 'active_months_lag3',\n",
       " 'feature_3',\n",
       " 'purchase_date',\n",
       " 'avg_sales_lag3',\n",
       " 'category_4',\n",
       " 'merchant_id',\n",
       " 'merchant_group_id',\n",
       " 'avg_purchases_lag12',\n",
       " 'card_id',\n",
       " 'numerical_1',\n",
       " 'avg_sales_lag12',\n",
       " 'target',\n",
       " 'merchant_category_id',\n",
       " 'feature_2',\n",
       " 'active_months_lag12',\n",
       " 'state_id']"
      ]
     },
     "execution_count": 15,
     "metadata": {
      "tags": []
     },
     "output_type": "execute_result"
    }
   ],
   "source": [
    "feats_all = list(set(list(data_historical_transactions.columns) + list(data_new_merchant_transactions.columns) + list(data_merchants.columns) + list(data_train.columns)))\n",
    "feats_all"
   ]
  },
  {
   "cell_type": "code",
   "execution_count": 0,
   "metadata": {
    "id": "TE5khzr6nL-_",
    "colab_type": "code",
    "colab": {}
   },
   "outputs": [],
   "source": [
    "data_types_dict = {\"historical_transactions_type\": collect_datatype(data_historical_transactions), \"new_merchant_transactions_type\": collect_datatype(data_new_merchant_transactions), \"merchants_type\": collect_datatype(data_merchants), \"trainOrtest_type\": collect_datatype(data_train)}\n"
   ]
  },
  {
   "cell_type": "code",
   "execution_count": 0,
   "metadata": {
    "id": "KYUnAeHP9u4N",
    "colab_type": "code",
    "colab": {}
   },
   "outputs": [],
   "source": [
    "data_info_train[\"trainOrtest_type\"][trainOrtest_type_series.index] = trainOrtest_type_series.values"
   ]
  },
  {
   "cell_type": "code",
   "execution_count": 0,
   "metadata": {
    "id": "fXJbxrN87JfW",
    "colab_type": "code",
    "colab": {}
   },
   "outputs": [],
   "source": [
    "trainOrtest_type_series = pd.Series(data_types_dict[\"trainOrtest_type\"])\n",
    "data_info_train = copy.copy(data_info[0])\n",
    "data_info_train[\"trainOrtest_type\"] = [np.nan]*(len(data_info_train))\n",
    "data_info_train.set_index(data_info[0][0], inplace=True)\n",
    "data_info_train[trainOrtest_type_series.index] = trainOrtest_type_series.values"
   ]
  },
  {
   "cell_type": "code",
   "execution_count": 0,
   "metadata": {
    "id": "EcyXjB8qrIAp",
    "colab_type": "code",
    "colab": {}
   },
   "outputs": [],
   "source": [
    "# TODO 2018/12/20: get the feat category distribution and cross section between five csv"
   ]
  },
  {
   "cell_type": "markdown",
   "metadata": {
    "id": "xyeL01Mqdlb9",
    "colab_type": "text"
   },
   "source": [
    "## last process"
   ]
  },
  {
   "cell_type": "code",
   "execution_count": 0,
   "metadata": {
    "id": "y6bZVfzddtI_",
    "colab_type": "code",
    "colab": {}
   },
   "outputs": [],
   "source": [
    "class process_last(self):\n",
    "    def __init__(self):\n",
    "        allocate room for the variable returned by class process_mid_c\n",
    "        \n",
    "    def apply_scaler(self):\n",
    "        use different scalers provided by sklearn with consideration of model feed\n",
    "        return dataframe xxx_filled_scaled after scaling\n",
    "    \n",
    "    def select_feat(self):\n",
    "        use algorithms like RF(SL), Kmeans(UL) or functions from sklearn\n",
    "        return dataframe xxx_filled_scaled_selected after selection"
   ]
  },
  {
   "cell_type": "code",
   "execution_count": 0,
   "metadata": {
    "id": "u-NnE0ABfUz0",
    "colab_type": "code",
    "colab": {}
   },
   "outputs": [],
   "source": [
    ""
   ]
  },
  {
   "cell_type": "markdown",
   "metadata": {
    "colab_type": "text",
    "id": "O00oozSBbU9I"
   },
   "source": [
    "# Test Parts"
   ]
  },
  {
   "cell_type": "code",
   "execution_count": 0,
   "metadata": {
    "id": "fsSPIlgOonew",
    "colab_type": "code",
    "colab": {}
   },
   "outputs": [],
   "source": [
    "ax2 = fig.add_subplot(122)\n",
    "ax2.set_title(\"feat %s from high vacancy data\" %feat)\n",
    "sns.countplot(x=feat, data=data_high_vacancy, ax=ax2);"
   ]
  },
  {
   "cell_type": "code",
   "execution_count": 0,
   "metadata": {
    "id": "Z8E0JlxXGxd1",
    "colab_type": "code",
    "colab": {}
   },
   "outputs": [],
   "source": [
    "import gc\n",
    "gc.collect()\n",
    "sys._clear_type_cache()"
   ]
  },
  {
   "cell_type": "code",
   "execution_count": 0,
   "metadata": {
    "id": "IRkYB7UnGxdu",
    "colab_type": "code",
    "colab": {}
   },
   "outputs": [],
   "source": [
    "data_stock = ts.get_hist_data('600519')\n",
    "data_stock.isna().sum()\n",
    "# data_stock.index"
   ]
  },
  {
   "cell_type": "code",
   "execution_count": 0,
   "metadata": {
    "id": "TKQMw74_Z3Ll",
    "colab_type": "code",
    "colab": {}
   },
   "outputs": [],
   "source": [
    "print(data_stock.columns, type(data_stock))"
   ]
  },
  {
   "cell_type": "code",
   "execution_count": 0,
   "metadata": {
    "id": "q41HzlDeSbFl",
    "colab_type": "code",
    "colab": {}
   },
   "outputs": [],
   "source": [
    "mean_dict, std_dict = {'feat_low_vacancy':[], 'feat_high_vacancy':[]}, {'feat_low_vacancy':[], 'feat_high_vacancy':[]}\n",
    "sns.set(style=\"darkgrid\")\n",
    "def compare_dis(data_low_vacancy, data_high_vacancy, feat_low_vacancy_si, feat_high_vacancy_si, ind):\n",
    "    fig = plt.figure(num=ind, figsize=(10, 15))\n",
    "    ax1 = fig.add_subplot(211)\n",
    "    ax1.set_title(\"feat %s from low vacancy data\" %feat_low_vacancy_si)\n",
    "    mean_dict['feat_low_vacancy'].append(data_low_vacancy[feat_low_vacancy_si].dropna().mean())\n",
    "    std_dict['feat_low_vacancy'].append(data_low_vacancy[feat_low_vacancy_si].dropna().std())\n",
    "    sns.countplot(x=feat_low_vacancy_si, data=data_low_vacancy, ax=ax1);\n",
    "    \n",
    "    ax2 = fig.add_subplot(212)\n",
    "    ax2.set_title(\"feat %s from high vacancy data\" %feat_high_vacancy_si)\n",
    "    mean_dict['feat_high_vacancy'].append(data_high_vacancy[feat_high_vacancy_si].dropna().mean())\n",
    "    std_dict['feat_high_vacancy'].append(data_high_vacancy[feat_high_vacancy_si].dropna().std())\n",
    "    sns.countplot(x=feat_high_vacancy_si, data=data_high_vacancy, ax=ax2);\n",
    "    # sns.catplot(x=\"class\", hue=\"who\", col=\"survived\", data=titanic, kind=\"count\", height=4, aspect=.7);\n",
    "    \n",
    "num = 5\n",
    "feats_low_selected = random.sample(list(azdias_low.columns), num)\n",
    "feats_high_selected = random.sample(list(azdias_high.columns), num)\n",
    "for indent in range(num):\n",
    "    compare_dis(azdias_low, azdias_high, feats_low_selected[indent], feats_high_selected[indent], indent)\n",
    "mean_df = pd.DataFrame(mean_dict)\n",
    "std_df = pd.DataFrame(std_dict)"
   ]
  }
 ],
 "metadata": {
  "colab": {
   "name": "data_process.ipynb",
   "version": "0.3.2",
   "provenance": [],
   "collapsed_sections": [
    "6aX5JQ44Gxdr",
    "PcfjaQjNVgGy",
    "PqgbdC80eW-m",
    "RiHtwl4RcsFy",
    "ImtwmPdKdJR8",
    "sGLiqZyqc6t7",
    "O00oozSBbU9I"
   ]
  },
  "kernelspec": {
   "name": "python3",
   "display_name": "Python 3"
  },
  "accelerator": "GPU"
 },
 "nbformat": 4,
 "nbformat_minor": 0
}
