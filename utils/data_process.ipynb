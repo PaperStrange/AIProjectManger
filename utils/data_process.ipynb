{
 "cells": [
  {
   "cell_type": "markdown",
   "metadata": {},
   "source": [
    "* Author: HZQ\n",
    "* Last modified: 2018/12/4"
   ]
  },
  {
   "cell_type": "markdown",
   "metadata": {},
   "source": [
    "# Main Parts"
   ]
  },
  {
   "cell_type": "markdown",
   "metadata": {},
   "source": [
    "## prepared process"
   ]
  },
  {
   "cell_type": "markdown",
   "metadata": {},
   "source": [
    "### Import required packages"
   ]
  },
  {
   "cell_type": "markdown",
   "metadata": {},
   "source": [
    "### load data offline"
   ]
  },
  {
   "cell_type": "markdown",
   "metadata": {},
   "source": [
    "### load data online"
   ]
  },
  {
   "cell_type": "code",
   "execution_count": null,
   "metadata": {},
   "outputs": [],
   "source": [
    "class process_pre_c():\n",
    "    def __init__(self):\n",
    "        allocate needed folder path and path checking\n",
    "        allocate target urls\n",
    "        allocate strategy for error catch, anti-spider breaking\n",
    "        \n",
    "    def init_spider(self):\n",
    "        choose creator from scrapy, request+BS and so on \n",
    "    \n",
    "    def generate_spider(self):\n",
    "        application of spider by choosed method\n",
    "    \n",
    "    def excute_spider(self):\n",
    "        excute spider object and return structual texts\n",
    "        save dataframe object named like xxx_ori\n",
    "    \n",
    "    def save_data(self):\n",
    "        save dataframe xxx_ori as format csv to \".../data_raw\""
   ]
  },
  {
   "cell_type": "markdown",
   "metadata": {},
   "source": [
    "## middle process"
   ]
  },
  {
   "cell_type": "code",
   "execution_count": null,
   "metadata": {},
   "outputs": [],
   "source": [
    "class process_mid_c():\n",
    "    def __init__(self):\n",
    "        allocate room for the variable returned by class process_pre_c\n",
    "        add needed variable from the below functions\n",
    "     \n",
    "    def apply_checkings(self):\n",
    "        application of serval checkings to the dataframe from statistical checking, completion, survivor bias(Note 2018/12/26: time-related checking has not been ready yet)\n",
    "        \n",
    "    def collect_nexus(self):\n",
    "        collect nexus by the description files and divide data by the data format(e.g. like data type, mixed data or categorical data)\n",
    "        collect nexus by the number of row vacancy and column vacancy\n",
    "        collect nexus by statistical indicators like correlation coefficients\n",
    "        ...\n",
    "        print self conclusions annotated with date\n",
    "        \n",
    "    def fill_na(self):\n",
    "        use Imputer() object from sklearn or the attribute of dataframe \".fillna(, inplace=False/True)\"\n",
    "        save dataframe object named like xxx_filled\n",
    "        \n",
    "    def save_data(self):\n",
    "        save dataframe xxx_filled as format csv to \".../data_processed\""
   ]
  },
  {
   "cell_type": "markdown",
   "metadata": {},
   "source": [
    "### check data properties"
   ]
  },
  {
   "cell_type": "markdown",
   "metadata": {},
   "source": [
    "#### check statistical characters"
   ]
  },
  {
   "cell_type": "markdown",
   "metadata": {},
   "source": [
    "#### check completion"
   ]
  },
  {
   "cell_type": "markdown",
   "metadata": {},
   "source": [
    "#### check survivor bias"
   ]
  },
  {
   "cell_type": "markdown",
   "metadata": {},
   "source": [
    "#### check time-related"
   ]
  },
  {
   "cell_type": "markdown",
   "metadata": {},
   "source": [
    "### divide data category"
   ]
  },
  {
   "cell_type": "markdown",
   "metadata": {},
   "source": [
    "## last process"
   ]
  },
  {
   "cell_type": "code",
   "execution_count": null,
   "metadata": {},
   "outputs": [],
   "source": [
    "class process_last(self):\n",
    "    def __init__(self):\n",
    "        allocate room for the variable returned by class process_mid_c\n",
    "        \n",
    "    def apply_scaler(self):\n",
    "        use different scalers provided by sklearn with consideration of model feed\n",
    "        return dataframe xxx_filled_scaled after scaling\n",
    "    \n",
    "    def select_feat(self):\n",
    "        use algorithms like RF(SL), Kmeans(UL) or functions from sklearn\n",
    "        return dataframe xxx_filled_scaled_selected after selection"
   ]
  },
  {
   "cell_type": "markdown",
   "metadata": {},
   "source": [
    "# Test Parts"
   ]
  }
 ],
 "metadata": {
  "kernelspec": {
   "display_name": "Python 3",
   "language": "python",
   "name": "python3"
  },
  "language_info": {
   "codemirror_mode": {
    "name": "ipython",
    "version": 3
   },
   "file_extension": ".py",
   "mimetype": "text/x-python",
   "name": "python",
   "nbconvert_exporter": "python",
   "pygments_lexer": "ipython3",
   "version": "3.5.3"
  }
 },
 "nbformat": 4,
 "nbformat_minor": 1
}
