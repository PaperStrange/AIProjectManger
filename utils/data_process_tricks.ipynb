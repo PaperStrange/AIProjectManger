{
 "cells": [
  {
   "cell_type": "markdown",
   "metadata": {
    "colab_type": "text",
    "id": "yAjXGPfiGxc7"
   },
   "source": [
    "* Author: HZQ\n",
    "* Last modified: 2018/2/24\n"
   ]
  },
  {
   "cell_type": "code",
   "execution_count": 0,
   "metadata": {
    "colab": {},
    "colab_type": "code",
    "id": "vV5qe6BlG1_C",
    "scrolled": true
   },
   "outputs": [],
   "source": [
    "!apt-get install -y -qq software-properties-common python-software-properties module-init-tools \n",
    "!add-apt-repository -y ppa:alessandro-strada/ppa 2>&1 > /dev/null \n",
    "!apt-get update -qq 2>&1 > /dev/null \n",
    "!apt-get -y install -qq google-drive-ocamlfuse fuse \n",
    "from google.colab import auth \n",
    "auth.authenticate_user() \n",
    "from oauth2client.client import GoogleCredentials \n",
    "creds = GoogleCredentials.get_application_default() \n",
    "import getpass \n",
    "!google-drive-ocamlfuse -headless -id={creds.client_id} -secret={creds.client_secret} < /dev/null 2>&1 | grep URL \n",
    "vcode = getpass.getpass() \n",
    "!echo {vcode} | google-drive-ocamlfuse -headless -id={creds.client_id} -secret={creds.client_secret}"
   ]
  },
  {
   "cell_type": "markdown",
   "metadata": {
    "colab_type": "text",
    "id": "6EglTV4uGxdA"
   },
   "source": [
    "# Main Parts"
   ]
  },
  {
   "cell_type": "code",
   "execution_count": null,
   "metadata": {},
   "outputs": [],
   "source": [
    "def reduce_mem_usage(df, verbose=True):\n",
    "    '''\n",
    "    INPUT:\n",
    "    df - a pandas dataframe containing raw data\n",
    "    verbose - a Booler to determine print the result of storage decrease or not\n",
    "    \n",
    "    OUTPUT:\n",
    "    \n",
    "    This function will suppress INPUT.df by changing data type for storage\n",
    "    '''\n",
    "    numerics = [\"int16\", \"int32\", \"int64\", \"float16\", \"float32\", \"float64\"]\n",
    "    start_mem = df.memory_usage().sum() / 1024**2\n",
    "\n",
    "    for col in df.columns:\n",
    "        col_type = df[col].dtypes\n",
    "        if col_type in numerics:\n",
    "            c_min = df[col].min()\n",
    "            c_max = df[col].max()\n",
    "            if str(col_type)[:3] == \"int\":\n",
    "                if c_min > np.iinfo(np.int8).min and c_max < np.iinfo(np.int8).max:\n",
    "                    df[col] = df[col].astype(np.int8)\n",
    "                elif c_min > np.iinfo(np.int16).min and c_max < np.iinfo(np.int16).max:\n",
    "                    df[col] = df[col].astype(np.int16)\n",
    "                elif c_min > np.iinfo(np.int32).min and c_max < np.iinfo(np.int32).max:\n",
    "                    df[col] = df[col].astype(np.int32)\n",
    "                elif c_min > np.iinfo(np.int64).min and c_max < np.iinfo(np.int64).max:\n",
    "                    df[col] = df[col].astype(np.int64)\n",
    "            else:\n",
    "                if c_min > np.finfo(np.float16).min and c_max < np.finfo(np.float16).max:\n",
    "                    df[col] = df[col].astype(np.float16)\n",
    "                elif c_min > np.finfo(np.float32).min and c_max < np.finfo(np.float32).max:\n",
    "                    df[col] = df[col].astype(np.float32)\n",
    "                else:\n",
    "                    df[col] = df[col].astype(np.float64)\n",
    "    end_mem = df.memory_usage().sum() / 1024**2\n",
    "\n",
    "    if verbose: print(\"Mem. usage decreased to {:5.2f} Mb ({:.1f}% reduction)\".format(end_mem, 100 * (start_mem - end_mem) / start_mem))\n",
    "\n",
    "    return df"
   ]
  },
  {
   "cell_type": "code",
   "execution_count": 0,
   "metadata": {
    "colab": {},
    "colab_type": "code",
    "id": "JH7FzZeEOqo-"
   },
   "outputs": [],
   "source": [
    "import gc, sys\n",
    "\n",
    "gc.collect()\n",
    "sys._clear_type_cache()"
   ]
  },
  {
   "cell_type": "markdown",
   "metadata": {
    "colab_type": "text",
    "id": "O00oozSBbU9I"
   },
   "source": [
    "# Test Parts"
   ]
  },
  {
   "cell_type": "markdown",
   "metadata": {
    "colab_type": "text",
    "id": "5bOAt6OnfSuu"
   },
   "source": [
    "## for data"
   ]
  },
  {
   "cell_type": "code",
   "execution_count": 0,
   "metadata": {
    "colab": {},
    "colab_type": "code",
    "id": "LE3Wt4xZGEXP"
   },
   "outputs": [],
   "source": [
    "# calculate factorial\n",
    "\n",
    "\n",
    "from functools import reduce\n",
    "result = reduce(lambda x,y:x*y,range(1,num_stop+1))"
   ]
  },
  {
   "cell_type": "code",
   "execution_count": null,
   "metadata": {},
   "outputs": [],
   "source": [
    "a = np.array(['a', 'b', 'c', 'a', 'b', 'c'])\n",
    "\n",
    "b, c = np.unique(a, return_inverse=True)\n",
    "print(\"The result is {}\".format(c))\n",
    "print(\"This is how to re-construct from b and c, the result is : {}\".format((b[c] == a).all()))\n",
    "\n",
    "# Or:\n",
    "b = pandas.get_dummies(a)\n",
    "print(\"The result is {}\".format(b.values.argmax(1)))"
   ]
  },
  {
   "cell_type": "markdown",
   "metadata": {
    "colab_type": "text",
    "id": "8Kvn9icnfXbp"
   },
   "source": [
    "### by pandas"
   ]
  },
  {
   "cell_type": "code",
   "execution_count": 0,
   "metadata": {
    "colab": {},
    "colab_type": "code",
    "id": "_DoY8Y6F_-Sh"
   },
   "outputs": [],
   "source": [
    "df_population[df_population.isnull().any(axis=1)]"
   ]
  },
  {
   "cell_type": "code",
   "execution_count": 0,
   "metadata": {
    "colab": {},
    "colab_type": "code",
    "id": "b0PFUSPXvW_D"
   },
   "outputs": [],
   "source": [
    "df..plot.scatter/bar/..."
   ]
  },
  {
   "cell_type": "code",
   "execution_count": 0,
   "metadata": {
    "colab": {},
    "colab_type": "code",
    "id": "J73GtPtTf0I-"
   },
   "outputs": [],
   "source": [
    "df.isnull.sum().mean()  # provide a pandas series of the percentage of each row vacancy"
   ]
  },
  {
   "cell_type": "code",
   "execution_count": 0,
   "metadata": {
    "colab": {},
    "colab_type": "code",
    "id": "KtWdPTXkf8bF"
   },
   "outputs": [],
   "source": [
    "df.columnA.value_counts()  # provide a pandas series of the counts for a specified column"
   ]
  },
  {
   "cell_type": "code",
   "execution_count": 0,
   "metadata": {
    "colab": {},
    "colab_type": "code",
    "id": "NeIBxqxk6TQM"
   },
   "outputs": [],
   "source": [
    "df[\"Sample_mod\"] = df[\"Sample\"].apply(func_sample)"
   ]
  },
  {
   "cell_type": "code",
   "execution_count": 0,
   "metadata": {
    "colab": {},
    "colab_type": "code",
    "id": "nhkFGei176OF"
   },
   "outputs": [],
   "source": [
    "df.style.bar(subset=[\"Sample\"], align=\"mid\", color=[\"#d65f5f\", \"#5fba7d\"])"
   ]
  },
  {
   "cell_type": "code",
   "execution_count": 0,
   "metadata": {
    "colab": {},
    "colab_type": "code",
    "id": "ZEiJmStFGIJ5"
   },
   "outputs": [],
   "source": [
    "month_labels = ['January', 'February', 'March', 'April', 'May', 'June', 'July', 'August',\n",
    "                'September', 'October', 'November', 'December']\n",
    "temp['purchase_month'] = pd.Categorical(temp['purchase_month'], categories = month_labels, \n",
    "                                          ordered = True)"
   ]
  },
  {
   "cell_type": "code",
   "execution_count": 0,
   "metadata": {
    "colab": {},
    "colab_type": "code",
    "id": "2BHqq0jo1uD5"
   },
   "outputs": [],
   "source": [
    "df_obj = df.select_dtypes(include=['object']).copy()"
   ]
  },
  {
   "cell_type": "code",
   "execution_count": 0,
   "metadata": {
    "colab": {},
    "colab_type": "code",
    "id": "KWg6axHb0lXZ"
   },
   "outputs": [],
   "source": [
    "fill_mode = lambda col: col.fillna(col.mode()[0])\n",
    "\n",
    "new_df.apply(fill_mode, axis=0)"
   ]
  },
  {
   "cell_type": "code",
   "execution_count": null,
   "metadata": {},
   "outputs": [],
   "source": [
    "# X_old = X_new.pop(\"old_col\")\n",
    "X_new = X.insert(loc, \"new_col\", X[\"old_col\"])"
   ]
  },
  {
   "cell_type": "code",
   "execution_count": null,
   "metadata": {},
   "outputs": [],
   "source": [
    "# Origin: [将pandas DataFrame列扩展为多行](https://codeday.me/bug/20180828/231764.html)和参考的[Solution](https://stackoverflow.com/a/38203702/190597)\n",
    "\n",
    "\n",
    "N = 10**3\n",
    "df = pd.DataFrame( {\"name\" : np.random.choice(list('ABCD'), size=N),\n",
    "                    \"days\" : [np.random.randint(10, size=np.random.randint(5))\n",
    "                              for i in range(N)]})\n",
    "\n",
    "def using_itertuples(df):\n",
    "    return  pd.DataFrame([(d, tup.name) for tup in df.itertuples() for d in tup.days])\n",
    "\n",
    "def using_repeat(df):\n",
    "    lens = [len(item) for item in df['days']]\n",
    "    return pd.DataFrame( {\"name\" : np.repeat(df['name'].values,lens),\n",
    "                          \"days\" : np.concatenate(df['days'].values)})\n",
    "\n",
    "def using_apply(df):\n",
    "    return (df.apply(lambda x: pd.Series(x.days), axis=1)\n",
    "            .stack()\n",
    "            .reset_index(level=1, drop=1)\n",
    "            .to_frame('day')\n",
    "            .join(df['name']))\n",
    "\n",
    "def using_append(df):\n",
    "    df2 = pd.DataFrame(columns = df.columns)\n",
    "    for i,r in df.iterrows():\n",
    "        for e in r.days:\n",
    "            new_r = r.copy()\n",
    "            new_r.days = e\n",
    "            df2 = df2.append(new_r)\n",
    "    return df2"
   ]
  },
  {
   "cell_type": "markdown",
   "metadata": {
    "colab_type": "text",
    "id": "hdalc10ifXfh"
   },
   "source": [
    "### by matplotlib"
   ]
  },
  {
   "cell_type": "code",
   "execution_count": 0,
   "metadata": {
    "colab": {},
    "colab_type": "code",
    "id": "93ovAnFNQC-n"
   },
   "outputs": [],
   "source": [
    "fig, axes = plt.subplots(2,sharex=True)\n",
    "fig.subplots_adjust(hspace=.5)\n",
    "axes[0].hist(self.data, density=True)\n",
    "axes[0].set_title('Normed Histogram of Data')\n",
    "axes[0].set_ylabel('Density')\n",
    "\n",
    "axes[1].plot(x, y)\n",
    "axes[1].set_title('Normal Distribution for \\n Sample Mean and Sample Standard Deviation')\n",
    "plt.show()"
   ]
  },
  {
   "cell_type": "code",
   "execution_count": null,
   "metadata": {},
   "outputs": [],
   "source": [
    "axes = pd.DataFrame(Y.loc[:, \"offer\"].value_counts()).plot.bar()\n",
    "axes.set_xlabel(\"count\");"
   ]
  },
  {
   "cell_type": "code",
   "execution_count": null,
   "metadata": {},
   "outputs": [],
   "source": [
    "axes = df.plot.bar(rot=0, subplots=True)\n",
    "axes[1].legend(loc=2)  # doctest: +SKIP"
   ]
  },
  {
   "cell_type": "markdown",
   "metadata": {
    "colab_type": "text",
    "id": "CLp3xweDfkG0"
   },
   "source": [
    "## for algorithm or package"
   ]
  },
  {
   "cell_type": "code",
   "execution_count": 0,
   "metadata": {
    "colab": {},
    "colab_type": "code",
    "id": "IRkYB7UnGxdu"
   },
   "outputs": [],
   "source": [
    "import tushare as ts\n",
    "\n",
    "\n",
    "data_stock = ts.get_hist_data(\"600519\")\n",
    "data_stock.isna().sum()\n",
    "# data_stock.index\n",
    "print(data_stock.columns, type(data_stock))"
   ]
  },
  {
   "cell_type": "markdown",
   "metadata": {
    "colab_type": "text",
    "id": "_7gRpQLXQSID"
   },
   "source": [
    "## Table Forms\n",
    "\n",
    "Forms provide an easy way to parameterize code. From a code cell, select **Insert → Add form field**.  When you change the value in a form, the corresponding value in the code will change. "
   ]
  },
  {
   "cell_type": "code",
   "execution_count": 0,
   "metadata": {
    "cellView": "both",
    "colab": {},
    "colab_type": "code",
    "id": "3jKM6GfzlgpS"
   },
   "outputs": [],
   "source": [
    "#@title String fields\n",
    "\n",
    "text = 'value' #@param {type:\"string\"}\n",
    "dropdown = '1st option' #@param [\"1st option\", \"2nd option\", \"3rd option\"]\n",
    "text_and_dropdown = 'value' #@param [\"1st option\", \"2nd option\", \"3rd option\"] {allow-input: true}\n",
    "\n",
    "print(text)\n",
    "print(dropdown)\n",
    "print(text_and_dropdown)"
   ]
  },
  {
   "cell_type": "code",
   "execution_count": 0,
   "metadata": {
    "cellView": "both",
    "colab": {},
    "colab_type": "code",
    "id": "bf5LUmgZt-kT"
   },
   "outputs": [],
   "source": [
    "#@title Raw fields\n",
    "\n",
    "raw_input = None #@param {type:\"raw\"}\n",
    "raw_dropdown = raw_input #@param [1, \"raw_input\", \"False\", \"'string'\"] {type:\"raw\"}\n",
    "\n",
    "print(raw_input)\n",
    "print(raw_dropdown)"
   ]
  },
  {
   "cell_type": "code",
   "execution_count": 0,
   "metadata": {
    "cellView": "both",
    "colab": {},
    "colab_type": "code",
    "id": "aw5lgeRbubeF"
   },
   "outputs": [],
   "source": [
    "#@title Date fields\n",
    "date_input = '2018-03-22' #@param {type:\"date\"}\n",
    "\n",
    "print(date_input)"
   ]
  },
  {
   "cell_type": "code",
   "execution_count": 0,
   "metadata": {
    "cellView": "both",
    "colab": {},
    "colab_type": "code",
    "id": "eFN7-fUKs-Bu"
   },
   "outputs": [],
   "source": [
    "#@title Number fields\n",
    "number_input = 10.0 #@param {type:\"number\"}\n",
    "number_slider = 0 #@param {type:\"slider\", min:-1, max:1, step:0.1}\n",
    "\n",
    "integer_input = 10 #@param {type:\"integer\"}\n",
    "integer_slider = 1 #@param {type:\"slider\", min:0, max:100, step:1}\n",
    "\n",
    "print(number_input)\n",
    "print(number_slider)\n",
    "\n",
    "print(integer_input)\n",
    "print(integer_slider)"
   ]
  },
  {
   "cell_type": "code",
   "execution_count": 0,
   "metadata": {
    "cellView": "both",
    "colab": {},
    "colab_type": "code",
    "id": "ig8PIYeLtM8g"
   },
   "outputs": [],
   "source": [
    "#@title Boolean fields\n",
    "boolean_checkbox = True #@param {type:\"boolean\"}\n",
    "boolean_dropdown = True #@param [\"False\", \"True\"] {type:\"raw\"}\n",
    "\n",
    "print(boolean_checkbox)\n",
    "print(boolean_dropdown)"
   ]
  },
  {
   "cell_type": "markdown",
   "metadata": {
    "colab_type": "text",
    "id": "hVEG5D5TxFKW"
   },
   "source": [
    "### Hiding code\n",
    "\n",
    "You can change the view of the form by selecting **Edit → Show/hide code** or using the toolbar above the selected code cell. You can see both code and the form, just the form, or just the code."
   ]
  },
  {
   "cell_type": "code",
   "execution_count": 0,
   "metadata": {
    "cellView": "form",
    "colab": {},
    "colab_type": "code",
    "id": "ZCEBZPwUDGOg"
   },
   "outputs": [],
   "source": [
    "#@title ## Markdown\n",
    "#@markdown You can also include Markdown in forms.\n",
    "\n",
    "#@markdown ---\n",
    "#@markdown ### Enter a file path:\n",
    "file_path = \"\" #@param {type:\"string\"}\n",
    "#@markdown ---\n",
    "\n"
   ]
  },
  {
   "cell_type": "code",
   "execution_count": 0,
   "metadata": {
    "colab": {},
    "colab_type": "code",
    "id": "J9Thn2jvYQLI"
   },
   "outputs": [],
   "source": []
  }
 ],
 "metadata": {
  "accelerator": "GPU",
  "colab": {
   "collapsed_sections": [
    "5bOAt6OnfSuu",
    "8Kvn9icnfXbp",
    "hdalc10ifXfh",
    "CLp3xweDfkG0",
    "_7gRpQLXQSID"
   ],
   "name": "data_process_tricks.ipynb",
   "provenance": [],
   "version": "0.3.2"
  },
  "kernelspec": {
   "display_name": "Python 3",
   "language": "python",
   "name": "python3"
  },
  "language_info": {
   "codemirror_mode": {
    "name": "ipython",
    "version": 3
   },
   "file_extension": ".py",
   "mimetype": "text/x-python",
   "name": "python",
   "nbconvert_exporter": "python",
   "pygments_lexer": "ipython3",
   "version": "3.5.3"
  }
 },
 "nbformat": 4,
 "nbformat_minor": 1
}
