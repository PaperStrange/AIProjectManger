{
  "nbformat": 4,
  "nbformat_minor": 0,
  "metadata": {
    "colab": {
      "name": "extract_feats_from_his_trans.ipynb",
      "version": "0.3.2",
      "provenance": [],
      "collapsed_sections": []
    },
    "kernelspec": {
      "name": "python3",
      "display_name": "Python 3"
    },
    "accelerator": "GPU"
  },
  "cells": [
    {
      "metadata": {
        "colab_type": "text",
        "id": "yAjXGPfiGxc7"
      },
      "cell_type": "markdown",
      "source": [
        "* Author: HZQ\n",
        "* Last modified: 2018/2/24\n"
      ]
    },
    {
      "metadata": {
        "colab_type": "code",
        "id": "vV5qe6BlG1_C",
        "scrolled": true,
        "colab": {}
      },
      "cell_type": "code",
      "source": [
        "!apt-get install -y -qq software-properties-common python-software-properties module-init-tools \n",
        "!add-apt-repository -y ppa:alessandro-strada/ppa 2>&1 > /dev/null \n",
        "!apt-get update -qq 2>&1 > /dev/null \n",
        "!apt-get -y install -qq google-drive-ocamlfuse fuse \n",
        "from google.colab import auth \n",
        "auth.authenticate_user() \n",
        "from oauth2client.client import GoogleCredentials \n",
        "creds = GoogleCredentials.get_application_default() \n",
        "import getpass \n",
        "!google-drive-ocamlfuse -headless -id={creds.client_id} -secret={creds.client_secret} < /dev/null 2>&1 | grep URL \n",
        "vcode = getpass.getpass() \n",
        "!echo {vcode} | google-drive-ocamlfuse -headless -id={creds.client_id} -secret={creds.client_secret}"
      ],
      "execution_count": 0,
      "outputs": []
    },
    {
      "metadata": {
        "colab_type": "code",
        "id": "T0HVL61FHqMC",
        "outputId": "53ed4e74-e052-41c8-ad52-98499fb49060",
        "colab": {
          "base_uri": "https://localhost:8080/",
          "height": 89
        }
      },
      "cell_type": "code",
      "source": [
        "!mkdir -p driver\n",
        "!google-drive-ocamlfuse driver\n",
        "import os\n",
        "\n",
        "os.chdir(\"driver/Colab Notebooks/CategoryRecom_kaggle/\")\n",
        "!ls"
      ],
      "execution_count": 0,
      "outputs": [
        {
          "output_type": "stream",
          "text": [
            "fuse: mountpoint is not empty\n",
            "fuse: if you are sure this is safe, use the 'nonempty' mount option\n",
            "data\t  driver   model      requirements.txt\ttimeline\n",
            "download  LICENSE  ReadMe.md  submit\t\tutils\n"
          ],
          "name": "stdout"
        }
      ]
    },
    {
      "metadata": {
        "colab_type": "code",
        "id": "8OwoC4PMaAbC",
        "outputId": "dd2119f3-d6f7-4b44-9a9d-746232c707d9",
        "colab": {
          "base_uri": "https://localhost:8080/",
          "height": 35
        }
      },
      "cell_type": "code",
      "source": [
        "!ls"
      ],
      "execution_count": 0,
      "outputs": [
        {
          "output_type": "stream",
          "text": [
            "driver\tsample_data\n"
          ],
          "name": "stdout"
        }
      ]
    },
    {
      "metadata": {
        "colab_type": "text",
        "id": "6EglTV4uGxdA"
      },
      "cell_type": "markdown",
      "source": [
        "# Main Parts"
      ]
    },
    {
      "metadata": {
        "id": "M0wVXTxSzI9X",
        "colab_type": "code",
        "outputId": "32413d75-e986-4a64-d82c-6db857b6e9de",
        "colab": {
          "base_uri": "https://localhost:8080/",
          "height": 35
        }
      },
      "cell_type": "code",
      "source": [
        "# Used for better debug experience\n",
        "%xmode Plain\n",
        "# %pdb on"
      ],
      "execution_count": 0,
      "outputs": [
        {
          "output_type": "stream",
          "text": [
            "Exception reporting mode: Plain\n"
          ],
          "name": "stdout"
        }
      ]
    },
    {
      "metadata": {
        "colab_type": "code",
        "id": "qG85KhyNGxdK",
        "colab": {}
      },
      "cell_type": "code",
      "source": [
        "import datetime\n",
        "import gc, sys\n",
        "import lightgbm as lgb\n",
        "import matplotlib.pyplot as plt\n",
        "import numpy as np\n",
        "import os\n",
        "import pandas as pd\n",
        "import seaborn as sns\n",
        "import time\n",
        "import warnings\n",
        "\n",
        "from contextlib import contextmanager\n",
        "from pandas.core.common import SettingWithCopyWarning\n",
        "from sklearn.metrics import mean_squared_error\n",
        "from sklearn.model_selection import KFold, StratifiedKFold\n",
        "from sklearn.preprocessing import LabelEncoder\n",
        "\n",
        "warnings.simplefilter(action='ignore', category=SettingWithCopyWarning)\n",
        "warnings.simplefilter(action='ignore', category=FutureWarning)\n",
        "\n",
        "FEATS_EXCLUDED = ['first_active_month', 'target', 'card_id', 'outliers',\n",
        "                  'hist_purchase_date_max', 'hist_purchase_date_min', 'hist_card_id_size',\n",
        "                  'new_purchase_date_max', 'new_purchase_date_min', 'new_card_id_size',\n",
        "                  'OOF_PRED', 'month_0']"
      ],
      "execution_count": 0,
      "outputs": []
    },
    {
      "metadata": {
        "id": "dGXHmH-TFx0u",
        "colab_type": "code",
        "colab": {}
      },
      "cell_type": "code",
      "source": [
        "DATA_ROOT_PATH = \"./data/\"\n",
        "\n",
        "data_train_path = DATA_ROOT_PATH + \"data_raw/train/train.csv\"\n",
        "# data_train_path = DATA_ROOT_PATH + \"data_raw/train/train_20190218.csv\"\n",
        "data_test_path = DATA_ROOT_PATH + \"data_raw/test/test.csv\"\n",
        "data_valid_path = DATA_ROOT_PATH + \"data_raw/valid/valid.csv\"\n",
        "data_info_path = DATA_ROOT_PATH  + \"data_raw/Data_Dictionary.xlsx\"\n",
        "data_merchants_path = DATA_ROOT_PATH + \"data_raw/merchants.csv\"\n",
        "# data_merchants_path = DATA_ROOT_PATH + \"data_raw/merchants_20190219.csv\"\n",
        "data_his_trans_path = DATA_ROOT_PATH + \"data_raw/historical_transactions_20190218.csv\"\n",
        "data_new_trans_path = DATA_ROOT_PATH + \"data_raw/new_merchant_transactions.csv\""
      ],
      "execution_count": 0,
      "outputs": []
    },
    {
      "metadata": {
        "id": "HENkr0SjG0Ff",
        "colab_type": "code",
        "colab": {}
      },
      "cell_type": "code",
      "source": [
        "def reduce_mem_usage(df, verbose=True):\n",
        "    numerics = ['int16', 'int32', 'int64', 'float16', 'float32', 'float64']\n",
        "#     start_mem = df.memory_usage().sum() / 1024**2\n",
        "    for col in df.columns:\n",
        "        col_type = df[col].dtypes\n",
        "        if col_type in numerics:\n",
        "            c_min = df[col].min()\n",
        "            c_max = df[col].max()\n",
        "            if str(col_type)[:3] == 'int':\n",
        "                if c_min > np.iinfo(np.int8).min and c_max < np.iinfo(np.int8).max:\n",
        "                    df[col] = df[col].astype(np.int8)\n",
        "                elif c_min > np.iinfo(np.int16).min and c_max < np.iinfo(np.int16).max:\n",
        "                    df[col] = df[col].astype(np.int16)\n",
        "                elif c_min > np.iinfo(np.int32).min and c_max < np.iinfo(np.int32).max:\n",
        "                    df[col] = df[col].astype(np.int32)\n",
        "                elif c_min > np.iinfo(np.int64).min and c_max < np.iinfo(np.int64).max:\n",
        "                    df[col] = df[col].astype(np.int64)\n",
        "            else:\n",
        "                if c_min > np.finfo(np.float16).min and c_max < np.finfo(np.float16).max:\n",
        "                    df[col] = df[col].astype(np.float16)\n",
        "                elif c_min > np.finfo(np.float32).min and c_max < np.finfo(np.float32).max:\n",
        "                    df[col] = df[col].astype(np.float32)\n",
        "                else:\n",
        "                    df[col] = df[col].astype(np.float64)\n",
        "\n",
        "#     end_mem = df.memory_usage().sum() / 1024**2\n",
        "#     print('Memory usage after optimization is: {:.2f} MB'.format(end_mem))\n",
        "#     print('Decreased by {:.1f}%'.format(100 * (start_mem - end_mem) / start_mem))\n",
        "\n",
        "    return df"
      ],
      "execution_count": 0,
      "outputs": []
    },
    {
      "metadata": {
        "id": "gQDQSO0BDFTd",
        "colab_type": "code",
        "colab": {}
      },
      "cell_type": "code",
      "source": [
        "# Re-construct 2019/2/21: create transaction couts, state/city counts for each card id in two transaction files \n",
        "def groupby_row2(each_row1):\n",
        "#     each_row1_part = each_row1.loc[:, [\"city_id\", \"merchant_category_id\", \"merchant_id\"]]\n",
        "    each_row1_part = each_row1.loc[:, [\"state_id\", \"city_id\", \"merchant_category_id\", \"merchant_id\"]]\n",
        "    del each_row1\n",
        "    gc.collect()\n",
        "    sys._clear_type_cache()\n",
        "    trans_count = each_row1_part.shape[0]\n",
        "    state_count = each_row1_part[\"state_id\"].value_counts().shape[0]\n",
        "    city_count = each_row1_part[\"city_id\"].value_counts().shape[0]\n",
        "    merchant_category_count = each_row1_part[\"merchant_category_id\"].value_counts().shape[0]\n",
        "    merchant_count = each_row1_part[\"merchant_id\"].value_counts().shape[0]\n",
        "#     print(each_row1_part)\n",
        "#     print(\"Checking transacation count: {}\".format(trans_count))\n",
        "    \n",
        "    gc.collect()\n",
        "    sys._clear_type_cache()    \n",
        "        \n",
        "    return trans_count, state_count, city_count, merchant_category_count, merchant_count      \n",
        "\n",
        "\n",
        "def count_by_card_id(df):\n",
        "    feature_new_df = df.groupby(\"card_id\").apply(groupby_row2)\n",
        "    del df\n",
        "    \n",
        "    return feature_new_df"
      ],
      "execution_count": 0,
      "outputs": []
    },
    {
      "metadata": {
        "id": "vsdcNW0Zdalf",
        "colab_type": "code",
        "colab": {}
      },
      "cell_type": "code",
      "source": [
        "hist_reader = pd.read_csv(data_his_trans_path, chunksize=6000000)   # Note: modify the chunksize if crash\n",
        "feats_new_list = []\n",
        "indent = 1\n",
        "for each_chunk in hist_reader:\n",
        "    print(\"[Output] expected to be end in 5 runs, this is {} run...\".format(indent))\n",
        "    each_chunk = reduce_mem_usage(each_chunk)      \n",
        "    feats_new_series = count_by_card_id(each_chunk)\n",
        "    print(\"Checking each output: {}\".format(feats_new_series))\n",
        "    feats_new_list.append(feats_new_series)\n",
        "    indent += 1\n",
        "    gc.collect()\n",
        "sys._clear_type_cache()    \n",
        "\n",
        "del each_chunk\n",
        "del hist_reader\n",
        "feats_new_series = pd.concat(feats_new_list, ignore_index=True)\n",
        "\n",
        "gc.collect()\n",
        "sys._clear_type_cache()\n",
        "\n",
        "feats_new_series.to_csv(DATA_ROOT_PATH + \"data_raw/feats_new_20190224csv\", index=False)\n",
        "# feats_new_series = pd.read_csv(DATA_ROOT_PATH + \"data_raw/feats_new_20190224csv\", header=0)"
      ],
      "execution_count": 0,
      "outputs": []
    },
    {
      "metadata": {
        "id": "aMX0c4fJdU6V",
        "colab_type": "code",
        "colab": {}
      },
      "cell_type": "code",
      "source": [
        "print(\"Total number of part is {}\".format(len(feats_new_list)))\n",
        "index_total = feats_new_list[0].index.append(feats_new_list[1].index).append(feats_new_list[2].index)\n",
        "index_series = pd.Series(index_total)\n",
        "index_series.to_csv(DATA_ROOT_PATH + \"data_raw/his_trans_index_after_agg.csv\", index=False)\n",
        "feats_new_df = pd.DataFrame({\"card_id\": index_series.values})\n",
        "\n",
        "ind = 0\n",
        "feats_new_list, feats_new_list2 = \\\n",
        "    [each_row for each_row in feats_new_series.values], []\n",
        "\n",
        "for each_feat in zip(*feats_new_list):\n",
        "#     print(each_feat)\n",
        "    # if ind == 2:\n",
        "        # break\n",
        "    if not(\"(\" in each_feat) and not(\")\" in each_feat) and not(\",\" in each_feat):    \n",
        "        feats_new_list2.append(each_feat)\n",
        "    ind += 1\n",
        "    gc.collect()\n",
        "    sys._clear_type_cache()\n",
        "assert len(feats_new_list2) == 5\n",
        "\n",
        "ind = 0\n",
        "feats_new = \\\n",
        "    [\"his_trans_count\", \n",
        "     \"his_state_id_count\", \n",
        "     \"his_city_id_count\", \n",
        "     \"his_merchant_category_id_count\", \n",
        "     \"his_merchant_id_count\"]\n",
        "for each_feat_new in feats_new[:]:\n",
        "    feats_new_df[each_feat_new] = feats_new_list2[ind]\n",
        "    print(\"Finish {} feat dealing process...\".format(ind+1))\n",
        "    ind += 1\n",
        "    gc.collect()\n",
        "    sys._clear_type_cache()\n",
        "\n",
        "feats_new_df[\"his_trans_count\"] = \\\n",
        "    feats_new_df[\"his_trans_count\"].astype(\"int\")\n",
        "feats_new_df[\"his_state_id_count\"] = \\\n",
        "    feats_new_df[\"his_state_id_count\"].astype(\"int\")\n",
        "feats_new_df[\"his_city_id_count\"] = \\\n",
        "    feats_new_df[\"his_city_id_count\"].astype(\"int\")\n",
        "feats_new_df[\"his_merchant_category_id_count\"] = \\\n",
        "    feats_new_df[\"his_merchant_category_id_count\"].astype(\"int\")\n",
        "feats_new_df[\"his_merchant_id_count\"] = \\\n",
        "    feats_new_df[\"his_merchant_id_count\"].astype(\"int\")\n",
        "feats_new_df.to_csv(DATA_ROOT_PATH + \"data_raw/feats_new_20190223_2.csv\", index=False)"
      ],
      "execution_count": 0,
      "outputs": []
    }
  ]
}