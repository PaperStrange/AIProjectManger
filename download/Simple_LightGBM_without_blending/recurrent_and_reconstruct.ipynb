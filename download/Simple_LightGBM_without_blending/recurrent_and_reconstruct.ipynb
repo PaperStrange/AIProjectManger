{
 "cells": [
  {
   "cell_type": "markdown",
   "metadata": {
    "colab_type": "text",
    "id": "yAjXGPfiGxc7"
   },
   "source": [
    "* Author: HZQ\n",
    "* Last modified: 2018/2/18\n"
   ]
  },
  {
   "cell_type": "code",
   "execution_count": 0,
   "metadata": {
    "colab_type": "code",
    "id": "vV5qe6BlG1_C",
    "scrolled": true,
    "colab": {}
   },
   "outputs": [],
   "source": [
    "!apt-get install -y -qq software-properties-common python-software-properties module-init-tools \n",
    "!add-apt-repository -y ppa:alessandro-strada/ppa 2>&1 > /dev/null \n",
    "!apt-get update -qq 2>&1 > /dev/null \n",
    "!apt-get -y install -qq google-drive-ocamlfuse fuse \n",
    "from google.colab import auth \n",
    "auth.authenticate_user() \n",
    "from oauth2client.client import GoogleCredentials \n",
    "creds = GoogleCredentials.get_application_default() \n",
    "import getpass \n",
    "!google-drive-ocamlfuse -headless -id={creds.client_id} -secret={creds.client_secret} < /dev/null 2>&1 | grep URL \n",
    "vcode = getpass.getpass() \n",
    "!echo {vcode} | google-drive-ocamlfuse -headless -id={creds.client_id} -secret={creds.client_secret}"
   ]
  },
  {
   "cell_type": "code",
   "execution_count": 2,
   "metadata": {
    "colab_type": "code",
    "id": "T0HVL61FHqMC",
    "outputId": "b9bd5e19-180d-4ad9-e41f-1816498669b0",
    "colab": {
     "base_uri": "https://localhost:8080/",
     "height": 89.0
    }
   },
   "outputs": [
    {
     "name": "stdout",
     "output_type": "stream",
     "text": [
      "fuse: mountpoint is not empty\n",
      "fuse: if you are sure this is safe, use the 'nonempty' mount option\n",
      "data\t  driver   model      requirements.txt\ttimeline\n",
      "download  LICENSE  ReadMe.md  submit\t\tutils\n"
     ]
    }
   ],
   "source": [
    "!mkdir -p driver\n",
    "!google-drive-ocamlfuse driver\n",
    "import os\n",
    "\n",
    "os.chdir(\"driver/Colab Notebooks/CategoryRecom_kaggle/\")\n",
    "!ls"
   ]
  },
  {
   "cell_type": "code",
   "execution_count": 0,
   "metadata": {
    "colab_type": "code",
    "id": "8OwoC4PMaAbC",
    "outputId": "dd2119f3-d6f7-4b44-9a9d-746232c707d9",
    "colab": {
     "base_uri": "https://localhost:8080/",
     "height": 35.0
    }
   },
   "outputs": [
    {
     "name": "stdout",
     "output_type": "stream",
     "text": [
      "driver\tsample_data\n"
     ]
    }
   ],
   "source": [
    "!ls"
   ]
  },
  {
   "cell_type": "markdown",
   "metadata": {
    "colab_type": "text",
    "id": "6EglTV4uGxdA"
   },
   "source": [
    "# Main Parts"
   ]
  },
  {
   "cell_type": "code",
   "execution_count": 3,
   "metadata": {
    "id": "M0wVXTxSzI9X",
    "colab_type": "code",
    "outputId": "69b73ade-d4b2-4fb5-8ebd-dece7fd5c5ca",
    "colab": {
     "base_uri": "https://localhost:8080/",
     "height": 35.0
    }
   },
   "outputs": [
    {
     "name": "stdout",
     "output_type": "stream",
     "text": [
      "Exception reporting mode: Plain\n"
     ]
    }
   ],
   "source": [
    "# Used for better debug experience\n",
    "%xmode Plain\n",
    "# %pdb on"
   ]
  },
  {
   "cell_type": "code",
   "execution_count": 0,
   "metadata": {
    "colab_type": "code",
    "id": "qG85KhyNGxdK",
    "colab": {}
   },
   "outputs": [],
   "source": [
    "import datetime\n",
    "import gc, sys\n",
    "import lightgbm as lgb\n",
    "import matplotlib.pyplot as plt\n",
    "import numpy as np\n",
    "import os\n",
    "import pandas as pd\n",
    "import seaborn as sns\n",
    "import time\n",
    "import warnings\n",
    "\n",
    "from contextlib import contextmanager\n",
    "from pandas.core.common import SettingWithCopyWarning\n",
    "from sklearn.metrics import mean_squared_error\n",
    "from sklearn.model_selection import KFold, StratifiedKFold\n",
    "from sklearn.preprocessing import LabelEncoder\n",
    "\n",
    "warnings.simplefilter(action='ignore', category=SettingWithCopyWarning)\n",
    "warnings.simplefilter(action='ignore', category=FutureWarning)\n",
    "\n",
    "FEATS_EXCLUDED = ['first_active_month', 'target', 'card_id', 'outliers',\n",
    "                  'hist_purchase_date_max', 'hist_purchase_date_min', 'hist_card_id_size',\n",
    "                  'new_purchase_date_max', 'new_purchase_date_min', 'new_card_id_size',\n",
    "                  'OOF_PRED', 'month_0']"
   ]
  },
  {
   "cell_type": "code",
   "execution_count": 0,
   "metadata": {
    "id": "dGXHmH-TFx0u",
    "colab_type": "code",
    "colab": {}
   },
   "outputs": [],
   "source": [
    "DATA_ROOT_PATH = \"./data/\"\n",
    "\n",
    "data_train_path = DATA_ROOT_PATH + \"data_raw/train/train.csv\"\n",
    "# data_train_path = DATA_ROOT_PATH + \"data_raw/train/train_20190218.csv\"\n",
    "data_test_path = DATA_ROOT_PATH + \"data_raw/test/test.csv\"\n",
    "data_valid_path = DATA_ROOT_PATH + \"data_raw/valid/valid.csv\"\n",
    "data_info_path = DATA_ROOT_PATH  + \"data_raw/Data_Dictionary.xlsx\"\n",
    "# data_merchants_path = DATA_ROOT_PATH + \"data_raw/merchants.csv\"\n",
    "data_merchants_path = DATA_ROOT_PATH + \"data_raw/merchants_20190219.csv\"\n",
    "data_his_trans_path = DATA_ROOT_PATH + \"data_raw/historical_transactions_20190218.csv\"\n",
    "data_new_trans_path = DATA_ROOT_PATH + \"data_raw/new_merchant_transactions.csv\""
   ]
  },
  {
   "cell_type": "code",
   "execution_count": 0,
   "metadata": {
    "id": "HENkr0SjG0Ff",
    "colab_type": "code",
    "colab": {}
   },
   "outputs": [],
   "source": [
    "month_dict = \\\n",
    "        {1:\"January\", \n",
    "         2:\"February\", \n",
    "         3:\"March\", \n",
    "         4:\"April\", \n",
    "         5:\"May\", \n",
    "         6:\"June\", \n",
    "         7:\"July\", \n",
    "         8:\"August\", \n",
    "         9:\"September\", \n",
    "         10:\"October\", \n",
    "         11:\"November\", \n",
    "         12:\"December\"}\n",
    "\n",
    "@contextmanager\n",
    "def timer(title):\n",
    "    t0 = time.time()\n",
    "    yield\n",
    "    print(\"{} - done in {:.0f}s\".format(title, time.time() - t0))\n",
    "\n",
    "    \n",
    "# rmse\n",
    "def rmse(y_true, y_pred):\n",
    "    \n",
    "    return np.sqrt(mean_squared_error(y_true, y_pred))\n",
    "\n",
    "\n",
    "# One-hot encoding for categorical columns with get_dummies\n",
    "def one_hot_encoder(df, nan_as_category = True):\n",
    "    original_columns = list(df.columns)\n",
    "    categorical_columns = [col for col in df.columns if df[col].dtype == 'object']\n",
    "    df = pd.get_dummies(df, columns= categorical_columns, dummy_na= nan_as_category)\n",
    "    new_columns = [c for c in df.columns if c not in original_columns]\n",
    "    \n",
    "    gc.collect()\n",
    "    sys._clear_type_cache()\n",
    "    \n",
    "    return df, new_columns\n",
    "\n",
    "\n",
    "# reduce memory\n",
    "def reduce_mem_usage(df, verbose=True):\n",
    "    numerics = ['int16', 'int32', 'int64', 'float16', 'float32', 'float64']\n",
    "#     start_mem = df.memory_usage().sum() / 1024**2\n",
    "    for col in df.columns:\n",
    "        col_type = df[col].dtypes\n",
    "        if col_type in numerics:\n",
    "            c_min = df[col].min()\n",
    "            c_max = df[col].max()\n",
    "            if str(col_type)[:3] == 'int':\n",
    "                if c_min > np.iinfo(np.int8).min and c_max < np.iinfo(np.int8).max:\n",
    "                    df[col] = df[col].astype(np.int8)\n",
    "                elif c_min > np.iinfo(np.int16).min and c_max < np.iinfo(np.int16).max:\n",
    "                    df[col] = df[col].astype(np.int16)\n",
    "                elif c_min > np.iinfo(np.int32).min and c_max < np.iinfo(np.int32).max:\n",
    "                    df[col] = df[col].astype(np.int32)\n",
    "                elif c_min > np.iinfo(np.int64).min and c_max < np.iinfo(np.int64).max:\n",
    "                    df[col] = df[col].astype(np.int64)\n",
    "            else:\n",
    "                if c_min > np.finfo(np.float16).min and c_max < np.finfo(np.float16).max:\n",
    "                    df[col] = df[col].astype(np.float16)\n",
    "                elif c_min > np.finfo(np.float32).min and c_max < np.finfo(np.float32).max:\n",
    "                    df[col] = df[col].astype(np.float32)\n",
    "                else:\n",
    "                    df[col] = df[col].astype(np.float64)\n",
    "\n",
    "#     end_mem = df.memory_usage().sum() / 1024**2\n",
    "#     print('Memory usage after optimization is: {:.2f} MB'.format(end_mem))\n",
    "#     print('Decreased by {:.1f}%'.format(100 * (start_mem - end_mem) / start_mem))\n",
    "\n",
    "    return df"
   ]
  },
  {
   "cell_type": "code",
   "execution_count": 0,
   "metadata": {
    "id": "gQDQSO0BDFTd",
    "colab_type": "code",
    "colab": {}
   },
   "outputs": [],
   "source": [
    "# Re-construct 2019/2/17: fill vacancy merchant id by other method [here](https://www.kaggle.com/raddar/merchant-id-imputations)\n",
    "# def merchant_id_selected():\n",
    "#     new_merchant_df = pd.read_csv(data_new_trans_path).fillna('')\n",
    "#     fields = ['card_id','city_id','category_1','installments','category_3',\\\n",
    "#           'merchant_category_id','category_2','state_id','subsector_id']\n",
    "#     new_merchant_df_part = new_merchant_df[fields + ['merchant_id']].drop_duplicates()\n",
    "#     new_merchant_df_part = new_merchant_df_part.loc[new_merchant_df_part['merchant_id'] != '']  \n",
    "#     # take only unique merchants for the `fields` combination\n",
    "#     uq_new_merchants = new_merchant_df_part.groupby(fields)['merchant_id'].count().reset_index(name = 'n_merchants')\n",
    "#     uq_new_merchants = uq_new_merchants.loc[uq_new_merchants['n_merchants'] == 1]\n",
    "#     uq_new_merchants = uq_new_merchants.merge(new_merchant_df_part, on=fields)\n",
    "#     uq_new_merchants.drop('n_merchants', axis=1, inplace=True)\n",
    "#     # rename the merchant_id so we can join it more easily later on\n",
    "#     uq_new_merchants.columns = fields + ['imputed_merchant_id']\n",
    "    \n",
    "#     del new_merchant_df\n",
    "#     del new_merchant_df_part\n",
    "#     gc.collect()\n",
    "#     sys._clear_type_cache()    \n",
    "    \n",
    "#     return uq_new_merchants, fields\n",
    "\n",
    "\n",
    "# Re-construct 2019/2/17: fill vacancy merchant id by other method [here](https://www.kaggle.com/raddar/merchant-id-imputations)\n",
    "# def impute_his_merchant_id():\n",
    "#     hist_reader = pd.read_csv(data_his_trans_path, chunksize=6000000)\n",
    "#     hist_list = []\n",
    "#     indent = 1    \n",
    "\n",
    "#     for each_chunk in hist_reader:\n",
    "#         print(\"[Output] expected to be end in 5 runs, this is {} run...\".format(indent))\n",
    "#         each_chunk = reduce_mem_usage(each_chunk)\n",
    "#         hist_list.append(each_chunk)\n",
    "#         indent += 1\n",
    "#         gc.collect()\n",
    "#     sys._clear_type_cache()        \n",
    "    \n",
    "#     hist_df = pd.concat(hist_list, ignore_index=True)\n",
    "#     del hist_list\n",
    "#     del each_chunk\n",
    "#     del hist_reader\n",
    "#     gc.collect()\n",
    "#     sys._clear_type_cache()  \n",
    "    \n",
    "#     # make the actual imputation for the merchant_id field   \n",
    "#     uq_new_merchants, fields = merchant_id_selected()  \n",
    "#     hist_df.fillna('', inplace=True) \n",
    "#     hist_df = hist_df.merge(uq_new_merchants, on = fields, how = 'left')\n",
    "#     index = (hist_df['merchant_id']=='') & (~pd.isnull(hist_df['imputed_merchant_id']))\n",
    "#     hist_df.loc[index, 'merchant_id'] = hist_df.loc[index, 'imputed_merchant_id']\n",
    "#     hist_df.drop([\"imputed_merchant_id\"], axis=1, inplace=True)\n",
    "#     hist_df.to_csv(DATA_ROOT_PATH + \"data_raw/historical_transactions_20190219.csv\", index=False)\n",
    "    \n",
    "#     return hist_df\n",
    "\n",
    "\n",
    "# hist_df = impute_his_merchant_id()\n",
    "\n",
    "\n",
    "# Re-construct 2019/2/17: use new retrieved target values\n",
    "# data_train = pd.read_csv(data_train_path)\n",
    "# data_train[\"target\"] = np.exp2(data_train[\"target\"]) - 0.0000000001\n",
    "# data_train_path = DATA_ROOT_PATH + \"data_raw/train/train_20190219.csv\"\n",
    "# data_train.to_csv(data_train_path)\n",
    "\n",
    "\n",
    "# Re-construct 2019/2/19: design aggregation for merchant.csv\n",
    "def aggregate_merchants(df, df_merchant):\n",
    "    '''\n",
    "    INPUT:\n",
    "    df -  a pandas dataframe containing data after dealing with outliers, mixed feature\n",
    "    df_merchant -  a specific pandas dataframe containing data of several merchants\n",
    "    \n",
    "    OUTPUT:\n",
    "    df_agg_merchant -  a pandas dataframe after aggregation from merchants csv file\n",
    "    \n",
    "    This function applly specific aggregation to INPUT.df\n",
    "    '''\n",
    "\n",
    "    df_agg_merchant = pd.merge(df, df_merchant, on=\"merchant_id\", how=\"left\")    \n",
    "    gc.collect()\n",
    "    sys._clear_type_cache()   \n",
    "    \n",
    "    return df_agg_merchant\n",
    "\n",
    "\n",
    "# data_merchants= pd.read_csv(data_merchants_path)\n",
    "# data_merchants.drop([\"merchant_category_id\", \"city_id\", \"merchant_group_id\"], axis=1, inplace=True)\n",
    "# for each_col in ['category_1', 'category_4']:\n",
    "#     data_merchants[each_col] = data_merchants[each_col].map({\"Y\":1, \"N\":0})\n",
    "# data_merchants = pd.get_dummies(data_merchants, columns=[\"most_recent_sales_range\", \"most_recent_purchases_range\"])\n",
    "    \n",
    "# print(\"Excecute aggregation to VARIABLE data_merchants\")\n",
    "# print(\"[Input] Aggregate specific columns below\")\n",
    "# agg_func = {\n",
    "#         \"active_months_lag12\": [\"mean\", \"max\", \"min\"],\n",
    "#         \"active_months_lag3\": [\"mean\", \"max\", \"min\"],\n",
    "#         \"active_months_lag6\": [\"mean\", \"max\", \"min\"],\n",
    "# #         \"avg_purchases_lag12\": [\"mean\", \"max\", \"min\"],\n",
    "# #         \"avg_purchases_lag3\": [\"mean\", \"max\", \"min\"],\n",
    "# #         \"avg_purchases_lag6\": [\"mean\", \"max\", \"min\"],\n",
    "# #         \"avg_sales_lag12\": [\"mean\", \"max\", \"min\"],\n",
    "# #         \"avg_sales_lag3\": [\"mean\", \"max\", \"min\"],\n",
    "# #         \"avg_sales_lag6\": [\"mean\", \"max\", \"min\"],\n",
    "#         \"category_1\": [\"sum\", \"mean\"],\n",
    "#         \"category_2\": [\"sum\", \"mean\"],\n",
    "#         \"category_4\": [\"sum\", \"mean\"],\n",
    "#         \"most_recent_purchases_range_A\": [\"mean\"],        \n",
    "#         \"most_recent_purchases_range_B\": [\"mean\"],    \n",
    "#         \"most_recent_purchases_range_C\": [\"mean\"],    \n",
    "#         \"most_recent_purchases_range_D\": [\"mean\"],    \n",
    "#         \"most_recent_purchases_range_E\": [\"mean\"],    \n",
    "#         \"most_recent_sales_range_A\": [\"mean\"], \n",
    "#         \"most_recent_sales_range_B\": [\"mean\"], \n",
    "#         \"most_recent_sales_range_C\": [\"mean\"], \n",
    "#         \"most_recent_sales_range_D\": [\"mean\"], \n",
    "#         \"most_recent_sales_range_E\": [\"mean\"], \n",
    "#         \"numerical_1\": [\"sum\", \"mean\"],\n",
    "#         \"numerical_2\": [\"sum\", \"mean\"]\n",
    "#  }\n",
    "\n",
    "# data_merchants_agg = data_merchants.groupby([\"merchant_id\"]).agg(agg_func)\n",
    "# data_merchants_agg.reset_index(inplace=True)\n",
    "# data_merchants_agg.columns = [\"_\".join(col).strip() for col in data_merchants_agg.columns.values]\n",
    "# del data_merchants\n",
    "# gc.collect()\n",
    "# sys._clear_type_cache()\n",
    "\n",
    "# print(\"[Output] Store aggregated merchant data file: \")\n",
    "# temp = list(data_merchants_agg.columns)\n",
    "# temp[0] = \"merchant_id\"\n",
    "# data_merchants_agg.columns = temp\n",
    "# data_merchants_agg.to_csv( DATA_ROOT_PATH + \"data_raw/merchants_20190219.csv\", index=False)"
   ]
  },
  {
   "cell_type": "code",
   "execution_count": 0,
   "metadata": {
    "id": "gB3M2g3MESwP",
    "colab_type": "code",
    "colab": {}
   },
   "outputs": [],
   "source": [
    "# TODO 2019/2/18: MIDfc7d7969c3 = Netflix subscription prices\n",
    "# TODO 2019/2/18: drop outlier rows stored in train.csv\n",
    "\n",
    "# preprocessing train & test\n",
    "def train_test(num_rows=None):\n",
    "\n",
    "    # load csv\n",
    "    train_df = pd.read_csv(data_train_path, index_col=['card_id'], nrows=num_rows)\n",
    "    test_df = pd.read_csv(data_test_path, index_col=['card_id'], nrows=num_rows)\n",
    "\n",
    "    print(\"Train samples: {}, test samples: {}\".format(len(train_df), len(test_df)))\n",
    "\n",
    "    # outlier\n",
    "    train_df['outliers'] = 0\n",
    "    train_df.loc[train_df['target'] < -30, 'outliers'] = 1\n",
    "    \n",
    "    # set target as nan\n",
    "    test_df['target'] = np.nan\n",
    "\n",
    "    # merge\n",
    "    df = train_df.append(test_df)\n",
    "\n",
    "    del train_df, test_df\n",
    "    gc.collect()\n",
    "\n",
    "    # to datetime\n",
    "    df['first_active_month'] = pd.to_datetime(df['first_active_month'])\n",
    "\n",
    "    # datetime features\n",
    "    df['quarter'] = df['first_active_month'].dt.quarter\n",
    "    df['elapsed_time'] = (datetime.datetime.today() - df['first_active_month']).dt.days\n",
    "    \n",
    "    # Re-construct: add new elasp startoff\n",
    "#     df[\"elasped_time_sp\"] = (datetime.date(2018, 2, 1) - df['first_active_month']).dt.days\n",
    "    \n",
    "    df['days_feature1'] = df['elapsed_time'] * df['feature_1']\n",
    "    df['days_feature2'] = df['elapsed_time'] * df['feature_2']\n",
    "    df['days_feature3'] = df['elapsed_time'] * df['feature_3']\n",
    "\n",
    "    df['days_feature1_ratio'] = df['feature_1'] / df['elapsed_time']\n",
    "    df['days_feature2_ratio'] = df['feature_2'] / df['elapsed_time']\n",
    "    df['days_feature3_ratio'] = df['feature_3'] / df['elapsed_time']\n",
    "\n",
    "    # one hot encoding\n",
    "    df, cols = one_hot_encoder(df, nan_as_category=False)\n",
    "\n",
    "    for f in ['feature_1','feature_2','feature_3']:\n",
    "        order_label = df.groupby([f])['outliers'].mean()\n",
    "        df[f] = df[f].map(order_label)\n",
    "\n",
    "    df['feature_sum'] = df['feature_1'] + df['feature_2'] + df['feature_3']\n",
    "    df['feature_mean'] = df['feature_sum'] / 3\n",
    "    df['feature_max'] = df[['feature_1', 'feature_2', 'feature_3']].max(axis=1)\n",
    "    df['feature_min'] = df[['feature_1', 'feature_2', 'feature_3']].min(axis=1)\n",
    "    df['feature_var'] = df[['feature_1', 'feature_2', 'feature_3']].std(axis=1)\n",
    "    \n",
    "    df = reduce_mem_usage(df)\n",
    "    gc.collect()\n",
    "    sys._clear_type_cache()\n",
    "    \n",
    "    # Re-construct 2019/2/17: solve the KeyError: \"card_id\"\n",
    "    df.reset_index(inplace=True)\n",
    "        \n",
    "    return df\n",
    "\n",
    "\n",
    "# preprocessing historical transactions\n",
    "def historical_transactions(num_rows=None):\n",
    "    # load csv\n",
    "    hist_reader = pd.read_csv(data_his_trans_path, chunksize=6000000)\n",
    "    hist_list = []\n",
    "    indent = 1\n",
    "    for each_chunk in hist_reader:\n",
    "        print(\"[Output] expected to be end in 5 runs, this is {} run...\".format(indent))\n",
    "        each_chunk = reduce_mem_usage(each_chunk)      \n",
    "        hist_list.append(each_chunk)\n",
    "        indent += 1\n",
    "        gc.collect()\n",
    "    sys._clear_type_cache()        \n",
    "    \n",
    "    hist_df = pd.concat(hist_list, ignore_index=True)\n",
    "    del hist_list\n",
    "    del each_chunk\n",
    "    del hist_reader\n",
    "    gc.collect()\n",
    "    sys._clear_type_cache()   \n",
    "    \n",
    "    # fillna    \n",
    "#     hist_df['merchant_id'].fillna('M_ID_00a6ca8a8a',inplace=True)     \n",
    "    hist_df['category_2'].fillna(1.0, inplace=True)\n",
    "    hist_df['category_3'].fillna('A', inplace=True)\n",
    "    hist_df['installments'].replace(-1, np.nan, inplace=True)\n",
    "    hist_df['installments'].replace(999, np.nan, inplace=True)\n",
    "  \n",
    "    # Re-construct 2019/2/17: create new \"purchase_amount\" referred [here](https://www.kaggle.com/raddar/towards-de-anonymizing-the-data-some-insights)\n",
    "    hist_df[\"purchase_amount\"] = np.round(hist_df[\"purchase_amount\"] / 0.00150265118 + 497.06,2)\n",
    "    \n",
    "    # trim\n",
    "#     hist_df['purchase_amount'] = hist_df['purchase_amount'].apply(lambda x: min(x, 0.8))\n",
    "\n",
    "    # Y/N to 1/0\n",
    "    hist_df['authorized_flag'] = hist_df['authorized_flag'].map({'Y': 1, 'N': 0}).astype(int)\n",
    "    hist_df['category_1'] = hist_df['category_1'].map({'Y': 1, 'N': 0}).astype(int)\n",
    "    hist_df['category_3'] = hist_df['category_3'].map({'A':0, 'B':1, 'C':2})\n",
    "\n",
    "    # datetime features\n",
    "    hist_df['purchase_date'] = pd.to_datetime(hist_df['purchase_date'])\n",
    "    hist_df['month'] = hist_df['purchase_date'].dt.month\n",
    "    \n",
    "    # Re-construct 2019/2/18: create categorical data for each month     \n",
    "    hist_df[\"month_session\"] = hist_df[\"month\"].map(month_dict)\n",
    "    hist_df = pd.get_dummies(hist_df, columns=[\"month_session\"], drop_first=False)\n",
    "    gc.collect()\n",
    "    sys._clear_type_cache()\n",
    "    # Or:\n",
    "#     month_session_cols_list = [\"month_session\"+str(ind+1) for ind in range(12)]\n",
    "#     le = preprocessing.LabelEncoder()\n",
    "#     temp = pd.DataFrame(data=le.fit_transform(hist_df[\"month_session\"]), columns=month_session_cols_list)\n",
    "#     hist_df = pd.concat([hist_df, temp], ignore_index=True)\n",
    "#     print(hist_df.isnull())\n",
    "    \n",
    "    hist_df['day'] = hist_df['purchase_date'].dt.day\n",
    "    hist_df['hour'] = hist_df['purchase_date'].dt.hour\n",
    "    hist_df['weekofyear'] = hist_df['purchase_date'].dt.weekofyear\n",
    "    hist_df['weekday'] = hist_df['purchase_date'].dt.weekday\n",
    "    hist_df['weekend'] = (hist_df['purchase_date'].dt.weekday >=5).astype(int)\n",
    "\n",
    "    # additional features\n",
    "    # Re-construct 2019/2/18: create new feature from \"purchase_amount\"\n",
    "    hist_df['price'] = hist_df['purchase_amount'] / hist_df['installments']\n",
    "    \n",
    "    #Christmas : December 25 2017\n",
    "    hist_df['Christmas_Day_2017'] = (pd.to_datetime('2017-12-25')-hist_df['purchase_date']).dt.days.apply(lambda x: x if x > 0 and x < 100 else 0)\n",
    "    #Mothers Day: May 14 2017\n",
    "    hist_df['Mothers_Day_2017'] = (pd.to_datetime('2017-06-04')-hist_df['purchase_date']).dt.days.apply(lambda x: x if x > 0 and x < 100 else 0)\n",
    "    #fathers day: August 13 2017\n",
    "    hist_df['fathers_day_2017'] = (pd.to_datetime('2017-08-13')-hist_df['purchase_date']).dt.days.apply(lambda x: x if x > 0 and x < 100 else 0)\n",
    "    #Childrens day: October 12 2017\n",
    "    hist_df['Children_day_2017'] = (pd.to_datetime('2017-10-12')-hist_df['purchase_date']).dt.days.apply(lambda x: x if x > 0 and x < 100 else 0)\n",
    "    #Valentine's Day : 12th June, 2017\n",
    "    hist_df['Valentine_Day_2017'] = (pd.to_datetime('2017-06-12')-hist_df['purchase_date']).dt.days.apply(lambda x: x if x > 0 and x < 100 else 0)\n",
    "    #Black Friday : 24th November 2017\n",
    "    hist_df['Black_Friday_2017'] = (pd.to_datetime('2017-11-24') - hist_df['purchase_date']).dt.days.apply(lambda x: x if x > 0 and x < 100 else 0)\n",
    "\n",
    "    #2018\n",
    "    #Mothers Day: May 13 2018\n",
    "    hist_df['Mothers_Day_2018'] = (pd.to_datetime('2018-05-13')-hist_df['purchase_date']).dt.days.apply(lambda x: x if x > 0 and x < 100 else 0)\n",
    "\n",
    "    hist_df['month_diff'] = ((datetime.datetime.today() - hist_df['purchase_date']).dt.days)//30\n",
    "    hist_df['month_diff'] += hist_df['month_lag']\n",
    "\n",
    "    # additional features \n",
    "    # Re-construct 2019/2/18: create new feature from \"purchase_amount\"\n",
    "    hist_df['duration'] = hist_df['purchase_amount'] * hist_df['month_diff']\n",
    "    hist_df['amount_month_ratio'] = hist_df['purchase_amount'] / hist_df['month_diff']\n",
    "    \n",
    "    # reduce memory usage\n",
    "    hist_df = reduce_mem_usage(hist_df)\n",
    "    gc.collect()\n",
    "    sys._clear_type_cache()\n",
    "\n",
    "    col_unique =['subsector_id', 'merchant_id', 'merchant_category_id']\n",
    "    col_seas = ['month', 'hour', 'weekofyear', 'weekday', 'day']\n",
    "\n",
    "    aggs = {}\n",
    "    for col in col_unique:\n",
    "        aggs[col] = ['nunique']\n",
    "\n",
    "    for col in col_seas:\n",
    "        aggs[col] = ['nunique', 'mean', 'min', 'max']\n",
    "\n",
    "    aggs['purchase_amount'] = ['sum','max','min','mean','var','skew']\n",
    "#     aggs['purchase_amount_new'] = ['sum','max','min','mean','var','skew']\n",
    "    aggs['installments'] = ['sum','max','mean','var','skew']\n",
    "    aggs['purchase_date'] = ['max','min']\n",
    "    \n",
    "    # Re-construct 2019/2/19: add month aggregation     \n",
    "    aggs['month'] = ['max','min','mean','var','skew']\n",
    "    aggs[\"month_session_April\"] = [\"mean\"]\n",
    "    aggs[\"month_session_August\"] = [\"mean\"]\n",
    "    aggs[\"month_session_December\"] = [\"mean\"]\n",
    "    aggs[\"month_session_February\"] = [\"mean\"]\n",
    "    aggs[\"month_session_January\"] = [\"mean\"]\n",
    "    aggs[\"month_session_July\"] = [\"mean\"]\n",
    "    aggs[\"month_session_June\"] = [\"mean\"]\n",
    "    aggs[\"month_session_March\"] = [\"mean\"]\n",
    "    aggs[\"month_session_May\"] = [\"mean\"]\n",
    "    aggs[\"month_session_November\"] = [\"mean\"]\n",
    "    aggs[\"month_session_October\"] = [\"mean\"]\n",
    "    aggs[\"month_session_September\"] = [\"mean\"]\n",
    "    \n",
    "    aggs['month_lag'] = ['max','min','mean','var','skew']\n",
    "    aggs['month_diff'] = ['max','min','mean','var','skew']\n",
    "    aggs['authorized_flag'] = ['mean']\n",
    "    aggs['weekend'] = ['mean'] # overwrite\n",
    "    aggs['weekday'] = ['mean'] # overwrite\n",
    "    aggs['day'] = ['nunique', 'mean', 'min'] # overwrite\n",
    "    aggs['category_1'] = ['mean']\n",
    "    aggs['category_2'] = ['mean']\n",
    "    aggs['category_3'] = ['mean']\n",
    "    aggs['card_id'] = ['size','count']\n",
    "    aggs['price'] = ['sum','mean','max','min','var']\n",
    "#     aggs['price_new'] = ['sum','mean','max','min','var']    \n",
    "    aggs['Christmas_Day_2017'] = ['mean']\n",
    "    aggs['Mothers_Day_2017'] = ['mean']\n",
    "    aggs['fathers_day_2017'] = ['mean']\n",
    "    aggs['Children_day_2017'] = ['mean']\n",
    "    aggs['Valentine_Day_2017'] = ['mean']\n",
    "    aggs['Black_Friday_2017'] = ['mean']\n",
    "    aggs['Mothers_Day_2018'] = ['mean']\n",
    "    aggs['duration']=['mean','min','max','var','skew']\n",
    "    aggs['amount_month_ratio']=['mean','min','max','var','skew']\n",
    "#     aggs['duration_new']=['mean','min','max','var','skew']\n",
    "#     aggs['amount_month_ratio_new']=['mean','min','max','var','skew']\n",
    "\n",
    "    for col in ['category_2','category_3']:\n",
    "        hist_df[col+'_mean'] = hist_df.groupby([col])['purchase_amount'].transform('mean')\n",
    "        hist_df[col+'_min'] = hist_df.groupby([col])['purchase_amount'].transform('min')\n",
    "        hist_df[col+'_max'] = hist_df.groupby([col])['purchase_amount'].transform('max')\n",
    "        hist_df[col+'_sum'] = hist_df.groupby([col])['purchase_amount'].transform('sum')\n",
    "        aggs[col+'_mean'] = ['mean']\n",
    "\n",
    "    hist_df = hist_df.reset_index().groupby('card_id').agg(aggs)\n",
    "\n",
    "    # change column name\n",
    "    hist_df.columns = pd.Index([e[0] + \"_\" + e[1] for e in hist_df.columns.tolist()])\n",
    "    hist_df.columns = ['hist_'+ c for c in hist_df.columns]\n",
    "\n",
    "    hist_df['hist_purchase_date_diff'] = (hist_df['hist_purchase_date_max'] - hist_df['hist_purchase_date_min']).dt.days\n",
    "    hist_df['hist_purchase_date_average'] = hist_df['hist_purchase_date_diff'] / hist_df['hist_card_id_size']\n",
    "    hist_df['hist_purchase_date_uptonow'] = (datetime.datetime.today()-hist_df['hist_purchase_date_max']).dt.days\n",
    "    hist_df['hist_purchase_date_uptomin'] = (datetime.datetime.today()-hist_df['hist_purchase_date_min']).dt.days\n",
    "\n",
    "    # reduce memory usage\n",
    "    hist_df = reduce_mem_usage(hist_df)\n",
    "    gc.collect()\n",
    "    sys._clear_type_cache()\n",
    "\n",
    "    # Re-construct 2019/2/17: solve the KeyError: \"card_id\"\n",
    "    hist_df.reset_index(inplace=True)\n",
    "    \n",
    "    return hist_df\n",
    " \n",
    "    \n",
    "# preprocessing new_merchant_transactions\n",
    "def new_merchant_transactions(num_rows=None):\n",
    "    # load csv\n",
    "    new_merchant_df = pd.read_csv(data_new_trans_path, nrows=num_rows)\n",
    "    gc.collect()\n",
    "    sys._clear_type_cache()\n",
    "\n",
    "    # fillna\n",
    "    new_merchant_df['category_2'].fillna(1.0,inplace=True)\n",
    "    new_merchant_df['category_3'].fillna('A',inplace=True)\n",
    "    new_merchant_df['merchant_id'].fillna('M_ID_00a6ca8a8a',inplace=True)\n",
    "    new_merchant_df['installments'].replace(-1, np.nan,inplace=True)\n",
    "    new_merchant_df['installments'].replace(999, np.nan,inplace=True)\n",
    "    \n",
    "    # Re-construct 2019/2/17: create new \"purchase_amount\" referred [here](https://www.kaggle.com/raddar/towards-de-anonymizing-the-data-some-insights)\n",
    "    new_merchant_df[\"purchase_amount\"] = np.round(new_merchant_df[\"purchase_amount\"] / 0.00150265118 + 497.06,2)\n",
    "    \n",
    "    # trim\n",
    "#     new_merchant_df['purchase_amount'] = new_merchant_df['purchase_amount'].apply(lambda x: min(x, 0.8))\n",
    "\n",
    "    # Y/N to 1/0\n",
    "    new_merchant_df['authorized_flag'] = new_merchant_df['authorized_flag'].map({'Y': 1, 'N': 0}).astype(int)\n",
    "    new_merchant_df['category_1'] = new_merchant_df['category_1'].map({'Y': 1, 'N': 0}).astype(int)\n",
    "    new_merchant_df['category_3'] = new_merchant_df['category_3'].map({'A':0, 'B':1, 'C':2}).astype(int)\n",
    "\n",
    "    # datetime features\n",
    "    new_merchant_df['purchase_date'] = pd.to_datetime(new_merchant_df['purchase_date'])\n",
    "    new_merchant_df['month'] = new_merchant_df['purchase_date'].dt.month\n",
    "    new_merchant_df['day'] = new_merchant_df['purchase_date'].dt.day\n",
    "    new_merchant_df['hour'] = new_merchant_df['purchase_date'].dt.hour\n",
    "    new_merchant_df['weekofyear'] = new_merchant_df['purchase_date'].dt.weekofyear\n",
    "    new_merchant_df['weekday'] = new_merchant_df['purchase_date'].dt.weekday\n",
    "    new_merchant_df['weekend'] = (new_merchant_df['purchase_date'].dt.weekday >=5).astype(int)\n",
    "\n",
    "    # Re-construct 2019/2/18: create categorical data for each month     \n",
    "    new_merchant_df[\"month_session\"] = new_merchant_df[\"month\"].map(month_dict)\n",
    "    new_merchant_df = pd.get_dummies(new_merchant_df, columns=[\"month_session\"], drop_first=False)\n",
    "    gc.collect()\n",
    "    sys._clear_type_cache()\n",
    "    # Or:\n",
    "#     month_session_cols_list = [\"month_session\"+str(ind+1) for ind in range(12)]\n",
    "#     le = preprocessing.LabelEncoder()\n",
    "#     temp = pd.DataFrame(data=le.fit_transform(new_merchant_df[\"month_session\"]), columns=month_session_cols_list)\n",
    "#     new_merchant_df = pd.concat([new_merchant_df, temp], ignore_index=True)\n",
    "#     print(new_merchant_df.isnull())\n",
    "    \n",
    "    # additional features \n",
    "    # Re-construct 2019/2/18: create new feature from \"purchase_amount\"\n",
    "    new_merchant_df['price'] = new_merchant_df['purchase_amount'] / new_merchant_df['installments']     \n",
    "    \n",
    "    #Christmas : December 25 2017\n",
    "    new_merchant_df['Christmas_Day_2017']=(pd.to_datetime('2017-12-25')-new_merchant_df['purchase_date']).dt.days.apply(lambda x: x if x > 0 and x < 100 else 0)\n",
    "    #Childrens day: October 12 2017\n",
    "    new_merchant_df['Children_day_2017']=(pd.to_datetime('2017-10-12')-new_merchant_df['purchase_date']).dt.days.apply(lambda x: x if x > 0 and x < 100 else 0)\n",
    "    #Black Friday : 24th November 2017\n",
    "    new_merchant_df['Black_Friday_2017']=(pd.to_datetime('2017-11-24') - new_merchant_df['purchase_date']).dt.days.apply(lambda x: x if x > 0 and x < 100 else 0)\n",
    "\n",
    "    #Mothers Day: May 13 2018\n",
    "    new_merchant_df['Mothers_Day_2018']=(pd.to_datetime('2018-05-13')-new_merchant_df['purchase_date']).dt.days.apply(lambda x: x if x > 0 and x < 100 else 0)\n",
    "\n",
    "    new_merchant_df['month_diff'] = ((datetime.datetime.today() - new_merchant_df['purchase_date']).dt.days)//30\n",
    "    new_merchant_df['month_diff'] += new_merchant_df['month_lag']\n",
    "\n",
    "    # additional features\n",
    "    # Re-construct 2019/2/18: create new feature from \"purchase_amount\"\n",
    "    new_merchant_df['duration'] = new_merchant_df['purchase_amount'] * new_merchant_df['month_diff']\n",
    "    new_merchant_df['amount_month_ratio'] = new_merchant_df['purchase_amount'] / new_merchant_df['month_diff']\n",
    "    \n",
    "    # reduce memory usage\n",
    "    new_merchant_df = reduce_mem_usage(new_merchant_df)\n",
    "    gc.collect()\n",
    "    sys._clear_type_cache()\n",
    "    \n",
    "    col_unique =['subsector_id', 'merchant_id', 'merchant_category_id']\n",
    "    col_seas = ['month', 'hour', 'weekofyear', 'weekday', 'day']\n",
    "\n",
    "    aggs = {}\n",
    "    for col in col_unique:\n",
    "        aggs[col] = ['nunique']\n",
    "\n",
    "    for col in col_seas:\n",
    "        aggs[col] = ['nunique', 'mean', 'min', 'max']\n",
    "\n",
    "    aggs['purchase_amount'] = ['sum','max','min','mean','var','skew']\n",
    "#     aggs['purchase_amount_new'] = ['sum','max','min','mean','var','skew']\n",
    "    aggs['installments'] = ['sum','max','mean','var','skew']\n",
    "    aggs['purchase_date'] = ['max','min']\n",
    "    \n",
    "    # Re-construct 2019/2/19: add month aggregation     \n",
    "    aggs['month'] = ['max','min','mean','var','skew']\n",
    "    aggs[\"month_session_April\"] = [\"mean\"]\n",
    "    aggs[\"month_session_August\"] = [\"mean\"]\n",
    "    aggs[\"month_session_December\"] = [\"mean\"]\n",
    "    aggs[\"month_session_February\"] = [\"mean\"]\n",
    "    aggs[\"month_session_January\"] = [\"mean\"]\n",
    "    aggs[\"month_session_July\"] = [\"mean\"]\n",
    "    aggs[\"month_session_June\"] = [\"mean\"]\n",
    "    aggs[\"month_session_March\"] = [\"mean\"]\n",
    "    aggs[\"month_session_May\"] = [\"mean\"]\n",
    "    aggs[\"month_session_November\"] = [\"mean\"]\n",
    "    aggs[\"month_session_October\"] = [\"mean\"]\n",
    "    aggs[\"month_session_September\"] = [\"mean\"]\n",
    "        \n",
    "    aggs['month_lag'] = ['max','min','mean','var','skew']\n",
    "    aggs['month_diff'] = ['mean','var','skew']\n",
    "    aggs['weekend'] = ['mean']\n",
    "    aggs['month'] = ['mean', 'min', 'max']\n",
    "    aggs['weekday'] = ['mean', 'min', 'max']\n",
    "    aggs['category_1'] = ['mean']\n",
    "    aggs['category_2'] = ['mean']\n",
    "    aggs['category_3'] = ['mean']\n",
    "    aggs['card_id'] = ['size','count']\n",
    "    aggs['price'] = ['mean','max','min','var']\n",
    "#     aggs['price_new'] = ['sum','mean','max','min','var']\n",
    "    aggs['Christmas_Day_2017'] = ['mean']\n",
    "    aggs['Children_day_2017'] = ['mean']\n",
    "    aggs['Black_Friday_2017'] = ['mean']\n",
    "    aggs['Mothers_Day_2018'] = ['mean']\n",
    "    aggs['duration']=['mean','min','max','var','skew']\n",
    "    aggs['amount_month_ratio']=['mean','min','max','var','skew']\n",
    "#     aggs['duration_new']=['mean','min','max','var','skew']\n",
    "#     aggs['amount_month_ratio_new']=['mean','min','max','var','skew']\n",
    "    \n",
    "    for col in ['category_2','category_3']:\n",
    "        new_merchant_df[col+'_mean'] = new_merchant_df.groupby([col])['purchase_amount'].transform('mean')\n",
    "        new_merchant_df[col+'_min'] = new_merchant_df.groupby([col])['purchase_amount'].transform('min')\n",
    "        new_merchant_df[col+'_max'] = new_merchant_df.groupby([col])['purchase_amount'].transform('max')\n",
    "        new_merchant_df[col+'_sum'] = new_merchant_df.groupby([col])['purchase_amount'].transform('sum')\n",
    "        aggs[col+'_mean'] = ['mean']\n",
    "\n",
    "    new_merchant_df = new_merchant_df.reset_index().groupby('card_id').agg(aggs)\n",
    "\n",
    "    # change column name\n",
    "    new_merchant_df.columns = pd.Index([e[0] + \"_\" + e[1] for e in new_merchant_df.columns.tolist()])\n",
    "    new_merchant_df.columns = ['new_'+ c for c in new_merchant_df.columns]\n",
    "\n",
    "    new_merchant_df['new_purchase_date_diff'] = (new_merchant_df['new_purchase_date_max'] - new_merchant_df['new_purchase_date_min']).dt.days\n",
    "    new_merchant_df['new_purchase_date_average'] = new_merchant_df['new_purchase_date_diff'] / new_merchant_df['new_card_id_size']\n",
    "    new_merchant_df['new_purchase_date_uptonow'] = (datetime.datetime.today()-new_merchant_df['new_purchase_date_max']).dt.days\n",
    "    new_merchant_df['new_purchase_date_uptomin'] = (datetime.datetime.today()-new_merchant_df['new_purchase_date_min']).dt.days\n",
    "\n",
    "    # reduce memory usage\n",
    "    new_merchant_df = reduce_mem_usage(new_merchant_df)\n",
    "    gc.collect()\n",
    "    sys._clear_type_cache()\n",
    "\n",
    "    # Re-construct 2019/2/17: solve the KeyError: \"card_id\"\n",
    "    new_merchant_df.reset_index(inplace=True)\n",
    "    \n",
    "    # Re-construct 2019/2/19: add features from merchant data file\n",
    "    # data_merchant_agg = pd.read_csv(data_merchants_path)\n",
    "    # new_merchant_df = new_merchant_df.rename(columns={\"new_merchant_id_nunique\": \"merchant_id\"})\n",
    "    # new_merchant_df = aggregate_merchants(new_merchant_df, data_merchant_agg)\n",
    "    # print(\"Checking merge id for the next step: {} and {}\".format((\"merchant_id\" in new_merchant_df.columns), (\"merchant_id\" in data_merchant_agg.columns)))\n",
    "    # # reduce memory usage\n",
    "    # new_merchant_df = reduce_mem_usage(new_merchant_df)\n",
    "    # del  data_merchant_agg\n",
    "    # del new_merchant_df[\"merchant_id\"]\n",
    "    \n",
    "    return new_merchant_df\n",
    "\n",
    "\n",
    "# additional features\n",
    "def additional_features(df):\n",
    "    df['hist_first_buy'] = (df['hist_purchase_date_min'] - df['first_active_month']).dt.days\n",
    "    df['hist_last_buy'] = (df['hist_purchase_date_max'] - df['first_active_month']).dt.days\n",
    "    df['new_first_buy'] = (df['new_purchase_date_min'] - df['first_active_month']).dt.days\n",
    "    df['new_last_buy'] = (df['new_purchase_date_max'] - df['first_active_month']).dt.days\n",
    "\n",
    "    date_features=['hist_purchase_date_max','hist_purchase_date_min',\n",
    "                   'new_purchase_date_max', 'new_purchase_date_min']\n",
    "\n",
    "    for f in date_features:\n",
    "        df[f] = df[f].astype(np.int64) * 1e-9\n",
    "\n",
    "    df['card_id_total'] = df['new_card_id_size'] + df['hist_card_id_size']\n",
    "    df['card_id_cnt_total'] = df['new_card_id_count'] + df['hist_card_id_count']\n",
    "    df['card_id_cnt_ratio'] = df['new_card_id_count'] / df['hist_card_id_count']\n",
    "    df['purchase_amount_total'] = df['new_purchase_amount_sum'] + df['hist_purchase_amount_sum']\n",
    "    df['purchase_amount_mean'] = df['new_purchase_amount_mean'] + df['hist_purchase_amount_mean']\n",
    "    df['purchase_amount_max'] = df['new_purchase_amount_max'] + df['hist_purchase_amount_max']\n",
    "    df['purchase_amount_min'] = df['new_purchase_amount_min'] + df['hist_purchase_amount_min']\n",
    "    df['purchase_amount_ratio'] = df['new_purchase_amount_sum'] / df['hist_purchase_amount_sum']\n",
    "    df['month_diff_mean'] = df['new_month_diff_mean'] + df['hist_month_diff_mean']\n",
    "    df['month_diff_ratio'] = df['new_month_diff_mean'] / df['hist_month_diff_mean']\n",
    "    df['month_lag_mean'] = df['new_month_lag_mean'] + df['hist_month_lag_mean']\n",
    "    df['month_lag_max'] = df['new_month_lag_max'] + df['hist_month_lag_max']\n",
    "    df['month_lag_min'] = df['new_month_lag_min'] + df['hist_month_lag_min']\n",
    "    df['category_1_mean'] = df['new_category_1_mean'] + df['hist_category_1_mean']\n",
    "    df['installments_total'] = df['new_installments_sum'] + df['hist_installments_sum']\n",
    "    df['installments_mean'] = df['new_installments_mean'] + df['hist_installments_mean']\n",
    "    df['installments_max'] = df['new_installments_max'] + df['hist_installments_max']\n",
    "    df['installments_ratio'] = df['new_installments_sum'] / df['hist_installments_sum']\n",
    "    df['price_total'] = df['purchase_amount_total'] / df['installments_total']\n",
    "    df['price_mean'] = df['purchase_amount_mean'] / df['installments_mean']\n",
    "    df['price_max'] = df['purchase_amount_max'] / df['installments_max']\n",
    "    df['duration_mean'] = df['new_duration_mean'] + df['hist_duration_mean']\n",
    "    df['duration_min'] = df['new_duration_min'] + df['hist_duration_min']\n",
    "    df['duration_max'] = df['new_duration_max'] + df['hist_duration_max']\n",
    "    df['amount_month_ratio_mean']=df['new_amount_month_ratio_mean'] + df['hist_amount_month_ratio_mean']\n",
    "    df['amount_month_ratio_min']=df['new_amount_month_ratio_min'] + df['hist_amount_month_ratio_min']\n",
    "    df['amount_month_ratio_max']=df['new_amount_month_ratio_max'] + df['hist_amount_month_ratio_max']\n",
    "    df['new_CLV'] = df['new_card_id_count'] * df['new_purchase_amount_sum'] / df['new_month_diff_mean']\n",
    "    df['hist_CLV'] = df['hist_card_id_count'] * df['hist_purchase_amount_sum'] / df['hist_month_diff_mean']\n",
    "    df['CLV_ratio'] = df['new_CLV'] / df['hist_CLV']\n",
    "    \n",
    "    df = reduce_mem_usage(df)\n",
    "    \n",
    "    return df"
   ]
  },
  {
   "cell_type": "code",
   "execution_count": 0,
   "metadata": {
    "id": "17CPLilcEjQL",
    "colab_type": "code",
    "colab": {}
   },
   "outputs": [],
   "source": [
    "# Display/plot feature importance\n",
    "def display_importances(feature_importance_df_):\n",
    "    cols = feature_importance_df_[[\"feature\", \"importance\"]].groupby(\"feature\").mean().sort_values(by=\"importance\", ascending=False)[:40].index\n",
    "    best_features = feature_importance_df_.loc[feature_importance_df_.feature.isin(cols)]\n",
    "\n",
    "    plt.figure(figsize=(8, 10))\n",
    "    sns.barplot(x=\"importance\", y=\"feature\", data=best_features.sort_values(by=\"importance\", ascending=False))\n",
    "    plt.title('LightGBM Features (avg over folds)')\n",
    "    plt.tight_layout()\n",
    "    plt.savefig('./submit/lgbm_importances_20190219.png')\n",
    "    \n",
    "    return best_features\n",
    "\n",
    "    \n",
    "# LightGBM GBDT with KFold or Stratified KFold\n",
    "def kfold_lightgbm(train_df, test_df, num_folds, stratified=False, debug=False):\n",
    "    print(\"Starting LightGBM. Train shape: {}, test shape: {}\".format(train_df.shape, test_df.shape))\n",
    "\n",
    "    # Cross validation model\n",
    "    if stratified:\n",
    "        folds = StratifiedKFold(n_splits= num_folds, shuffle=True, random_state=326)\n",
    "    else:\n",
    "        folds = KFold(n_splits= num_folds, shuffle=True, random_state=326)\n",
    "\n",
    "    # Create arrays and dataframes to store results\n",
    "    oof_preds = np.zeros(train_df.shape[0])\n",
    "    sub_preds = np.zeros(test_df.shape[0])\n",
    "    feature_importance_df = pd.DataFrame()\n",
    "    feats = [f for f in train_df.columns if f not in FEATS_EXCLUDED]\n",
    "    \n",
    "    # Re-construct 2019/2/17: create dic to store loss\n",
    "    loss_train, loss_valid = {each_fold: [] for each_fold in range(num_folds)}, {each_fold: [] for each_fold in range(num_folds)}\n",
    "    \n",
    "    # k-fold\n",
    "    for n_fold, (train_idx, valid_idx) in enumerate(folds.split(train_df[feats], train_df['outliers'])):\n",
    "        train_x, train_y = train_df[feats].iloc[train_idx], train_df['target'].iloc[train_idx]\n",
    "        valid_x, valid_y = train_df[feats].iloc[valid_idx], train_df['target'].iloc[valid_idx]\n",
    "        \n",
    "        # set data structure\n",
    "        lgb_train = lgb.Dataset(train_x,\n",
    "                                label=train_y,\n",
    "                                free_raw_data=False)\n",
    "        lgb_test = lgb.Dataset(valid_x,\n",
    "                               label=valid_y,\n",
    "                               free_raw_data=False)\n",
    "\n",
    "        # params optimized by optuna\n",
    "        params ={\n",
    "                'task': 'train',\n",
    "                'boosting': 'goss',\n",
    "                'objective': 'regression',\n",
    "                'metric': 'rmse',\n",
    "                'learning_rate': 0.01,\n",
    "                'subsample': 0.9855232997390695,\n",
    "                'max_depth': 7,\n",
    "                'top_rate': 0.9064148448434349,\n",
    "                'num_leaves': 63,\n",
    "                'min_child_weight': 41.9612869171337,\n",
    "                'other_rate': 0.0721768246018207,\n",
    "                'reg_alpha': 9.677537745007898,\n",
    "                'colsample_bytree': 0.5665320670155495,\n",
    "                'min_split_gain': 9.820197773625843,\n",
    "                'reg_lambda': 8.2532317400459,\n",
    "                'min_data_in_leaf': 21,\n",
    "                'verbose': -1,\n",
    "                'seed':int(2**n_fold),\n",
    "                'bagging_seed':int(2**n_fold),\n",
    "                'drop_seed':int(2**n_fold)\n",
    "                }\n",
    "\n",
    "        reg = lgb.train(\n",
    "                        params,\n",
    "                        lgb_train,\n",
    "                        valid_sets=[lgb_train, lgb_test],\n",
    "                        valid_names=['train', 'test'],\n",
    "                        num_boost_round=10000,\n",
    "                        early_stopping_rounds= 200,\n",
    "                        verbose_eval=100\n",
    "                        )\n",
    "\n",
    "        oof_preds[valid_idx] = reg.predict(valid_x, num_iteration=reg.best_iteration)\n",
    "        sub_preds += reg.predict(test_df[feats], num_iteration=reg.best_iteration) / folds.n_splits\n",
    "        gc.collect()\n",
    "        sys._clear_type_cache()\n",
    "        \n",
    "        # Re-construct 2019/2/17: store two kinds of loss        \n",
    "        loss_train[n_fold].append(rmse(oof_preds[train_idx], train_y[train_idx]))\n",
    "        loss_valid[n_fold].append(rmse(oof_preds[valid_idx], valid_y[valid_idx]))\n",
    "    \n",
    "        fold_importance_df = pd.DataFrame()\n",
    "        fold_importance_df[\"feature\"] = feats\n",
    "        fold_importance_df[\"importance\"] = np.log1p(reg.feature_importance(importance_type='gain', iteration=reg.best_iteration))\n",
    "        fold_importance_df[\"fold\"] = n_fold + 1\n",
    "        feature_importance_df = pd.concat([feature_importance_df, fold_importance_df], axis=0)\n",
    "        print('Fold %2d RMSE : %.6f' % (n_fold + 1, rmse(valid_y, oof_preds[valid_idx])))\n",
    "        del train_x, train_y, valid_x, valid_y\n",
    "        print(\"Display the importance range of fold {}: \".format(n_fold+1))\n",
    "        print(sorted(list(zip(reg.feature_importance(importance_type='gain', iteration=reg.best_iteration), train_df.columns)), reverse=True))\n",
    "        del reg\n",
    "        gc.collect()\n",
    "        \n",
    "    # display importances\n",
    "    best_features_df = display_importances(feature_importance_df)\n",
    "\n",
    "    # Re-construct 2019/2/17: display final score\n",
    "    print('Final RMSE : %.6f' % (rmse(train_df['target'], oof_preds)))\n",
    " \n",
    "    # Re-construct 2019/2/16: evaluate modeling results\n",
    "#     with timer(\"Evaluate modeling results\"):\n",
    "#         best_features_df.set_index(\"fold\", inplace=True)\n",
    "#         best_features_df.loc[2, :].sort_values(by=\"importance\",ascending=False)\n",
    "        \n",
    "#         loss_train_df = pd.DataFrame(loss_train)\n",
    "#         loss_valid_df = pd.DataFrame(loss_valid)\n",
    "#         plt.plot(np.arange(loss_train_df.shape[1]), loss_train_df.loc[0, :].values, \"bo-\", np.arange(loss_valid_df.shape[1]), loss_valid_df.loc[0, :].values, \"ro-\");\n",
    "\n",
    "    if not debug:\n",
    "        # save submission file\n",
    "        \n",
    "        test_df.loc[:,'target'] = sub_preds\n",
    "        test_df = test_df.reset_index()\n",
    "        \n",
    "        test_df[['card_id', 'target']].to_csv(submission_file_name, index=False)\n",
    "        \n",
    "    return best_features_df"
   ]
  },
  {
   "cell_type": "code",
   "execution_count": 19,
   "metadata": {
    "id": "wZ5mbtm2EkDA",
    "colab_type": "code",
    "outputId": "0da15a8c-5f46-400c-f21b-cbcf5afe4fc0",
    "colab": {
     "base_uri": "https://localhost:8080/",
     "height": 5173.0
    }
   },
   "outputs": [
    {
     "name": "stdout",
     "output_type": "stream",
     "text": [
      "Train samples: 201917, test samples: 123623\n",
      "train & test - done in 4s\n",
      "Checking merge id for the next step: True and True\n",
      "new merchants - done in 449s\n",
      "[Output] expected to be end in 5 runs, this is 1 run...\n",
      "[Output] expected to be end in 5 runs, this is 2 run...\n",
      "[Output] expected to be end in 5 runs, this is 3 run...\n",
      "[Output] expected to be end in 5 runs, this is 4 run...\n",
      "[Output] expected to be end in 5 runs, this is 5 run...\n",
      "historical transactions - done in 2602s\n",
      "additional features - done in 13s\n",
      "split train & test - done in 1s\n",
      "Starting LightGBM. Train shape: (201917, 255), test shape: (123623, 255)\n",
      "Training until validation scores don't improve for 200 rounds.\n",
      "[100]\ttrain's rmse: 3.65709\ttest's rmse: 3.73904\n",
      "[200]\ttrain's rmse: 3.57703\ttest's rmse: 3.7007\n",
      "[300]\ttrain's rmse: 3.53143\ttest's rmse: 3.68683\n",
      "[400]\ttrain's rmse: 3.49876\ttest's rmse: 3.68149\n",
      "[500]\ttrain's rmse: 3.47217\ttest's rmse: 3.67903\n",
      "[600]\ttrain's rmse: 3.45056\ttest's rmse: 3.67732\n",
      "[700]\ttrain's rmse: 3.43047\ttest's rmse: 3.67641\n",
      "[800]\ttrain's rmse: 3.41271\ttest's rmse: 3.67599\n",
      "[900]\ttrain's rmse: 3.39673\ttest's rmse: 3.67573\n",
      "[1000]\ttrain's rmse: 3.38057\ttest's rmse: 3.67562\n",
      "[1100]\ttrain's rmse: 3.36484\ttest's rmse: 3.67555\n",
      "[1200]\ttrain's rmse: 3.34976\ttest's rmse: 3.67601\n",
      "Early stopping, best iteration is:\n",
      "[1082]\ttrain's rmse: 3.36735\ttest's rmse: 3.6753\n"
     ]
    },
    {
     "name": "stderr",
     "output_type": "stream",
     "text": [
      "/usr/local/lib/python3.6/dist-packages/numpy/core/_methods.py:32: RuntimeWarning: overflow encountered in reduce\n",
      "  return umr_sum(a, axis, dtype, out, keepdims)\n"
     ]
    },
    {
     "name": "stdout",
     "output_type": "stream",
     "text": [
      "Fold  1 RMSE : 3.675301\n",
      "Display the importance range of fold 0: \n",
      "[(1722504.53130126, 'hist_month_session_October_mean'), (1245768.3355789185, 'hist_month_session_May_mean'), (1064626.544354558, 'new_month_session_May_mean'), (966407.1480429173, 'hist_month_lag_var'), (891204.7057487965, 'hist_day_min'), (887404.9064080715, 'hist_month_mean'), (880089.6532626152, 'hist_last_buy'), (791863.7042909265, 'installments_ratio'), (762751.5127724409, 'hist_duration_max'), (676576.1144617796, 'active_months_lag3_mean'), (577609.8118052036, 'hist_month_lag_min'), (467169.544111073, 'hist_month_diff_min'), (443051.05935025215, 'new_amount_month_ratio_max'), (374805.4403216839, 'new_amount_month_ratio_mean'), (354634.23593604565, 'new_weekday_mean'), (342989.8575987816, 'new_month_lag_var'), (303635.2739944458, 'hist_month_session_November_mean'), (302686.8853180823, 'hist_duration_skew'), (282298.26140892506, 'new_day_nunique'), (274217.3909525871, 'new_weekday_max'), (265715.14645951986, 'hist_amount_month_ratio_max'), (246372.26922430098, 'new_amount_month_ratio_var'), (239516.1608272791, 'hist_purchase_date_min'), (238241.12734174728, 'new_hour_mean'), (222102.59156799316, 'new_month_session_June_mean'), (221995.45958846807, 'hist_duration_min'), (220628.56189465523, 'purchase_amount_total'), (217980.75925445557, 'hist_category_2_mean_mean'), (213709.44523876905, 'new_amount_month_ratio_min'), (199272.7707438618, 'card_id_total'), (198965.63358402252, 'new_hour_max'), (197333.53628785908, 'hist_month_session_July_mean'), (192903.4830263853, 'hist_amount_month_ratio_mean'), (189738.79253411293, 'most_recent_sales_range_D_mean'), (181970.84548699856, 'hist_category_3_mean'), (168602.52545762062, 'hist_installments_skew'), (165720.77191781998, 'hist_installments_var'), (165345.45374405384, 'hist_card_id_size'), (164933.2538086176, 'outliers'), (163167.22725081444, 'hist_amount_month_ratio_min'), (162497.9215632677, 'feature_min'), (160194.00774276257, 'hist_card_id_count'), (160189.4195612669, 'hist_merchant_category_id_nunique'), (159679.9321627617, 'hist_weekend_mean'), (158882.85594916344, 'hist_month_session_June_mean'), (158214.46754097939, 'hist_price_min'), (157399.2393116951, 'most_recent_sales_range_E_mean'), (152918.70346212387, 'hist_month_diff_var'), (151301.77082544565, 'hist_month_lag_max'), (149458.38148355484, 'most_recent_sales_range_C_mean'), (148634.7022331953, 'target'), (145775.18788194656, 'hist_hour_min'), (145109.56208530068, 'hist_Children_day_2017_mean'), (144833.33912445605, 'new_Christmas_Day_2017_mean'), (144760.95278823376, 'hist_authorized_flag_mean'), (144370.76064658165, 'hist_Mothers_Day_2018_mean'), (144133.3937742412, 'hist_duration_var'), (140032.72835540771, 'price_total'), (139078.1023182869, 'new_category_1_mean'), (138317.49266791344, 'hist_purchase_amount_var'), (134833.13387656212, 'hist_merchant_id_nunique'), (132444.72058796883, 'hist_month_session_January_mean'), (130773.07568413019, 'price_mean'), (130706.65474496037, 'new_price_var'), (130515.76938307285, 'hist_day_mean'), (129458.34498021007, 'new_month_mean'), (126988.61027622223, 'new_hour_min'), (126815.65054178238, 'hist_subsector_id_nunique'), (126732.16556549072, 'hist_purchase_date_max'), (126535.03766018152, 'new_duration_min'), (125198.3455722332, 'hist_Mothers_Day_2017_mean'), (124574.96191366762, 'hist_purchase_date_diff'), (123990.7588891983, 'card_id_cnt_ratio'), (123788.95084905624, 'hist_hour_mean'), (123502.83641785383, 'hist_hour_max'), (121138.72841739655, 'card_id_cnt_total'), (121068.80381512642, 'hist_weekofyear_max'), (120136.31499099731, 'hist_purchase_amount_skew'), (119897.97103655338, 'new_price_mean'), (119331.34380507469, 'new_weekday_min'), (115098.38087686896, 'new_purchase_amount_sum'), (115093.73076415062, 'new_day_mean'), (112306.99982404709, 'hist_month_session_September_mean'), (111531.88671016693, 'hist_purchase_amount_mean'), (111392.88404536247, 'hist_month_session_March_mean'), (110912.28223526478, 'numerical_2_mean'), (110047.4582721591, 'hist_installments_max'), (108002.6748661995, 'hist_month_diff_skew'), (107121.83737885952, 'hist_category_2_mean'), (103230.14786046743, 'hist_fathers_day_2017_mean'), (102728.55792665482, 'quarter'), (102470.00367212296, 'elapsed_time'), (102450.5524597168, 'hist_weekofyear_mean'), (102402.2421438694, 'new_category_3_mean'), (102269.79126405716, 'hist_purchase_amount_min'), (97757.535790205, 'hist_amount_month_ratio_var'), (95525.13968089223, 'hist_amount_month_ratio_skew'), (95465.95805756003, 'new_duration_mean'), (94903.47487038374, 'hist_purchase_amount_max'), (92437.47781260137, 'hist_month_session_December_mean'), (89720.79091268778, 'month_diff_ratio'), (88828.07289880514, 'days_feature1'), (87325.3070473671, 'hist_month_lag_mean'), (85648.48120388389, 'hist_month_diff_max'), (85062.97747561336, 'purchase_amount_min'), (84627.77053710818, 'month_diff_mean'), (84428.42676353455, 'new_installments_var'), (84427.88831543922, 'purchase_amount_mean'), (84076.40882015228, 'new_month_min'), (83099.27672147751, 'new_first_buy'), (81034.03134346008, 'hist_month_session_August_mean'), (80992.48051333427, 'new_month_session_November_mean'), (80241.06622028351, 'hist_price_sum'), (80169.83992433548, 'new_price_min'), (79991.60112190247, 'new_card_id_count'), (77737.30427646637, 'hist_category_3_mean_mean'), (77461.44994837046, 'new_weekend_mean'), (73269.98019981384, 'hist_month_diff_mean'), (73264.92719006538, 'new_Mothers_Day_2018_mean'), (73178.53256642818, 'hist_hour_nunique'), (72792.90264093876, 'numerical_2_sum'), (72156.89291667938, 'new_last_buy'), (70983.77254915237, 'hist_installments_mean'), (69002.4092835784, 'new_Black_Friday_2017_mean'), (68422.72117471695, 'purchase_amount_ratio'), (67963.69195175171, 'first_active_month'), (65731.54270279408, 'hist_category_1_mean'), (65427.072949409485, 'new_price_max'), (64510.5511674881, 'new_weekofyear_nunique'), (64196.682211875916, 'new_month_diff_skew'), (64111.054256916046, 'hist_day_nunique'), (62551.477258205414, 'new_day_max'), (62043.47844672203, 'hist_month_var'), (61616.63664150238, 'new_card_id_size'), (60277.787662029266, 'hist_Black_Friday_2017_mean'), (60237.82370746136, 'hist_Christmas_Day_2017_mean'), (60174.13748526573, 'hist_price_max'), (60002.46469068527, 'hist_duration_mean'), (58508.70413094759, 'new_month_session_September_mean'), (58229.06290870905, 'new_month_lag_max'), (57964.119584560394, 'new_day_min'), (57799.06455409527, 'hist_weekofyear_min'), (56776.2299592495, 'hist_weekday_mean'), (56392.07059884071, 'days_feature3'), (56159.80235004425, 'hist_month_lag_skew'), (56045.710675537586, 'new_month_session_October_mean'), (54835.16689193249, 'hist_price_var'), (54719.052478939295, 'month_lag_max'), (54645.8256893754, 'new_category_2_mean'), (53144.97413158417, 'new_duration_skew'), (52825.87149691582, 'installments_mean'), (51239.12751895189, 'new_purchase_amount_var'), (50599.868200302124, 'new_purchase_date_max'), (50587.92339408398, 'new_purchase_amount_max'), (50384.83006167412, 'hist_month_skew'), (50292.429755449295, 'new_installments_sum'), (48628.775097846985, 'hist_purchase_date_average'), (48499.5763002038, 'hist_month_session_April_mean'), (48290.6383664608, 'hist_Valentine_Day_2017_mean'), (45668.298060655594, 'new_installments_mean'), (45053.42138272524, 'feature_sum'), (42971.63538181782, 'installments_total'), (42969.97607409954, 'days_feature2'), (42799.781737327576, 'new_Children_day_2017_mean'), (41875.36057949066, 'new_duration_var'), (41398.29496574402, 'new_installments_skew'), (38501.88739413023, 'hist_first_buy'), (38040.76510095596, 'new_purchase_amount_min'), (37187.75085528777, 'new_duration_max'), (36546.97831773758, 'month_lag_mean'), (36063.00832366943, 'feature_var'), (35972.48243713379, 'new_installments_max'), (35454.480944514275, 'installments_max'), (35434.128680706024, 'new_purchase_amount_skew'), (35364.63181877136, 'hist_month_max'), (34581.626062870026, 'new_month_lag_skew'), (33855.42524421215, 'hist_purchase_date_uptomin'), (31154.85079163313, 'month_lag_min'), (30115.778791427612, 'new_subsector_id_nunique'), (30094.153767585754, 'new_month_lag_mean'), (28930.70674610138, 'hist_month_session_February_mean'), (27157.21005344391, 'hist_purchase_amount_sum'), (26423.297718316317, 'hist_installments_sum'), (25544.286833286285, 'days_feature1_ratio'), (25236.455103576183, 'hist_price_mean'), (23217.991284370422, 'purchase_amount_max'), (21655.1174223572, 'hist_purchase_date_uptonow'), (21187.137504577637, 'new_month_session_February_mean'), (20827.422239780426, 'new_month_session_July_mean'), (20582.089564323425, 'card_id'), (19832.30012702942, 'numerical_1_sum'), (19481.76329612732, 'days_feature3_ratio'), (19070.71926689148, 'feature_max'), (18981.483840942383, 'new_month_session_January_mean'), (18530.277578353882, 'new_month_diff_mean'), (17405.425437927246, 'new_month_session_March_mean'), (17164.050216674805, 'new_weekofyear_mean'), (17079.406547546387, 'new_purchase_amount_mean'), (15971.058580875397, 'new_month_diff_var'), (15704.6655960083, 'new_weekofyear_min'), (15469.153751373291, 'new_month_max'), (15003.245566368103, 'new_month_lag_min'), (14550.8175740242, 'feature_3'), (13927.978323101997, 'feature_mean'), (13714.146788835526, 'hist_month_min'), (13203.153176307678, 'days_feature2_ratio'), (13066.738565444946, 'new_hour_nunique'), (12306.013630867004, 'new_merchant_category_id_nunique'), (10561.201404094696, 'hist_weekofyear_nunique'), (7787.237582683563, 'new_month_session_August_mean'), (7481.889627456665, 'numerical_1_mean'), (6894.818378448486, 'new_purchase_date_min'), (5717.980036973953, 'feature_1'), (4687.612854003906, 'new_weekofyear_max'), (980.5079879760742, 'feature_2'), (102.84600067138672, 'new_month_session_April_mean'), (0.0, 'new_purchase_date_uptonow'), (0.0, 'new_purchase_date_uptomin'), (0.0, 'new_purchase_date_diff'), (0.0, 'new_purchase_date_average'), (0.0, 'new_month_session_December_mean'), (0.0, 'new_category_3_mean_mean'), (0.0, 'new_category_2_mean_mean'), (0.0, 'new_amount_month_ratio_skew'), (0.0, 'most_recent_sales_range_B_mean'), (0.0, 'most_recent_sales_range_A_mean'), (0.0, 'most_recent_purchases_range_E_mean'), (0.0, 'most_recent_purchases_range_D_mean'), (0.0, 'most_recent_purchases_range_C_mean'), (0.0, 'most_recent_purchases_range_B_mean'), (0.0, 'most_recent_purchases_range_A_mean'), (0.0, 'category_4_sum'), (0.0, 'category_4_mean'), (0.0, 'category_2_sum'), (0.0, 'category_2_mean'), (0.0, 'category_1_sum'), (0.0, 'category_1_mean'), (0.0, 'active_months_lag6_min'), (0.0, 'active_months_lag6_mean'), (0.0, 'active_months_lag6_max'), (0.0, 'active_months_lag3_min'), (0.0, 'active_months_lag3_max'), (0.0, 'active_months_lag12_min'), (0.0, 'active_months_lag12_mean'), (0.0, 'active_months_lag12_max')]\n",
      "Training until validation scores don't improve for 200 rounds.\n",
      "[100]\ttrain's rmse: 3.6502\ttest's rmse: 3.78362\n",
      "[200]\ttrain's rmse: 3.5708\ttest's rmse: 3.74654\n",
      "[300]\ttrain's rmse: 3.52665\ttest's rmse: 3.73524\n",
      "[400]\ttrain's rmse: 3.49482\ttest's rmse: 3.73004\n",
      "[500]\ttrain's rmse: 3.46975\ttest's rmse: 3.72842\n",
      "[600]\ttrain's rmse: 3.44889\ttest's rmse: 3.7283\n",
      "[700]\ttrain's rmse: 3.42882\ttest's rmse: 3.72872\n",
      "Early stopping, best iteration is:\n",
      "[583]\ttrain's rmse: 3.45225\ttest's rmse: 3.72812\n"
     ]
    },
    {
     "name": "stderr",
     "output_type": "stream",
     "text": [
      "/usr/local/lib/python3.6/dist-packages/numpy/core/_methods.py:32: RuntimeWarning: overflow encountered in reduce\n",
      "  return umr_sum(a, axis, dtype, out, keepdims)\n"
     ]
    },
    {
     "name": "stdout",
     "output_type": "stream",
     "text": [
      "Fold  2 RMSE : 3.728111\n",
      "Display the importance range of fold 1: \n",
      "[(2276599.1390766203, 'hist_month_session_October_mean'), (1067244.3032097816, 'new_month_session_May_mean'), (926590.0389471054, 'hist_month_mean'), (890370.7740364075, 'hist_month_lag_var'), (888424.8979854584, 'hist_day_min'), (790050.6385760307, 'hist_duration_max'), (785140.5795477033, 'hist_last_buy'), (669601.3568916321, 'installments_ratio'), (595463.9967400134, 'hist_month_lag_min'), (593603.8442139626, 'active_months_lag3_mean'), (542120.2098445892, 'hist_month_session_May_mean'), (374355.0281600952, 'hist_month_session_November_mean'), (341574.087785244, 'new_day_nunique'), (331444.6851711273, 'hist_month_diff_min'), (312014.8810316324, 'new_amount_month_ratio_mean'), (301280.33750629425, 'new_weekday_mean'), (290189.33262355626, 'new_amount_month_ratio_max'), (280710.8563671112, 'new_month_lag_var'), (246038.15583610535, 'hist_duration_min'), (233604.49867248535, 'new_month_session_June_mean'), (231250.1674041748, 'new_amount_month_ratio_var'), (224552.81938362122, 'hist_amount_month_ratio_max'), (191349.8448624611, 'hist_duration_skew'), (181886.29081392288, 'new_weekday_max'), (177252.2426147461, 'card_id_cnt_total'), (176461.92316818237, 'hist_month_session_July_mean'), (173951.70808315277, 'new_hour_mean'), (166833.5336341858, 'purchase_amount_total'), (155565.47512674332, 'card_id_total'), (151121.32177257538, 'new_hour_max'), (150477.25824058056, 'hist_purchase_date_min'), (150344.60221862793, 'hist_Mothers_Day_2018_mean'), (144758.64240133762, 'hist_price_min'), (143704.56526458263, 'new_amount_month_ratio_min'), (142963.58262896538, 'hist_day_mean'), (140386.7677345276, 'hist_month_session_June_mean'), (137409.8170490265, 'hist_hour_min'), (134887.92581558228, 'most_recent_sales_range_E_mean'), (134843.75788974762, 'most_recent_sales_range_D_mean'), (134166.05282783508, 'hist_weekend_mean'), (131463.02694702148, 'hist_merchant_id_nunique'), (131249.09478473663, 'hist_category_2_mean_mean'), (127853.81211709976, 'hist_authorized_flag_mean'), (126625.98296928406, 'hist_weekofyear_max'), (121618.24235153198, 'new_Christmas_Day_2017_mean'), (117561.37103843689, 'hist_merchant_category_id_nunique'), (114083.19957351685, 'hist_purchase_amount_var'), (112149.56950998306, 'hist_amount_month_ratio_min'), (111022.3626909256, 'new_weekday_min'), (110821.83003139496, 'new_category_1_mean'), (110747.53693580627, 'new_price_var'), (109393.52400869131, 'hist_duration_var'), (108563.2605266571, 'hist_card_id_size'), (108339.21022796631, 'hist_installments_skew'), (107180.25131225586, 'hist_Mothers_Day_2017_mean'), (104695.19823798537, 'outliers'), (104480.1131594181, 'numerical_2_mean'), (103480.72120643407, 'hist_hour_mean'), (103416.64243006706, 'hist_amount_month_ratio_mean'), (102721.1838312149, 'new_day_mean'), (100725.42487287521, 'hist_purchase_amount_max'), (100039.27558517456, 'new_month_lag_max'), (100012.9486951828, 'new_duration_min'), (99930.40426635742, 'hist_month_diff_var'), (98200.61603608727, 'hist_category_3_mean'), (97794.88750839233, 'hist_card_id_count'), (97108.06595659256, 'new_month_session_November_mean'), (96911.74489974976, 'hist_category_2_mean'), (96772.75167655945, 'feature_min'), (94721.1864438057, 'new_duration_mean'), (91091.9797449112, 'new_purchase_amount_sum'), (90628.27883386612, 'hist_subsector_id_nunique'), (90323.49793720245, 'hist_month_session_January_mean'), (90134.63753128052, 'target'), (89896.42765593529, 'price_mean'), (89653.91998672485, 'card_id_cnt_ratio'), (87626.92448997498, 'hist_category_3_mean_mean'), (87489.9450969696, 'hist_purchase_date_diff'), (85353.12235361338, 'hist_purchase_amount_min'), (84852.57065868378, 'new_first_buy'), (83978.33502817154, 'hist_weekofyear_mean'), (83831.88556289673, 'price_total'), (82968.34112930298, 'new_month_min'), (81278.94230222702, 'new_month_mean'), (81272.91860198975, 'new_installments_var'), (80533.8501522541, 'hist_Children_day_2017_mean'), (80529.88846588135, 'hist_month_session_September_mean'), (79370.38526535034, 'quarter'), (78147.50669193268, 'most_recent_sales_range_C_mean'), (78009.26786375046, 'hist_installments_var'), (77247.75767230988, 'hist_installments_max'), (76625.57110857964, 'hist_hour_max'), (76185.23980763555, 'hist_month_session_March_mean'), (75724.31789398193, 'hist_amount_month_ratio_skew'), (72596.316239357, 'hist_month_lag_max'), (70739.82430648804, 'hist_purchase_date_max'), (68802.53598690033, 'hist_month_lag_mean'), (68398.03017139435, 'new_hour_min'), (67700.7214307785, 'elapsed_time'), (67354.12238359451, 'hist_month_diff_max'), (66019.036403656, 'hist_month_session_December_mean'), (65792.3367023468, 'hist_month_session_August_mean'), (65658.17331933975, 'hist_amount_month_ratio_var'), (65025.86387044191, 'hist_purchase_amount_skew'), (64807.27000999451, 'days_feature1'), (64744.85503768921, 'hist_fathers_day_2017_mean'), (64036.290477871895, 'month_diff_ratio'), (61921.46769142151, 'new_price_mean'), (61452.71007728577, 'new_category_3_mean'), (61257.08717441559, 'new_last_buy'), (60552.01653146744, 'new_day_max'), (60277.917263269424, 'purchase_amount_mean'), (57963.28134059906, 'hist_weekday_mean'), (57498.741258621216, 'hist_duration_mean'), (56186.08100128174, 'new_Black_Friday_2017_mean'), (56053.72645187378, 'hist_month_diff_skew'), (54341.149089574814, 'month_diff_mean'), (53283.57005929947, 'hist_price_sum'), (52349.95651721954, 'first_active_month'), (51466.115158081055, 'new_weekend_mean'), (51162.855301856995, 'new_Mothers_Day_2018_mean'), (49440.540937423706, 'hist_hour_nunique'), (48556.54297721386, 'purchase_amount_ratio'), (48380.48914718628, 'hist_purchase_amount_mean'), (48079.92861175537, 'new_installments_skew'), (47910.7481675148, 'month_lag_max'), (46801.985401153564, 'new_duration_skew'), (46642.66377925873, 'new_day_min'), (46349.14594364166, 'new_price_min'), (45921.67613983154, 'new_price_max'), (45100.453815460205, 'hist_installments_mean'), (44705.108687877655, 'purchase_amount_min'), (44358.21276855469, 'new_weekofyear_nunique'), (43023.011731147766, 'hist_price_max'), (42834.61157989502, 'new_purchase_amount_var'), (42424.942529678345, 'days_feature3'), (41478.90177536011, 'hist_month_var'), (39620.85266304016, 'hist_purchase_date_average'), (38735.171926021576, 'new_month_diff_skew'), (38018.1600894928, 'month_lag_mean'), (38007.114052295685, 'hist_Black_Friday_2017_mean'), (37343.61624765396, 'hist_month_lag_skew'), (36731.88771820068, 'new_card_id_size'), (36690.356647491455, 'new_category_2_mean'), (36218.419531822205, 'hist_month_diff_mean'), (35697.01658821106, 'installments_mean'), (35542.90566968918, 'numerical_2_sum'), (35385.18595123291, 'new_duration_var'), (34855.30422306061, 'new_month_session_September_mean'), (34488.4810667038, 'new_card_id_count'), (34450.343408703804, 'new_month_session_October_mean'), (33767.75374794006, 'new_purchase_amount_max'), (33650.9557800293, 'hist_purchase_amount_sum'), (33221.09740257263, 'hist_Christmas_Day_2017_mean'), (33080.41115355492, 'month_lag_min'), (32688.94610619545, 'hist_category_1_mean'), (32443.640604019165, 'hist_month_session_February_mean'), (31904.30357170105, 'installments_max'), (31899.254371643066, 'hist_month_session_April_mean'), (31544.238781929016, 'new_purchase_amount_skew'), (30749.200174331665, 'new_purchase_amount_min'), (30690.422536849976, 'hist_installments_sum'), (30628.0474486351, 'new_duration_max'), (29455.340153694153, 'hist_Valentine_Day_2017_mean'), (28534.404552459717, 'installments_total'), (28409.263335227966, 'new_installments_max'), (28285.26756477356, 'hist_day_nunique'), (27954.075855255127, 'new_month_max'), (27932.458110809326, 'hist_price_var'), (27346.041068673134, 'new_Children_day_2017_mean'), (26933.04564666748, 'feature_sum'), (25675.1782913208, 'new_installments_sum'), (25576.421818256378, 'feature_max'), (25366.10616493225, 'feature_var'), (24585.502988815308, 'hist_first_buy'), (23936.22207838297, 'hist_month_max'), (23809.93727874756, 'new_purchase_date_max'), (23699.945711135864, 'feature_mean'), (23086.084161758423, 'days_feature2'), (23046.498428344727, 'hist_weekofyear_min'), (20870.224994659424, 'purchase_amount_max'), (19705.00309753418, 'new_purchase_amount_mean'), (19631.965118408203, 'new_month_lag_skew'), (19475.260749816895, 'new_month_session_March_mean'), (18633.987350463867, 'new_month_lag_mean'), (18524.78467941284, 'new_month_diff_mean'), (18410.294436454773, 'new_month_lag_min'), (18101.467792987823, 'hist_month_skew'), (18028.711530685425, 'days_feature1_ratio'), (17439.04748916626, 'new_installments_mean'), (17351.839056015015, 'new_subsector_id_nunique'), (16555.17467880249, 'days_feature3_ratio'), (15625.082018375397, 'card_id'), (15376.51237487793, 'new_weekofyear_mean'), (14624.092155218124, 'hist_purchase_date_uptonow'), (13839.68957901001, 'hist_purchase_date_uptomin'), (13806.294403076172, 'new_month_session_August_mean'), (13769.768913269043, 'new_month_session_January_mean'), (13354.173358917236, 'hist_price_mean'), (13271.58715057373, 'new_month_diff_var'), (13149.928192138672, 'new_month_session_July_mean'), (12916.99988937378, 'numerical_1_sum'), (11125.140363693237, 'days_feature2_ratio'), (10984.656211853027, 'new_merchant_category_id_nunique'), (10757.292930603027, 'feature_3'), (10072.10237121582, 'hist_month_min'), (9771.971240997314, 'new_month_session_February_mean'), (8808.571632385254, 'new_weekofyear_min'), (7557.6101656823885, 'new_weekofyear_max'), (6902.336067199707, 'feature_1'), (4326.357097625732, 'new_hour_nunique'), (3790.4517612457275, 'numerical_1_mean'), (3721.4953857660294, 'hist_weekofyear_nunique'), (3133.7869186401367, 'new_purchase_date_min'), (875.9740295410156, 'feature_2'), (226.7414951324463, 'new_month_session_April_mean'), (0.0, 'new_purchase_date_uptonow'), (0.0, 'new_purchase_date_uptomin'), (0.0, 'new_purchase_date_diff'), (0.0, 'new_purchase_date_average'), (0.0, 'new_month_session_December_mean'), (0.0, 'new_category_3_mean_mean'), (0.0, 'new_category_2_mean_mean'), (0.0, 'new_amount_month_ratio_skew'), (0.0, 'most_recent_sales_range_B_mean'), (0.0, 'most_recent_sales_range_A_mean'), (0.0, 'most_recent_purchases_range_E_mean'), (0.0, 'most_recent_purchases_range_D_mean'), (0.0, 'most_recent_purchases_range_C_mean'), (0.0, 'most_recent_purchases_range_B_mean'), (0.0, 'most_recent_purchases_range_A_mean'), (0.0, 'category_4_sum'), (0.0, 'category_4_mean'), (0.0, 'category_2_sum'), (0.0, 'category_2_mean'), (0.0, 'category_1_sum'), (0.0, 'category_1_mean'), (0.0, 'active_months_lag6_min'), (0.0, 'active_months_lag6_mean'), (0.0, 'active_months_lag6_max'), (0.0, 'active_months_lag3_min'), (0.0, 'active_months_lag3_max'), (0.0, 'active_months_lag12_min'), (0.0, 'active_months_lag12_mean'), (0.0, 'active_months_lag12_max')]\n",
      "Training until validation scores don't improve for 200 rounds.\n",
      "[100]\ttrain's rmse: 3.64775\ttest's rmse: 3.81019\n",
      "[200]\ttrain's rmse: 3.56754\ttest's rmse: 3.78179\n",
      "[300]\ttrain's rmse: 3.52363\ttest's rmse: 3.77242\n",
      "[400]\ttrain's rmse: 3.49161\ttest's rmse: 3.76849\n",
      "[500]\ttrain's rmse: 3.46569\ttest's rmse: 3.76619\n",
      "[600]\ttrain's rmse: 3.44324\ttest's rmse: 3.76437\n",
      "[700]\ttrain's rmse: 3.42411\ttest's rmse: 3.76417\n",
      "[800]\ttrain's rmse: 3.40415\ttest's rmse: 3.76407\n",
      "[900]\ttrain's rmse: 3.38635\ttest's rmse: 3.76421\n",
      "[1000]\ttrain's rmse: 3.3689\ttest's rmse: 3.76409\n",
      "[1100]\ttrain's rmse: 3.35346\ttest's rmse: 3.76435\n",
      "[1200]\ttrain's rmse: 3.33721\ttest's rmse: 3.76422\n",
      "Early stopping, best iteration is:\n",
      "[1020]\ttrain's rmse: 3.36573\ttest's rmse: 3.76388\n"
     ]
    },
    {
     "name": "stderr",
     "output_type": "stream",
     "text": [
      "/usr/local/lib/python3.6/dist-packages/numpy/core/_methods.py:32: RuntimeWarning: overflow encountered in reduce\n",
      "  return umr_sum(a, axis, dtype, out, keepdims)\n"
     ]
    },
    {
     "name": "stdout",
     "output_type": "stream",
     "text": [
      "Fold  3 RMSE : 3.763877\n",
      "Display the importance range of fold 2: \n",
      "[(1638290.600016594, 'hist_month_session_May_mean'), (1430481.446412623, 'hist_month_session_October_mean'), (1107739.2379490137, 'hist_month_mean'), (1029448.3407022953, 'hist_month_lag_var'), (932149.2940206528, 'hist_day_min'), (877774.5925064087, 'new_month_session_May_mean'), (821461.6855070591, 'hist_last_buy'), (793167.5781915188, 'installments_ratio'), (685752.2231470272, 'hist_duration_max'), (618641.3981406689, 'hist_month_lag_min'), (584552.968162775, 'active_months_lag3_mean'), (510517.24715961516, 'new_amount_month_ratio_max'), (438433.1250305176, 'new_month_session_June_mean'), (368073.7002023533, 'new_amount_month_ratio_mean'), (313465.4536896944, 'new_day_nunique'), (308719.51105076075, 'new_weekday_mean'), (307621.4999419078, 'hist_month_diff_min'), (266494.1660094261, 'new_month_lag_var'), (260794.00917208195, 'hist_duration_skew'), (260598.61871528625, 'hist_month_session_November_mean'), (245584.88243752718, 'new_hour_mean'), (240101.66980028152, 'hist_amount_month_ratio_max'), (234200.53047561646, 'new_weekday_max'), (230822.34474158287, 'new_amount_month_ratio_var'), (230546.91425824165, 'hist_authorized_flag_mean'), (227271.8005991876, 'most_recent_sales_range_D_mean'), (224000.25592517853, 'new_amount_month_ratio_min'), (217981.86983418465, 'hist_purchase_date_min'), (213317.91725604236, 'hist_month_session_July_mean'), (202322.97681686282, 'purchase_amount_total'), (196379.2077577114, 'hist_duration_min'), (193481.46241265535, 'hist_month_session_June_mean'), (193324.55860558525, 'hist_amount_month_ratio_mean'), (190802.31094944477, 'outliers'), (181093.29863584042, 'hist_weekend_mean'), (176150.1611611843, 'new_category_1_mean'), (175158.45943117142, 'new_hour_max'), (167763.38671588898, 'card_id_cnt_total'), (167608.0693358183, 'hist_duration_var'), (160998.25940036774, 'hist_category_2_mean_mean'), (159490.37743586302, 'hist_day_mean'), (158327.55650502443, 'card_id_total'), (158197.5763285905, 'hist_price_min'), (156645.86429548264, 'hist_category_3_mean'), (156266.0524701178, 'hist_card_id_size'), (155671.04274702072, 'new_price_var'), (155623.44156074524, 'most_recent_sales_range_E_mean'), (152856.54484844208, 'most_recent_sales_range_C_mean'), (149222.03181925416, 'hist_installments_var'), (146166.82642269135, 'hist_purchase_amount_max'), (144822.25280809402, 'hist_installments_skew'), (144372.29740339518, 'hist_purchase_amount_var'), (144303.27315455675, 'hist_Children_day_2017_mean'), (144233.55114877224, 'feature_min'), (142384.3849966526, 'hist_amount_month_ratio_min'), (142017.76779150963, 'hist_purchase_date_diff'), (141679.36344236135, 'price_mean'), (139579.84133897722, 'hist_card_id_count'), (139311.81085300446, 'hist_merchant_category_id_nunique'), (139249.16566300392, 'new_hour_min'), (138914.71130228043, 'hist_hour_max'), (136753.87267780304, 'hist_month_session_January_mean'), (134884.88825547695, 'hist_Mothers_Day_2017_mean'), (133942.50290852785, 'price_total'), (132564.78402757645, 'hist_hour_min'), (130169.86713838577, 'numerical_2_mean'), (122794.1733584404, 'hist_purchase_date_max'), (122464.85836029053, 'hist_month_diff_var'), (121944.98007202148, 'hist_merchant_id_nunique'), (120995.47109889984, 'new_purchase_amount_sum'), (118428.78203475475, 'hist_hour_mean'), (118209.76469904184, 'new_duration_mean'), (117380.27032601833, 'new_Christmas_Day_2017_mean'), (116342.99964165688, 'hist_weekofyear_max'), (115718.250374794, 'hist_subsector_id_nunique'), (115574.0436706543, 'card_id_cnt_ratio'), (114842.30128860474, 'new_month_min'), (114725.48701739311, 'hist_month_lag_mean'), (113759.3589143157, 'hist_category_3_mean_mean'), (113537.9724072516, 'new_weekday_min'), (110927.79320049286, 'hist_installments_max'), (110351.16738271713, 'hist_month_session_March_mean'), (107081.31824398041, 'new_day_mean'), (106603.20192050934, 'new_month_session_November_mean'), (106160.61454516649, 'new_duration_min'), (104814.79854774475, 'elapsed_time'), (104570.03739356995, 'new_last_buy'), (104527.4210082218, 'new_month_mean'), (104393.30080447346, 'hist_month_session_September_mean'), (104316.7695581913, 'hist_category_2_mean'), (103823.71479177475, 'hist_purchase_amount_skew'), (102717.91093276255, 'target'), (102632.46861362457, 'hist_fathers_day_2017_mean'), (102518.68694877625, 'hist_Mothers_Day_2018_mean'), (101842.24791526794, 'hist_purchase_amount_mean'), (101615.57194828987, 'new_category_3_mean'), (101499.0215678215, 'days_feature1'), (100935.80569839478, 'hist_month_diff_skew'), (100935.04698035121, 'hist_weekofyear_mean'), (100239.32939386368, 'hist_purchase_amount_min'), (95909.39963054657, 'purchase_amount_min'), (95631.48149967194, 'hist_month_lag_max'), (94690.46655786037, 'hist_amount_month_ratio_var'), (93051.56147298217, 'hist_month_diff_max'), (91619.15167057514, 'hist_hour_nunique'), (89029.44689917564, 'month_diff_ratio'), (86291.5763117075, 'new_first_buy'), (84871.51017642021, 'new_weekofyear_nunique'), (84453.81641292572, 'new_card_id_count'), (84322.95836687088, 'new_price_mean'), (83801.8902285099, 'hist_amount_month_ratio_skew'), (81769.06614875793, 'hist_month_session_December_mean'), (81277.79726600647, 'quarter'), (79978.25503587723, 'new_installments_var'), (78782.02025812864, 'purchase_amount_mean'), (77780.15061616898, 'new_weekend_mean'), (77570.58278116584, 'new_month_session_September_mean'), (75068.1664943695, 'new_price_max'), (72893.23291516304, 'hist_month_session_August_mean'), (72257.97046518326, 'new_month_diff_skew'), (71731.50950312614, 'hist_month_diff_mean'), (70701.71321582794, 'numerical_2_sum'), (70013.84491959214, 'purchase_amount_ratio'), (68930.00996875763, 'hist_duration_mean'), (68328.14758467674, 'hist_category_1_mean'), (67414.86239326, 'new_price_min'), (66568.89785718918, 'new_duration_skew'), (65816.38133716583, 'first_active_month'), (65421.09585940465, 'hist_installments_mean'), (64553.18402671814, 'hist_Christmas_Day_2017_mean'), (64115.291990965605, 'hist_month_var'), (64092.34063410759, 'month_diff_mean'), (64086.436993300915, 'new_day_max'), (63273.16940750927, 'hist_weekday_mean'), (62805.65709543228, 'new_month_lag_max'), (61959.199370622635, 'hist_price_sum'), (58195.219804763794, 'new_installments_sum'), (56546.724462509155, 'hist_month_session_April_mean'), (54159.815757513046, 'new_Black_Friday_2017_mean'), (53444.68760681152, 'new_purchase_date_max'), (52282.535138726234, 'installments_mean'), (51436.649463653564, 'new_card_id_size'), (51327.59122800827, 'new_Mothers_Day_2018_mean'), (51084.578433036804, 'hist_purchase_date_average'), (50782.50600242615, 'hist_price_var'), (50658.230370521545, 'hist_month_max'), (49711.835267066956, 'hist_month_lag_skew'), (49217.59401515126, 'new_category_2_mean'), (49188.825942993164, 'hist_price_max'), (48835.72919845581, 'new_installments_mean'), (48720.83737826347, 'month_lag_max'), (48529.18031215668, 'hist_weekofyear_min'), (48429.607677936554, 'hist_day_nunique'), (47952.61055231094, 'new_month_session_October_mean'), (47833.03346633911, 'new_purchase_amount_var'), (47501.526138305664, 'new_installments_skew'), (47273.10950255394, 'hist_Black_Friday_2017_mean'), (46527.76294350624, 'new_day_min'), (44461.10129284859, 'hist_first_buy'), (43519.164613842964, 'hist_Valentine_Day_2017_mean'), (40812.7312139906, 'new_Children_day_2017_mean'), (40347.5293776989, 'hist_installments_sum'), (39856.81069588661, 'feature_sum'), (39592.971395492554, 'purchase_amount_max'), (37965.818838596344, 'new_purchase_amount_max'), (37497.93039703369, 'new_month_max'), (35665.49449825287, 'new_month_lag_mean'), (35550.03232514858, 'days_feature3'), (35175.02622306347, 'new_duration_max'), (35127.26378250122, 'new_month_session_July_mean'), (34713.429554224014, 'installments_max'), (33855.360288619995, 'new_month_lag_skew'), (33553.609813809395, 'feature_var'), (33316.15529322624, 'days_feature2'), (32722.387093544006, 'hist_price_mean'), (31725.64786553383, 'installments_total'), (30658.482777118683, 'new_subsector_id_nunique'), (30458.532448530197, 'hist_purchase_date_uptomin'), (30437.120505332947, 'hist_month_skew'), (30276.536275863647, 'new_weekofyear_mean'), (29259.814252853394, 'hist_purchase_date_uptonow'), (29213.551235198975, 'new_month_session_March_mean'), (29132.48020172119, 'new_installments_max'), (28726.193480968475, 'month_lag_min'), (27994.731939315796, 'new_purchase_amount_min'), (27009.699669122696, 'new_purchase_amount_skew'), (26824.169342041016, 'new_month_session_February_mean'), (25559.74657252431, 'month_lag_mean'), (24696.39624786377, 'days_feature3_ratio'), (24658.896503210068, 'new_duration_var'), (21924.791996002197, 'new_month_lag_min'), (21846.380685806274, 'card_id'), (21668.58123922348, 'feature_mean'), (20874.911766529083, 'feature_max'), (20554.232845306396, 'hist_purchase_amount_sum'), (20331.44207382202, 'new_month_session_January_mean'), (19835.459341049194, 'new_month_diff_mean'), (17899.178007125854, 'hist_month_session_February_mean'), (17852.109971761703, 'new_purchase_amount_mean'), (17816.787675380707, 'new_merchant_category_id_nunique'), (16737.73205471039, 'days_feature1_ratio'), (16358.20946931839, 'hist_month_min'), (15821.169169425964, 'feature_3'), (15659.255981504917, 'new_month_diff_var'), (13976.836216926575, 'new_hour_nunique'), (13875.754336237907, 'new_month_session_August_mean'), (13070.979591369629, 'numerical_1_sum'), (10316.842515945435, 'new_weekofyear_max'), (10195.312982559204, 'hist_weekofyear_nunique'), (9592.565483093262, 'new_weekofyear_min'), (6348.295555114746, 'new_purchase_date_min'), (6079.107448577881, 'numerical_1_mean'), (6073.203711986542, 'days_feature2_ratio'), (2019.6215229034424, 'feature_1'), (720.963996887207, 'feature_2'), (376.6419982910156, 'new_month_session_April_mean'), (0.0, 'new_purchase_date_uptonow'), (0.0, 'new_purchase_date_uptomin'), (0.0, 'new_purchase_date_diff'), (0.0, 'new_purchase_date_average'), (0.0, 'new_month_session_December_mean'), (0.0, 'new_category_3_mean_mean'), (0.0, 'new_category_2_mean_mean'), (0.0, 'new_amount_month_ratio_skew'), (0.0, 'most_recent_sales_range_B_mean'), (0.0, 'most_recent_sales_range_A_mean'), (0.0, 'most_recent_purchases_range_E_mean'), (0.0, 'most_recent_purchases_range_D_mean'), (0.0, 'most_recent_purchases_range_C_mean'), (0.0, 'most_recent_purchases_range_B_mean'), (0.0, 'most_recent_purchases_range_A_mean'), (0.0, 'category_4_sum'), (0.0, 'category_4_mean'), (0.0, 'category_2_sum'), (0.0, 'category_2_mean'), (0.0, 'category_1_sum'), (0.0, 'category_1_mean'), (0.0, 'active_months_lag6_min'), (0.0, 'active_months_lag6_mean'), (0.0, 'active_months_lag6_max'), (0.0, 'active_months_lag3_min'), (0.0, 'active_months_lag3_max'), (0.0, 'active_months_lag12_min'), (0.0, 'active_months_lag12_mean'), (0.0, 'active_months_lag12_max')]\n",
      "Training until validation scores don't improve for 200 rounds.\n",
      "[100]\ttrain's rmse: 3.6454\ttest's rmse: 3.83964\n",
      "[200]\ttrain's rmse: 3.56507\ttest's rmse: 3.80577\n",
      "[300]\ttrain's rmse: 3.51808\ttest's rmse: 3.79385\n",
      "[400]\ttrain's rmse: 3.48488\ttest's rmse: 3.78945\n",
      "[500]\ttrain's rmse: 3.458\ttest's rmse: 3.78716\n",
      "[600]\ttrain's rmse: 3.43533\ttest's rmse: 3.78647\n",
      "[700]\ttrain's rmse: 3.41518\ttest's rmse: 3.78617\n",
      "[800]\ttrain's rmse: 3.39825\ttest's rmse: 3.78635\n",
      "Early stopping, best iteration is:\n",
      "[692]\ttrain's rmse: 3.41669\ttest's rmse: 3.78597\n"
     ]
    },
    {
     "name": "stderr",
     "output_type": "stream",
     "text": [
      "/usr/local/lib/python3.6/dist-packages/numpy/core/_methods.py:32: RuntimeWarning: overflow encountered in reduce\n",
      "  return umr_sum(a, axis, dtype, out, keepdims)\n"
     ]
    },
    {
     "name": "stdout",
     "output_type": "stream",
     "text": [
      "Fold  4 RMSE : 3.785974\n",
      "Display the importance range of fold 3: \n",
      "[(1472596.110918045, 'hist_month_session_May_mean'), (1395701.2140800953, 'hist_month_session_October_mean'), (1160511.2170066833, 'new_month_session_May_mean'), (1139112.1729416847, 'hist_month_lag_var'), (1074804.5119080544, 'hist_month_mean'), (825541.6265792847, 'hist_day_min'), (785188.939174056, 'hist_last_buy'), (679773.7681510448, 'hist_duration_max'), (659378.6352808475, 'installments_ratio'), (547248.4026932716, 'hist_month_lag_min'), (522385.1782875061, 'active_months_lag3_mean'), (396984.0980974436, 'hist_month_diff_min'), (385669.5556836128, 'new_day_nunique'), (367488.66448286176, 'new_amount_month_ratio_max'), (345490.926045537, 'new_amount_month_ratio_mean'), (332417.64920425415, 'hist_month_session_November_mean'), (320394.3353238106, 'new_weekday_mean'), (320189.22305107117, 'new_month_lag_var'), (253013.0199766755, 'new_amount_month_ratio_min'), (230466.32374095917, 'hist_duration_min'), (224318.26456069946, 'new_month_session_June_mean'), (196763.74734187126, 'hist_month_session_July_mean'), (189720.24635887146, 'new_hour_max'), (187948.15137290955, 'hist_amount_month_ratio_max'), (187470.19930648804, 'purchase_amount_total'), (187329.88272964954, 'hist_duration_skew'), (171275.25117325783, 'new_hour_mean'), (170097.13766112924, 'card_id_total'), (169188.1513365507, 'new_amount_month_ratio_var'), (167998.1830186844, 'most_recent_sales_range_D_mean'), (167804.7329645157, 'hist_purchase_date_min'), (166259.99514865875, 'hist_merchant_id_nunique'), (164925.3075118065, 'new_price_var'), (163625.95456528664, 'hist_price_min'), (163283.58618354797, 'new_weekday_max'), (161079.70651245117, 'hist_authorized_flag_mean'), (159453.97707748413, 'hist_duration_var'), (149747.27074956894, 'hist_month_diff_var'), (147031.7394132614, 'hist_category_2_mean_mean'), (140945.66327691078, 'hist_weekofyear_max'), (136848.35700678825, 'hist_installments_var'), (135160.5441236496, 'hist_weekend_mean'), (134767.4638314247, 'hist_category_3_mean'), (130416.47817897797, 'hist_purchase_date_max'), (129814.44317150116, 'hist_month_session_January_mean'), (128030.70980596542, 'most_recent_sales_range_C_mean'), (125377.65758132935, 'hist_month_session_June_mean'), (123210.17801010609, 'hist_amount_month_ratio_mean'), (121638.38293504715, 'hist_Mothers_Day_2017_mean'), (121199.02523350716, 'hist_card_id_size'), (120825.32224464417, 'price_mean'), (119798.18128585815, 'most_recent_sales_range_E_mean'), (119699.05452179909, 'new_Christmas_Day_2017_mean'), (118174.35615873337, 'price_total'), (118052.01655431092, 'numerical_2_mean'), (117829.18055915833, 'feature_min'), (116743.53956413269, 'hist_card_id_count'), (115202.32153940201, 'hist_merchant_category_id_nunique'), (114931.84962844849, 'outliers'), (114006.98798751831, 'hist_Children_day_2017_mean'), (113801.91385188699, 'hist_month_session_March_mean'), (112817.95424935222, 'hist_month_lag_mean'), (112572.82159423828, 'hist_Mothers_Day_2018_mean'), (111959.29640491307, 'new_month_session_November_mean'), (110105.32398509979, 'target'), (108142.61918783188, 'hist_installments_skew'), (107966.27494430542, 'hist_purchase_amount_var'), (106905.14756822586, 'new_duration_min'), (106114.95972442627, 'hist_purchase_date_diff'), (105588.94755363464, 'new_purchase_amount_sum'), (105393.88397502899, 'hist_hour_mean'), (104642.59335041046, 'hist_month_session_September_mean'), (104148.40534973145, 'card_id_cnt_total'), (102343.78986467421, 'hist_day_mean'), (102161.5239636898, 'new_duration_mean'), (101919.9618908763, 'hist_hour_max'), (100274.24982261658, 'new_weekday_min'), (99626.13065457344, 'hist_amount_month_ratio_min'), (93621.78430235386, 'hist_category_2_mean'), (93506.93863010406, 'hist_purchase_amount_skew'), (93095.97320842743, 'new_day_mean'), (93062.48214149475, 'new_category_1_mean'), (92835.37532877922, 'hist_amount_month_ratio_var'), (92231.40142822266, 'hist_installments_max'), (91471.90985012054, 'hist_hour_min'), (88158.75447177887, 'hist_subsector_id_nunique'), (88013.98863446712, 'hist_month_lag_max'), (87883.55982398987, 'hist_purchase_amount_mean'), (84155.44534635544, 'new_first_buy'), (83190.51752471924, 'new_hour_min'), (83060.88495159149, 'new_month_min'), (82674.95437145233, 'days_feature1'), (81947.0244345665, 'hist_month_diff_skew'), (81787.67858791351, 'elapsed_time'), (80053.50022125244, 'hist_amount_month_ratio_skew'), (79874.10479307175, 'month_diff_ratio'), (79535.05532073975, 'hist_weekofyear_mean'), (78938.27154254913, 'hist_fathers_day_2017_mean'), (77411.84457063675, 'new_price_min'), (76899.61749863625, 'new_month_mean'), (75732.06638431549, 'new_category_3_mean'), (75685.5894445777, 'new_last_buy'), (73504.26340770721, 'new_month_lag_max'), (72478.13179141283, 'hist_purchase_amount_max'), (72040.01429367065, 'quarter'), (68695.31113147736, 'new_price_mean'), (68305.9024925232, 'hist_duration_mean'), (67693.17887163162, 'hist_purchase_amount_min'), (67188.34436035156, 'hist_month_session_August_mean'), (67057.4881401062, 'hist_month_session_December_mean'), (64016.681144714355, 'hist_month_diff_mean'), (62677.22180175781, 'new_day_max'), (62446.90598034859, 'purchase_amount_ratio'), (61972.231070518494, 'month_diff_mean'), (61818.97912475467, 'numerical_2_sum'), (61471.92569231987, 'card_id_cnt_ratio'), (61341.82458639145, 'hist_hour_nunique'), (61302.4612159729, 'hist_category_3_mean_mean'), (61048.76362514496, 'purchase_amount_mean'), (60910.089283943176, 'new_installments_var'), (60905.20419692993, 'first_active_month'), (60308.35978102684, 'purchase_amount_min'), (58317.81423461437, 'hist_month_diff_max'), (57395.46964263916, 'new_duration_skew'), (56788.95658874512, 'new_installments_sum'), (55965.68408584595, 'new_weekend_mean'), (55518.503422260284, 'new_card_id_count'), (53545.31202030182, 'new_price_max'), (52692.06016123295, 'new_month_session_October_mean'), (52583.33105325699, 'feature_sum'), (52011.058675944805, 'new_day_min'), (50197.92489337921, 'hist_installments_sum'), (50081.54375600815, 'new_month_session_September_mean'), (49263.07440376282, 'new_month_diff_skew'), (49070.85868644714, 'days_feature3'), (48901.049999952316, 'new_weekofyear_nunique'), (48701.31302404404, 'hist_price_sum'), (47754.340748786926, 'hist_weekday_mean'), (47385.533779501915, 'new_Mothers_Day_2018_mean'), (46840.067432165146, 'hist_category_1_mean'), (46361.985387444496, 'new_category_2_mean'), (46292.441608428955, 'installments_mean'), (45161.626537799835, 'hist_Christmas_Day_2017_mean'), (44477.81652069092, 'hist_purchase_date_average'), (43367.68446063995, 'hist_installments_mean'), (43033.09817123413, 'hist_Valentine_Day_2017_mean'), (42787.1022734642, 'installments_max'), (42569.973531246185, 'new_purchase_amount_max'), (42372.537525177, 'hist_month_session_April_mean'), (42028.379442214966, 'hist_price_max'), (40516.499294281006, 'hist_Black_Friday_2017_mean'), (40014.672887802124, 'month_lag_max'), (39393.19919490814, 'new_installments_skew'), (39354.34670829773, 'hist_month_var'), (39322.891719818115, 'new_month_lag_skew'), (39057.70253562927, 'new_Children_day_2017_mean'), (38938.82137298584, 'hist_month_skew'), (38483.834622979164, 'new_Black_Friday_2017_mean'), (38408.44711256027, 'hist_first_buy'), (38329.84485912323, 'hist_price_var'), (37376.52690124512, 'new_card_id_size'), (35550.43318557739, 'hist_month_lag_skew'), (34443.77719974518, 'new_purchase_amount_skew'), (33486.77572059631, 'new_purchase_amount_var'), (33398.95137786865, 'feature_max'), (33033.440958976746, 'new_purchase_date_max'), (32703.058687210083, 'hist_day_nunique'), (32509.95062637329, 'hist_weekofyear_min'), (30798.27606201172, 'feature_var'), (30764.09068107605, 'new_subsector_id_nunique'), (29092.603923797607, 'hist_purchase_date_uptonow'), (28569.501810073853, 'new_purchase_amount_min'), (28142.16538143158, 'days_feature2'), (27706.2015209198, 'new_month_diff_mean'), (27079.586910247803, 'new_installments_mean'), (26217.775466918945, 'hist_purchase_date_uptomin'), (25759.67098760605, 'new_installments_max'), (25502.18870639801, 'new_month_lag_min'), (24835.620277881622, 'card_id'), (23480.008959889412, 'month_lag_mean'), (23425.02505272627, 'hist_month_max'), (23301.332164287567, 'new_duration_max'), (22681.44432401657, 'hist_price_mean'), (21261.756523132324, 'new_month_session_January_mean'), (21077.18848991394, 'installments_total'), (20341.98338317871, 'new_duration_var'), (19758.26498889923, 'purchase_amount_max'), (19432.83389854431, 'days_feature1_ratio'), (18715.8106842041, 'new_month_session_March_mean'), (18158.443599700928, 'hist_month_session_February_mean'), (17126.022018432617, 'new_month_max'), (16661.07068514824, 'new_month_diff_var'), (16371.233547210693, 'month_lag_min'), (16005.406928539276, 'new_month_session_July_mean'), (15186.124256134033, 'feature_mean'), (14272.16852760315, 'new_purchase_amount_mean'), (14029.086448669434, 'hist_purchase_amount_sum'), (13987.653884887695, 'new_month_lag_mean'), (13451.094017028809, 'new_merchant_category_id_nunique'), (13216.308181762695, 'new_weekofyear_mean'), (11763.067199707031, 'new_month_session_February_mean'), (11705.017776489258, 'numerical_1_sum'), (11141.73459815979, 'new_month_session_August_mean'), (10950.368026733398, 'new_weekofyear_min'), (10669.205974578857, 'days_feature3_ratio'), (10489.797580718994, 'new_weekofyear_max'), (10398.123390197754, 'hist_month_min'), (10249.109321266413, 'days_feature2_ratio'), (10195.634754180908, 'feature_3'), (8300.351573497057, 'hist_weekofyear_nunique'), (8280.455726623535, 'new_hour_nunique'), (6101.482568740845, 'numerical_1_mean'), (4462.421409606934, 'feature_1'), (2541.247631072998, 'feature_2'), (2057.881706237793, 'new_purchase_date_min'), (1263.0095024108887, 'new_month_session_April_mean'), (0.0, 'new_purchase_date_uptonow'), (0.0, 'new_purchase_date_uptomin'), (0.0, 'new_purchase_date_diff'), (0.0, 'new_purchase_date_average'), (0.0, 'new_month_session_December_mean'), (0.0, 'new_category_3_mean_mean'), (0.0, 'new_category_2_mean_mean'), (0.0, 'new_amount_month_ratio_skew'), (0.0, 'most_recent_sales_range_B_mean'), (0.0, 'most_recent_sales_range_A_mean'), (0.0, 'most_recent_purchases_range_E_mean'), (0.0, 'most_recent_purchases_range_D_mean'), (0.0, 'most_recent_purchases_range_C_mean'), (0.0, 'most_recent_purchases_range_B_mean'), (0.0, 'most_recent_purchases_range_A_mean'), (0.0, 'category_4_sum'), (0.0, 'category_4_mean'), (0.0, 'category_2_sum'), (0.0, 'category_2_mean'), (0.0, 'category_1_sum'), (0.0, 'category_1_mean'), (0.0, 'active_months_lag6_min'), (0.0, 'active_months_lag6_mean'), (0.0, 'active_months_lag6_max'), (0.0, 'active_months_lag3_min'), (0.0, 'active_months_lag3_max'), (0.0, 'active_months_lag12_min'), (0.0, 'active_months_lag12_mean'), (0.0, 'active_months_lag12_max')]\n",
      "Training until validation scores don't improve for 200 rounds.\n",
      "[100]\ttrain's rmse: 3.67398\ttest's rmse: 3.55675\n",
      "[200]\ttrain's rmse: 3.59479\ttest's rmse: 3.52032\n",
      "[300]\ttrain's rmse: 3.54847\ttest's rmse: 3.50814\n",
      "[400]\ttrain's rmse: 3.5149\ttest's rmse: 3.50098\n",
      "[500]\ttrain's rmse: 3.48961\ttest's rmse: 3.49836\n",
      "[600]\ttrain's rmse: 3.46911\ttest's rmse: 3.49672\n",
      "[700]\ttrain's rmse: 3.44971\ttest's rmse: 3.49673\n",
      "[800]\ttrain's rmse: 3.43129\ttest's rmse: 3.4964\n",
      "[900]\ttrain's rmse: 3.41256\ttest's rmse: 3.49593\n",
      "[1000]\ttrain's rmse: 3.39657\ttest's rmse: 3.49574\n",
      "[1100]\ttrain's rmse: 3.38095\ttest's rmse: 3.4954\n",
      "[1200]\ttrain's rmse: 3.36482\ttest's rmse: 3.49555\n",
      "[1300]\ttrain's rmse: 3.34892\ttest's rmse: 3.49565\n",
      "Early stopping, best iteration is:\n",
      "[1106]\ttrain's rmse: 3.38001\ttest's rmse: 3.49525\n"
     ]
    },
    {
     "name": "stderr",
     "output_type": "stream",
     "text": [
      "/usr/local/lib/python3.6/dist-packages/numpy/core/_methods.py:32: RuntimeWarning: overflow encountered in reduce\n",
      "  return umr_sum(a, axis, dtype, out, keepdims)\n"
     ]
    },
    {
     "name": "stdout",
     "output_type": "stream",
     "text": [
      "Fold  5 RMSE : 3.495255\n",
      "Display the importance range of fold 4: \n",
      "[(1764842.7123615742, 'hist_month_session_October_mean'), (1150076.3898992538, 'hist_month_session_May_mean'), (1086862.438967228, 'hist_month_lag_var'), (996336.1833438873, 'hist_month_mean'), (991097.2816504985, 'hist_day_min'), (952641.1520346105, 'new_month_session_May_mean'), (871832.6665142775, 'hist_duration_max'), (832717.8380793333, 'hist_last_buy'), (687473.881863594, 'installments_ratio'), (593125.9019617438, 'active_months_lag3_mean'), (552014.3694549799, 'hist_month_lag_min'), (506479.1567209959, 'new_amount_month_ratio_mean'), (458316.2144098282, 'hist_month_session_November_mean'), (379174.80119013786, 'new_day_nunique'), (369152.0006585121, 'hist_month_diff_min'), (366726.89302532375, 'new_amount_month_ratio_max'), (340350.53886413574, 'new_month_session_June_mean'), (331698.41634747386, 'new_weekday_mean'), (281586.23784554005, 'new_amount_month_ratio_var'), (272900.6797914505, 'new_month_lag_var'), (264443.8446056545, 'hist_duration_skew'), (261284.98084259033, 'new_hour_mean'), (228647.85043096542, 'hist_amount_month_ratio_max'), (222497.5522994995, 'hist_purchase_date_min'), (220832.30178904533, 'hist_authorized_flag_mean'), (214880.31389212608, 'purchase_amount_total'), (207555.2325090766, 'new_hour_max'), (202384.18922877312, 'new_amount_month_ratio_min'), (193515.77959537506, 'hist_month_session_June_mean'), (184990.04355716705, 'hist_duration_var'), (183008.62793886662, 'hist_month_session_July_mean'), (182927.62472272664, 'hist_category_2_mean_mean'), (178263.01435512304, 'most_recent_sales_range_D_mean'), (177448.4756758213, 'new_price_var'), (175271.41531580687, 'new_Christmas_Day_2017_mean'), (173477.8652011901, 'hist_price_min'), (173158.5618367195, 'hist_installments_var'), (173020.01006245613, 'new_weekday_max'), (168888.713156119, 'outliers'), (165220.50231933594, 'most_recent_sales_range_E_mean'), (164523.91357809305, 'hist_category_3_mean'), (159497.4784977436, 'card_id_total'), (159341.8889171481, 'hist_duration_min'), (158921.56605231762, 'hist_amount_month_ratio_mean'), (158514.35327219963, 'hist_hour_min'), (157044.45123404264, 'hist_Mothers_Day_2018_mean'), (156458.8160995543, 'hist_Mothers_Day_2017_mean'), (156195.0471329689, 'hist_weekend_mean'), (156010.93711662292, 'card_id_cnt_total'), (155590.0934931785, 'price_mean'), (153852.85779166222, 'hist_card_id_count'), (152571.9988040924, 'hist_purchase_date_diff'), (152245.4523023665, 'hist_card_id_size'), (152240.93415996432, 'hist_month_diff_var'), (152202.77750730515, 'hist_purchase_amount_var'), (152010.53675484657, 'hist_installments_skew'), (150813.79376873374, 'hist_merchant_category_id_nunique'), (150625.21623408794, 'hist_Children_day_2017_mean'), (150471.23573493958, 'hist_weekofyear_max'), (146916.3841328621, 'hist_purchase_date_max'), (144009.92194843292, 'new_category_1_mean'), (142522.13239493966, 'hist_hour_mean'), (142042.7138915807, 'feature_min'), (136660.45019888878, 'hist_hour_max'), (135727.1859550476, 'hist_category_2_mean'), (133684.7444844246, 'hist_month_diff_skew'), (130456.55084955692, 'days_feature1'), (130001.74711763859, 'new_duration_mean'), (129933.36521172523, 'new_month_mean'), (128740.34118163586, 'target'), (127239.88981866837, 'new_month_session_November_mean'), (125209.4587841034, 'hist_amount_month_ratio_min'), (124236.03745365143, 'hist_day_mean'), (121918.41887235641, 'new_hour_min'), (119228.99311110377, 'price_total'), (117901.29930377007, 'elapsed_time'), (116782.45492726564, 'hist_month_lag_mean'), (115581.71676683426, 'most_recent_sales_range_C_mean'), (114388.13941001892, 'hist_merchant_id_nunique'), (113656.48808288574, 'new_day_mean'), (112262.76531255245, 'hist_month_session_September_mean'), (110229.70149153471, 'numerical_2_mean'), (108390.38161849976, 'hist_month_session_January_mean'), (106989.72913947701, 'hist_installments_max'), (106796.78580236435, 'new_category_3_mean'), (106128.70199513435, 'new_last_buy'), (104798.5051282458, 'month_diff_ratio'), (104387.22622680664, 'hist_amount_month_ratio_var'), (102866.67489083111, 'hist_fathers_day_2017_mean'), (102637.9582839217, 'new_first_buy'), (102367.1167691946, 'hist_purchase_amount_max'), (101761.98213493824, 'hist_subsector_id_nunique'), (101202.96857070923, 'hist_purchase_amount_min'), (101115.1423459053, 'hist_month_session_December_mean'), (99989.29019129276, 'new_month_lag_max'), (99920.14879798889, 'new_weekday_min'), (99303.19192540646, 'new_purchase_amount_sum'), (99115.87029981613, 'hist_month_session_March_mean'), (98939.0084142685, 'hist_month_lag_max'), (98247.17516469955, 'hist_purchase_amount_skew'), (95581.06140089035, 'hist_weekofyear_mean'), (94112.21057248116, 'card_id_cnt_ratio'), (92146.0806980133, 'hist_month_diff_max'), (90901.55656576157, 'new_price_min'), (89983.9526591301, 'hist_category_3_mean_mean'), (87249.83648717403, 'month_diff_mean'), (86711.1748111248, 'purchase_amount_min'), (85647.22339916229, 'new_installments_var'), (85232.0329605341, 'hist_month_var'), (85221.60051268339, 'hist_purchase_amount_mean'), (84426.43068253994, 'hist_price_sum'), (84209.00773143768, 'new_month_min'), (82859.64927768707, 'first_active_month'), (79810.67370057106, 'new_price_max'), (79631.08532428741, 'new_card_id_count'), (77481.3833810091, 'hist_amount_month_ratio_skew'), (77218.92215663195, 'numerical_2_sum'), (77075.75773972273, 'new_price_mean'), (76219.10883426666, 'new_day_max'), (75820.85550951958, 'new_duration_min'), (74281.76215553284, 'new_month_diff_skew'), (74028.61536860466, 'quarter'), (71170.18009614944, 'hist_installments_mean'), (70622.44765174389, 'new_day_min'), (69673.54465019703, 'purchase_amount_mean'), (67275.51697444916, 'hist_price_max'), (66726.78082090616, 'new_Mothers_Day_2018_mean'), (66384.26795625687, 'hist_hour_nunique'), (66124.13530957699, 'hist_category_1_mean'), (65767.17155435681, 'new_weekofyear_nunique'), (65636.16275787354, 'new_card_id_size'), (64860.28415822983, 'new_weekend_mean'), (63872.54218161106, 'hist_purchase_date_average'), (63304.47435474396, 'hist_month_diff_mean'), (63051.866282463074, 'hist_Christmas_Day_2017_mean'), (62715.29697561264, 'hist_month_session_August_mean'), (62382.94322574139, 'new_Black_Friday_2017_mean'), (62275.92964370549, 'month_lag_max'), (61030.75765296817, 'hist_duration_mean'), (60508.788809746504, 'installments_mean'), (60408.6029748891, 'hist_weekday_mean'), (60332.10543036461, 'hist_month_skew'), (60192.368922472, 'new_month_session_September_mean'), (59551.69494867325, 'new_duration_skew'), (59435.05702018738, 'new_category_2_mean'), (56931.183074235916, 'new_purchase_amount_min'), (55907.67658865452, 'hist_first_buy'), (55252.2479506731, 'new_installments_sum'), (54097.012469410896, 'hist_month_session_April_mean'), (51480.28603029251, 'feature_sum'), (51014.39726161957, 'hist_Black_Friday_2017_mean'), (51001.0916454792, 'hist_month_lag_skew'), (49962.910868406296, 'month_lag_min'), (49433.26630139351, 'purchase_amount_ratio'), (48391.09454250336, 'hist_price_var'), (46558.92385092378, 'hist_day_nunique'), (46505.82791900635, 'new_month_session_March_mean'), (46097.04950976372, 'hist_installments_sum'), (45616.504534840584, 'days_feature2'), (44487.213706970215, 'new_purchase_date_max'), (44167.42480660975, 'new_purchase_amount_max'), (43860.982733249664, 'hist_Valentine_Day_2017_mean'), (43851.393722593784, 'hist_weekofyear_min'), (43553.97694063187, 'installments_max'), (43179.175485134125, 'days_feature3'), (42571.82057571411, 'new_month_lag_skew'), (42463.79627084732, 'new_purchase_amount_skew'), (41886.85900306702, 'new_month_session_October_mean'), (40771.06804345548, 'new_purchase_amount_var'), (39858.152921915054, 'installments_total'), (39303.09747695923, 'days_feature3_ratio'), (39107.67288982868, 'new_duration_max'), (38927.19484710693, 'new_installments_mean'), (38813.82270550728, 'new_Children_day_2017_mean'), (38417.70222592354, 'month_lag_mean'), (37574.98695230484, 'hist_month_max'), (36884.91615438461, 'new_month_lag_mean'), (36426.93722789129, 'new_installments_max'), (36195.058787345886, 'feature_max'), (35534.46166777611, 'new_month_diff_mean'), (35144.846109867096, 'new_duration_var'), (34528.86782455444, 'new_weekofyear_mean'), (34115.41269737482, 'hist_purchase_date_uptomin'), (34033.52667617798, 'hist_purchase_date_uptonow'), (33015.568325042725, 'new_subsector_id_nunique'), (30858.423773288727, 'purchase_amount_max'), (30674.57391178608, 'new_month_lag_min'), (30602.872436523438, 'feature_var'), (29293.208557128906, 'new_installments_skew'), (29136.95009112358, 'new_month_max'), (28814.87260913849, 'hist_price_mean'), (27920.996104478836, 'feature_mean'), (26937.545545578003, 'hist_month_session_February_mean'), (26774.265621185303, 'hist_purchase_amount_sum'), (26373.489943504333, 'card_id'), (24365.8805809021, 'new_month_session_July_mean'), (23169.54817008972, 'new_purchase_amount_mean'), (21625.871643066406, 'feature_3'), (21121.50052833557, 'new_month_session_January_mean'), (19477.735513687134, 'hist_weekofyear_nunique'), (17160.06327956915, 'new_weekofyear_min'), (16588.139572143555, 'numerical_1_sum'), (15966.889738798141, 'days_feature1_ratio'), (15723.828401088715, 'new_month_diff_var'), (14899.404811739922, 'new_hour_nunique'), (14116.201602458954, 'days_feature2_ratio'), (13298.894493103027, 'new_month_session_February_mean'), (12792.119170844555, 'new_merchant_category_id_nunique'), (12639.675207734108, 'new_month_session_August_mean'), (8281.374438762665, 'numerical_1_mean'), (7965.164291381836, 'hist_month_min'), (6006.024923324585, 'new_purchase_date_min'), (5440.642845153809, 'new_weekofyear_max'), (4000.4534997940063, 'new_month_session_April_mean'), (2427.447374343872, 'feature_1'), (1329.0036315917969, 'feature_2'), (0.0, 'new_purchase_date_uptonow'), (0.0, 'new_purchase_date_uptomin'), (0.0, 'new_purchase_date_diff'), (0.0, 'new_purchase_date_average'), (0.0, 'new_month_session_December_mean'), (0.0, 'new_category_3_mean_mean'), (0.0, 'new_category_2_mean_mean'), (0.0, 'new_amount_month_ratio_skew'), (0.0, 'most_recent_sales_range_B_mean'), (0.0, 'most_recent_sales_range_A_mean'), (0.0, 'most_recent_purchases_range_E_mean'), (0.0, 'most_recent_purchases_range_D_mean'), (0.0, 'most_recent_purchases_range_C_mean'), (0.0, 'most_recent_purchases_range_B_mean'), (0.0, 'most_recent_purchases_range_A_mean'), (0.0, 'category_4_sum'), (0.0, 'category_4_mean'), (0.0, 'category_2_sum'), (0.0, 'category_2_mean'), (0.0, 'category_1_sum'), (0.0, 'category_1_mean'), (0.0, 'active_months_lag6_min'), (0.0, 'active_months_lag6_mean'), (0.0, 'active_months_lag6_max'), (0.0, 'active_months_lag3_min'), (0.0, 'active_months_lag3_max'), (0.0, 'active_months_lag12_min'), (0.0, 'active_months_lag12_mean'), (0.0, 'active_months_lag12_max')]\n",
      "Training until validation scores don't improve for 200 rounds.\n",
      "[100]\ttrain's rmse: 3.65978\ttest's rmse: 3.7201\n",
      "[200]\ttrain's rmse: 3.58149\ttest's rmse: 3.6728\n",
      "[300]\ttrain's rmse: 3.53748\ttest's rmse: 3.65419\n",
      "[400]\ttrain's rmse: 3.5073\ttest's rmse: 3.6468\n",
      "[500]\ttrain's rmse: 3.48111\ttest's rmse: 3.64179\n",
      "[600]\ttrain's rmse: 3.45985\ttest's rmse: 3.63906\n",
      "[700]\ttrain's rmse: 3.43955\ttest's rmse: 3.63614\n",
      "[800]\ttrain's rmse: 3.42142\ttest's rmse: 3.63392\n",
      "[900]\ttrain's rmse: 3.40363\ttest's rmse: 3.63269\n",
      "[1000]\ttrain's rmse: 3.38649\ttest's rmse: 3.63195\n",
      "[1100]\ttrain's rmse: 3.36985\ttest's rmse: 3.63125\n",
      "[1200]\ttrain's rmse: 3.35331\ttest's rmse: 3.631\n",
      "[1300]\ttrain's rmse: 3.33836\ttest's rmse: 3.63076\n",
      "[1400]\ttrain's rmse: 3.32355\ttest's rmse: 3.63041\n",
      "[1500]\ttrain's rmse: 3.30896\ttest's rmse: 3.63016\n",
      "[1600]\ttrain's rmse: 3.29436\ttest's rmse: 3.62979\n",
      "[1700]\ttrain's rmse: 3.28019\ttest's rmse: 3.63002\n",
      "[1800]\ttrain's rmse: 3.26597\ttest's rmse: 3.62928\n",
      "[1900]\ttrain's rmse: 3.2519\ttest's rmse: 3.62935\n",
      "[2000]\ttrain's rmse: 3.23883\ttest's rmse: 3.62908\n",
      "[2100]\ttrain's rmse: 3.22557\ttest's rmse: 3.62911\n",
      "[2200]\ttrain's rmse: 3.2125\ttest's rmse: 3.62921\n",
      "[2300]\ttrain's rmse: 3.19804\ttest's rmse: 3.62937\n",
      "Early stopping, best iteration is:\n",
      "[2160]\ttrain's rmse: 3.21761\ttest's rmse: 3.6288\n"
     ]
    },
    {
     "name": "stderr",
     "output_type": "stream",
     "text": [
      "/usr/local/lib/python3.6/dist-packages/numpy/core/_methods.py:32: RuntimeWarning: overflow encountered in reduce\n",
      "  return umr_sum(a, axis, dtype, out, keepdims)\n"
     ]
    },
    {
     "name": "stdout",
     "output_type": "stream",
     "text": [
      "Fold  6 RMSE : 3.628803\n",
      "Display the importance range of fold 5: \n",
      "[(1579120.150174141, 'hist_month_session_October_mean'), (1506924.9994885921, 'hist_month_session_May_mean'), (1205679.6331395432, 'hist_month_lag_var'), (1194013.8416087031, 'hist_month_mean'), (1046690.6421839893, 'new_month_session_May_mean'), (986695.8013313487, 'hist_duration_max'), (863405.9300280754, 'hist_last_buy'), (826672.2195814438, 'installments_ratio'), (735821.3037921488, 'hist_day_min'), (702194.0956139863, 'hist_month_lag_min'), (692051.9890667051, 'active_months_lag3_mean'), (598380.7346620858, 'new_amount_month_ratio_max'), (542304.8190437555, 'hist_duration_skew'), (496212.7693178654, 'hist_month_session_November_mean'), (408618.7351861745, 'new_amount_month_ratio_var'), (371695.56688348437, 'new_weekday_mean'), (371685.68542569876, 'new_amount_month_ratio_mean'), (368001.0579532981, 'hist_month_diff_min'), (312317.3174459934, 'hist_month_session_July_mean'), (311130.93367767334, 'new_month_session_June_mean'), (303064.9301098287, 'new_day_nunique'), (300117.682069093, 'new_hour_mean'), (296654.6169934273, 'new_month_lag_var'), (284962.2695415616, 'hist_purchase_date_min'), (276006.11951458454, 'hist_category_3_mean'), (262862.45562205464, 'new_amount_month_ratio_min'), (261439.52410280704, 'hist_amount_month_ratio_max'), (259895.22224873304, 'hist_installments_var'), (259826.95947623253, 'hist_installments_skew'), (259081.13996446133, 'new_hour_max'), (256399.48447722197, 'hist_purchase_amount_var'), (256226.6149482727, 'hist_duration_var'), (251905.4493356347, 'hist_amount_month_ratio_mean'), (248566.23683039472, 'hist_weekend_mean'), (247861.0756625533, 'most_recent_sales_range_D_mean'), (247089.27260634303, 'hist_hour_mean'), (241951.36989095062, 'hist_card_id_size'), (238875.39027535915, 'outliers'), (236686.34787572175, 'hist_merchant_id_nunique'), (234441.05287767947, 'hist_card_id_count'), (232272.85319158435, 'hist_month_session_June_mean'), (231122.50224841014, 'new_weekday_max'), (229783.42081524804, 'hist_merchant_category_id_nunique'), (225936.14474263787, 'card_id_total'), (223307.05727739632, 'hist_category_2_mean'), (222689.5077829361, 'purchase_amount_total'), (222367.1408086419, 'hist_purchase_date_max'), (221203.55778861046, 'new_price_var'), (218749.17507219315, 'hist_purchase_amount_skew'), (217994.93269246817, 'hist_purchase_date_diff'), (217557.96235370636, 'hist_hour_max'), (216260.90642328933, 'hist_month_lag_max'), (215987.71480607986, 'hist_month_diff_max'), (211937.48283821344, 'hist_authorized_flag_mean'), (207149.52497076988, 'hist_day_mean'), (203710.86313784122, 'new_month_mean'), (202884.50435586274, 'hist_price_min'), (201921.64786970615, 'hist_category_2_mean_mean'), (198621.48421671987, 'price_mean'), (197713.10230231285, 'numerical_2_mean'), (197362.35542491078, 'most_recent_sales_range_C_mean'), (194956.43849027157, 'new_category_3_mean'), (194263.7929008007, 'most_recent_sales_range_E_mean'), (193413.50624337047, 'hist_amount_month_ratio_min'), (191540.26957941055, 'hist_Mothers_Day_2017_mean'), (189636.01919293404, 'hist_duration_min'), (186491.0354643464, 'hist_Children_day_2017_mean'), (184382.7000184059, 'hist_month_diff_var'), (184276.07987213135, 'hist_installments_max'), (183104.05072063208, 'elapsed_time'), (182149.6711177677, 'price_total'), (181112.11863346398, 'hist_subsector_id_nunique'), (177516.95981125534, 'hist_month_lag_mean'), (176696.6996949017, 'target'), (176490.41687250137, 'hist_Mothers_Day_2018_mean'), (175919.46878652275, 'hist_month_session_March_mean'), (172078.1795432046, 'days_feature1'), (171019.99215739965, 'feature_min'), (166265.087818861, 'hist_purchase_amount_max'), (161096.8790808469, 'new_purchase_amount_sum'), (160463.45587599277, 'card_id_cnt_total'), (159576.2319264412, 'new_weekday_min'), (154603.68670898676, 'hist_weekofyear_mean'), (152682.30124747753, 'month_diff_ratio'), (152115.14296114445, 'hist_month_session_December_mean'), (150454.6073458828, 'new_category_1_mean'), (147602.1324557662, 'hist_month_session_September_mean'), (147436.80847406387, 'hist_month_session_January_mean'), (146560.9447015971, 'new_first_buy'), (146559.62175643444, 'new_duration_mean'), (145850.38764160126, 'new_Christmas_Day_2017_mean'), (143863.1586034596, 'purchase_amount_min'), (141930.52988737822, 'hist_month_session_August_mean'), (138372.22984826565, 'hist_purchase_amount_min'), (137615.7649550438, 'hist_weekofyear_max'), (136051.1686065197, 'new_card_id_count'), (135131.08046908304, 'new_weekofyear_nunique'), (132514.87056651711, 'hist_price_sum'), (125974.01298385859, 'hist_month_diff_skew'), (125293.5496134162, 'hist_amount_month_ratio_skew'), (124125.93037176132, 'quarter'), (124113.45320743322, 'month_diff_mean'), (123696.65368130803, 'hist_installments_mean'), (123217.95679998398, 'hist_weekday_mean'), (122773.54577308893, 'new_duration_min'), (121458.12823104858, 'new_price_mean'), (120768.40306425095, 'hist_duration_mean'), (119408.96153968573, 'hist_amount_month_ratio_var'), (115254.36076754332, 'purchase_amount_mean'), (112159.15961532295, 'new_day_mean'), (111015.70771074295, 'new_last_buy'), (110880.34583824873, 'hist_fathers_day_2017_mean'), (108720.55463570356, 'new_month_diff_skew'), (106997.25701856613, 'new_card_id_size'), (106956.86277236044, 'hist_hour_min'), (106281.05153817311, 'hist_month_var'), (104944.33573901653, 'new_month_session_November_mean'), (104806.67248308659, 'hist_hour_nunique'), (103266.16509115696, 'new_month_min'), (102994.74786508083, 'installments_mean'), (102952.29743099213, 'new_hour_min'), (101064.33167004585, 'numerical_2_sum'), (100840.7694054842, 'purchase_amount_ratio'), (100530.9511372447, 'hist_price_max'), (99945.6826517582, 'new_Mothers_Day_2018_mean'), (99899.2288953811, 'new_price_min'), (99517.47819519043, 'hist_month_skew'), (99240.91838097572, 'card_id_cnt_ratio'), (98974.80904592574, 'hist_price_var'), (98466.9913598597, 'new_Black_Friday_2017_mean'), (98378.30445212126, 'hist_month_diff_mean'), (98076.76686477661, 'new_installments_var'), (95177.16239988804, 'hist_purchase_amount_mean'), (93955.91155517101, 'hist_category_1_mean'), (93487.28632050753, 'new_category_2_mean'), (91541.67401063442, 'first_active_month'), (88039.8313447833, 'new_day_max'), (87754.86390432715, 'hist_Black_Friday_2017_mean'), (86503.41555778682, 'new_price_max'), (84481.01913619041, 'hist_day_nunique'), (83312.40568122268, 'hist_month_lag_skew'), (82275.90251636505, 'new_weekend_mean'), (81386.3721048832, 'month_lag_max'), (81329.91152386367, 'hist_category_3_mean_mean'), (80160.60056671873, 'hist_Christmas_Day_2017_mean'), (80085.56345167756, 'hist_month_session_April_mean'), (77722.03453120589, 'hist_Valentine_Day_2017_mean'), (75648.91865509748, 'hist_first_buy'), (74614.07554244995, 'new_installments_mean'), (73469.31731766462, 'hist_weekofyear_min'), (71519.36047208309, 'hist_installments_sum'), (69569.3728632927, 'installments_max'), (69530.16341203451, 'hist_purchase_date_average'), (68903.72017973661, 'new_day_min'), (68898.55104535818, 'hist_month_max'), (68780.6529988125, 'feature_sum'), (68610.81132125854, 'new_month_session_September_mean'), (66932.24307966232, 'new_subsector_id_nunique'), (65478.679302215576, 'new_purchase_date_max'), (65281.42806816101, 'new_month_lag_max'), (63190.126532912254, 'new_duration_skew'), (62475.01143492432, 'new_purchase_amount_max'), (61576.83519053459, 'new_purchase_amount_var'), (59007.9111337699, 'new_duration_max'), (58776.40406405926, 'month_lag_min'), (58090.52125239372, 'installments_total'), (56797.97069251537, 'days_feature2'), (56014.443151474, 'hist_purchase_date_uptomin'), (54589.04586136341, 'new_month_session_October_mean'), (54577.615702450275, 'hist_price_mean'), (53034.000229120255, 'month_lag_mean'), (52438.66823068261, 'new_Children_day_2017_mean'), (50574.06366592646, 'days_feature3'), (45729.09259164333, 'hist_purchase_date_uptonow'), (44552.26866722107, 'new_month_lag_mean'), (44368.38951635361, 'new_purchase_amount_skew'), (43058.15882444382, 'new_month_diff_mean'), (42789.1931296587, 'new_installments_sum'), (42001.83974146843, 'purchase_amount_max'), (39085.56130206585, 'hist_month_session_February_mean'), (38846.11908864975, 'new_duration_var'), (36923.19247572124, 'new_month_lag_skew'), (36857.542843967676, 'new_month_lag_min'), (36450.41670036316, 'new_month_session_February_mean'), (34502.94563269615, 'feature_max'), (33743.51939821243, 'card_id'), (33090.8346247673, 'days_feature3_ratio'), (31529.03641963005, 'feature_mean'), (31130.895423173904, 'new_installments_max'), (30552.46618080139, 'new_installments_skew'), (29036.177686691284, 'new_month_session_July_mean'), (28561.561455726624, 'hist_weekofyear_nunique'), (28507.330035209656, 'days_feature1_ratio'), (27028.362146377563, 'hist_purchase_amount_sum'), (25894.391510486603, 'new_month_diff_var'), (25790.696731567383, 'new_month_session_January_mean'), (22904.846565246582, 'new_weekofyear_mean'), (20590.583934783936, 'feature_var'), (20222.34807395935, 'new_month_max'), (20062.523305416107, 'numerical_1_mean'), (18278.7361907959, 'feature_3'), (17776.984035491943, 'new_month_session_March_mean'), (15586.274302703096, 'new_purchase_amount_min'), (15430.007864952087, 'new_hour_nunique'), (15012.06509923935, 'new_purchase_amount_mean'), (14359.82608962059, 'new_month_session_August_mean'), (12305.32452917099, 'numerical_1_sum'), (11517.960291862488, 'days_feature2_ratio'), (11242.685846328735, 'new_purchase_date_min'), (9660.246614456177, 'new_merchant_category_id_nunique'), (6666.893966674805, 'new_weekofyear_min'), (6094.787757873535, 'hist_month_min'), (3111.1708183288574, 'new_weekofyear_max'), (3021.6564407348633, 'feature_1'), (957.1806144714355, 'feature_2'), (509.25870513916016, 'new_month_session_April_mean'), (0.0, 'new_purchase_date_uptonow'), (0.0, 'new_purchase_date_uptomin'), (0.0, 'new_purchase_date_diff'), (0.0, 'new_purchase_date_average'), (0.0, 'new_month_session_December_mean'), (0.0, 'new_category_3_mean_mean'), (0.0, 'new_category_2_mean_mean'), (0.0, 'new_amount_month_ratio_skew'), (0.0, 'most_recent_sales_range_B_mean'), (0.0, 'most_recent_sales_range_A_mean'), (0.0, 'most_recent_purchases_range_E_mean'), (0.0, 'most_recent_purchases_range_D_mean'), (0.0, 'most_recent_purchases_range_C_mean'), (0.0, 'most_recent_purchases_range_B_mean'), (0.0, 'most_recent_purchases_range_A_mean'), (0.0, 'category_4_sum'), (0.0, 'category_4_mean'), (0.0, 'category_2_sum'), (0.0, 'category_2_mean'), (0.0, 'category_1_sum'), (0.0, 'category_1_mean'), (0.0, 'active_months_lag6_min'), (0.0, 'active_months_lag6_mean'), (0.0, 'active_months_lag6_max'), (0.0, 'active_months_lag3_min'), (0.0, 'active_months_lag3_max'), (0.0, 'active_months_lag12_min'), (0.0, 'active_months_lag12_mean'), (0.0, 'active_months_lag12_max')]\n",
      "Training until validation scores don't improve for 200 rounds.\n",
      "[100]\ttrain's rmse: 3.66339\ttest's rmse: 3.66193\n",
      "[200]\ttrain's rmse: 3.58183\ttest's rmse: 3.63205\n",
      "[300]\ttrain's rmse: 3.53694\ttest's rmse: 3.62109\n",
      "[400]\ttrain's rmse: 3.50304\ttest's rmse: 3.6164\n",
      "[500]\ttrain's rmse: 3.47751\ttest's rmse: 3.61447\n",
      "[600]\ttrain's rmse: 3.45739\ttest's rmse: 3.61315\n",
      "[700]\ttrain's rmse: 3.43838\ttest's rmse: 3.61238\n",
      "[800]\ttrain's rmse: 3.42134\ttest's rmse: 3.61221\n",
      "[900]\ttrain's rmse: 3.40457\ttest's rmse: 3.61155\n",
      "[1000]\ttrain's rmse: 3.38787\ttest's rmse: 3.61123\n",
      "[1100]\ttrain's rmse: 3.37209\ttest's rmse: 3.61113\n",
      "[1200]\ttrain's rmse: 3.35587\ttest's rmse: 3.6112\n",
      "Early stopping, best iteration is:\n",
      "[1087]\ttrain's rmse: 3.37416\ttest's rmse: 3.61086\n"
     ]
    },
    {
     "name": "stderr",
     "output_type": "stream",
     "text": [
      "/usr/local/lib/python3.6/dist-packages/numpy/core/_methods.py:32: RuntimeWarning: overflow encountered in reduce\n",
      "  return umr_sum(a, axis, dtype, out, keepdims)\n"
     ]
    },
    {
     "name": "stdout",
     "output_type": "stream",
     "text": [
      "Fold  7 RMSE : 3.610861\n",
      "Display the importance range of fold 6: \n",
      "[(1694140.6231175065, 'hist_month_session_October_mean'), (1269790.6916999817, 'hist_month_session_May_mean'), (1072047.823304236, 'hist_month_lag_var'), (1058031.8714866005, 'hist_month_mean'), (1010034.5249323845, 'new_month_session_May_mean'), (913520.8961676359, 'hist_day_min'), (802957.6321971714, 'hist_last_buy'), (757598.1939442009, 'installments_ratio'), (754814.8304042369, 'hist_duration_max'), (638155.1464066505, 'active_months_lag3_mean'), (592979.2311813831, 'hist_month_lag_min'), (391775.1117145419, 'new_amount_month_ratio_max'), (387656.34304761887, 'new_amount_month_ratio_mean'), (355240.61598062515, 'hist_month_diff_min'), (353215.2175143063, 'hist_duration_skew'), (350072.52763557434, 'new_month_lag_var'), (345202.1659119129, 'new_day_nunique'), (339414.01799196005, 'new_weekday_mean'), (311522.54857063293, 'hist_month_session_November_mean'), (303655.4106788635, 'new_month_session_June_mean'), (277740.07326968014, 'new_amount_month_ratio_var'), (268928.79600179195, 'hist_amount_month_ratio_max'), (254624.85456812382, 'new_hour_mean'), (250091.99680265784, 'new_amount_month_ratio_min'), (243673.3903734684, 'new_weekday_max'), (215592.31957817078, 'purchase_amount_total'), (207936.13215446472, 'hist_purchase_date_min'), (197210.96697425842, 'new_hour_max'), (194543.90627878904, 'most_recent_sales_range_D_mean'), (194433.7925658226, 'hist_month_session_July_mean'), (192393.28873205185, 'hist_month_session_June_mean'), (188923.38467943668, 'outliers'), (188880.84500312805, 'hist_installments_var'), (186553.86486667395, 'hist_duration_min'), (181613.83165097237, 'hist_amount_month_ratio_mean'), (178192.71851100028, 'hist_authorized_flag_mean'), (175579.7675962448, 'hist_purchase_amount_var'), (173117.59509564936, 'most_recent_sales_range_E_mean'), (172158.09506869316, 'price_total'), (169314.24715006351, 'hist_category_3_mean'), (168622.0352422595, 'hist_category_2_mean_mean'), (164009.4064192772, 'hist_price_min'), (161182.9168767482, 'card_id_total'), (156075.97769212723, 'hist_merchant_id_nunique'), (155998.08446240425, 'hist_Mothers_Day_2017_mean'), (153555.46044528484, 'hist_weekofyear_max'), (152164.55865349993, 'hist_merchant_category_id_nunique'), (151283.05421352386, 'hist_month_session_January_mean'), (148084.34610271454, 'new_price_var'), (147627.0458612442, 'hist_card_id_size'), (146856.62447613478, 'price_mean'), (146658.27668601274, 'hist_Children_day_2017_mean'), (146103.67771720886, 'hist_card_id_count'), (144525.2954735756, 'hist_weekend_mean'), (141470.10214543343, 'feature_min'), (140606.81308579445, 'hist_installments_skew'), (139664.38928604126, 'hist_purchase_date_max'), (138245.4098252654, 'hist_purchase_date_diff'), (138179.24068689346, 'new_Christmas_Day_2017_mean'), (135630.8314256668, 'new_first_buy'), (135310.88045096397, 'new_month_session_November_mean'), (133605.59049738944, 'hist_hour_mean'), (133446.06946325302, 'hist_day_mean'), (132718.25211417675, 'target'), (132606.01167356968, 'new_duration_mean'), (132186.16972064972, 'hist_month_diff_var'), (131771.68745446205, 'hist_month_session_September_mean'), (130551.81042218208, 'new_day_mean'), (128506.52787709236, 'hist_amount_month_ratio_min'), (127760.61296579242, 'hist_duration_var'), (126117.09238648415, 'hist_category_2_mean'), (125968.5970325172, 'numerical_2_mean'), (123944.63894236088, 'hist_installments_max'), (123093.70765542984, 'hist_weekofyear_mean'), (122927.06702840328, 'hist_hour_min'), (121264.7250816822, 'hist_hour_max'), (118948.77640324831, 'hist_month_lag_max'), (118777.47642034292, 'elapsed_time'), (118740.04839350283, 'new_category_1_mean'), (118628.35206508636, 'new_duration_min'), (118531.44265961647, 'hist_month_session_December_mean'), (113936.39770796895, 'hist_month_session_March_mean'), (112175.23662233353, 'hist_amount_month_ratio_var'), (112148.76348955557, 'new_month_mean'), (109155.57075309753, 'hist_purchase_amount_skew'), (108213.50770233572, 'hist_subsector_id_nunique'), (108177.82281434536, 'purchase_amount_min'), (106690.05648006871, 'new_month_min'), (106171.83697921038, 'hist_Mothers_Day_2018_mean'), (104161.54486703873, 'new_weekday_min'), (103711.44994926453, 'new_hour_min'), (102305.78082799911, 'hist_month_diff_mean'), (99985.14436101913, 'most_recent_sales_range_C_mean'), (97886.86002373695, 'days_feature1'), (96728.63552452624, 'month_diff_ratio'), (96258.9444180727, 'hist_month_diff_max'), (95543.90319752693, 'hist_purchase_amount_max'), (95300.21223330498, 'new_month_session_September_mean'), (92496.07300925255, 'new_purchase_amount_sum'), (91717.735039711, 'hist_fathers_day_2017_mean'), (91287.52791190147, 'new_price_min'), (90859.91532111168, 'hist_month_diff_skew'), (90355.25910758972, 'card_id_cnt_ratio'), (89621.39409971237, 'hist_amount_month_ratio_skew'), (87710.22845013812, 'hist_month_lag_mean'), (87534.72935676575, 'hist_month_session_August_mean'), (86659.94438456371, 'hist_purchase_amount_min'), (85546.67652225494, 'hist_category_3_mean_mean'), (84831.84316635132, 'new_category_3_mean'), (83081.26792311668, 'hist_category_1_mean'), (82855.00933980942, 'hist_weekday_mean'), (81243.04839277267, 'new_Mothers_Day_2018_mean'), (81141.52335643768, 'hist_installments_mean'), (80676.546138959, 'new_price_mean'), (80542.55100917816, 'quarter'), (80359.52374133468, 'new_last_buy'), (79990.30497848988, 'hist_hour_nunique'), (79725.77824020386, 'card_id_cnt_total'), (79225.88701415062, 'hist_Christmas_Day_2017_mean'), (77481.79113435745, 'new_card_id_count'), (75416.69167351723, 'first_active_month'), (74975.12586236, 'installments_mean'), (74877.21677875519, 'hist_purchase_amount_mean'), (73015.8089632988, 'purchase_amount_ratio'), (72766.50045519322, 'new_weekofyear_nunique'), (71863.66135978699, 'month_lag_max'), (71736.01858213544, 'month_diff_mean'), (70375.22576403618, 'new_month_lag_max'), (70298.38302612305, 'new_installments_var'), (70212.11915260553, 'new_Black_Friday_2017_mean'), (68732.05349111557, 'numerical_2_sum'), (67421.63384965062, 'hist_price_sum'), (67344.71764087677, 'new_day_max'), (65142.36438250542, 'new_category_2_mean'), (65007.8337726593, 'new_weekend_mean'), (64786.76196050644, 'new_installments_sum'), (64305.8941988945, 'new_price_max'), (63936.40015077591, 'hist_price_max'), (63922.8728761673, 'new_duration_skew'), (63678.352343171835, 'hist_day_nunique'), (63308.6308927536, 'new_day_min'), (62099.886018276215, 'hist_month_session_April_mean'), (61917.04766988754, 'new_month_session_October_mean'), (61717.46298849583, 'purchase_amount_mean'), (61074.53172206879, 'hist_duration_mean'), (59211.626276254654, 'hist_month_var'), (58818.402574419975, 'installments_total'), (58193.0049264431, 'hist_purchase_date_average'), (57728.12258601189, 'hist_Black_Friday_2017_mean'), (55894.77746653557, 'new_card_id_size'), (54574.40580666065, 'hist_month_skew'), (51931.8887715321, 'hist_month_lag_skew'), (50997.137884140015, 'hist_Valentine_Day_2017_mean'), (49774.34893140197, 'hist_first_buy'), (48300.89567089081, 'new_month_diff_skew'), (47549.77628737688, 'hist_weekofyear_min'), (47351.82824027538, 'hist_installments_sum'), (45993.96040827036, 'new_purchase_amount_max'), (45148.3051776886, 'new_installments_skew'), (42659.41458892822, 'new_installments_mean'), (41056.68720817566, 'installments_max'), (40279.46316432953, 'hist_price_var'), (40276.67922133207, 'feature_sum'), (37273.009179115295, 'new_subsector_id_nunique'), (37257.321145772934, 'month_lag_min'), (36383.518940627575, 'new_purchase_amount_var'), (35559.40788644552, 'month_lag_mean'), (34631.91014957428, 'new_Children_day_2017_mean'), (34355.8192448616, 'new_month_max'), (33609.12557506561, 'hist_purchase_date_uptomin'), (33412.936219483614, 'hist_price_mean'), (32184.41011661291, 'new_duration_max'), (31248.547794818878, 'feature_max'), (31113.44659805298, 'new_weekofyear_mean'), (30973.966814994812, 'days_feature3'), (30654.4560213089, 'hist_month_max'), (30486.616391658783, 'card_id'), (30081.15441608429, 'days_feature2'), (29000.761743068695, 'new_month_lag_min'), (28879.05250930786, 'new_purchase_date_max'), (28602.634290218353, 'new_duration_var'), (28057.383101463318, 'hist_purchase_date_uptonow'), (27840.976920366287, 'new_purchase_amount_skew'), (27688.895460128784, 'purchase_amount_max'), (27506.892417907715, 'hist_month_session_February_mean'), (26713.881372451782, 'new_month_lag_skew'), (26564.87555062771, 'new_month_diff_mean'), (24949.25608253479, 'new_installments_max'), (23600.67999649048, 'feature_var'), (22581.12059211731, 'days_feature1_ratio'), (22397.540828466415, 'new_purchase_amount_min'), (21077.975986480713, 'new_month_session_January_mean'), (19736.35524249077, 'days_feature3_ratio'), (17646.871446609497, 'numerical_1_sum'), (17473.38576078415, 'feature_mean'), (17073.229984283447, 'new_month_diff_var'), (16879.035657167435, 'new_month_lag_mean'), (15120.628913879395, 'new_month_session_February_mean'), (15115.556574821472, 'new_month_session_July_mean'), (14195.96597313881, 'new_weekofyear_min'), (13686.515312194824, 'new_purchase_amount_mean'), (12969.304708480835, 'new_month_session_March_mean'), (12360.060167312622, 'hist_purchase_amount_sum'), (12297.936610221863, 'new_hour_nunique'), (11964.702493667603, 'days_feature2_ratio'), (11241.053638458252, 'feature_3'), (11044.155838429928, 'hist_weekofyear_nunique'), (9937.439234733582, 'new_weekofyear_max'), (9836.872789502144, 'new_purchase_date_min'), (9353.623458862305, 'new_merchant_category_id_nunique'), (8599.291154265404, 'new_month_session_August_mean'), (8474.325370788574, 'feature_1'), (7826.013977050781, 'hist_month_min'), (6986.274321556091, 'numerical_1_mean'), (1767.7930717468262, 'new_month_session_April_mean'), (414.75780487060547, 'feature_2'), (0.0, 'new_purchase_date_uptonow'), (0.0, 'new_purchase_date_uptomin'), (0.0, 'new_purchase_date_diff'), (0.0, 'new_purchase_date_average'), (0.0, 'new_month_session_December_mean'), (0.0, 'new_category_3_mean_mean'), (0.0, 'new_category_2_mean_mean'), (0.0, 'new_amount_month_ratio_skew'), (0.0, 'most_recent_sales_range_B_mean'), (0.0, 'most_recent_sales_range_A_mean'), (0.0, 'most_recent_purchases_range_E_mean'), (0.0, 'most_recent_purchases_range_D_mean'), (0.0, 'most_recent_purchases_range_C_mean'), (0.0, 'most_recent_purchases_range_B_mean'), (0.0, 'most_recent_purchases_range_A_mean'), (0.0, 'category_4_sum'), (0.0, 'category_4_mean'), (0.0, 'category_2_sum'), (0.0, 'category_2_mean'), (0.0, 'category_1_sum'), (0.0, 'category_1_mean'), (0.0, 'active_months_lag6_min'), (0.0, 'active_months_lag6_mean'), (0.0, 'active_months_lag6_max'), (0.0, 'active_months_lag3_min'), (0.0, 'active_months_lag3_max'), (0.0, 'active_months_lag12_min'), (0.0, 'active_months_lag12_mean'), (0.0, 'active_months_lag12_max')]\n",
      "Training until validation scores don't improve for 200 rounds.\n",
      "[100]\ttrain's rmse: 3.66951\ttest's rmse: 3.60167\n",
      "[200]\ttrain's rmse: 3.59013\ttest's rmse: 3.56893\n",
      "[300]\ttrain's rmse: 3.54425\ttest's rmse: 3.55743\n",
      "[400]\ttrain's rmse: 3.51206\ttest's rmse: 3.55263\n",
      "[500]\ttrain's rmse: 3.48769\ttest's rmse: 3.54984\n",
      "[600]\ttrain's rmse: 3.46617\ttest's rmse: 3.54821\n",
      "[700]\ttrain's rmse: 3.4467\ttest's rmse: 3.54827\n",
      "[800]\ttrain's rmse: 3.42889\ttest's rmse: 3.54844\n",
      "Early stopping, best iteration is:\n",
      "[644]\ttrain's rmse: 3.45705\ttest's rmse: 3.54784\n"
     ]
    },
    {
     "name": "stderr",
     "output_type": "stream",
     "text": [
      "/usr/local/lib/python3.6/dist-packages/numpy/core/_methods.py:32: RuntimeWarning: overflow encountered in reduce\n",
      "  return umr_sum(a, axis, dtype, out, keepdims)\n"
     ]
    },
    {
     "name": "stdout",
     "output_type": "stream",
     "text": [
      "Fold  8 RMSE : 3.547844\n",
      "Display the importance range of fold 7: \n",
      "[(1793286.1527807713, 'hist_month_session_October_mean'), (1091184.7513798475, 'hist_month_mean'), (1001825.1434650421, 'hist_month_session_May_mean'), (998673.3628292084, 'new_month_session_May_mean'), (988305.0326781273, 'hist_month_lag_var'), (851325.0039291382, 'hist_day_min'), (731370.1622345448, 'hist_last_buy'), (684479.7402148247, 'hist_duration_max'), (677411.6251699924, 'installments_ratio'), (619294.6210718155, 'active_months_lag3_mean'), (603009.4085774422, 'hist_month_lag_min'), (400875.87346601486, 'new_amount_month_ratio_mean'), (372651.61366319656, 'new_amount_month_ratio_max'), (356580.94556355476, 'new_day_nunique'), (319758.24702072144, 'new_month_session_June_mean'), (299240.2808570862, 'new_month_lag_var'), (280857.00835347176, 'new_weekday_mean'), (271567.5388805866, 'hist_month_session_November_mean'), (263074.87519836426, 'hist_month_diff_min'), (240464.94609808922, 'new_amount_month_ratio_min'), (217934.3874835968, 'hist_month_session_July_mean'), (209874.371175766, 'hist_duration_skew'), (208344.52041834593, 'new_amount_month_ratio_var'), (205745.57573509216, 'most_recent_sales_range_D_mean'), (201633.5628042221, 'new_weekday_max'), (199140.43318796158, 'hist_amount_month_ratio_max'), (174641.01363658905, 'new_hour_mean'), (171124.927388072, 'new_Christmas_Day_2017_mean'), (170475.97335386276, 'hist_duration_min'), (164330.8272086382, 'purchase_amount_total'), (164105.1299495697, 'new_hour_max'), (159164.4344997406, 'hist_month_session_January_mean'), (151657.0176000595, 'hist_merchant_id_nunique'), (145419.41036748886, 'hist_purchase_date_min'), (143988.1880375743, 'hist_day_mean'), (142384.0456431061, 'hist_weekofyear_max'), (141577.29672050476, 'new_price_var'), (139373.10349941254, 'hist_category_2_mean_mean'), (138172.26476955414, 'hist_amount_month_ratio_mean'), (135070.51124572754, 'hist_duration_var'), (131714.27018260956, 'price_mean'), (131324.12633132935, 'hist_merchant_category_id_nunique'), (129290.26889038086, 'hist_Mothers_Day_2017_mean'), (128923.1946940124, 'hist_hour_min'), (128880.6549243927, 'hist_month_diff_var'), (127578.11081814766, 'hist_price_min'), (126681.17366886139, 'hist_installments_var'), (126321.14888870716, 'outliers'), (126282.23363876343, 'feature_min'), (126281.63202381134, 'hist_purchase_date_max'), (121078.875228405, 'hist_weekend_mean'), (119652.6606388092, 'hist_purchase_amount_var'), (118904.80813789368, 'hist_month_session_June_mean'), (118178.22670602798, 'hist_authorized_flag_mean'), (117857.50463581085, 'most_recent_sales_range_E_mean'), (116314.05091071129, 'hist_card_id_size'), (115100.37287268043, 'card_id_total'), (113606.60922050476, 'price_total'), (110275.75792884827, 'numerical_2_mean'), (108020.28254829347, 'hist_amount_month_ratio_min'), (107826.6169629097, 'new_category_1_mean'), (107482.60557174683, 'card_id_cnt_total'), (107176.20566654205, 'hist_card_id_count'), (107127.70579636097, 'hist_category_3_mean'), (105366.55654335022, 'hist_purchase_amount_max'), (104931.54413175583, 'new_duration_mean'), (103870.68656110764, 'hist_Children_day_2017_mean'), (102699.92355072498, 'hist_installments_skew'), (101906.45570278168, 'target'), (101627.89879250526, 'most_recent_sales_range_C_mean'), (100413.57500982285, 'new_weekday_min'), (99645.48027229309, 'new_purchase_amount_sum'), (99429.60113155842, 'new_day_mean'), (91088.94979095459, 'hist_month_session_March_mean'), (90739.8080201149, 'hist_purchase_amount_mean'), (88589.1941370964, 'card_id_cnt_ratio'), (88514.14951467514, 'new_month_session_November_mean'), (88501.74664011598, 'hist_Mothers_Day_2018_mean'), (87074.1217224598, 'hist_subsector_id_nunique'), (86736.47974085808, 'hist_month_lag_mean'), (85962.96923589706, 'hist_hour_max'), (85276.85142326355, 'hist_month_lag_max'), (84599.50190973282, 'hist_purchase_date_diff'), (84243.46328186989, 'hist_hour_mean'), (84123.44955158234, 'hist_installments_max'), (83887.07875490189, 'hist_category_2_mean'), (83435.31583364308, 'quarter'), (82730.43275535107, 'new_duration_min'), (80229.64246273041, 'hist_month_diff_max'), (77965.48887252808, 'new_last_buy'), (76846.56226181984, 'new_first_buy'), (72628.12290430069, 'hist_month_session_December_mean'), (72587.98400878906, 'hist_month_diff_skew'), (71837.94076156616, 'hist_purchase_amount_skew'), (71678.54818153381, 'hist_weekofyear_mean'), (71226.9939661026, 'new_hour_min'), (71105.77430963516, 'days_feature1'), (70304.50228595734, 'hist_purchase_amount_min'), (68390.27047920227, 'hist_category_3_mean_mean'), (68128.62822532654, 'hist_month_session_August_mean'), (67228.13113498688, 'hist_month_session_September_mean'), (66680.85330963135, 'new_month_session_September_mean'), (66630.75161600113, 'hist_fathers_day_2017_mean'), (66499.20454597473, 'purchase_amount_min'), (64578.60201263428, 'new_installments_var'), (63597.80504837632, 'new_price_mean'), (63577.951929569244, 'new_price_min'), (63317.762557029724, 'new_month_lag_max'), (63125.87141036987, 'new_month_min'), (61522.1306476593, 'hist_price_sum'), (61520.2487578392, 'hist_duration_mean'), (61396.76262974739, 'month_diff_mean'), (60488.953956604004, 'new_weekend_mean'), (59838.42639482021, 'month_diff_ratio'), (57701.134243011475, 'new_day_max'), (57493.74035716057, 'purchase_amount_ratio'), (57122.11157512665, 'new_Mothers_Day_2018_mean'), (56892.330780506134, 'hist_amount_month_ratio_var'), (56824.63147544861, 'elapsed_time'), (56591.16854953766, 'new_category_3_mean'), (55887.029168605804, 'purchase_amount_mean'), (55827.81700325012, 'new_month_mean'), (55612.072732925415, 'new_price_max'), (55549.07740020752, 'hist_weekday_mean'), (55537.04503059387, 'hist_hour_nunique'), (55532.70230054855, 'new_month_session_October_mean'), (53401.71878814697, 'hist_month_var'), (52777.714327812195, 'new_card_id_size'), (52188.826352119446, 'new_day_min'), (51560.985630989075, 'hist_price_max'), (51526.74728393555, 'feature_sum'), (51444.7274838686, 'days_feature3'), (51366.75828075409, 'new_duration_skew'), (50782.571402549744, 'hist_installments_sum'), (50694.31155401468, 'new_Black_Friday_2017_mean'), (49941.49743819237, 'numerical_2_sum'), (49548.517006874084, 'hist_installments_mean'), (49405.62846946716, 'hist_price_var'), (46148.656948804855, 'hist_amount_month_ratio_skew'), (45692.39645576477, 'hist_month_diff_mean'), (45604.46922492981, 'new_purchase_amount_min'), (45567.41428947449, 'new_month_diff_skew'), (45246.00035095215, 'new_card_id_count'), (45056.13817632198, 'new_weekofyear_nunique'), (43105.444621801376, 'hist_purchase_date_average'), (42627.43611383438, 'installments_mean'), (42030.03502655029, 'new_month_session_March_mean'), (41302.74506187439, 'new_installments_sum'), (41156.58239078522, 'hist_category_1_mean'), (40621.14277482033, 'new_purchase_amount_skew'), (40490.56843328476, 'hist_first_buy'), (40297.695857048035, 'new_installments_skew'), (40106.987037181854, 'hist_weekofyear_min'), (39211.008705854416, 'month_lag_max'), (38990.78009605408, 'new_purchase_amount_var'), (37589.75303936005, 'hist_Valentine_Day_2017_mean'), (37460.11043167114, 'hist_Black_Friday_2017_mean'), (36885.24690294266, 'days_feature2'), (36662.10828208923, 'new_category_2_mean'), (36622.85068511963, 'new_month_lag_skew'), (36010.81059265137, 'first_active_month'), (34855.49263000488, 'hist_month_lag_skew'), (34699.59359359741, 'hist_Christmas_Day_2017_mean'), (34666.31460762024, 'installments_max'), (33288.48810219765, 'hist_month_session_April_mean'), (32595.884664297104, 'new_purchase_amount_max'), (31430.743397712708, 'hist_price_mean'), (31290.442846298218, 'hist_month_skew'), (31054.011877059937, 'new_installments_max'), (31049.643823623657, 'new_purchase_date_max'), (30784.27746486664, 'new_duration_max'), (30751.66912317276, 'installments_total'), (29721.244636535645, 'hist_day_nunique'), (28782.723609924316, 'new_duration_var'), (28737.46223640442, 'new_installments_mean'), (27999.980922698975, 'feature_max'), (27855.84850883484, 'new_month_diff_mean'), (27726.635121941566, 'new_month_max'), (26371.89151573181, 'new_month_lag_min'), (26100.718871593475, 'month_lag_mean'), (25938.979917764664, 'new_Children_day_2017_mean'), (24370.694959640503, 'hist_month_max'), (23746.020446777344, 'new_subsector_id_nunique'), (22210.024419784546, 'purchase_amount_max'), (21853.8984746933, 'month_lag_min'), (21356.101775169373, 'card_id'), (20209.518217802048, 'hist_purchase_date_uptonow'), (20008.63511657715, 'days_feature1_ratio'), (19644.061950683594, 'hist_month_min'), (18572.96124982834, 'feature_mean'), (17682.847480773926, 'numerical_1_sum'), (17063.656791210175, 'hist_purchase_date_uptomin'), (16963.09876346588, 'new_month_diff_var'), (16216.380889892578, 'new_weekofyear_mean'), (15044.166694641113, 'feature_var'), (14703.061173915863, 'days_feature3_ratio'), (14586.87236738205, 'new_purchase_amount_mean'), (14454.936626434326, 'days_feature2_ratio'), (13879.117787837982, 'new_month_session_August_mean'), (12198.637718200684, 'new_month_session_January_mean'), (11923.417345046997, 'hist_purchase_amount_sum'), (11827.34697341919, 'new_month_session_July_mean'), (11078.4573636055, 'hist_weekofyear_nunique'), (10043.94075679779, 'new_weekofyear_max'), (9823.71375131607, 'new_hour_nunique'), (9607.831689476967, 'new_month_lag_mean'), (8784.64999294281, 'numerical_1_mean'), (8664.512100219727, 'new_weekofyear_min'), (8283.62419128418, 'feature_3'), (7747.979106903076, 'hist_month_session_February_mean'), (7000.142826080322, 'new_merchant_category_id_nunique'), (6846.46036529541, 'new_month_session_February_mean'), (4795.332807540894, 'new_purchase_date_min'), (2534.3716468811035, 'feature_1'), (1052.812889099121, 'feature_2'), (0.0, 'new_purchase_date_uptonow'), (0.0, 'new_purchase_date_uptomin'), (0.0, 'new_purchase_date_diff'), (0.0, 'new_purchase_date_average'), (0.0, 'new_month_session_December_mean'), (0.0, 'new_month_session_April_mean'), (0.0, 'new_category_3_mean_mean'), (0.0, 'new_category_2_mean_mean'), (0.0, 'new_amount_month_ratio_skew'), (0.0, 'most_recent_sales_range_B_mean'), (0.0, 'most_recent_sales_range_A_mean'), (0.0, 'most_recent_purchases_range_E_mean'), (0.0, 'most_recent_purchases_range_D_mean'), (0.0, 'most_recent_purchases_range_C_mean'), (0.0, 'most_recent_purchases_range_B_mean'), (0.0, 'most_recent_purchases_range_A_mean'), (0.0, 'category_4_sum'), (0.0, 'category_4_mean'), (0.0, 'category_2_sum'), (0.0, 'category_2_mean'), (0.0, 'category_1_sum'), (0.0, 'category_1_mean'), (0.0, 'active_months_lag6_min'), (0.0, 'active_months_lag6_mean'), (0.0, 'active_months_lag6_max'), (0.0, 'active_months_lag3_min'), (0.0, 'active_months_lag3_max'), (0.0, 'active_months_lag12_min'), (0.0, 'active_months_lag12_mean'), (0.0, 'active_months_lag12_max')]\n",
      "Training until validation scores don't improve for 200 rounds.\n",
      "[100]\ttrain's rmse: 3.65445\ttest's rmse: 3.74561\n",
      "[200]\ttrain's rmse: 3.57306\ttest's rmse: 3.71287\n",
      "[300]\ttrain's rmse: 3.52767\ttest's rmse: 3.70375\n",
      "[400]\ttrain's rmse: 3.49452\ttest's rmse: 3.69932\n",
      "[500]\ttrain's rmse: 3.4682\ttest's rmse: 3.69709\n",
      "[600]\ttrain's rmse: 3.44681\ttest's rmse: 3.69619\n",
      "[700]\ttrain's rmse: 3.42742\ttest's rmse: 3.69587\n",
      "[800]\ttrain's rmse: 3.41014\ttest's rmse: 3.6954\n",
      "[900]\ttrain's rmse: 3.39352\ttest's rmse: 3.69501\n",
      "[1000]\ttrain's rmse: 3.37819\ttest's rmse: 3.69527\n",
      "[1100]\ttrain's rmse: 3.36314\ttest's rmse: 3.6948\n",
      "[1200]\ttrain's rmse: 3.3484\ttest's rmse: 3.69478\n",
      "[1300]\ttrain's rmse: 3.3334\ttest's rmse: 3.69485\n",
      "Early stopping, best iteration is:\n",
      "[1132]\ttrain's rmse: 3.35818\ttest's rmse: 3.69451\n"
     ]
    },
    {
     "name": "stderr",
     "output_type": "stream",
     "text": [
      "/usr/local/lib/python3.6/dist-packages/numpy/core/_methods.py:32: RuntimeWarning: overflow encountered in reduce\n",
      "  return umr_sum(a, axis, dtype, out, keepdims)\n"
     ]
    },
    {
     "name": "stdout",
     "output_type": "stream",
     "text": [
      "Fold  9 RMSE : 3.694513\n",
      "Display the importance range of fold 8: \n",
      "[(1704803.7143775895, 'hist_month_session_October_mean'), (1218218.880203247, 'hist_month_session_May_mean'), (1039492.153703332, 'hist_month_mean'), (992298.0607368946, 'hist_month_lag_var'), (970155.2211568058, 'new_month_session_May_mean'), (866002.7831120491, 'hist_day_min'), (806642.0658406019, 'hist_last_buy'), (767156.2863347977, 'hist_duration_max'), (739828.7881749868, 'installments_ratio'), (673766.7194776535, 'active_months_lag3_mean'), (636853.6957253218, 'hist_month_lag_min'), (434298.55779361725, 'hist_month_diff_min'), (430462.88268250227, 'new_amount_month_ratio_mean'), (425267.6335018873, 'new_amount_month_ratio_max'), (375757.5379151106, 'new_weekday_mean'), (337934.74559754133, 'new_day_nunique'), (323632.87198472023, 'hist_month_session_November_mean'), (314849.4325811267, 'hist_duration_skew'), (310546.5553789735, 'new_month_lag_var'), (305915.46861475706, 'new_amount_month_ratio_var'), (293931.3414916992, 'new_month_session_June_mean'), (272521.2241280079, 'new_hour_mean'), (253144.03405952454, 'hist_month_session_July_mean'), (253057.8226199746, 'hist_amount_month_ratio_max'), (235580.31048429012, 'new_amount_month_ratio_min'), (229293.6532804966, 'new_hour_max'), (219897.73937737942, 'purchase_amount_total'), (212047.8859655857, 'hist_weekend_mean'), (199464.50001513958, 'most_recent_sales_range_E_mean'), (198967.95854449272, 'hist_purchase_date_min'), (198110.4263650775, 'most_recent_sales_range_D_mean'), (191268.4626017809, 'hist_amount_month_ratio_mean'), (190439.89913892746, 'outliers'), (189207.798476696, 'hist_authorized_flag_mean'), (186155.24461317062, 'hist_category_2_mean_mean'), (185125.85163234174, 'new_first_buy'), (183612.46073794365, 'hist_duration_min'), (174126.3566081524, 'hist_month_diff_var'), (168276.56413316727, 'hist_month_session_June_mean'), (164082.7973291874, 'new_weekday_max'), (159766.14770117402, 'price_mean'), (159561.5662703067, 'card_id_total'), (159161.42755031586, 'hist_Children_day_2017_mean'), (156839.29169923067, 'hist_category_3_mean'), (153943.58742690086, 'feature_min'), (152604.72561246157, 'hist_duration_var'), (151970.86946749687, 'new_category_1_mean'), (151854.93146736175, 'hist_card_id_size'), (148742.66801404953, 'hist_installments_var'), (147302.5944877863, 'hist_amount_month_ratio_min'), (144553.45170891285, 'hist_card_id_count'), (141371.77072536945, 'hist_purchase_date_diff'), (141074.71413099766, 'price_total'), (140620.23349571228, 'hist_installments_max'), (140601.6786186695, 'hist_merchant_category_id_nunique'), (138925.5006685853, 'new_month_mean'), (138655.11474204063, 'new_price_var'), (138589.02949228883, 'hist_Mothers_Day_2017_mean'), (137900.67809820175, 'hist_purchase_amount_max'), (137562.08693790436, 'new_hour_min'), (137451.03863042593, 'hist_installments_skew'), (135321.9587585628, 'new_day_mean'), (134515.59667897224, 'most_recent_sales_range_C_mean'), (134217.3680150509, 'hist_purchase_date_max'), (134086.72088303417, 'hist_price_min'), (132607.77283000946, 'hist_Mothers_Day_2018_mean'), (131917.21177053452, 'hist_purchase_amount_skew'), (131639.93225330114, 'hist_category_2_mean'), (131110.14510536194, 'hist_month_lag_max'), (129863.69218203425, 'hist_hour_min'), (129539.77496004105, 'hist_merchant_id_nunique'), (128150.23899650574, 'hist_purchase_amount_var'), (128090.23503398895, 'numerical_2_mean'), (124521.1456188485, 'hist_weekofyear_max'), (123221.1690094471, 'new_Christmas_Day_2017_mean'), (122160.84075558186, 'hist_day_mean'), (120967.93341505527, 'new_duration_min'), (117325.80126690865, 'elapsed_time'), (116106.68699902296, 'hist_month_session_January_mean'), (114797.32040822506, 'new_purchase_amount_sum'), (113721.447504282, 'new_month_session_November_mean'), (112729.86826869845, 'hist_hour_mean'), (112348.50202417374, 'target'), (112116.3573063612, 'hist_hour_max'), (111966.24099111557, 'hist_month_session_September_mean'), (111900.37022781372, 'quarter'), (111700.10157442093, 'hist_month_lag_mean'), (111247.41673052311, 'hist_weekofyear_mean'), (110362.25830173492, 'new_price_min'), (108750.4089000225, 'hist_month_session_March_mean'), (107564.89949661493, 'hist_subsector_id_nunique'), (104260.99550819397, 'card_id_cnt_total'), (104216.18023456633, 'days_feature1'), (99661.32450652122, 'new_duration_mean'), (99438.78236424923, 'new_Mothers_Day_2018_mean'), (98210.61336733401, 'month_diff_ratio'), (98155.01477095485, 'new_month_min'), (97603.15836775303, 'hist_month_diff_max'), (97207.71990060806, 'hist_purchase_amount_min'), (95522.89794516563, 'hist_category_3_mean_mean'), (95317.56380146742, 'hist_fathers_day_2017_mean'), (93845.18018960953, 'new_last_buy'), (93371.08288097382, 'new_category_3_mean'), (93225.0067962408, 'hist_amount_month_ratio_skew'), (92993.8823530674, 'new_weekday_min'), (91354.56179594994, 'hist_month_session_August_mean'), (91015.77268648148, 'hist_amount_month_ratio_var'), (90510.24416399002, 'hist_month_session_December_mean'), (88209.74032497406, 'new_day_min'), (87862.58098864555, 'hist_hour_nunique'), (86966.12056648731, 'hist_purchase_amount_mean'), (86875.2357661128, 'hist_month_diff_skew'), (86795.42413571477, 'new_card_id_count'), (84903.8351225853, 'purchase_amount_min'), (84591.12821888924, 'month_diff_mean'), (83701.77922153473, 'new_price_mean'), (83660.220225811, 'card_id_cnt_ratio'), (80558.58621430397, 'hist_price_max'), (78846.5900273323, 'new_price_max'), (78242.8187879622, 'hist_price_sum'), (78218.47211562097, 'purchase_amount_ratio'), (77107.59503817558, 'new_day_max'), (75436.03893876076, 'new_month_session_September_mean'), (75375.38358306885, 'new_weekend_mean'), (74364.20642232895, 'hist_month_var'), (73253.84654712677, 'hist_category_1_mean'), (72797.71576118469, 'new_card_id_size'), (72025.3888245821, 'hist_installments_mean'), (71051.26962280273, 'new_category_2_mean'), (70055.20971226692, 'purchase_amount_mean'), (69696.88916754723, 'new_Black_Friday_2017_mean'), (69290.75553870201, 'hist_weekday_mean'), (68928.57144123316, 'numerical_2_sum'), (65010.48837098479, 'hist_duration_mean'), (64988.52734267712, 'hist_month_diff_mean'), (64899.466049194336, 'new_installments_var'), (64796.80067694187, 'first_active_month'), (64498.663457006216, 'new_weekofyear_nunique'), (62341.987002670765, 'hist_price_var'), (61671.737832546234, 'installments_mean'), (60909.71009081602, 'new_installments_sum'), (59913.49936389923, 'new_month_diff_skew'), (59651.63178920746, 'hist_weekofyear_min'), (56859.676971793175, 'hist_first_buy'), (56656.05918467045, 'hist_Christmas_Day_2017_mean'), (56366.06100086868, 'new_month_lag_max'), (55829.874581336975, 'hist_month_session_April_mean'), (55519.57721734047, 'hist_purchase_date_average'), (54092.44035458565, 'new_duration_skew'), (53635.1327508688, 'month_lag_max'), (52427.431250452995, 'new_purchase_amount_var'), (50903.58706665039, 'new_installments_mean'), (48858.1713385582, 'hist_day_nunique'), (48688.07335972786, 'hist_Black_Friday_2017_mean'), (47274.41062699258, 'new_purchase_amount_max'), (47148.996356770396, 'hist_Valentine_Day_2017_mean'), (47071.53386878967, 'hist_installments_sum'), (46941.74560415745, 'days_feature2'), (45898.35601425171, 'new_duration_var'), (45558.65320622921, 'days_feature3'), (45236.443908691406, 'new_purchase_date_max'), (43529.5736374259, 'hist_month_lag_skew'), (42723.166491270065, 'feature_sum'), (40770.87775290012, 'hist_month_session_February_mean'), (40600.60664701462, 'new_purchase_amount_skew'), (39991.023769021034, 'month_lag_min'), (39485.933887541294, 'hist_month_max'), (39244.96156954765, 'month_lag_mean'), (37958.68524169922, 'hist_purchase_date_uptonow'), (36883.41088318825, 'new_month_session_October_mean'), (36069.01091194153, 'new_installments_skew'), (35109.37565547228, 'hist_price_mean'), (34478.480214595795, 'new_duration_max'), (34074.37182807922, 'card_id'), (33956.48577544093, 'hist_month_skew'), (33824.64789906144, 'new_Children_day_2017_mean'), (32003.627336978912, 'new_month_diff_mean'), (31924.176469802856, 'new_purchase_amount_min'), (31541.842017889023, 'new_installments_max'), (31352.88417544705, 'installments_max'), (31229.22413277626, 'hist_purchase_date_uptomin'), (30686.77867126465, 'new_subsector_id_nunique'), (29911.895248413086, 'new_month_session_March_mean'), (29205.611248016357, 'feature_max'), (29146.780966177583, 'purchase_amount_max'), (28869.4561920166, 'hist_purchase_amount_sum'), (28807.4818482399, 'installments_total'), (26879.96054172516, 'new_weekofyear_mean'), (24542.198928117752, 'new_month_max'), (24532.176089286804, 'numerical_1_sum'), (23932.5726852417, 'days_feature3_ratio'), (23819.682941436768, 'new_month_session_July_mean'), (23241.854194641113, 'days_feature1_ratio'), (22165.419419288635, 'new_month_lag_mean'), (21643.908722877502, 'new_month_lag_skew'), (21276.84402036667, 'new_month_diff_var'), (20097.057121753693, 'feature_mean'), (19812.953415870667, 'new_purchase_amount_mean'), (19023.76367855072, 'new_month_lag_min'), (17906.78019309044, 'feature_3'), (17583.56503677368, 'new_month_session_January_mean'), (16007.834657669067, 'days_feature2_ratio'), (15413.954789161682, 'hist_weekofyear_nunique'), (14973.058868408203, 'feature_var'), (14791.399223327637, 'new_month_session_February_mean'), (12180.191779382993, 'new_merchant_category_id_nunique'), (11597.343241214752, 'new_month_session_August_mean'), (10223.704455375671, 'new_weekofyear_min'), (9893.22915649414, 'new_weekofyear_max'), (9212.423029899597, 'new_hour_nunique'), (7769.900131225586, 'hist_month_min'), (6713.103882312775, 'numerical_1_mean'), (5040.557914733887, 'new_purchase_date_min'), (2860.295135498047, 'feature_1'), (1686.4559478759766, 'feature_2'), (1295.1036834716797, 'new_month_session_April_mean'), (0.0, 'new_purchase_date_uptonow'), (0.0, 'new_purchase_date_uptomin'), (0.0, 'new_purchase_date_diff'), (0.0, 'new_purchase_date_average'), (0.0, 'new_month_session_December_mean'), (0.0, 'new_category_3_mean_mean'), (0.0, 'new_category_2_mean_mean'), (0.0, 'new_amount_month_ratio_skew'), (0.0, 'most_recent_sales_range_B_mean'), (0.0, 'most_recent_sales_range_A_mean'), (0.0, 'most_recent_purchases_range_E_mean'), (0.0, 'most_recent_purchases_range_D_mean'), (0.0, 'most_recent_purchases_range_C_mean'), (0.0, 'most_recent_purchases_range_B_mean'), (0.0, 'most_recent_purchases_range_A_mean'), (0.0, 'category_4_sum'), (0.0, 'category_4_mean'), (0.0, 'category_2_sum'), (0.0, 'category_2_mean'), (0.0, 'category_1_sum'), (0.0, 'category_1_mean'), (0.0, 'active_months_lag6_min'), (0.0, 'active_months_lag6_mean'), (0.0, 'active_months_lag6_max'), (0.0, 'active_months_lag3_min'), (0.0, 'active_months_lag3_max'), (0.0, 'active_months_lag12_min'), (0.0, 'active_months_lag12_mean'), (0.0, 'active_months_lag12_max')]\n",
      "Training until validation scores don't improve for 200 rounds.\n",
      "[100]\ttrain's rmse: 3.66987\ttest's rmse: 3.58798\n",
      "[200]\ttrain's rmse: 3.5897\ttest's rmse: 3.55845\n",
      "[300]\ttrain's rmse: 3.54513\ttest's rmse: 3.55131\n",
      "[400]\ttrain's rmse: 3.5118\ttest's rmse: 3.55002\n",
      "[500]\ttrain's rmse: 3.485\ttest's rmse: 3.54902\n",
      "[600]\ttrain's rmse: 3.46344\ttest's rmse: 3.54817\n",
      "[700]\ttrain's rmse: 3.44437\ttest's rmse: 3.54792\n",
      "[800]\ttrain's rmse: 3.42555\ttest's rmse: 3.54721\n",
      "[900]\ttrain's rmse: 3.40777\ttest's rmse: 3.54658\n",
      "[1000]\ttrain's rmse: 3.39215\ttest's rmse: 3.54629\n",
      "[1100]\ttrain's rmse: 3.37722\ttest's rmse: 3.54643\n",
      "Early stopping, best iteration is:\n",
      "[979]\ttrain's rmse: 3.39509\ttest's rmse: 3.54609\n"
     ]
    },
    {
     "name": "stderr",
     "output_type": "stream",
     "text": [
      "/usr/local/lib/python3.6/dist-packages/numpy/core/_methods.py:32: RuntimeWarning: overflow encountered in reduce\n",
      "  return umr_sum(a, axis, dtype, out, keepdims)\n"
     ]
    },
    {
     "name": "stdout",
     "output_type": "stream",
     "text": [
      "Fold 10 RMSE : 3.546087\n",
      "Display the importance range of fold 9: \n",
      "[(1848178.5920208097, 'hist_month_session_October_mean'), (1090278.3792357445, 'hist_day_min'), (1072643.5635681152, 'hist_month_lag_var'), (1025284.902987957, 'hist_month_session_May_mean'), (992504.3157844543, 'new_month_session_May_mean'), (968111.5072805882, 'hist_month_mean'), (826829.5210801959, 'hist_last_buy'), (794459.1646387577, 'hist_duration_max'), (666576.5280154645, 'installments_ratio'), (629699.6174701899, 'hist_month_lag_min'), (578157.3274121284, 'active_months_lag3_mean'), (439760.10694921017, 'new_amount_month_ratio_mean'), (380765.58769246936, 'new_amount_month_ratio_max'), (362699.75986117125, 'new_day_nunique'), (360201.9224243164, 'hist_month_session_November_mean'), (360169.4901125878, 'new_amount_month_ratio_var'), (347731.08008539677, 'hist_month_diff_min'), (334367.56889525056, 'new_weekday_mean'), (330132.91721725464, 'new_month_session_June_mean'), (296892.5438070297, 'hist_duration_skew'), (287267.0515356064, 'new_month_lag_var'), (243453.41700029373, 'new_amount_month_ratio_min'), (242555.4517687559, 'new_hour_mean'), (221707.84673754126, 'hist_month_session_July_mean'), (221383.7283127308, 'purchase_amount_total'), (205432.40530228615, 'hist_amount_month_ratio_max'), (190970.30044710636, 'new_hour_max'), (185632.90617918968, 'hist_purchase_date_min'), (182358.74880313873, 'hist_duration_min'), (182061.36004066467, 'hist_Children_day_2017_mean'), (181723.16774445772, 'most_recent_sales_range_D_mean'), (180521.453789711, 'hist_installments_var'), (179783.63127970695, 'new_Christmas_Day_2017_mean'), (178159.67658376694, 'hist_authorized_flag_mean'), (176072.10429108143, 'hist_amount_month_ratio_mean'), (172741.65121084452, 'hist_duration_var'), (170470.74289590865, 'hist_card_id_size'), (169166.02803730965, 'hist_month_session_January_mean'), (167873.1314252019, 'hist_category_2_mean_mean'), (166077.0936818123, 'hist_weekend_mean'), (165606.55693686008, 'new_weekday_max'), (165138.9604895115, 'hist_month_session_June_mean'), (163013.91227340698, 'card_id_total'), (162716.9525399208, 'new_price_var'), (161718.2531389892, 'hist_merchant_id_nunique'), (161201.38925516605, 'outliers'), (156659.28355431557, 'most_recent_sales_range_E_mean'), (154504.28723573685, 'feature_min'), (153919.71866726875, 'hist_price_min'), (148946.49562633038, 'hist_installments_skew'), (147510.18694847822, 'hist_category_3_mean'), (139244.68479537964, 'hist_card_id_count'), (138906.8263565004, 'most_recent_sales_range_C_mean'), (137801.8055176735, 'hist_month_diff_var'), (136304.1221885085, 'new_duration_min'), (135452.4658613205, 'hist_day_mean'), (134967.29360359907, 'hist_Mothers_Day_2018_mean'), (134390.91603666544, 'price_mean'), (132518.3891260624, 'hist_purchase_amount_var'), (131325.26955020428, 'hist_purchase_date_max'), (129457.38822937012, 'hist_hour_max'), (126960.9875895977, 'numerical_2_mean'), (125860.30570176244, 'hist_hour_mean'), (123578.19538033009, 'new_duration_mean'), (121661.25112915039, 'target'), (121482.39331281185, 'hist_purchase_date_diff'), (121074.20469927788, 'new_day_mean'), (120413.0779042244, 'hist_hour_min'), (119908.70276200771, 'hist_category_2_mean'), (118443.19265508652, 'new_first_buy'), (117679.5249106884, 'quarter'), (117479.6210231483, 'price_total'), (116388.17059743404, 'hist_month_lag_mean'), (115797.63626146317, 'hist_subsector_id_nunique'), (115666.06674790382, 'hist_Mothers_Day_2017_mean'), (115153.22073960304, 'hist_merchant_category_id_nunique'), (114936.52677488327, 'new_category_1_mean'), (113976.46098440886, 'elapsed_time'), (111631.9648270607, 'hist_purchase_amount_skew'), (111303.83907699585, 'hist_weekofyear_mean'), (106694.6885125637, 'hist_purchase_amount_min'), (104572.40551388264, 'hist_purchase_amount_max'), (104002.84429347515, 'new_month_session_November_mean'), (102069.62840259075, 'hist_month_lag_max'), (100831.47038971446, 'hist_weekofyear_max'), (100552.26136392355, 'new_purchase_amount_sum'), (100252.57508867979, 'hist_amount_month_ratio_min'), (100105.45247203112, 'new_month_mean'), (98873.80743384361, 'hist_month_session_March_mean'), (98859.873316288, 'new_hour_min'), (98815.19979667664, 'new_card_id_count'), (94436.55775213242, 'days_feature1'), (92647.05486392975, 'hist_month_diff_skew'), (90847.5891084671, 'new_last_buy'), (90762.66649341583, 'new_month_session_September_mean'), (89094.45841312408, 'hist_month_diff_max'), (88720.88507938385, 'new_category_3_mean'), (88096.0690317154, 'hist_purchase_amount_mean'), (86656.95839095116, 'new_installments_var'), (86621.81871509552, 'purchase_amount_min'), (86224.21843242645, 'purchase_amount_mean'), (85845.86232304573, 'new_month_min'), (85720.42183113098, 'card_id_cnt_total'), (85548.30246400833, 'month_diff_mean'), (85544.30372428894, 'card_id_cnt_ratio'), (85543.31436157227, 'hist_month_session_December_mean'), (85518.08421570063, 'hist_month_session_September_mean'), (84863.09328949451, 'new_price_max'), (84614.84035134315, 'hist_fathers_day_2017_mean'), (84155.84517669678, 'hist_weekday_mean'), (82530.55926322937, 'hist_amount_month_ratio_var'), (81742.35786473751, 'hist_price_sum'), (80872.89140999317, 'month_diff_ratio'), (80842.20485019684, 'new_price_mean'), (80025.41218680143, 'hist_installments_max'), (79603.0946495533, 'new_weekday_min'), (77414.8062210083, 'hist_month_session_August_mean'), (77023.63235783577, 'purchase_amount_ratio'), (76635.91496238112, 'new_weekofyear_nunique'), (74942.40897274017, 'hist_category_1_mean'), (74840.13221460581, 'hist_category_3_mean_mean'), (74200.45693159103, 'new_Mothers_Day_2018_mean'), (73726.11542582512, 'first_active_month'), (73407.99728703499, 'new_price_min'), (72656.89088201523, 'new_category_2_mean'), (72387.87709903717, 'new_weekend_mean'), (71330.23199544847, 'hist_hour_nunique'), (70008.62596774101, 'new_month_lag_max'), (69390.99494171143, 'new_day_max'), (67759.95695209503, 'hist_amount_month_ratio_skew'), (67455.96726560593, 'hist_price_max'), (64417.36329078674, 'hist_duration_mean'), (64129.65155148506, 'new_month_diff_skew'), (63509.363555669785, 'new_month_session_October_mean'), (61493.965583741665, 'hist_purchase_date_average'), (60912.86788511276, 'hist_month_skew'), (60680.922859191895, 'hist_month_diff_mean'), (58921.71417307854, 'hist_installments_mean'), (56204.98809444904, 'numerical_2_sum'), (55829.99174404144, 'new_duration_skew'), (53992.9442987442, 'new_card_id_size'), (53965.45104265213, 'hist_price_var'), (52658.357303887606, 'new_purchase_amount_max'), (51431.485142707825, 'hist_first_buy'), (51298.717410326004, 'days_feature3'), (50860.952902562916, 'hist_month_lag_skew'), (50373.211653232574, 'hist_installments_sum'), (50204.10152769089, 'new_purchase_amount_min'), (50084.370319485664, 'hist_Christmas_Day_2017_mean'), (50017.71845436096, 'new_installments_sum'), (49328.875430583954, 'hist_Black_Friday_2017_mean'), (49212.46466469765, 'installments_mean'), (48601.94878768921, 'new_Black_Friday_2017_mean'), (48200.32997587323, 'new_installments_skew'), (48158.771861478686, 'hist_month_var'), (47739.38291168213, 'new_purchase_amount_skew'), (47438.5612950325, 'month_lag_max'), (46974.839319229126, 'new_day_min'), (45267.994831085205, 'hist_weekofyear_min'), (45156.488001823425, 'hist_day_nunique'), (44534.630029678345, 'installments_max'), (44185.935112297535, 'new_purchase_amount_var'), (43474.47446411848, 'hist_Valentine_Day_2017_mean'), (42072.30359888077, 'new_Children_day_2017_mean'), (41801.71758198738, 'hist_month_max'), (41427.68144992739, 'new_duration_max'), (41223.70591163635, 'hist_price_mean'), (41047.34635043144, 'feature_sum'), (40255.363995313644, 'days_feature2'), (40238.33268451691, 'new_purchase_date_max'), (38662.31750679016, 'new_installments_mean'), (38488.829461574554, 'hist_month_session_April_mean'), (37713.708335876465, 'new_subsector_id_nunique'), (35611.15380859375, 'new_month_diff_mean'), (35177.74551165104, 'hist_purchase_date_uptonow'), (34630.57588338852, 'feature_max'), (33445.321582615376, 'installments_total'), (33199.22582197189, 'new_duration_var'), (32113.262408733368, 'month_lag_mean'), (28342.35209083557, 'hist_purchase_date_uptomin'), (27962.78715801239, 'new_month_session_July_mean'), (25958.355363726616, 'new_month_lag_mean'), (25220.645763397217, 'new_month_session_January_mean'), (24841.41074371338, 'hist_month_session_February_mean'), (24172.827090263367, 'new_month_max'), (24133.914234161377, 'new_month_diff_var'), (23663.179827690125, 'new_month_lag_skew'), (22549.258400559425, 'new_weekofyear_mean'), (22538.916303634644, 'month_lag_min'), (21432.122829437256, 'new_installments_max'), (20672.21403980255, 'feature_var'), (18281.166284561157, 'purchase_amount_max'), (17896.75360560417, 'new_month_lag_min'), (17667.343398094177, 'days_feature1_ratio'), (17401.36544895172, 'hist_purchase_amount_sum'), (17022.668952941895, 'new_month_session_February_mean'), (14449.363291740417, 'card_id'), (14012.474501609802, 'hist_weekofyear_nunique'), (13252.277774810791, 'days_feature3_ratio'), (12952.358005523682, 'new_merchant_category_id_nunique'), (12847.667337417603, 'new_purchase_amount_mean'), (12705.423313379288, 'feature_mean'), (12324.139114379883, 'new_hour_nunique'), (11677.36811876297, 'new_month_session_August_mean'), (11073.973983764648, 'numerical_1_sum'), (10426.174274921417, 'days_feature2_ratio'), (10226.569100379944, 'new_weekofyear_max'), (9489.894721984863, 'new_month_session_March_mean'), (8944.352603912354, 'new_weekofyear_min'), (8846.674047708511, 'feature_3'), (8750.461827278137, 'numerical_1_mean'), (7812.265960693359, 'hist_month_min'), (3066.4529724121094, 'feature_1'), (1764.3518257141113, 'new_purchase_date_min'), (1479.6658935546875, 'feature_2'), (994.2139892578125, 'new_month_session_April_mean'), (0.0, 'new_purchase_date_uptonow'), (0.0, 'new_purchase_date_uptomin'), (0.0, 'new_purchase_date_diff'), (0.0, 'new_purchase_date_average'), (0.0, 'new_month_session_December_mean'), (0.0, 'new_category_3_mean_mean'), (0.0, 'new_category_2_mean_mean'), (0.0, 'new_amount_month_ratio_skew'), (0.0, 'most_recent_sales_range_B_mean'), (0.0, 'most_recent_sales_range_A_mean'), (0.0, 'most_recent_purchases_range_E_mean'), (0.0, 'most_recent_purchases_range_D_mean'), (0.0, 'most_recent_purchases_range_C_mean'), (0.0, 'most_recent_purchases_range_B_mean'), (0.0, 'most_recent_purchases_range_A_mean'), (0.0, 'category_4_sum'), (0.0, 'category_4_mean'), (0.0, 'category_2_sum'), (0.0, 'category_2_mean'), (0.0, 'category_1_sum'), (0.0, 'category_1_mean'), (0.0, 'active_months_lag6_min'), (0.0, 'active_months_lag6_mean'), (0.0, 'active_months_lag6_max'), (0.0, 'active_months_lag3_min'), (0.0, 'active_months_lag3_max'), (0.0, 'active_months_lag12_min'), (0.0, 'active_months_lag12_mean'), (0.0, 'active_months_lag12_max')]\n",
      "Training until validation scores don't improve for 200 rounds.\n",
      "[100]\ttrain's rmse: 3.65627\ttest's rmse: 3.73671\n",
      "[200]\ttrain's rmse: 3.57684\ttest's rmse: 3.69898\n",
      "[300]\ttrain's rmse: 3.53135\ttest's rmse: 3.68753\n",
      "[400]\ttrain's rmse: 3.49973\ttest's rmse: 3.68321\n",
      "[500]\ttrain's rmse: 3.4732\ttest's rmse: 3.68014\n",
      "[600]\ttrain's rmse: 3.44976\ttest's rmse: 3.67863\n",
      "[700]\ttrain's rmse: 3.42914\ttest's rmse: 3.67759\n",
      "[800]\ttrain's rmse: 3.41133\ttest's rmse: 3.67673\n",
      "[900]\ttrain's rmse: 3.39365\ttest's rmse: 3.67598\n",
      "[1000]\ttrain's rmse: 3.37716\ttest's rmse: 3.67569\n",
      "[1100]\ttrain's rmse: 3.36149\ttest's rmse: 3.67504\n",
      "[1200]\ttrain's rmse: 3.34503\ttest's rmse: 3.67508\n",
      "[1300]\ttrain's rmse: 3.32994\ttest's rmse: 3.67467\n",
      "[1400]\ttrain's rmse: 3.31452\ttest's rmse: 3.67469\n",
      "[1500]\ttrain's rmse: 3.29924\ttest's rmse: 3.67436\n",
      "[1600]\ttrain's rmse: 3.28558\ttest's rmse: 3.67402\n",
      "[1700]\ttrain's rmse: 3.27084\ttest's rmse: 3.67352\n",
      "[1800]\ttrain's rmse: 3.25565\ttest's rmse: 3.67303\n",
      "[1900]\ttrain's rmse: 3.241\ttest's rmse: 3.67292\n",
      "[2000]\ttrain's rmse: 3.22643\ttest's rmse: 3.67326\n",
      "[2100]\ttrain's rmse: 3.21164\ttest's rmse: 3.67311\n",
      "Early stopping, best iteration is:\n",
      "[1910]\ttrain's rmse: 3.23967\ttest's rmse: 3.67271\n"
     ]
    },
    {
     "name": "stderr",
     "output_type": "stream",
     "text": [
      "/usr/local/lib/python3.6/dist-packages/numpy/core/_methods.py:32: RuntimeWarning: overflow encountered in reduce\n",
      "  return umr_sum(a, axis, dtype, out, keepdims)\n"
     ]
    },
    {
     "name": "stdout",
     "output_type": "stream",
     "text": [
      "Fold 11 RMSE : 3.672706\n",
      "Display the importance range of fold 10: \n",
      "[(1934749.600246787, 'hist_month_session_October_mean'), (1470629.2838392258, 'hist_month_session_May_mean'), (1122309.7014269084, 'hist_month_mean'), (1098034.754289627, 'hist_month_lag_var'), (1061987.4393137991, 'new_month_session_May_mean'), (946914.8125576675, 'hist_duration_max'), (921275.9292593002, 'hist_day_min'), (870442.384066999, 'hist_last_buy'), (834542.557190083, 'installments_ratio'), (701354.3536440134, 'active_months_lag3_mean'), (689468.4695852101, 'hist_month_lag_min'), (583672.8737820089, 'new_amount_month_ratio_max'), (429595.4589940384, 'hist_duration_skew'), (427224.00555860763, 'hist_month_diff_min'), (423816.5570869446, 'new_amount_month_ratio_mean'), (364218.1506752372, 'new_weekday_mean'), (351886.3251197338, 'new_hour_mean'), (337380.15344440937, 'new_month_lag_var'), (334539.67993819714, 'new_day_nunique'), (316022.6055761874, 'hist_amount_month_ratio_max'), (311643.32376503944, 'hist_purchase_date_min'), (301404.2397726178, 'hist_month_session_July_mean'), (288568.7024139166, 'new_weekday_max'), (288373.0117278993, 'hist_authorized_flag_mean'), (287056.01362371445, 'hist_month_session_November_mean'), (286617.758354187, 'new_month_session_June_mean'), (286597.4496027529, 'new_amount_month_ratio_var'), (277236.730199337, 'hist_category_3_mean'), (266730.86197024584, 'hist_month_session_June_mean'), (263802.97594463825, 'new_amount_month_ratio_min'), (256413.76236462593, 'hist_installments_var'), (242956.359808743, 'hist_card_id_size'), (239506.66857634485, 'card_id_total'), (236809.53745705634, 'hist_amount_month_ratio_mean'), (231849.21089935303, 'hist_purchase_amount_var'), (231657.6983525157, 'outliers'), (230255.97261968255, 'hist_installments_skew'), (223608.11973453313, 'hist_hour_max'), (217174.01654696465, 'purchase_amount_total'), (216594.1735830307, 'hist_duration_min'), (216110.5796442032, 'new_hour_max'), (215908.31341981888, 'hist_weekend_mean'), (215122.94493171573, 'hist_purchase_date_max'), (212495.0590480566, 'hist_duration_var'), (211471.7352808714, 'most_recent_sales_range_D_mean'), (209554.5666473806, 'hist_card_id_count'), (201568.11327302456, 'hist_Mothers_Day_2017_mean'), (200013.6462852955, 'hist_Children_day_2017_mean'), (195114.753101781, 'hist_merchant_category_id_nunique'), (194760.60868796706, 'hist_purchase_amount_skew'), (193647.11047267914, 'card_id_cnt_total'), (192737.1526735425, 'hist_hour_mean'), (192360.235551537, 'hist_category_2_mean'), (191388.35250079632, 'most_recent_sales_range_E_mean'), (191204.3339772597, 'price_mean'), (188279.1610534191, 'hist_day_mean'), (184997.73808565736, 'hist_purchase_date_diff'), (183327.82988274097, 'hist_Mothers_Day_2018_mean'), (183077.13011014462, 'target'), (182417.01836299896, 'price_total'), (182338.24855296314, 'hist_price_min'), (178374.79048645496, 'hist_category_2_mean_mean'), (176315.79410475492, 'new_month_mean'), (174776.5223613158, 'new_Christmas_Day_2017_mean'), (173655.62735450268, 'numerical_2_mean'), (170727.8817564249, 'hist_month_lag_max'), (168265.4836525321, 'new_price_var'), (166358.4635565877, 'hist_month_diff_var'), (166266.07656684518, 'hist_month_session_March_mean'), (164869.4423069954, 'new_hour_min'), (163982.73513581604, 'hist_weekofyear_max'), (162060.32309306413, 'hist_subsector_id_nunique'), (160530.42361393198, 'hist_month_session_December_mean'), (160425.42158046365, 'hist_month_lag_mean'), (159618.47088479996, 'new_category_1_mean'), (158602.9947926402, 'new_day_mean'), (158086.81924390793, 'new_duration_mean'), (155732.85354661942, 'hist_hour_min'), (155069.19629740715, 'days_feature1'), (154908.59021556377, 'most_recent_sales_range_C_mean'), (152659.7043209076, 'hist_merchant_id_nunique'), (152070.00955141708, 'hist_amount_month_ratio_min'), (151150.81245815754, 'hist_amount_month_ratio_var'), (150470.2378467843, 'hist_installments_max'), (147755.1436548233, 'new_category_3_mean'), (147483.72791603208, 'new_duration_min'), (143136.96021808684, 'elapsed_time'), (143120.73264050484, 'new_card_id_count'), (139674.79400014877, 'hist_purchase_amount_max'), (138460.34204268456, 'new_last_buy'), (130676.70118553378, 'new_purchase_amount_sum'), (130455.50291642547, 'new_month_min'), (130405.08734858036, 'hist_month_diff_max'), (126399.20126843452, 'hist_weekofyear_mean'), (126064.58115549386, 'hist_fathers_day_2017_mean'), (125739.58958417177, 'hist_month_session_September_mean'), (125617.81121534109, 'purchase_amount_min'), (125471.91155266762, 'new_month_session_November_mean'), (124294.60583671927, 'hist_price_sum'), (123106.98049873114, 'month_diff_ratio'), (121076.12290358543, 'feature_min'), (119895.53295499086, 'numerical_2_sum'), (114802.5059145391, 'new_price_mean'), (113940.48569774628, 'hist_month_diff_skew'), (113720.93469238281, 'new_first_buy'), (113606.98844182491, 'purchase_amount_mean'), (113520.99191057682, 'hist_amount_month_ratio_skew'), (112067.2454559207, 'new_Mothers_Day_2018_mean'), (111006.7913031578, 'hist_duration_mean'), (109885.97300517559, 'hist_installments_mean'), (109689.79917120934, 'new_installments_var'), (109498.32366718352, 'month_diff_mean'), (108569.12461170554, 'new_category_2_mean'), (106842.3675994277, 'hist_purchase_amount_min'), (106817.29422305524, 'new_weekday_min'), (106213.33527386189, 'quarter'), (104392.85331606865, 'hist_category_1_mean'), (104389.64753889292, 'hist_month_diff_mean'), (102847.78567624092, 'hist_month_session_August_mean'), (100962.18629550934, 'hist_purchase_amount_mean'), (100360.83365887403, 'first_active_month'), (99889.75055581331, 'new_price_min'), (98654.31475958228, 'hist_price_max'), (98042.90518951416, 'new_weekend_mean'), (96109.57484126091, 'hist_month_var'), (94738.45789384842, 'hist_weekday_mean'), (94189.95047688484, 'new_price_max'), (94151.09768438339, 'hist_purchase_date_average'), (90810.60715657473, 'new_weekofyear_nunique'), (89456.35035777092, 'purchase_amount_ratio'), (89391.71161985397, 'hist_hour_nunique'), (87305.80886483192, 'new_duration_skew'), (87044.36194229126, 'card_id_cnt_ratio'), (85709.4932346344, 'hist_month_lag_skew'), (85283.5434769541, 'installments_mean'), (83834.6998808384, 'month_lag_max'), (83385.35431289673, 'hist_month_skew'), (78313.55136227608, 'new_day_max'), (78284.19661158323, 'new_Black_Friday_2017_mean'), (78070.1619592458, 'hist_Black_Friday_2017_mean'), (77119.80403721333, 'hist_month_session_April_mean'), (77082.0701431681, 'new_month_diff_skew'), (76940.17007005215, 'hist_Christmas_Day_2017_mean'), (76627.06274652481, 'days_feature3'), (76137.9870262146, 'new_subsector_id_nunique'), (73429.70686222613, 'hist_price_var'), (73393.70402216911, 'new_day_min'), (71439.71674633026, 'new_card_id_size'), (69354.1402683258, 'new_month_lag_max'), (68467.65156549215, 'hist_day_nunique'), (68094.70503425598, 'new_duration_var'), (67255.84934043884, 'hist_month_session_January_mean'), (66588.60287857056, 'installments_max'), (66342.68534576893, 'new_purchase_amount_skew'), (66035.42837238312, 'new_month_session_September_mean'), (63975.878682971, 'hist_category_3_mean_mean'), (63844.144733056426, 'feature_sum'), (63558.903881549835, 'month_lag_min'), (60703.16587883234, 'hist_first_buy'), (60600.28675067425, 'hist_month_max'), (60370.473652243614, 'hist_weekofyear_min'), (59709.965475678444, 'hist_Valentine_Day_2017_mean'), (56545.26753115654, 'days_feature2'), (56020.40006830916, 'hist_installments_sum'), (55507.16686522961, 'new_installments_sum'), (54982.34014761448, 'hist_purchase_date_uptomin'), (54050.98564210534, 'new_purchase_amount_max'), (53511.49113148451, 'new_month_session_October_mean'), (51287.206688679755, 'installments_total'), (50767.83450436592, 'new_month_lag_min'), (48502.20017823577, 'new_Children_day_2017_mean'), (46907.890570640564, 'new_purchase_amount_var'), (45996.375155210495, 'new_duration_max'), (44978.42722892761, 'new_purchase_date_max'), (44042.21962451935, 'new_installments_mean'), (43793.42136371136, 'hist_purchase_date_uptonow'), (42887.56385600567, 'purchase_amount_max'), (41464.70643765107, 'hist_price_mean'), (40717.689301490784, 'month_lag_mean'), (39783.39137414098, 'new_installments_max'), (38505.91183376312, 'new_month_lag_skew'), (36931.64862343669, 'feature_max'), (36080.753531455994, 'new_installments_skew'), (35740.95729330182, 'new_month_lag_mean'), (35532.852628946304, 'hist_purchase_amount_sum'), (32750.09136581421, 'new_month_diff_mean'), (32008.309337615967, 'new_month_session_January_mean'), (31916.47569656372, 'new_month_max'), (30737.63733148575, 'hist_month_session_February_mean'), (30195.41844779253, 'card_id'), (28754.95993232727, 'new_month_session_March_mean'), (28634.083353996277, 'new_purchase_amount_min'), (27733.165890812874, 'new_purchase_amount_mean'), (27178.447744369507, 'new_month_session_July_mean'), (26383.133160829544, 'days_feature1_ratio'), (25433.968143463135, 'hist_weekofyear_nunique'), (22859.933866500854, 'new_month_session_February_mean'), (22673.131604731083, 'new_month_diff_var'), (21614.36677455902, 'days_feature3_ratio'), (20915.987616539, 'feature_mean'), (20364.776782035828, 'new_weekofyear_mean'), (19845.5977935791, 'feature_var'), (17817.638658568263, 'new_hour_nunique'), (15878.564867973328, 'new_weekofyear_max'), (15518.296863079071, 'feature_3'), (14861.349143981934, 'hist_month_min'), (13279.364322423935, 'numerical_1_mean'), (13090.262601852417, 'numerical_1_sum'), (12353.034254074097, 'new_purchase_date_min'), (12299.436939239502, 'new_weekofyear_min'), (10444.557086706161, 'new_month_session_August_mean'), (9898.711261510849, 'days_feature2_ratio'), (9285.461695671082, 'new_merchant_category_id_nunique'), (8374.59807395935, 'feature_1'), (1063.9486923217773, 'feature_2'), (489.7790069580078, 'new_month_session_April_mean'), (0.0, 'new_purchase_date_uptonow'), (0.0, 'new_purchase_date_uptomin'), (0.0, 'new_purchase_date_diff'), (0.0, 'new_purchase_date_average'), (0.0, 'new_month_session_December_mean'), (0.0, 'new_category_3_mean_mean'), (0.0, 'new_category_2_mean_mean'), (0.0, 'new_amount_month_ratio_skew'), (0.0, 'most_recent_sales_range_B_mean'), (0.0, 'most_recent_sales_range_A_mean'), (0.0, 'most_recent_purchases_range_E_mean'), (0.0, 'most_recent_purchases_range_D_mean'), (0.0, 'most_recent_purchases_range_C_mean'), (0.0, 'most_recent_purchases_range_B_mean'), (0.0, 'most_recent_purchases_range_A_mean'), (0.0, 'category_4_sum'), (0.0, 'category_4_mean'), (0.0, 'category_2_sum'), (0.0, 'category_2_mean'), (0.0, 'category_1_sum'), (0.0, 'category_1_mean'), (0.0, 'active_months_lag6_min'), (0.0, 'active_months_lag6_mean'), (0.0, 'active_months_lag6_max'), (0.0, 'active_months_lag3_min'), (0.0, 'active_months_lag3_max'), (0.0, 'active_months_lag12_min'), (0.0, 'active_months_lag12_mean'), (0.0, 'active_months_lag12_max')]\n"
     ]
    },
    {
     "name": "stderr",
     "output_type": "stream",
     "text": [
      "/usr/local/lib/python3.6/dist-packages/numpy/core/_methods.py:32: RuntimeWarning: overflow encountered in reduce\n",
      "  return umr_sum(a, axis, dtype, out, keepdims)\n"
     ]
    },
    {
     "name": "stdout",
     "output_type": "stream",
     "text": [
      "Final RMSE : 3.651033\n",
      "Run LightGBM with kfold - done in 1942s\n",
      "Full model run - done in 5011s\n"
     ]
    },
    {
     "data": {
      "image/png": "[encoded data removed]",
      "text/plain": [
       "<Figure size 576x720 with 1 Axes>"
      ]
     },
     "metadata": {
      "tags": []
     },
     "output_type": "display_data"
    }
   ],
   "source": [
    "def main(debug=False):\n",
    "    num_rows = 10000 if debug else None\n",
    "    \n",
    "    with timer(\"train & test\"):\n",
    "        df = train_test(num_rows)\n",
    "    \n",
    "    # Re-construct 2019/2/19: exchange location between two transaction data file dealing process\n",
    "    with timer(\"new merchants\"):\n",
    "        df = pd.merge(df, new_merchant_transactions(num_rows), on='card_id', how='outer')    \n",
    "        \n",
    "    with timer(\"historical transactions\"):\n",
    "        df = pd.merge(df, historical_transactions(num_rows), on='card_id', how='outer')\n",
    "        \n",
    "    with timer(\"additional features\"):\n",
    "        df = additional_features(df)\n",
    "        \n",
    "    with timer(\"split train & test\"):\n",
    "        train_df = df[df['target'].notnull()]\n",
    "        test_df = df[df['target'].isnull()]\n",
    "        \n",
    "#         train_df.to_csv(DATA_ROOT_PATH + \"data_processed/train/data_train_20190219.csv\", index=False)\n",
    "#         test_df.to_csv(DATA_ROOT_PATH + \"data_processed/test/data_test_20190219.csv\", index=False)\n",
    "        \n",
    "        del df\n",
    "        gc.collect()\n",
    "        \n",
    "    with timer(\"Run LightGBM with kfold\"):\n",
    "        best_features_df = kfold_lightgbm(train_df, test_df, num_folds=11, stratified=False, debug=debug)\n",
    "      \n",
    "    \n",
    "if __name__ == \"__main__\":\n",
    "    submission_file_name = './submit/submission_LGBM_hzq_20190219.csv'\n",
    "    with timer(\"Full model run\"):\n",
    "        main(debug=False)"
   ]
  },
  {
   "cell_type": "markdown",
   "metadata": {
    "colab_type": "text",
    "id": "O00oozSBbU9I"
   },
   "source": [
    "# Test Parts"
   ]
  },
  {
   "cell_type": "code",
   "execution_count": 0,
   "metadata": {
    "id": "JH7FzZeEOqo-",
    "colab_type": "code",
    "colab": {}
   },
   "outputs": [],
   "source": [
    "gc.collect()\n",
    "sys._clear_type_cache()"
   ]
  },
  {
   "cell_type": "markdown",
   "metadata": {
    "id": "5bOAt6OnfSuu",
    "colab_type": "text"
   },
   "source": [
    "## for data"
   ]
  },
  {
   "cell_type": "code",
   "execution_count": 0,
   "metadata": {
    "id": "LE3Wt4xZGEXP",
    "colab_type": "code",
    "colab": {}
   },
   "outputs": [],
   "source": [
    "# calculate factorial\n",
    "\n",
    "\n",
    "from functools import reduce\n",
    "result = reduce(lambda x,y:x*y,range(1,num_stop+1))"
   ]
  },
  {
   "cell_type": "markdown",
   "metadata": {
    "id": "8Kvn9icnfXbp",
    "colab_type": "text"
   },
   "source": [
    "### by pandas"
   ]
  },
  {
   "cell_type": "code",
   "execution_count": 0,
   "metadata": {
    "id": "b0PFUSPXvW_D",
    "colab_type": "code",
    "colab": {}
   },
   "outputs": [],
   "source": [
    "df..plot.scatter/bar/..."
   ]
  },
  {
   "cell_type": "code",
   "execution_count": 0,
   "metadata": {
    "id": "J73GtPtTf0I-",
    "colab_type": "code",
    "colab": {}
   },
   "outputs": [],
   "source": [
    "df.isnull.sum().mean()  # provide a pandas series of the percentage of each row vacancy"
   ]
  },
  {
   "cell_type": "code",
   "execution_count": 0,
   "metadata": {
    "id": "KtWdPTXkf8bF",
    "colab_type": "code",
    "colab": {}
   },
   "outputs": [],
   "source": [
    "df.columnA.value_counts()  # provide a pandas series of the counts for a specified column"
   ]
  },
  {
   "cell_type": "code",
   "execution_count": 0,
   "metadata": {
    "id": "NeIBxqxk6TQM",
    "colab_type": "code",
    "colab": {}
   },
   "outputs": [],
   "source": [
    "df[\"Sample_mod\"] = df[\"Sample\"].apply(func_sample)"
   ]
  },
  {
   "cell_type": "code",
   "execution_count": 0,
   "metadata": {
    "id": "nhkFGei176OF",
    "colab_type": "code",
    "colab": {}
   },
   "outputs": [],
   "source": [
    "df.style.bar(subset=[\"Sample\"], align=\"mid\", color=[\"#d65f5f\", \"#5fba7d\"])"
   ]
  },
  {
   "cell_type": "code",
   "execution_count": 0,
   "metadata": {
    "id": "ZEiJmStFGIJ5",
    "colab_type": "code",
    "colab": {}
   },
   "outputs": [],
   "source": [
    "month_labels = ['January', 'February', 'March', 'April', 'May', 'June', 'July', 'August',\n",
    "                'September', 'October', 'November', 'December']\n",
    "temp['purchase_month'] = pd.Categorical(temp['purchase_month'], categories = month_labels, \n",
    "                                          ordered = True)"
   ]
  },
  {
   "cell_type": "code",
   "execution_count": 0,
   "metadata": {
    "id": "2BHqq0jo1uD5",
    "colab_type": "code",
    "colab": {}
   },
   "outputs": [],
   "source": [
    "df_obj = df.select_dtypes(include=['object']).copy()"
   ]
  },
  {
   "cell_type": "code",
   "execution_count": 0,
   "metadata": {
    "id": "KWg6axHb0lXZ",
    "colab_type": "code",
    "colab": {}
   },
   "outputs": [],
   "source": [
    "fill_mode = lambda col: col.fillna(col.mode()[0])\n",
    "\n",
    "new_df.apply(fill_mode, axis=0)"
   ]
  },
  {
   "cell_type": "markdown",
   "metadata": {
    "id": "hdalc10ifXfh",
    "colab_type": "text"
   },
   "source": [
    "### by matplotlib"
   ]
  },
  {
   "cell_type": "code",
   "execution_count": 0,
   "metadata": {
    "id": "93ovAnFNQC-n",
    "colab_type": "code",
    "colab": {}
   },
   "outputs": [],
   "source": [
    "fig, axes = plt.subplots(2,sharex=True)\n",
    "fig.subplots_adjust(hspace=.5)\n",
    "axes[0].hist(self.data, density=True)\n",
    "axes[0].set_title('Normed Histogram of Data')\n",
    "axes[0].set_ylabel('Density')\n",
    "\n",
    "axes[1].plot(x, y)\n",
    "axes[1].set_title('Normal Distribution for \\n Sample Mean and Sample Standard Deviation')\n",
    "plt.show()\n"
   ]
  },
  {
   "cell_type": "markdown",
   "metadata": {
    "colab_type": "text",
    "id": "CLp3xweDfkG0"
   },
   "source": [
    "## for algorithm or package"
   ]
  },
  {
   "cell_type": "code",
   "execution_count": 0,
   "metadata": {
    "colab_type": "code",
    "id": "IRkYB7UnGxdu",
    "colab": {}
   },
   "outputs": [],
   "source": [
    "import tushare as ts\n",
    "\n",
    "\n",
    "data_stock = ts.get_hist_data(\"600519\")\n",
    "data_stock.isna().sum()\n",
    "# data_stock.index\n",
    "print(data_stock.columns, type(data_stock))"
   ]
  },
  {
   "cell_type": "markdown",
   "metadata": {
    "colab_type": "text",
    "id": "_7gRpQLXQSID"
   },
   "source": [
    "## Table Forms\n",
    "\n",
    "Forms provide an easy way to parameterize code. From a code cell, select **Insert → Add form field**.  When you change the value in a form, the corresponding value in the code will change. "
   ]
  },
  {
   "cell_type": "code",
   "execution_count": 0,
   "metadata": {
    "cellView": "both",
    "colab_type": "code",
    "id": "3jKM6GfzlgpS",
    "colab": {}
   },
   "outputs": [],
   "source": [
    "#@title String fields\n",
    "\n",
    "text = 'value' #@param {type:\"string\"}\n",
    "dropdown = '1st option' #@param [\"1st option\", \"2nd option\", \"3rd option\"]\n",
    "text_and_dropdown = 'value' #@param [\"1st option\", \"2nd option\", \"3rd option\"] {allow-input: true}\n",
    "\n",
    "print(text)\n",
    "print(dropdown)\n",
    "print(text_and_dropdown)"
   ]
  },
  {
   "cell_type": "code",
   "execution_count": 0,
   "metadata": {
    "cellView": "both",
    "colab_type": "code",
    "id": "bf5LUmgZt-kT",
    "colab": {}
   },
   "outputs": [],
   "source": [
    "#@title Raw fields\n",
    "\n",
    "raw_input = None #@param {type:\"raw\"}\n",
    "raw_dropdown = raw_input #@param [1, \"raw_input\", \"False\", \"'string'\"] {type:\"raw\"}\n",
    "\n",
    "print(raw_input)\n",
    "print(raw_dropdown)"
   ]
  },
  {
   "cell_type": "code",
   "execution_count": 0,
   "metadata": {
    "cellView": "both",
    "colab_type": "code",
    "id": "aw5lgeRbubeF",
    "colab": {}
   },
   "outputs": [],
   "source": [
    "#@title Date fields\n",
    "date_input = '2018-03-22' #@param {type:\"date\"}\n",
    "\n",
    "print(date_input)"
   ]
  },
  {
   "cell_type": "code",
   "execution_count": 0,
   "metadata": {
    "cellView": "both",
    "colab_type": "code",
    "id": "eFN7-fUKs-Bu",
    "colab": {}
   },
   "outputs": [],
   "source": [
    "#@title Number fields\n",
    "number_input = 10.0 #@param {type:\"number\"}\n",
    "number_slider = 0 #@param {type:\"slider\", min:-1, max:1, step:0.1}\n",
    "\n",
    "integer_input = 10 #@param {type:\"integer\"}\n",
    "integer_slider = 1 #@param {type:\"slider\", min:0, max:100, step:1}\n",
    "\n",
    "print(number_input)\n",
    "print(number_slider)\n",
    "\n",
    "print(integer_input)\n",
    "print(integer_slider)"
   ]
  },
  {
   "cell_type": "code",
   "execution_count": 0,
   "metadata": {
    "cellView": "both",
    "colab_type": "code",
    "id": "ig8PIYeLtM8g",
    "colab": {}
   },
   "outputs": [],
   "source": [
    "#@title Boolean fields\n",
    "boolean_checkbox = True #@param {type:\"boolean\"}\n",
    "boolean_dropdown = True #@param [\"False\", \"True\"] {type:\"raw\"}\n",
    "\n",
    "print(boolean_checkbox)\n",
    "print(boolean_dropdown)"
   ]
  },
  {
   "cell_type": "markdown",
   "metadata": {
    "colab_type": "text",
    "id": "hVEG5D5TxFKW"
   },
   "source": [
    "### Hiding code\n",
    "\n",
    "You can change the view of the form by selecting **Edit → Show/hide code** or using the toolbar above the selected code cell. You can see both code and the form, just the form, or just the code."
   ]
  },
  {
   "cell_type": "code",
   "execution_count": 0,
   "metadata": {
    "colab_type": "code",
    "id": "ZCEBZPwUDGOg",
    "cellView": "form",
    "colab": {}
   },
   "outputs": [],
   "source": [
    "#@title ## Markdown\n",
    "#@markdown You can also include Markdown in forms.\n",
    "\n",
    "#@markdown ---\n",
    "#@markdown ### Enter a file path:\n",
    "file_path = \"\" #@param {type:\"string\"}\n",
    "#@markdown ---\n",
    "\n"
   ]
  },
  {
   "cell_type": "code",
   "execution_count": 0,
   "metadata": {
    "id": "J9Thn2jvYQLI",
    "colab_type": "code",
    "colab": {}
   },
   "outputs": [],
   "source": [
    ""
   ]
  }
 ],
 "metadata": {
  "colab": {
   "name": "kernel_recurrent_and_reconstruct.ipynb",
   "version": "0.3.2",
   "provenance": [],
   "collapsed_sections": [
    "5bOAt6OnfSuu",
    "8Kvn9icnfXbp",
    "hdalc10ifXfh",
    "CLp3xweDfkG0",
    "_7gRpQLXQSID",
    "hVEG5D5TxFKW"
   ]
  },
  "kernelspec": {
   "name": "python3",
   "display_name": "Python 3"
  },
  "accelerator": "GPU"
 },
 "nbformat": 4,
 "nbformat_minor": 0
}
