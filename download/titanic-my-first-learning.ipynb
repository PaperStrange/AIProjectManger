{
 "cells": [
  {
   "cell_type": "code",
   "execution_count": null,
   "metadata": {
    "_uuid": "8f2839f25d086af736a60e9eeb907d3b93b6e0e5",
    "_cell_guid": "b1076dfc-b9ad-4769-8c92-a6c4dae69d19",
    "trusted": true
   },
   "outputs": [],
   "source": [
    "# This Python 3 environment comes with many helpful analytics libraries installed\n",
    "# It is defined by the kaggle/python docker image: https://github.com/kaggle/docker-python\n",
    "# For example, here's several helpful packages to load in \n",
    "\n",
    "import numpy as np # linear algebra\n",
    "import pandas as pd # data processing, CSV file I/O (e.g. pd.read_csv)\n",
    "import seaborn as sns\n",
    "\n",
    "# Input data files are available in the \"../input/\" directory.\n",
    "# For example, running this (by clicking run or pressing Shift+Enter) will list the files in the input directory\n",
    "\n",
    "import os\n",
    "print(os.listdir(\"../input\"))\n",
    "\n",
    "# Any results you write to the current directory are saved as output."
   ]
  },
  {
   "cell_type": "markdown",
   "metadata": {
    "_cell_guid": "79c7e3d0-c299-4dcb-8224-4455121ee9b0",
    "collapsed": true,
    "_uuid": "d629ff2d2480ee46fbb7e2d37f6b5fab8052498a",
    "trusted": false
   },
   "source": [
    "Read the Titanic training CSV file to understand the Features understanding ( distribution, missing values, relation)"
   ]
  },
  {
   "cell_type": "code",
   "execution_count": null,
   "metadata": {
    "trusted": true,
    "_uuid": "aa8c7acaae6852ea866714b2dd3d485bd23398de"
   },
   "outputs": [],
   "source": [
    "train_dataframe = pd.read_csv('../input/train.csv')"
   ]
  },
  {
   "cell_type": "code",
   "execution_count": null,
   "metadata": {
    "trusted": true,
    "_uuid": "f8b0512b9240bd59c82da048cdad7ae8ad2bde3f"
   },
   "outputs": [],
   "source": [
    "train_dataframe.columns"
   ]
  },
  {
   "cell_type": "code",
   "execution_count": null,
   "metadata": {
    "trusted": true,
    "_uuid": "34a98c0ef72b00818df7eff9a0ebef07c13be21e"
   },
   "outputs": [],
   "source": [
    "train_dataframe.head(2)"
   ]
  },
  {
   "cell_type": "code",
   "execution_count": null,
   "metadata": {
    "_kg_hide-input": true,
    "trusted": true,
    "_uuid": "5eacb129db523f23e1f44506fff7fee08f873582"
   },
   "outputs": [],
   "source": [
    "from IPython.display import HTML, display\n",
    "data = [['Column','Variable', 'Will it be helpful for Prediction?','Comments'],\n",
    "        ['PassengerId','Input','No','Not required as it is Row Index'],\n",
    "        ['Survived','Target','Yes',''],\n",
    "        ['Pclass','Input','Yes','Need to analyze'],\n",
    "        ['Name','Input','May be','Need to analyze'],\n",
    "        ['Sex','Input','Yes','Need to analyze'],\n",
    "        ['Age','Input','Yes','Need to analyze'],\n",
    "        ['SibSp','Input','Yes','Need to analyze'],\n",
    "        ['Parch','Input','Yes','Need to analyze'],\n",
    "        ['Ticket','Input','N','has relation with Pclass. It can be dropped'],\n",
    "        ['Fare','Input','N','has relation with Pclass. It can be dropped'],\n",
    "        ['Cabin','Input','N','has relation with Pclass. It can be dropped'],\n",
    "        ['Embarked','Input','N','It does not matter where they boarded. It can be dropped']\n",
    "       ]\n",
    "display(HTML(\n",
    "    '<table><tr>{}</tr></table>'.format(\n",
    "        '</tr><tr>'.join(\n",
    "            '<td>{}</td>'.format('</td><td>'.join(str(_) for _ in row)) for row in data)\n",
    "        )\n",
    " ))"
   ]
  },
  {
   "cell_type": "code",
   "execution_count": null,
   "metadata": {
    "trusted": true,
    "_uuid": "1d22e721d324b648495abb6f113bd63913e14b37"
   },
   "outputs": [],
   "source": [
    "train_dataframe = train_dataframe.drop(columns=['Ticket','Fare','Cabin','Embarked'])"
   ]
  },
  {
   "cell_type": "code",
   "execution_count": null,
   "metadata": {
    "trusted": true,
    "_uuid": "9dac3867c03c7652082774d87d1c6a51218e3fd8"
   },
   "outputs": [],
   "source": [
    "#train_dataframe.groupby('Parch')['Parch'].value_counts().plot(kind='bar')\n",
    "train_dataframe['SibSp'].value_counts().plot.bar()"
   ]
  },
  {
   "cell_type": "code",
   "execution_count": null,
   "metadata": {
    "trusted": true,
    "_uuid": "af88b36b8b533cc6e08c2b663029c93831d55cf9",
    "_kg_hide-input": true
   },
   "outputs": [],
   "source": [
    "#train_dataframe.groupby('Parch')['SibSp'].value_counts()\n",
    "#train_dataframe['Name'].str.split(',').str[1].str.split('.').str[0].value_counts()"
   ]
  },
  {
   "cell_type": "code",
   "execution_count": null,
   "metadata": {
    "trusted": true,
    "_uuid": "d664fc9bd26e7e3191fc705b6affe67ee313ead6"
   },
   "outputs": [],
   "source": [
    "train_dataframe['Name'].str.extract(' ([A-Za-z]+)\\.', expand=False).value_counts().plot.bar()"
   ]
  },
  {
   "cell_type": "code",
   "execution_count": null,
   "metadata": {
    "trusted": true,
    "_uuid": "2899e901fed940d0a4b204c3c6bd8a45427d1f62"
   },
   "outputs": [],
   "source": [
    "train_dataframe['Title'] = train_dataframe['Name'].str.extract(' ([A-Za-z]+)\\.', expand=False)"
   ]
  },
  {
   "cell_type": "code",
   "execution_count": null,
   "metadata": {
    "trusted": true,
    "_uuid": "a4a587ab1b60d985012f2524d430f3d472341395"
   },
   "outputs": [],
   "source": [
    "train_dataframe.head(2)"
   ]
  },
  {
   "cell_type": "code",
   "execution_count": null,
   "metadata": {
    "trusted": true,
    "_uuid": "a911b909af3a62c302ab127bb90ff7d57086a263"
   },
   "outputs": [],
   "source": [
    "train_dataframe = train_dataframe.drop(columns=['PassengerId','Name'])"
   ]
  },
  {
   "cell_type": "code",
   "execution_count": null,
   "metadata": {
    "trusted": true,
    "_uuid": "50711c2755585e57279435cd68b609203647248a"
   },
   "outputs": [],
   "source": [
    "train_dataframe['Title'] = train_dataframe['Title'].replace(['Ms','Mlle'],'Miss')\n",
    "train_dataframe['Title'] = train_dataframe['Title'].replace('Mme', 'Mrs')"
   ]
  },
  {
   "cell_type": "code",
   "execution_count": null,
   "metadata": {
    "trusted": true,
    "_uuid": "a3f6018a0fedc095bc357edcb7176d0e37e4ea0e"
   },
   "outputs": [],
   "source": [
    "train_dataframe.iloc[train_dataframe[train_dataframe.Title.isin(['Lady', 'Countess','Capt', 'Col', 'Don',\\\n",
    "                                            'Dr', 'Major', 'Rev', 'Sir', 'Jonkheer', \\\n",
    "                                            'Dona'])][train_dataframe.Sex == \\\n",
    "                                                      'female'].index,6] = 'Mam'\n"
   ]
  },
  {
   "cell_type": "code",
   "execution_count": null,
   "metadata": {
    "trusted": true,
    "_uuid": "0377ae789466772bb337b4f3b75cf2265eabf02f"
   },
   "outputs": [],
   "source": [
    "train_dataframe.iloc[train_dataframe[train_dataframe.Title.isin(['Lady', 'Countess','Capt', 'Col', 'Don',\\\n",
    "                                            'Dr', 'Major', 'Rev', 'Sir', 'Jonkheer', \\\n",
    "                                            'Dona'])][train_dataframe.Sex == \\\n",
    "                                                      'male'].index,6] = 'Sir'"
   ]
  },
  {
   "cell_type": "code",
   "execution_count": null,
   "metadata": {
    "trusted": true,
    "_uuid": "2ae63d614686c2364eac03194d3fd48c5dc63b3a"
   },
   "outputs": [],
   "source": [
    "train_dataframe[train_dataframe.Title == 'Sir']"
   ]
  },
  {
   "cell_type": "code",
   "execution_count": null,
   "metadata": {
    "trusted": true,
    "_uuid": "4ed3ae774bc017595a628ec36813627aae0a668f"
   },
   "outputs": [],
   "source": [
    "td = train_dataframe[train_dataframe.Title == 'oth']\n",
    "sns.scatterplot(x=td['Sex'], y=td['Age'], hue=td['Survived'],style=td['Pclass'] ,data=td)"
   ]
  },
  {
   "cell_type": "code",
   "execution_count": null,
   "metadata": {
    "trusted": true,
    "_uuid": "863381cfe7cf65d3b5a0a0b2cd9b3e0107a4d6bd"
   },
   "outputs": [],
   "source": [
    "train_dataframe['Title'].value_counts().plot.bar()"
   ]
  },
  {
   "cell_type": "code",
   "execution_count": null,
   "metadata": {
    "trusted": true,
    "_uuid": "81390fcee55ccd478e342bae1de458c0b8f48114"
   },
   "outputs": [],
   "source": [
    "train_dataframe['Age'].plot(kind='hist')"
   ]
  },
  {
   "cell_type": "code",
   "execution_count": null,
   "metadata": {
    "trusted": true,
    "_uuid": "e279c289921350367822500aa032c5f8fcaab1a9"
   },
   "outputs": [],
   "source": [
    "train_dataframe.isna().sum()"
   ]
  },
  {
   "cell_type": "code",
   "execution_count": null,
   "metadata": {
    "trusted": true,
    "_uuid": "4b03fb9aa933981526add18be1bcced536d397dd"
   },
   "outputs": [],
   "source": [
    "title_mapping = {\"Mr\": 1, \"Miss\": 4, \"Mrs\": 5, \"Master\": 3, \"Sir\": 2,\"Mam\" : 6}\n",
    "train_dataframe['Title'] = train_dataframe['Title'].map(title_mapping)"
   ]
  },
  {
   "cell_type": "code",
   "execution_count": null,
   "metadata": {
    "trusted": true,
    "_uuid": "bda9240f19542ed98ec53e760ffe2634bffc77d2"
   },
   "outputs": [],
   "source": [
    "sex_mapping = {\"female\": 2, \"male\": 1}\n",
    "train_dataframe['Sex'] = train_dataframe['Sex'].map(sex_mapping)"
   ]
  },
  {
   "cell_type": "code",
   "execution_count": null,
   "metadata": {
    "trusted": true,
    "_uuid": "d4c334af1db90391bbd07602629969d32a0cdddb",
    "_kg_hide-input": true,
    "_kg_hide-output": true
   },
   "outputs": [],
   "source": [
    "train_dataframe.head(100)"
   ]
  },
  {
   "cell_type": "code",
   "execution_count": null,
   "metadata": {
    "trusted": true,
    "_uuid": "40d8ba45087f113b10ffac5779d1986ac4583794"
   },
   "outputs": [],
   "source": [
    "import seaborn as sns\n",
    "\n",
    "sns.heatmap(train_dataframe.corr(),annot=True , cmap='YlGnBu')"
   ]
  },
  {
   "cell_type": "code",
   "execution_count": null,
   "metadata": {
    "trusted": true,
    "_uuid": "a751003c069e5e05512ff2a3291e7c065350acc5"
   },
   "outputs": [],
   "source": [
    "cond11 = train_dataframe.Title == 1 \n",
    "cond12 = train_dataframe.Title == 2\n",
    "cond13 = train_dataframe.Title == 3\n",
    "train_dataframe[cond11 | cond12 | cond13 ]['Survived'].value_counts()"
   ]
  },
  {
   "cell_type": "code",
   "execution_count": null,
   "metadata": {
    "trusted": true,
    "_uuid": "d152805bad79179ac10de355665e1a87e58022f7"
   },
   "outputs": [],
   "source": [
    "cond14 = train_dataframe.Title == 4 \n",
    "cond15 = train_dataframe.Title == 5\n",
    "cond16 = train_dataframe.Title == 6\n",
    "train_dataframe[cond14 | cond15 | cond16]['Survived'].value_counts()"
   ]
  },
  {
   "cell_type": "code",
   "execution_count": null,
   "metadata": {
    "trusted": true,
    "_uuid": "102214ac3f761903686ce9d9ee547d74034bae21"
   },
   "outputs": [],
   "source": [
    "train_dataframe.isna().sum()"
   ]
  },
  {
   "cell_type": "code",
   "execution_count": null,
   "metadata": {
    "trusted": true,
    "_uuid": "1e0bdd1e39b67b2399e05f2d6027961a1e9c1db0"
   },
   "outputs": [],
   "source": [
    "ageMean = train_dataframe.groupby('Title').Age.mean().tolist()\n",
    "(ageMean)"
   ]
  },
  {
   "cell_type": "code",
   "execution_count": null,
   "metadata": {
    "trusted": true,
    "_uuid": "4c79853126bc873539c74d4bdcfd1d01559c05bc"
   },
   "outputs": [],
   "source": [
    "train_dataframe.iloc[train_dataframe[train_dataframe.Age.isna()].Title.index,6]. \\\n",
    "value_counts().plot.bar()"
   ]
  },
  {
   "cell_type": "code",
   "execution_count": null,
   "metadata": {
    "trusted": true,
    "_uuid": "9a492326fbd79e9cdb5b6abcbb82f4f3a073b3cf"
   },
   "outputs": [],
   "source": [
    "cond1 = train_dataframe.Title == 1\n",
    "cond2 = train_dataframe.Title == 2\n",
    "cond3 = train_dataframe.Title == 3\n",
    "cond4 = train_dataframe.Title == 4\n",
    "cond5 = train_dataframe.Title == 5\n",
    "#for Mam not required as is it not empty\n",
    "cond11 = train_dataframe.Age.isna()\n",
    "train_dataframe.iloc[train_dataframe[ cond1 &  cond11]['Age'].index,3] = ageMean[0]\n",
    "train_dataframe.iloc[train_dataframe[ cond2 &  cond11]['Age'].index,3] = ageMean[1]\n",
    "train_dataframe.iloc[train_dataframe[ cond3 &  cond11]['Age'].index,3] = ageMean[2]\n",
    "train_dataframe.iloc[train_dataframe[ cond4 &  cond11]['Age'].index,3] = ageMean[3]\n",
    "train_dataframe.iloc[train_dataframe[ cond5 &  cond11]['Age'].index,3] = ageMean[4]"
   ]
  },
  {
   "cell_type": "code",
   "execution_count": null,
   "metadata": {
    "trusted": true,
    "_uuid": "97d6c8b3d5aa1fe24f062facbb4c6dd23df685a9"
   },
   "outputs": [],
   "source": [
    "train_dataframe.isna().sum()"
   ]
  },
  {
   "cell_type": "code",
   "execution_count": null,
   "metadata": {
    "trusted": true,
    "_uuid": "0b59671c82c48e41f3fab7a74801108cbbcce09c"
   },
   "outputs": [],
   "source": [
    "sns.heatmap(train_dataframe.corr(),annot=True , cmap='YlGnBu')"
   ]
  },
  {
   "cell_type": "code",
   "execution_count": null,
   "metadata": {
    "trusted": true,
    "_uuid": "2559d12747517f3d03406263bfaf18989aaef8c3"
   },
   "outputs": [],
   "source": [
    "pd.crosstab(index=train_dataframe[\"Survived\"], \n",
    "                           columns=[train_dataframe[\"Title\"] ])"
   ]
  },
  {
   "cell_type": "code",
   "execution_count": null,
   "metadata": {
    "trusted": true,
    "_uuid": "821fc3d098e1cfc9d26737a88bec28e13cb88554"
   },
   "outputs": [],
   "source": [
    "train_dataframe['SexAgedivPclass'] = (train_dataframe['Age'] * train_dataframe['Sex']) / train_dataframe['Pclass']"
   ]
  },
  {
   "cell_type": "code",
   "execution_count": null,
   "metadata": {
    "trusted": true,
    "_uuid": "bcf74f21dda67b5122dc5a89658ab49182bba998"
   },
   "outputs": [],
   "source": [
    "td = train_dataframe.drop(columns=['Age','Sex', 'Pclass'])\n",
    "sns.heatmap(td.corr(),annot=True , cmap='YlGnBu')"
   ]
  },
  {
   "cell_type": "code",
   "execution_count": null,
   "metadata": {
    "trusted": true,
    "_uuid": "44d724fb8404b105c8d3e31894fcd84c5e9f66d5"
   },
   "outputs": [],
   "source": [
    "sns.scatterplot(x=td['SexAgedivPclass'] , y=td['Title'], hue=td['Survived'], data=td)"
   ]
  },
  {
   "cell_type": "code",
   "execution_count": null,
   "metadata": {
    "trusted": true,
    "_uuid": "deacc2af248bfd4b962153e326edfef7998b1080"
   },
   "outputs": [],
   "source": [
    "train_dataframe['Age'].plot(kind='hist')"
   ]
  },
  {
   "cell_type": "code",
   "execution_count": null,
   "metadata": {
    "_uuid": "79f6780870f244436883e0774a404a7319af127f",
    "trusted": true
   },
   "outputs": [],
   "source": [
    "x_train_val = train_dataframe.drop(columns=['Sex','Age','Pclass','Survived'])"
   ]
  },
  {
   "cell_type": "code",
   "execution_count": null,
   "metadata": {
    "trusted": true,
    "_uuid": "c5f3b7c5e24fd125ff8239ac4a1fada463514400"
   },
   "outputs": [],
   "source": [
    "y_train_val = train_dataframe.Survived"
   ]
  },
  {
   "cell_type": "code",
   "execution_count": null,
   "metadata": {
    "trusted": true,
    "_uuid": "70832c9d205004d8b43d0d406c38dddba1d83e05"
   },
   "outputs": [],
   "source": [
    "from sklearn.model_selection import train_test_split\n",
    "X_train, X_val, y_train, y_val = train_test_split(x_train_val, y_train_val, test_size=0.2)"
   ]
  },
  {
   "cell_type": "code",
   "execution_count": null,
   "metadata": {
    "trusted": true,
    "_uuid": "ad42891e92784b0fe8d3e9c2cc9f4cb0f02b2708"
   },
   "outputs": [],
   "source": [
    "print (X_train.shape, y_train.shape)\n",
    "print (X_val.shape, y_val.shape)"
   ]
  },
  {
   "cell_type": "code",
   "execution_count": null,
   "metadata": {
    "trusted": true,
    "_uuid": "c6f22d365e2d70ea533306debf40095e7ea4fe4d"
   },
   "outputs": [],
   "source": [
    "from keras.models import Sequential\n",
    "from keras.layers import Dense\n",
    "\n",
    "# create model\n",
    "model = Sequential()\n",
    "model.add(Dense(8, input_dim=4, activation='relu'))\n",
    "model.add(Dense(8, activation='relu'))\n",
    "model.add(Dense(4, activation='relu'))\n",
    "model.add(Dense(1, activation='sigmoid'))"
   ]
  },
  {
   "cell_type": "code",
   "execution_count": null,
   "metadata": {
    "trusted": true,
    "_uuid": "d415cb2f4682c2ba1e4956a9d17411838dcbfb6d"
   },
   "outputs": [],
   "source": [
    "# Compile model\n",
    "model.compile(loss='binary_crossentropy', optimizer='adam', metrics=['accuracy'] )"
   ]
  },
  {
   "cell_type": "code",
   "execution_count": null,
   "metadata": {
    "trusted": true,
    "_uuid": "813a6ef0321772157c9ff5e9eaf2b05c365f416c"
   },
   "outputs": [],
   "source": [
    "# Fit the model\n",
    "model.fit(X_train, y_train, epochs=90, batch_size=10,validation_data = (X_val, y_val))"
   ]
  },
  {
   "cell_type": "code",
   "execution_count": null,
   "metadata": {
    "trusted": true,
    "_uuid": "16aaf7e770e228a9c4b758ece8e777d658f4dd04"
   },
   "outputs": [],
   "source": [
    "# evaluate the model\n",
    "scores = model.evaluate(X_train, y_train)\n",
    "print(\"\\n%s: %.2f%%\" % (model.metrics_names[1], scores[1]*100))"
   ]
  }
 ],
 "metadata": {
  "kernelspec": {
   "display_name": "Python 3",
   "language": "python",
   "name": "python3"
  },
  "language_info": {
   "name": "python",
   "version": "3.6.6",
   "mimetype": "text/x-python",
   "codemirror_mode": {
    "name": "ipython",
    "version": 3
   },
   "pygments_lexer": "ipython3",
   "nbconvert_exporter": "python",
   "file_extension": ".py"
  }
 },
 "nbformat": 4,
 "nbformat_minor": 1
}
